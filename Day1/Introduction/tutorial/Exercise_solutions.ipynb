{
 "cells": [
  {
   "cell_type": "markdown",
   "metadata": {},
   "source": [
    "### Notebook 1\n",
    "#### 1.1 \n",
    "Look up docs for the `convert` and `parse` functions."
   ]
  },
  {
   "cell_type": "code",
   "execution_count": null,
   "metadata": {
    "collapsed": true
   },
   "outputs": [],
   "source": [
    "?convert;\n",
    "# ?parse"
   ]
  },
  {
   "cell_type": "markdown",
   "metadata": {},
   "source": [
    "#### 1.2 \n",
    "Assign `365` to a variable named `days`. Convert `days` to a float."
   ]
  },
  {
   "cell_type": "code",
   "execution_count": null,
   "metadata": {
    "collapsed": true
   },
   "outputs": [],
   "source": [
    "days = 365\n",
    "convert(Float64, days)"
   ]
  },
  {
   "cell_type": "markdown",
   "metadata": {},
   "source": [
    "#### 1.3 \n",
    "See what happens when you execute\n",
    "\n",
    "```julia\n",
    "convert(Int64, '1')\n",
    "```\n",
    "and\n",
    "\n",
    "```julia\n",
    "parse(Int64, '1')\n",
    "```\n",
    "\n",
    "What's the difference?"
   ]
  },
  {
   "cell_type": "code",
   "execution_count": null,
   "metadata": {
    "collapsed": true
   },
   "outputs": [],
   "source": [
    "# Here `convert` returns the ascii code (an integer) associated with the character `1`\n",
    "convert(Int64, '1')"
   ]
  },
  {
   "cell_type": "code",
   "execution_count": null,
   "metadata": {
    "collapsed": true
   },
   "outputs": [],
   "source": [
    "# Here `parse` returns the integer enclosed in single quotation marks\n",
    "parse(Int64, '1')"
   ]
  },
  {
   "cell_type": "markdown",
   "metadata": {},
   "source": [
    "### Notebook 2\n",
    "#### 2.1 \n",
    "Create a string that says \"hi\" 1000 times."
   ]
  },
  {
   "cell_type": "code",
   "execution_count": null,
   "metadata": {
    "collapsed": true
   },
   "outputs": [],
   "source": [
    "\"hi\"^1000"
   ]
  },
  {
   "cell_type": "markdown",
   "metadata": {},
   "source": [
    "#### 2.2\n",
    "Add two numbers together within a string."
   ]
  },
  {
   "cell_type": "code",
   "execution_count": null,
   "metadata": {
    "collapsed": true
   },
   "outputs": [],
   "source": [
    "m, n = 1, 1\n",
    "\"$m + $n = $(m + n)\""
   ]
  },
  {
   "cell_type": "markdown",
   "metadata": {},
   "source": [
    "### Notebook 3\n",
    "\n",
    "#### 3.1 \n",
    "Create an array, `a_ray`, that is a 2-element 1D array of 1-element 1D arrays, each storing the number 0.\n",
    "Index into `a_ray` to add a second number, `1`, to each of the arrays it contains."
   ]
  },
  {
   "cell_type": "code",
   "execution_count": null,
   "metadata": {
    "collapsed": true
   },
   "outputs": [],
   "source": [
    "a_ray = [[0], [0]]\n",
    "push!(a_ray[1], 1)\n",
    "push!(a_ray[2], 1)\n",
    "a_ray"
   ]
  },
  {
   "cell_type": "markdown",
   "metadata": {},
   "source": [
    "#### 3.2 \n",
    "Try to add \"Emergency\" as key to `myphonebook` with the value `911`. Try to add `911` as an integer rather than as a string. Why doesn't this work?"
   ]
  },
  {
   "cell_type": "code",
   "execution_count": null,
   "metadata": {
    "collapsed": true
   },
   "outputs": [],
   "source": [
    "myphonebook = Dict(\"Jenny\" => \"867-5309\", \"Ghostbusters\" => \"555-2368\")"
   ]
  },
  {
   "cell_type": "code",
   "execution_count": null,
   "metadata": {
    "collapsed": true
   },
   "outputs": [],
   "source": [
    "myphonebook[\"Emergency\"] = 911\n",
    "#= \n",
    "\n",
    "Julia inferred that`myphonebook` takes both keys and\n",
    "values of type `String`. We see that myphonebook is a\n",
    "`Dict{String,String} with 2 entries`. This means Julia\n",
    "will not accept integers as values in myphonebook.\n",
    "\n",
    "=#"
   ]
  },
  {
   "cell_type": "markdown",
   "metadata": {},
   "source": [
    "#### 3.3 \n",
    "Create a new dictionary called `flexible_phonebook` that has Jenny's number stored as a string and Ghostbusters' number stored as an integer. "
   ]
  },
  {
   "cell_type": "code",
   "execution_count": null,
   "metadata": {
    "collapsed": true
   },
   "outputs": [],
   "source": [
    "flexible_phonebook = Dict(\"Jenny\" => \"867-5309\", \"Ghostbusters\" => 5552368)"
   ]
  },
  {
   "cell_type": "markdown",
   "metadata": {},
   "source": [
    "#### 3.4\n",
    "Add the key \"Emergency\" with the value `911` (an integer) to `flexible_phonebook`."
   ]
  },
  {
   "cell_type": "code",
   "execution_count": null,
   "metadata": {
    "collapsed": true
   },
   "outputs": [],
   "source": [
    "flexible_phonebook[\"Emergency\"] = 911"
   ]
  },
  {
   "cell_type": "markdown",
   "metadata": {},
   "source": [
    "#### 3.5\n",
    "Why can we add an integer as a value to `flexible_phonebook` but not `myphonebook`? How could we have initialized `myphonebook` so that it would accept integers or strings as values?"
   ]
  },
  {
   "cell_type": "code",
   "execution_count": null,
   "metadata": {
    "collapsed": true
   },
   "outputs": [],
   "source": [
    "#= \n",
    "\n",
    "Julia inferred that`flexible_phonebook` takes values of \n",
    "type `Any`. Unlike myphonebook, flexible_phonebook is a \n",
    "`Dict{String,Any} with 2 entries`.\n",
    "\n",
    "To avoid this, we could have initialized myphonebook a\n",
    "an empty dictionary and added entries later. Or we\n",
    "could have explicitly told Julia that we wanted a\n",
    "dictionary that accepted objects of type `Any` as\n",
    "values. See examples!\n",
    "=#\n",
    "\n",
    "myphonebook = Dict()"
   ]
  },
  {
   "cell_type": "code",
   "execution_count": null,
   "metadata": {
    "collapsed": true
   },
   "outputs": [],
   "source": [
    "myphonebook = Dict{String, Any}(\"Jenny\" => \"867-5309\", \"Ghostbusters\" => \"555-2368\")"
   ]
  },
  {
   "cell_type": "markdown",
   "metadata": {
    "collapsed": true
   },
   "source": [
    "### Notebook 4\n",
    "\n",
    "#### 4.1\n",
    "\n",
    "Create a dictionary, `squares`, that has integer keys from 1 to 100. The value associated with each key is the square of that key. Store values associated with even keys as integers and values associated with odd keys as strings. For example,\n",
    "\n",
    "```julia\n",
    "squares[10] == 100\n",
    "squares[11] == \"121\"\n",
    "```\n",
    "\n",
    "(You don't need conditionals to do this!)"
   ]
  },
  {
   "cell_type": "code",
   "execution_count": null,
   "metadata": {},
   "outputs": [],
   "source": [
    "squares = Dict()\n",
    "iterable = range(1, 2, 50)\n",
    "# Another option - \n",
    "# iterable = 1:2:99\n",
    "for key in iterable\n",
    "    squares[key] = \"$(key^2)\"\n",
    "    squares[key + 1] = (key + 1)^2\n",
    "end\n",
    "\n",
    "@show squares[10]\n",
    "@show squares[11]"
   ]
  },
  {
   "cell_type": "markdown",
   "metadata": {},
   "source": [
    "#### 4.2\n",
    "\n",
    "Use the `fill` function to create a `10x10` matrix of `0`'s. Populate the first ten entries of the matrix with the index of that entry. Does Julia use column-major or row-major order? (Is the \"second\" element in the first column and second row, or is it in the first row and second column?)"
   ]
  },
  {
   "cell_type": "code",
   "execution_count": null,
   "metadata": {},
   "outputs": [],
   "source": [
    "A = fill(0, (10, 10))\n",
    "for i in 1:10\n",
    "    A[i] = i\n",
    "end\n",
    "A\n",
    "# Julia uses column major order! The first ten elements of `A` fill up the first column, not the first row."
   ]
  },
  {
   "cell_type": "markdown",
   "metadata": {},
   "source": [
    "### Notebook 5\n",
    "\n",
    "#### 5.1\n",
    "\n",
    "Rewrite the FizzBuzz test without using the `elseif` keyword."
   ]
  },
  {
   "cell_type": "code",
   "execution_count": null,
   "metadata": {},
   "outputs": [],
   "source": [
    "N = 16\n",
    "if (N % 3 == 0) & (N % 5 == 0)\n",
    "    println(\"FizzBuzz\")\n",
    "else\n",
    "    if (N % 3 == 0)\n",
    "        println(\"Fizz\")\n",
    "    else\n",
    "        if (N % 5 == 0)\n",
    "            println(\"Buzz\")\n",
    "        else\n",
    "            println(N)\n",
    "        end\n",
    "    end\n",
    "end"
   ]
  },
  {
   "cell_type": "markdown",
   "metadata": {},
   "source": [
    "#### 5.2\n",
    "\n",
    "Rewrite the FizzBuzz test using ternary operators."
   ]
  },
  {
   "cell_type": "code",
   "execution_count": null,
   "metadata": {
    "scrolled": true
   },
   "outputs": [],
   "source": [
    "((N % 3 == 0) & (N % 5 == 0)) ? println(\"FizzBuzz\") : ((N % 3 == 0) ? println(\"Fizz\") : ((N % 5 == 0) ? println(\"Buzz\") : println(N)))"
   ]
  },
  {
   "cell_type": "markdown",
   "metadata": {},
   "source": [
    "### Notebook 6\n",
    "\n",
    "#### 6.1\n",
    "\n",
    "Instead of broadcasting function `f` over vector `v`, we could have simply executed `v .^ 2`.\n",
    "\n",
    "Without declaring a new function, add 1 to every element of a `3x3` matrix of `0`'s."
   ]
  },
  {
   "cell_type": "code",
   "execution_count": null,
   "metadata": {},
   "outputs": [],
   "source": [
    "fill(0, (3, 3)) .+ 1"
   ]
  },
  {
   "cell_type": "markdown",
   "metadata": {},
   "source": [
    "#### 6.2\n",
    "\n",
    "Instead of broadcasting function `f` over vector `v` with the dot syntax, apply `f` to all elements of `v` using the `map` function."
   ]
  },
  {
   "cell_type": "code",
   "execution_count": null,
   "metadata": {},
   "outputs": [],
   "source": [
    "f(x) = x^2\n",
    "v = [1, 2, 3]\n",
    "map(f, v)"
   ]
  },
  {
   "cell_type": "markdown",
   "metadata": {},
   "source": [
    "#### 6.3\n",
    "\n",
    "A Caesar cipher shifts each letter a certain number of places down the alphabet. A shift of 1 maps \"A\" to \"B\". Write a function called `caesar` that takes an input string and a shift and returns a decrypted string such that you'll get\n",
    "\n",
    "```julia\n",
    "caesar(\"abc\", 1)\n",
    "\"bcd\"\n",
    "\n",
    "caesar(\"hello\", 4)\n",
    "\"lipps\"\n",
    "```"
   ]
  },
  {
   "cell_type": "code",
   "execution_count": null,
   "metadata": {},
   "outputs": [],
   "source": [
    "caesar(input_string, shift) = map(x -> x + shift, input_string)"
   ]
  },
  {
   "cell_type": "markdown",
   "metadata": {},
   "source": [
    "### Notebook 7\n",
    "\n",
    "#### 7.1 \n",
    "\n",
    "Use the Primes package (source code at https://github.com/JuliaMath/Primes.jl) to help you find the largest prime number less than 1,000,000."
   ]
  },
  {
   "cell_type": "code",
   "execution_count": null,
   "metadata": {},
   "outputs": [],
   "source": [
    "#Pkg.add(\"Primes\")\n",
    "using Primes\n",
    "maximum(primes(1000000))"
   ]
  },
  {
   "cell_type": "markdown",
   "metadata": {},
   "source": [
    "### Notebook 8\n",
    "\n",
    "#### 8.1\n",
    "\n",
    "Plot y vs x for `y = x^2` using the PyPlot backend."
   ]
  },
  {
   "cell_type": "code",
   "execution_count": null,
   "metadata": {},
   "outputs": [],
   "source": [
    "using Plots\n",
    "pyplot()\n",
    "x = 1:10\n",
    "y = x .^ 2\n",
    "plot(x, y)"
   ]
  },
  {
   "cell_type": "markdown",
   "metadata": {},
   "source": [
    "### Notebook 9\n",
    "\n",
    "#### 9.1\n",
    "\n",
    "Add a method for `+` that applies a Caesar cipher to an input string (as in notebook 6), such that\n",
    "\n",
    "```julia\n",
    "\"hello\" + 4 == \"lipps\"\n",
    "```"
   ]
  },
  {
   "cell_type": "code",
   "execution_count": null,
   "metadata": {},
   "outputs": [],
   "source": [
    "import Base: +\n",
    "+(x::String, y::Int) = map(x -> x + y, x)"
   ]
  },
  {
   "cell_type": "markdown",
   "metadata": {},
   "source": [
    "#### 9.2\n",
    "\n",
    "Check that you've properly extended `+` by shifting the following string back by three letters:\n",
    "\n",
    "\"Gr#qrw#phggoh#lq#wkh#diidluv#ri#gudjrqv#iru#|rx#duh#fuxqfk|#dqg#wdvwh#jrrg#zlwk#nhwfkxs1\""
   ]
  },
  {
   "cell_type": "code",
   "execution_count": null,
   "metadata": {},
   "outputs": [],
   "source": [
    "\"Gr#qrw#phggoh#lq#wkh#diidluv#ri#gudjrqv#iru#|rx#duh#fuxqfk|#dqg#wdvwh#jrrg#zlwk#nhwfkxs1\" + -3"
   ]
  },
  {
   "cell_type": "markdown",
   "metadata": {},
   "source": [
    "### Notebook 10\n",
    "\n",
    "#### 10.1\n",
    "\n",
    "Use `circshift` to get a matrix with the columns of A cyclically shifted to the right by 3 columns.\n",
    "\n",
    "Starting with \n",
    "\n",
    "```\n",
    "A = [\n",
    " 1  2  3  4  5  6  7  8  9  10\n",
    " 1  2  3  4  5  6  7  8  9  10\n",
    " 1  2  3  4  5  6  7  8  9  10\n",
    " 1  2  3  4  5  6  7  8  9  10\n",
    " 1  2  3  4  5  6  7  8  9  10\n",
    " 1  2  3  4  5  6  7  8  9  10\n",
    " 1  2  3  4  5  6  7  8  9  10\n",
    " 1  2  3  4  5  6  7  8  9  10\n",
    " 1  2  3  4  5  6  7  8  9  10\n",
    " 1  2  3  4  5  6  7  8  9  10\n",
    " ]\n",
    "```\n",
    "\n",
    "you want to get\n",
    "\n",
    "```\n",
    "A = [\n",
    " 7  8  9  10  1  2  3  4  5  6\n",
    " 7  8  9  10  1  2  3  4  5  6\n",
    " 7  8  9  10  1  2  3  4  5  6\n",
    " 7  8  9  10  1  2  3  4  5  6\n",
    " 7  8  9  10  1  2  3  4  5  6\n",
    " 7  8  9  10  1  2  3  4  5  6\n",
    " 7  8  9  10  1  2  3  4  5  6\n",
    " 7  8  9  10  1  2  3  4  5  6\n",
    " 7  8  9  10  1  2  3  4  5  6\n",
    " 7  8  9  10  1  2  3  4  5  6\n",
    " ]\n",
    "```"
   ]
  },
  {
   "cell_type": "code",
   "execution_count": null,
   "metadata": {},
   "outputs": [],
   "source": [
    "circshift(A, (0, 4))"
   ]
  },
  {
   "cell_type": "markdown",
   "metadata": {},
   "source": [
    "#### 10.2\n",
    "\n",
    "Take the outer product of a vector `v` with itself."
   ]
  },
  {
   "cell_type": "code",
   "execution_count": null,
   "metadata": {},
   "outputs": [],
   "source": [
    "v = [1, 2, 3]\n",
    "v * v'"
   ]
  },
  {
   "cell_type": "markdown",
   "metadata": {},
   "source": [
    "#### 10.3\n",
    "Take the inner product of a vector v with itself."
   ]
  },
  {
   "cell_type": "code",
   "execution_count": null,
   "metadata": {},
   "outputs": [],
   "source": [
    "v' * v"
   ]
  },
  {
   "cell_type": "markdown",
   "metadata": {},
   "source": [
    "### Notebook 11\n",
    "\n",
    "#### 11.1\n",
    "\n",
    "What are the eigenvalues of matrix A?\n",
    "\n",
    "```\n",
    "A =\n",
    "[\n",
    " 140   97   74  168  131\n",
    "  97  106   89  131   36\n",
    "  74   89  152  144   71\n",
    " 168  131  144   54  142\n",
    " 131   36   71  142   36\n",
    "]\n",
    "```"
   ]
  },
  {
   "cell_type": "code",
   "execution_count": null,
   "metadata": {},
   "outputs": [],
   "source": [
    "A =\n",
    "[\n",
    " 140   97   74  168  131\n",
    "  97  106   89  131   36\n",
    "  74   89  152  144   71\n",
    " 168  131  144   54  142\n",
    " 131   36   71  142   36\n",
    "]"
   ]
  },
  {
   "cell_type": "code",
   "execution_count": null,
   "metadata": {},
   "outputs": [],
   "source": [
    "eigdec = eigfact(A)\n",
    "eigdec[:values]"
   ]
  },
  {
   "cell_type": "markdown",
   "metadata": {},
   "source": [
    "#### 11.2\n",
    "\n",
    "Create a diagonal matrix from the eigenvalues of A."
   ]
  },
  {
   "cell_type": "code",
   "execution_count": null,
   "metadata": {},
   "outputs": [],
   "source": [
    "Diagonal(eigdec[:values])"
   ]
  },
  {
   "cell_type": "markdown",
   "metadata": {},
   "source": [
    "#### 11.3\n",
    "\n",
    "Perform a Hessenberg factorization on matrix A. Verify that `A = QHQ'`."
   ]
  },
  {
   "cell_type": "code",
   "execution_count": null,
   "metadata": {},
   "outputs": [],
   "source": [
    "F = hessfact(A)"
   ]
  },
  {
   "cell_type": "code",
   "execution_count": null,
   "metadata": {},
   "outputs": [],
   "source": [
    "isapprox(A, F[:Q] * F[:H] * F[:Q]')"
   ]
  },
  {
   "cell_type": "code",
   "execution_count": null,
   "metadata": {
    "collapsed": true
   },
   "outputs": [],
   "source": []
  }
 ],
 "metadata": {
  "kernelspec": {
   "display_name": "Julia 0.6.0",
   "language": "julia",
   "name": "julia-0.6"
  },
  "language_info": {
   "file_extension": ".jl",
   "mimetype": "application/julia",
   "name": "julia",
   "version": "0.6.0"
  }
 },
 "nbformat": 4,
 "nbformat_minor": 2
}
