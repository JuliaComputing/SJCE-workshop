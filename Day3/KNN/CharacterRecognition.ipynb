{
 "cells": [
  {
   "cell_type": "markdown",
   "metadata": {},
   "source": [
    "## Supervised Learning using k-Nearest Neighbours\n",
    "\n",
    "### Recognise characters from google street view images"
   ]
  },
  {
   "cell_type": "markdown",
   "metadata": {},
   "source": [
    "This demo extends the kaggle [competition](https://www.kaggle.com/c/street-view-getting-started-with-julia/details/julia-tutorial). In this demo, we train using images of characters obtained from google view, and also classify test images which are of various sizes. Firstly k-Nearest Neighbor is used to identify the characters. \n",
    "\n",
    "#### Some key takeaways:\n",
    "* Ease of prototyping deployable models. \n",
    "* How to gain from vectorizations using **ArrayFire**.\n",
    "\n",
    "The following data has been placed in the /data directory\n",
    "\n",
    "* testResized/\n",
    "* trainResized/\n",
    "* sampleSubmission.csv\n",
    "* trainLabels.csv\n",
    "\n",
    "First, let's load all the packages we need.\n",
    "\n",
    "The related blogpost is [here](http://juliacomputing.com/blog/2016/09/28/knn-char-recognition.html).\n",
    "\n",
    "** Credits ** :\n",
    "\n",
    "[kaggle competition - Julia tutorial](https://www.kaggle.com/c/street-view-getting-started-with-julia/details/julia-tutorial)\n",
    "\n",
    "[Dataset](https://www.kaggle.com/c/street-view-getting-started-with-julia/data)"
   ]
  },
  {
   "cell_type": "markdown",
   "metadata": {},
   "source": [
    "In this tutorial, we use Julia to implement the K-Nearest Neighbor (k-NN) algorithm with Leave-One-Out-Fold Cross Validation (LOOF-CV). \n",
    "\n",
    "k-NN and LOOF-CV are available in many standard machine learning libraries, but they do not take the advantage of the fact that LOOF-CV is particularly fast with k-NN. Here we customize the implementation to use this property and efficiently tune the parameter k, the number of neighbors. \n",
    "\n",
    "For cases where a custom implementation is necessary, Julia is an attractive language choice because prototypes can be easily written and the language is fast without needing external code. This tutorial also introduces parallelization in Julia, which allows us to speed up the program. Parallelization is not unique to Julia, but Julia is designed such that it is remarkably easy implement. "
   ]
  },
  {
   "cell_type": "markdown",
   "metadata": {},
   "source": [
    "Set a few paths:\n",
    "* The Datapath\n",
    "* Image sizes: we're going to be working with images of sizes 20x20. You might see them as vectors of 400 though, but more on that later."
   ]
  },
  {
   "cell_type": "code",
   "execution_count": 41,
   "metadata": {},
   "outputs": [
    {
     "data": {
      "text/plain": [
       "400"
      ]
     },
     "execution_count": 41,
     "metadata": {},
     "output_type": "execute_result"
    }
   ],
   "source": [
    "path = joinpath(pwd(),\"characters\")\n",
    "imageSize = 400"
   ]
  },
  {
   "cell_type": "code",
   "execution_count": 42,
   "metadata": {},
   "outputs": [],
   "source": [
    "using DataFrames\n",
    "using Gadfly\n",
    "using Images\n",
    "using Interact\n",
    "using Colors"
   ]
  },
  {
   "cell_type": "markdown",
   "metadata": {},
   "source": [
    "## Training\n",
    "\n",
    "First, read the training labels! Now, there are two columns, `ID` and `Class`. `ID` represents the picture `ID.Bmp`, and `Class` represents the _correct_ classification. We're going to use this to train our model.  "
   ]
  },
  {
   "cell_type": "code",
   "execution_count": 43,
   "metadata": {},
   "outputs": [
    {
     "data": {
      "text/html": [
       "<table class=\"data-frame\"><thead><tr><th></th><th>ID</th><th>Class</th></tr></thead><tbody><tr><th>1</th><td>1</td><td>n</td></tr><tr><th>2</th><td>2</td><td>8</td></tr><tr><th>3</th><td>3</td><td>T</td></tr><tr><th>4</th><td>4</td><td>I</td></tr><tr><th>5</th><td>5</td><td>R</td></tr><tr><th>6</th><td>6</td><td>W</td></tr><tr><th>7</th><td>7</td><td>L</td></tr><tr><th>8</th><td>8</td><td>l</td></tr><tr><th>9</th><td>9</td><td>K</td></tr><tr><th>10</th><td>10</td><td>G</td></tr><tr><th>11</th><td>11</td><td>A</td></tr><tr><th>12</th><td>12</td><td>A</td></tr><tr><th>13</th><td>13</td><td>C</td></tr><tr><th>14</th><td>14</td><td>u</td></tr><tr><th>15</th><td>15</td><td>t</td></tr><tr><th>16</th><td>16</td><td>A</td></tr><tr><th>17</th><td>17</td><td>N</td></tr><tr><th>18</th><td>18</td><td>I</td></tr><tr><th>19</th><td>19</td><td>O</td></tr><tr><th>20</th><td>20</td><td>k</td></tr><tr><th>21</th><td>21</td><td>l</td></tr><tr><th>22</th><td>22</td><td>D</td></tr><tr><th>23</th><td>23</td><td>T</td></tr><tr><th>24</th><td>24</td><td>u</td></tr><tr><th>25</th><td>25</td><td>w</td></tr><tr><th>26</th><td>26</td><td>N</td></tr><tr><th>27</th><td>27</td><td>E</td></tr><tr><th>28</th><td>28</td><td>E</td></tr><tr><th>29</th><td>29</td><td>H</td></tr><tr><th>30</th><td>30</td><td>e</td></tr><tr><th>&vellip;</th><td>&vellip;</td><td>&vellip;</td></tr></tbody></table>"
      ],
      "text/plain": [
       "1000×2 DataFrames.DataFrame\n",
       "│ Row  │ ID   │ Class │\n",
       "├──────┼──────┼───────┤\n",
       "│ 1    │ 1    │ \"n\"   │\n",
       "│ 2    │ 2    │ \"8\"   │\n",
       "│ 3    │ 3    │ \"T\"   │\n",
       "│ 4    │ 4    │ \"I\"   │\n",
       "│ 5    │ 5    │ \"R\"   │\n",
       "│ 6    │ 6    │ \"W\"   │\n",
       "│ 7    │ 7    │ \"L\"   │\n",
       "│ 8    │ 8    │ \"l\"   │\n",
       "│ 9    │ 9    │ \"K\"   │\n",
       "│ 10   │ 10   │ \"G\"   │\n",
       "│ 11   │ 11   │ \"A\"   │\n",
       "⋮\n",
       "│ 989  │ 989  │ \"T\"   │\n",
       "│ 990  │ 990  │ \"4\"   │\n",
       "│ 991  │ 991  │ \"0\"   │\n",
       "│ 992  │ 992  │ \"O\"   │\n",
       "│ 993  │ 993  │ \"O\"   │\n",
       "│ 994  │ 994  │ \"e\"   │\n",
       "│ 995  │ 995  │ \"G\"   │\n",
       "│ 996  │ 996  │ \"J\"   │\n",
       "│ 997  │ 997  │ \"e\"   │\n",
       "│ 998  │ 998  │ \"N\"   │\n",
       "│ 999  │ 999  │ \"e\"   │\n",
       "│ 1000 │ 1000 │ \"E\"   │"
      ]
     },
     "execution_count": 43,
     "metadata": {},
     "output_type": "execute_result"
    }
   ],
   "source": [
    "trainLabels = readtable(\"$(path)/trainLabels.csv\")\n",
    "trainLabels = trainLabels[1:1000,:]"
   ]
  },
  {
   "cell_type": "code",
   "execution_count": 8,
   "metadata": {},
   "outputs": [
    {
     "data": {
      "text/html": [
       "<table class=\"data-frame\"><thead><tr><th></th><th>ID</th><th>Class</th></tr></thead><tbody><tr><th>1</th><td>1</td><td>n</td></tr><tr><th>2</th><td>2</td><td>8</td></tr><tr><th>3</th><td>3</td><td>T</td></tr><tr><th>4</th><td>4</td><td>I</td></tr><tr><th>5</th><td>5</td><td>R</td></tr><tr><th>6</th><td>6</td><td>W</td></tr><tr><th>7</th><td>7</td><td>L</td></tr><tr><th>8</th><td>8</td><td>l</td></tr><tr><th>9</th><td>9</td><td>K</td></tr><tr><th>10</th><td>10</td><td>G</td></tr><tr><th>11</th><td>11</td><td>A</td></tr><tr><th>12</th><td>12</td><td>A</td></tr><tr><th>13</th><td>13</td><td>C</td></tr><tr><th>14</th><td>14</td><td>u</td></tr><tr><th>15</th><td>15</td><td>t</td></tr><tr><th>16</th><td>16</td><td>A</td></tr><tr><th>17</th><td>17</td><td>N</td></tr><tr><th>18</th><td>18</td><td>I</td></tr><tr><th>19</th><td>19</td><td>O</td></tr><tr><th>20</th><td>20</td><td>k</td></tr><tr><th>21</th><td>21</td><td>l</td></tr><tr><th>22</th><td>22</td><td>D</td></tr><tr><th>23</th><td>23</td><td>T</td></tr><tr><th>24</th><td>24</td><td>u</td></tr><tr><th>25</th><td>25</td><td>w</td></tr><tr><th>26</th><td>26</td><td>N</td></tr><tr><th>27</th><td>27</td><td>E</td></tr><tr><th>28</th><td>28</td><td>E</td></tr><tr><th>29</th><td>29</td><td>H</td></tr><tr><th>30</th><td>30</td><td>e</td></tr><tr><th>&vellip;</th><td>&vellip;</td><td>&vellip;</td></tr></tbody></table>"
      ],
      "text/plain": [
       "1000×2 DataFrames.DataFrame\n",
       "│ Row  │ ID   │ Class │\n",
       "├──────┼──────┼───────┤\n",
       "│ 1    │ 1    │ \"n\"   │\n",
       "│ 2    │ 2    │ \"8\"   │\n",
       "│ 3    │ 3    │ \"T\"   │\n",
       "│ 4    │ 4    │ \"I\"   │\n",
       "│ 5    │ 5    │ \"R\"   │\n",
       "│ 6    │ 6    │ \"W\"   │\n",
       "│ 7    │ 7    │ \"L\"   │\n",
       "│ 8    │ 8    │ \"l\"   │\n",
       "│ 9    │ 9    │ \"K\"   │\n",
       "│ 10   │ 10   │ \"G\"   │\n",
       "│ 11   │ 11   │ \"A\"   │\n",
       "⋮\n",
       "│ 989  │ 989  │ \"T\"   │\n",
       "│ 990  │ 990  │ \"4\"   │\n",
       "│ 991  │ 991  │ \"0\"   │\n",
       "│ 992  │ 992  │ \"O\"   │\n",
       "│ 993  │ 993  │ \"O\"   │\n",
       "│ 994  │ 994  │ \"e\"   │\n",
       "│ 995  │ 995  │ \"G\"   │\n",
       "│ 996  │ 996  │ \"J\"   │\n",
       "│ 997  │ 997  │ \"e\"   │\n",
       "│ 998  │ 998  │ \"N\"   │\n",
       "│ 999  │ 999  │ \"e\"   │\n",
       "│ 1000 │ 1000 │ \"E\"   │"
      ]
     },
     "execution_count": 8,
     "metadata": {},
     "output_type": "execute_result"
    }
   ],
   "source": [
    "trainLabels = readtable(\"$(path)/trainLabels.csv\")\n",
    "trainLabels = trainLabels[1:1000,:]"
   ]
  },
  {
   "cell_type": "markdown",
   "metadata": {},
   "source": [
    "What's the size of our training set?"
   ]
  },
  {
   "cell_type": "code",
   "execution_count": 44,
   "metadata": {},
   "outputs": [
    {
     "data": {
      "text/plain": [
       "(1000, 2)"
      ]
     },
     "execution_count": 44,
     "metadata": {},
     "output_type": "execute_result"
    }
   ],
   "source": [
    "size(trainLabels)"
   ]
  },
  {
   "cell_type": "markdown",
   "metadata": {},
   "source": [
    "Let us now examine our training set's contents. Run the following code to generate a histogram of the data."
   ]
  },
  {
   "cell_type": "code",
   "execution_count": 5,
   "metadata": {},
   "outputs": [
    {
     "data": {
      "image/svg+xml": [
       "<?xml version=\"1.0\" encoding=\"UTF-8\"?>\n",
       "<svg xmlns=\"http://www.w3.org/2000/svg\"\n",
       "     xmlns:xlink=\"http://www.w3.org/1999/xlink\"\n",
       "     xmlns:gadfly=\"http://www.gadflyjl.org/ns\"\n",
       "     version=\"1.2\"\n",
       "     width=\"300mm\" height=\"100mm\" viewBox=\"0 0 300 100\"\n",
       "     stroke=\"none\"\n",
       "     fill=\"#000000\"\n",
       "     stroke-width=\"0.3\"\n",
       "     font-size=\"3.88\"\n",
       ">\n",
       "<g class=\"plotroot yscalable\" id=\"img-ab254349-1\">\n",
       "  <g font-size=\"3.88\" font-family=\"'PT Sans','Helvetica Neue','Helvetica',sans-serif\" fill=\"#564A55\" stroke=\"#000000\" stroke-opacity=\"0.000\" id=\"img-ab254349-2\">\n",
       "    <text x=\"157.32\" y=\"88.39\" text-anchor=\"middle\" dy=\"0.6em\">Characters</text>\n",
       "  </g>\n",
       "  <g class=\"guide xlabels\" font-size=\"2.82\" font-family=\"'PT Sans Caption','Helvetica Neue','Helvetica',sans-serif\" fill=\"#6C606B\" id=\"img-ab254349-3\">\n",
       "    <text x=\"21.85\" y=\"81.72\" text-anchor=\"middle\" dy=\"0.6em\">0</text>\n",
       "    <text x=\"26.29\" y=\"81.72\" text-anchor=\"middle\" dy=\"0.6em\">1</text>\n",
       "    <text x=\"30.74\" y=\"81.72\" text-anchor=\"middle\" dy=\"0.6em\">2</text>\n",
       "    <text x=\"35.18\" y=\"81.72\" text-anchor=\"middle\" dy=\"0.6em\">3</text>\n",
       "    <text x=\"39.62\" y=\"81.72\" text-anchor=\"middle\" dy=\"0.6em\">4</text>\n",
       "    <text x=\"44.06\" y=\"81.72\" text-anchor=\"middle\" dy=\"0.6em\">5</text>\n",
       "    <text x=\"48.5\" y=\"81.72\" text-anchor=\"middle\" dy=\"0.6em\">6</text>\n",
       "    <text x=\"52.94\" y=\"81.72\" text-anchor=\"middle\" dy=\"0.6em\">7</text>\n",
       "    <text x=\"57.38\" y=\"81.72\" text-anchor=\"middle\" dy=\"0.6em\">8</text>\n",
       "    <text x=\"61.83\" y=\"81.72\" text-anchor=\"middle\" dy=\"0.6em\">9</text>\n",
       "    <text x=\"66.27\" y=\"81.72\" text-anchor=\"middle\" dy=\"0.6em\">A</text>\n",
       "    <text x=\"70.71\" y=\"81.72\" text-anchor=\"middle\" dy=\"0.6em\">B</text>\n",
       "    <text x=\"75.15\" y=\"81.72\" text-anchor=\"middle\" dy=\"0.6em\">C</text>\n",
       "    <text x=\"79.59\" y=\"81.72\" text-anchor=\"middle\" dy=\"0.6em\">D</text>\n",
       "    <text x=\"84.03\" y=\"81.72\" text-anchor=\"middle\" dy=\"0.6em\">E</text>\n",
       "    <text x=\"88.47\" y=\"81.72\" text-anchor=\"middle\" dy=\"0.6em\">F</text>\n",
       "    <text x=\"92.92\" y=\"81.72\" text-anchor=\"middle\" dy=\"0.6em\">G</text>\n",
       "    <text x=\"97.36\" y=\"81.72\" text-anchor=\"middle\" dy=\"0.6em\">H</text>\n",
       "    <text x=\"101.8\" y=\"81.72\" text-anchor=\"middle\" dy=\"0.6em\">I</text>\n",
       "    <text x=\"106.24\" y=\"81.72\" text-anchor=\"middle\" dy=\"0.6em\">J</text>\n",
       "    <text x=\"110.68\" y=\"81.72\" text-anchor=\"middle\" dy=\"0.6em\">K</text>\n",
       "    <text x=\"115.12\" y=\"81.72\" text-anchor=\"middle\" dy=\"0.6em\">L</text>\n",
       "    <text x=\"119.56\" y=\"81.72\" text-anchor=\"middle\" dy=\"0.6em\">M</text>\n",
       "    <text x=\"124.01\" y=\"81.72\" text-anchor=\"middle\" dy=\"0.6em\">N</text>\n",
       "    <text x=\"128.45\" y=\"81.72\" text-anchor=\"middle\" dy=\"0.6em\">O</text>\n",
       "    <text x=\"132.89\" y=\"81.72\" text-anchor=\"middle\" dy=\"0.6em\">P</text>\n",
       "    <text x=\"137.33\" y=\"81.72\" text-anchor=\"middle\" dy=\"0.6em\">Q</text>\n",
       "    <text x=\"141.77\" y=\"81.72\" text-anchor=\"middle\" dy=\"0.6em\">R</text>\n",
       "    <text x=\"146.21\" y=\"81.72\" text-anchor=\"middle\" dy=\"0.6em\">S</text>\n",
       "    <text x=\"150.65\" y=\"81.72\" text-anchor=\"middle\" dy=\"0.6em\">T</text>\n",
       "    <text x=\"155.1\" y=\"81.72\" text-anchor=\"middle\" dy=\"0.6em\">U</text>\n",
       "    <text x=\"159.54\" y=\"81.72\" text-anchor=\"middle\" dy=\"0.6em\">V</text>\n",
       "    <text x=\"163.98\" y=\"81.72\" text-anchor=\"middle\" dy=\"0.6em\">W</text>\n",
       "    <text x=\"168.42\" y=\"81.72\" text-anchor=\"middle\" dy=\"0.6em\">X</text>\n",
       "    <text x=\"172.86\" y=\"81.72\" text-anchor=\"middle\" dy=\"0.6em\">Y</text>\n",
       "    <text x=\"177.3\" y=\"81.72\" text-anchor=\"middle\" dy=\"0.6em\">Z</text>\n",
       "    <text x=\"181.74\" y=\"81.72\" text-anchor=\"middle\" dy=\"0.6em\">a</text>\n",
       "    <text x=\"186.19\" y=\"81.72\" text-anchor=\"middle\" dy=\"0.6em\">b</text>\n",
       "    <text x=\"190.63\" y=\"81.72\" text-anchor=\"middle\" dy=\"0.6em\">c</text>\n",
       "    <text x=\"195.07\" y=\"81.72\" text-anchor=\"middle\" dy=\"0.6em\">d</text>\n",
       "    <text x=\"199.51\" y=\"81.72\" text-anchor=\"middle\" dy=\"0.6em\">e</text>\n",
       "    <text x=\"203.95\" y=\"81.72\" text-anchor=\"middle\" dy=\"0.6em\">f</text>\n",
       "    <text x=\"208.39\" y=\"81.72\" text-anchor=\"middle\" dy=\"0.6em\">g</text>\n",
       "    <text x=\"212.83\" y=\"81.72\" text-anchor=\"middle\" dy=\"0.6em\">h</text>\n",
       "    <text x=\"217.28\" y=\"81.72\" text-anchor=\"middle\" dy=\"0.6em\">i</text>\n",
       "    <text x=\"221.72\" y=\"81.72\" text-anchor=\"middle\" dy=\"0.6em\">j</text>\n",
       "    <text x=\"226.16\" y=\"81.72\" text-anchor=\"middle\" dy=\"0.6em\">k</text>\n",
       "    <text x=\"230.6\" y=\"81.72\" text-anchor=\"middle\" dy=\"0.6em\">l</text>\n",
       "    <text x=\"235.04\" y=\"81.72\" text-anchor=\"middle\" dy=\"0.6em\">m</text>\n",
       "    <text x=\"239.48\" y=\"81.72\" text-anchor=\"middle\" dy=\"0.6em\">n</text>\n",
       "    <text x=\"243.92\" y=\"81.72\" text-anchor=\"middle\" dy=\"0.6em\">o</text>\n",
       "    <text x=\"248.37\" y=\"81.72\" text-anchor=\"middle\" dy=\"0.6em\">p</text>\n",
       "    <text x=\"252.81\" y=\"81.72\" text-anchor=\"middle\" dy=\"0.6em\">q</text>\n",
       "    <text x=\"257.25\" y=\"81.72\" text-anchor=\"middle\" dy=\"0.6em\">r</text>\n",
       "    <text x=\"261.69\" y=\"81.72\" text-anchor=\"middle\" dy=\"0.6em\">s</text>\n",
       "    <text x=\"266.13\" y=\"81.72\" text-anchor=\"middle\" dy=\"0.6em\">t</text>\n",
       "    <text x=\"270.57\" y=\"81.72\" text-anchor=\"middle\" dy=\"0.6em\">u</text>\n",
       "    <text x=\"275.01\" y=\"81.72\" text-anchor=\"middle\" dy=\"0.6em\">v</text>\n",
       "    <text x=\"279.46\" y=\"81.72\" text-anchor=\"middle\" dy=\"0.6em\">w</text>\n",
       "    <text x=\"283.9\" y=\"81.72\" text-anchor=\"middle\" dy=\"0.6em\">x</text>\n",
       "    <text x=\"288.34\" y=\"81.72\" text-anchor=\"middle\" dy=\"0.6em\">y</text>\n",
       "    <text x=\"292.78\" y=\"81.72\" text-anchor=\"middle\" dy=\"0.6em\">z</text>\n",
       "  </g>\n",
       "<g clip-path=\"url(#img-ab254349-4)\">\n",
       "  <g id=\"img-ab254349-5\">\n",
       "    <g pointer-events=\"visible\" opacity=\"1\" fill=\"#000000\" fill-opacity=\"0.000\" stroke=\"#000000\" stroke-opacity=\"0.000\" class=\"guide background\" id=\"img-ab254349-6\">\n",
       "      <rect x=\"19.63\" y=\"10.61\" width=\"275.37\" height=\"70.1\"/>\n",
       "    </g>\n",
       "    <g class=\"guide ygridlines xfixed\" stroke-dasharray=\"0.5,0.5\" stroke-width=\"0.2\" stroke=\"#D0D0E0\" id=\"img-ab254349-7\">\n",
       "      <path fill=\"none\" d=\"M19.63,78.72 L 295 78.72\"/>\n",
       "      <path fill=\"none\" d=\"M19.63,62.19 L 295 62.19\"/>\n",
       "      <path fill=\"none\" d=\"M19.63,45.66 L 295 45.66\"/>\n",
       "      <path fill=\"none\" d=\"M19.63,29.14 L 295 29.14\"/>\n",
       "      <path fill=\"none\" d=\"M19.63,12.61 L 295 12.61\"/>\n",
       "    </g>\n",
       "    <g class=\"guide xgridlines yfixed\" stroke-dasharray=\"0.5,0.5\" stroke-width=\"0.2\" stroke=\"#D0D0E0\" id=\"img-ab254349-8\">\n",
       "      <path fill=\"none\" d=\"M24.07,10.61 L 24.07 80.72\"/>\n",
       "      <path fill=\"none\" d=\"M28.51,10.61 L 28.51 80.72\"/>\n",
       "      <path fill=\"none\" d=\"M32.96,10.61 L 32.96 80.72\"/>\n",
       "      <path fill=\"none\" d=\"M37.4,10.61 L 37.4 80.72\"/>\n",
       "      <path fill=\"none\" d=\"M41.84,10.61 L 41.84 80.72\"/>\n",
       "      <path fill=\"none\" d=\"M46.28,10.61 L 46.28 80.72\"/>\n",
       "      <path fill=\"none\" d=\"M50.72,10.61 L 50.72 80.72\"/>\n",
       "      <path fill=\"none\" d=\"M55.16,10.61 L 55.16 80.72\"/>\n",
       "      <path fill=\"none\" d=\"M59.6,10.61 L 59.6 80.72\"/>\n",
       "      <path fill=\"none\" d=\"M64.05,10.61 L 64.05 80.72\"/>\n",
       "      <path fill=\"none\" d=\"M68.49,10.61 L 68.49 80.72\"/>\n",
       "      <path fill=\"none\" d=\"M72.93,10.61 L 72.93 80.72\"/>\n",
       "      <path fill=\"none\" d=\"M77.37,10.61 L 77.37 80.72\"/>\n",
       "      <path fill=\"none\" d=\"M81.81,10.61 L 81.81 80.72\"/>\n",
       "      <path fill=\"none\" d=\"M86.25,10.61 L 86.25 80.72\"/>\n",
       "      <path fill=\"none\" d=\"M90.69,10.61 L 90.69 80.72\"/>\n",
       "      <path fill=\"none\" d=\"M95.14,10.61 L 95.14 80.72\"/>\n",
       "      <path fill=\"none\" d=\"M99.58,10.61 L 99.58 80.72\"/>\n",
       "      <path fill=\"none\" d=\"M104.02,10.61 L 104.02 80.72\"/>\n",
       "      <path fill=\"none\" d=\"M108.46,10.61 L 108.46 80.72\"/>\n",
       "      <path fill=\"none\" d=\"M112.9,10.61 L 112.9 80.72\"/>\n",
       "      <path fill=\"none\" d=\"M117.34,10.61 L 117.34 80.72\"/>\n",
       "      <path fill=\"none\" d=\"M121.78,10.61 L 121.78 80.72\"/>\n",
       "      <path fill=\"none\" d=\"M126.23,10.61 L 126.23 80.72\"/>\n",
       "      <path fill=\"none\" d=\"M130.67,10.61 L 130.67 80.72\"/>\n",
       "      <path fill=\"none\" d=\"M135.11,10.61 L 135.11 80.72\"/>\n",
       "      <path fill=\"none\" d=\"M139.55,10.61 L 139.55 80.72\"/>\n",
       "      <path fill=\"none\" d=\"M143.99,10.61 L 143.99 80.72\"/>\n",
       "      <path fill=\"none\" d=\"M148.43,10.61 L 148.43 80.72\"/>\n",
       "      <path fill=\"none\" d=\"M152.87,10.61 L 152.87 80.72\"/>\n",
       "      <path fill=\"none\" d=\"M157.32,10.61 L 157.32 80.72\"/>\n",
       "      <path fill=\"none\" d=\"M161.76,10.61 L 161.76 80.72\"/>\n",
       "      <path fill=\"none\" d=\"M166.2,10.61 L 166.2 80.72\"/>\n",
       "      <path fill=\"none\" d=\"M170.64,10.61 L 170.64 80.72\"/>\n",
       "      <path fill=\"none\" d=\"M175.08,10.61 L 175.08 80.72\"/>\n",
       "      <path fill=\"none\" d=\"M179.52,10.61 L 179.52 80.72\"/>\n",
       "      <path fill=\"none\" d=\"M183.96,10.61 L 183.96 80.72\"/>\n",
       "      <path fill=\"none\" d=\"M188.41,10.61 L 188.41 80.72\"/>\n",
       "      <path fill=\"none\" d=\"M192.85,10.61 L 192.85 80.72\"/>\n",
       "      <path fill=\"none\" d=\"M197.29,10.61 L 197.29 80.72\"/>\n",
       "      <path fill=\"none\" d=\"M201.73,10.61 L 201.73 80.72\"/>\n",
       "      <path fill=\"none\" d=\"M206.17,10.61 L 206.17 80.72\"/>\n",
       "      <path fill=\"none\" d=\"M210.61,10.61 L 210.61 80.72\"/>\n",
       "      <path fill=\"none\" d=\"M215.05,10.61 L 215.05 80.72\"/>\n",
       "      <path fill=\"none\" d=\"M219.5,10.61 L 219.5 80.72\"/>\n",
       "      <path fill=\"none\" d=\"M223.94,10.61 L 223.94 80.72\"/>\n",
       "      <path fill=\"none\" d=\"M228.38,10.61 L 228.38 80.72\"/>\n",
       "      <path fill=\"none\" d=\"M232.82,10.61 L 232.82 80.72\"/>\n",
       "      <path fill=\"none\" d=\"M237.26,10.61 L 237.26 80.72\"/>\n",
       "      <path fill=\"none\" d=\"M241.7,10.61 L 241.7 80.72\"/>\n",
       "      <path fill=\"none\" d=\"M246.14,10.61 L 246.14 80.72\"/>\n",
       "      <path fill=\"none\" d=\"M250.59,10.61 L 250.59 80.72\"/>\n",
       "      <path fill=\"none\" d=\"M255.03,10.61 L 255.03 80.72\"/>\n",
       "      <path fill=\"none\" d=\"M259.47,10.61 L 259.47 80.72\"/>\n",
       "      <path fill=\"none\" d=\"M263.91,10.61 L 263.91 80.72\"/>\n",
       "      <path fill=\"none\" d=\"M268.35,10.61 L 268.35 80.72\"/>\n",
       "      <path fill=\"none\" d=\"M272.79,10.61 L 272.79 80.72\"/>\n",
       "      <path fill=\"none\" d=\"M277.23,10.61 L 277.23 80.72\"/>\n",
       "      <path fill=\"none\" d=\"M281.68,10.61 L 281.68 80.72\"/>\n",
       "      <path fill=\"none\" d=\"M286.12,10.61 L 286.12 80.72\"/>\n",
       "      <path fill=\"none\" d=\"M290.56,10.61 L 290.56 80.72\"/>\n",
       "    </g>\n",
       "    <g class=\"plotpanel\" id=\"img-ab254349-9\">\n",
       "      <g shape-rendering=\"crispEdges\" stroke-width=\"0.3\" id=\"img-ab254349-10\">\n",
       "        <g stroke=\"#000000\" stroke-opacity=\"0.000\" class=\"geometry\" id=\"img-ab254349-11\">\n",
       "          <rect x=\"19.61\" y=\"68.14\" width=\"4.49\" height=\"10.58\" fill=\"#00BFFF\"/>\n",
       "          <rect x=\"24.05\" y=\"75.41\" width=\"4.49\" height=\"3.31\" fill=\"#D4CA3A\"/>\n",
       "          <rect x=\"28.49\" y=\"70.78\" width=\"4.49\" height=\"7.93\" fill=\"#FF6DAE\"/>\n",
       "          <rect x=\"32.93\" y=\"75.41\" width=\"4.49\" height=\"3.31\" fill=\"#00B78D\"/>\n",
       "          <rect x=\"37.37\" y=\"75.41\" width=\"4.49\" height=\"3.31\" fill=\"#BEA9FF\"/>\n",
       "          <rect x=\"41.81\" y=\"73.43\" width=\"4.49\" height=\"5.29\" fill=\"#FF6765\"/>\n",
       "          <rect x=\"46.26\" y=\"72.77\" width=\"4.49\" height=\"5.95\" fill=\"#C6C6C6\"/>\n",
       "          <rect x=\"50.7\" y=\"76.07\" width=\"4.49\" height=\"2.64\" fill=\"#63DF75\"/>\n",
       "          <rect x=\"55.14\" y=\"77.39\" width=\"4.49\" height=\"1.32\" fill=\"#00E6D3\"/>\n",
       "          <rect x=\"59.58\" y=\"74.09\" width=\"4.49\" height=\"4.63\" fill=\"#E870DD\"/>\n",
       "          <rect x=\"64.02\" y=\"24.51\" width=\"4.49\" height=\"54.2\" fill=\"#93A649\"/>\n",
       "          <rect x=\"68.46\" y=\"75.41\" width=\"4.49\" height=\"3.31\" fill=\"#FF9A4B\"/>\n",
       "          <rect x=\"72.9\" y=\"60.87\" width=\"4.49\" height=\"17.85\" fill=\"#00B4BC\"/>\n",
       "          <rect x=\"77.35\" y=\"62.19\" width=\"4.49\" height=\"16.53\" fill=\"#6299FF\"/>\n",
       "          <rect x=\"81.79\" y=\"37.07\" width=\"4.49\" height=\"41.65\" fill=\"#00E4FF\"/>\n",
       "          <rect x=\"86.23\" y=\"72.1\" width=\"4.49\" height=\"6.61\" fill=\"#C39800\"/>\n",
       "          <rect x=\"90.67\" y=\"64.83\" width=\"4.49\" height=\"13.88\" fill=\"#FF93A4\"/>\n",
       "          <rect x=\"95.11\" y=\"60.21\" width=\"4.49\" height=\"18.51\" fill=\"#32B44E\"/>\n",
       "          <rect x=\"99.55\" y=\"51.61\" width=\"4.49\" height=\"27.1\" fill=\"#9E9E9E\"/>\n",
       "          <rect x=\"103.99\" y=\"72.77\" width=\"4.49\" height=\"5.95\" fill=\"#00E5B2\"/>\n",
       "          <rect x=\"108.44\" y=\"73.43\" width=\"4.49\" height=\"5.29\" fill=\"#FFA9F6\"/>\n",
       "          <rect x=\"112.88\" y=\"58.88\" width=\"4.49\" height=\"19.83\" fill=\"#FFAA89\"/>\n",
       "          <rect x=\"117.32\" y=\"62.85\" width=\"4.49\" height=\"15.86\" fill=\"#82CAFF\"/>\n",
       "          <rect x=\"121.76\" y=\"48.97\" width=\"4.49\" height=\"29.75\" fill=\"#00BBAA\"/>\n",
       "          <rect x=\"126.2\" y=\"45.66\" width=\"4.49\" height=\"33.05\" fill=\"#A08CFF\"/>\n",
       "          <rect x=\"130.64\" y=\"64.17\" width=\"4.49\" height=\"14.54\" fill=\"#00D485\"/>\n",
       "          <rect x=\"135.08\" y=\"78.05\" width=\"4.49\" height=\"0.66\" fill=\"#BCCF6F\"/>\n",
       "          <rect x=\"139.53\" y=\"47.65\" width=\"4.49\" height=\"31.07\" fill=\"#FFA0C8\"/>\n",
       "          <rect x=\"143.97\" y=\"53.6\" width=\"4.49\" height=\"25.12\" fill=\"#FF5F82\"/>\n",
       "          <rect x=\"148.41\" y=\"45\" width=\"4.49\" height=\"33.71\" fill=\"#C483E9\"/>\n",
       "          <rect x=\"152.85\" y=\"72.1\" width=\"4.49\" height=\"6.61\" fill=\"#FF734A\"/>\n",
       "          <rect x=\"157.29\" y=\"73.43\" width=\"4.49\" height=\"5.29\" fill=\"#82CC4D\"/>\n",
       "          <rect x=\"161.73\" y=\"69.46\" width=\"4.49\" height=\"9.25\" fill=\"#FF928B\"/>\n",
       "          <rect x=\"166.17\" y=\"75.41\" width=\"4.49\" height=\"3.31\" fill=\"#E799FF\"/>\n",
       "          <rect x=\"170.62\" y=\"74.75\" width=\"4.49\" height=\"3.97\" fill=\"#00B573\"/>\n",
       "          <rect x=\"175.06\" y=\"75.41\" width=\"4.49\" height=\"3.31\" fill=\"#DAB45B\"/>\n",
       "          <rect x=\"179.5\" y=\"64.17\" width=\"4.49\" height=\"14.54\" fill=\"#00D0D8\"/>\n",
       "          <rect x=\"183.94\" y=\"76.73\" width=\"4.49\" height=\"1.98\" fill=\"#CE9247\"/>\n",
       "          <rect x=\"188.38\" y=\"76.07\" width=\"4.49\" height=\"2.64\" fill=\"#6CBD73\"/>\n",
       "          <rect x=\"192.82\" y=\"75.41\" width=\"4.49\" height=\"3.31\" fill=\"#00C4E9\"/>\n",
       "          <rect x=\"197.26\" y=\"58.22\" width=\"4.49\" height=\"20.49\" fill=\"#B7AE38\"/>\n",
       "          <rect x=\"201.71\" y=\"74.09\" width=\"4.49\" height=\"4.63\" fill=\"#00B0FE\"/>\n",
       "          <rect x=\"206.15\" y=\"74.75\" width=\"4.49\" height=\"3.97\" fill=\"#66B032\"/>\n",
       "          <rect x=\"210.59\" y=\"76.73\" width=\"4.49\" height=\"1.98\" fill=\"#FFB445\"/>\n",
       "          <rect x=\"215.03\" y=\"64.17\" width=\"4.49\" height=\"14.54\" fill=\"#A6C537\"/>\n",
       "          <rect x=\"219.47\" y=\"76.07\" width=\"4.49\" height=\"2.64\" fill=\"#88B962\"/>\n",
       "          <rect x=\"223.91\" y=\"73.43\" width=\"4.49\" height=\"5.29\" fill=\"#68DCA2\"/>\n",
       "          <rect x=\"228.35\" y=\"70.12\" width=\"4.49\" height=\"8.59\" fill=\"#F08031\"/>\n",
       "          <rect x=\"232.8\" y=\"74.09\" width=\"4.49\" height=\"4.63\" fill=\"#9CB4FF\"/>\n",
       "          <rect x=\"237.24\" y=\"66.16\" width=\"4.49\" height=\"12.56\" fill=\"#27D0AB\"/>\n",
       "          <rect x=\"241.68\" y=\"72.1\" width=\"4.49\" height=\"6.61\" fill=\"#F88F6F\"/>\n",
       "          <rect x=\"246.12\" y=\"72.77\" width=\"4.49\" height=\"5.95\" fill=\"#DB8D17\"/>\n",
       "          <rect x=\"250.56\" y=\"76.07\" width=\"4.49\" height=\"2.64\" fill=\"#A3D57C\"/>\n",
       "          <rect x=\"255\" y=\"64.17\" width=\"4.49\" height=\"14.54\" fill=\"#8AAA16\"/>\n",
       "          <rect x=\"259.44\" y=\"73.43\" width=\"4.49\" height=\"5.29\" fill=\"#E38ED9\"/>\n",
       "          <rect x=\"263.89\" y=\"65.49\" width=\"4.49\" height=\"13.22\" fill=\"#E1B32A\"/>\n",
       "          <rect x=\"268.33\" y=\"72.77\" width=\"4.49\" height=\"5.95\" fill=\"#FF8AC9\"/>\n",
       "          <rect x=\"272.77\" y=\"76.73\" width=\"4.49\" height=\"1.98\" fill=\"#FF8CFA\"/>\n",
       "          <rect x=\"277.21\" y=\"75.41\" width=\"4.49\" height=\"3.31\" fill=\"#00D0C2\"/>\n",
       "          <rect x=\"281.65\" y=\"77.39\" width=\"4.49\" height=\"1.32\" fill=\"#FFB279\"/>\n",
       "          <rect x=\"286.09\" y=\"76.07\" width=\"4.49\" height=\"2.64\" fill=\"#EC975F\"/>\n",
       "          <rect x=\"290.53\" y=\"77.39\" width=\"4.49\" height=\"1.32\" fill=\"#00B3D0\"/>\n",
       "        </g>\n",
       "      </g>\n",
       "    </g>\n",
       "  </g>\n",
       "</g>\n",
       "  <g class=\"guide ylabels\" font-size=\"2.82\" font-family=\"'PT Sans Caption','Helvetica Neue','Helvetica',sans-serif\" fill=\"#6C606B\" id=\"img-ab254349-12\">\n",
       "    <text x=\"18.63\" y=\"78.72\" text-anchor=\"end\" dy=\"0.35em\">0</text>\n",
       "    <text x=\"18.63\" y=\"62.19\" text-anchor=\"end\" dy=\"0.35em\">25</text>\n",
       "    <text x=\"18.63\" y=\"45.66\" text-anchor=\"end\" dy=\"0.35em\">50</text>\n",
       "    <text x=\"18.63\" y=\"29.14\" text-anchor=\"end\" dy=\"0.35em\">75</text>\n",
       "    <text x=\"18.63\" y=\"12.61\" text-anchor=\"end\" dy=\"0.35em\">100</text>\n",
       "  </g>\n",
       "  <g font-size=\"3.88\" font-family=\"'PT Sans','Helvetica Neue','Helvetica',sans-serif\" fill=\"#564A55\" stroke=\"#000000\" stroke-opacity=\"0.000\" id=\"img-ab254349-13\">\n",
       "    <text x=\"8.81\" y=\"43.66\" text-anchor=\"middle\" dy=\"0.35em\" transform=\"rotate(-90, 8.81, 45.66)\"># of samples</text>\n",
       "  </g>\n",
       "  <g font-size=\"3.88\" font-family=\"'PT Sans','Helvetica Neue','Helvetica',sans-serif\" fill=\"#564A55\" stroke=\"#000000\" stroke-opacity=\"0.000\" id=\"img-ab254349-14\">\n",
       "    <text x=\"157.32\" y=\"5\" text-anchor=\"middle\" dy=\"0.6em\">Distribution of training data</text>\n",
       "  </g>\n",
       "</g>\n",
       "<defs>\n",
       "  <clipPath id=\"img-ab254349-4\">\n",
       "  <path d=\"M19.63,10.61 L 295 10.61 295 80.72 19.63 80.72\" />\n",
       "</clipPath>\n",
       "</defs>\n",
       "</svg>\n"
      ],
      "text/html": [
       "<?xml version=\"1.0\" encoding=\"UTF-8\"?>\n",
       "<svg xmlns=\"http://www.w3.org/2000/svg\"\n",
       "     xmlns:xlink=\"http://www.w3.org/1999/xlink\"\n",
       "     xmlns:gadfly=\"http://www.gadflyjl.org/ns\"\n",
       "     version=\"1.2\"\n",
       "     width=\"300mm\" height=\"100mm\" viewBox=\"0 0 300 100\"\n",
       "     stroke=\"none\"\n",
       "     fill=\"#000000\"\n",
       "     stroke-width=\"0.3\"\n",
       "     font-size=\"3.88\"\n",
       ">\n",
       "<g class=\"plotroot yscalable\" id=\"img-ab254349-1\">\n",
       "  <g font-size=\"3.88\" font-family=\"'PT Sans','Helvetica Neue','Helvetica',sans-serif\" fill=\"#564A55\" stroke=\"#000000\" stroke-opacity=\"0.000\" id=\"img-ab254349-2\">\n",
       "    <text x=\"157.32\" y=\"88.39\" text-anchor=\"middle\" dy=\"0.6em\">Characters</text>\n",
       "  </g>\n",
       "  <g class=\"guide xlabels\" font-size=\"2.82\" font-family=\"'PT Sans Caption','Helvetica Neue','Helvetica',sans-serif\" fill=\"#6C606B\" id=\"img-ab254349-3\">\n",
       "    <text x=\"21.85\" y=\"81.72\" text-anchor=\"middle\" dy=\"0.6em\">0</text>\n",
       "    <text x=\"26.29\" y=\"81.72\" text-anchor=\"middle\" dy=\"0.6em\">1</text>\n",
       "    <text x=\"30.74\" y=\"81.72\" text-anchor=\"middle\" dy=\"0.6em\">2</text>\n",
       "    <text x=\"35.18\" y=\"81.72\" text-anchor=\"middle\" dy=\"0.6em\">3</text>\n",
       "    <text x=\"39.62\" y=\"81.72\" text-anchor=\"middle\" dy=\"0.6em\">4</text>\n",
       "    <text x=\"44.06\" y=\"81.72\" text-anchor=\"middle\" dy=\"0.6em\">5</text>\n",
       "    <text x=\"48.5\" y=\"81.72\" text-anchor=\"middle\" dy=\"0.6em\">6</text>\n",
       "    <text x=\"52.94\" y=\"81.72\" text-anchor=\"middle\" dy=\"0.6em\">7</text>\n",
       "    <text x=\"57.38\" y=\"81.72\" text-anchor=\"middle\" dy=\"0.6em\">8</text>\n",
       "    <text x=\"61.83\" y=\"81.72\" text-anchor=\"middle\" dy=\"0.6em\">9</text>\n",
       "    <text x=\"66.27\" y=\"81.72\" text-anchor=\"middle\" dy=\"0.6em\">A</text>\n",
       "    <text x=\"70.71\" y=\"81.72\" text-anchor=\"middle\" dy=\"0.6em\">B</text>\n",
       "    <text x=\"75.15\" y=\"81.72\" text-anchor=\"middle\" dy=\"0.6em\">C</text>\n",
       "    <text x=\"79.59\" y=\"81.72\" text-anchor=\"middle\" dy=\"0.6em\">D</text>\n",
       "    <text x=\"84.03\" y=\"81.72\" text-anchor=\"middle\" dy=\"0.6em\">E</text>\n",
       "    <text x=\"88.47\" y=\"81.72\" text-anchor=\"middle\" dy=\"0.6em\">F</text>\n",
       "    <text x=\"92.92\" y=\"81.72\" text-anchor=\"middle\" dy=\"0.6em\">G</text>\n",
       "    <text x=\"97.36\" y=\"81.72\" text-anchor=\"middle\" dy=\"0.6em\">H</text>\n",
       "    <text x=\"101.8\" y=\"81.72\" text-anchor=\"middle\" dy=\"0.6em\">I</text>\n",
       "    <text x=\"106.24\" y=\"81.72\" text-anchor=\"middle\" dy=\"0.6em\">J</text>\n",
       "    <text x=\"110.68\" y=\"81.72\" text-anchor=\"middle\" dy=\"0.6em\">K</text>\n",
       "    <text x=\"115.12\" y=\"81.72\" text-anchor=\"middle\" dy=\"0.6em\">L</text>\n",
       "    <text x=\"119.56\" y=\"81.72\" text-anchor=\"middle\" dy=\"0.6em\">M</text>\n",
       "    <text x=\"124.01\" y=\"81.72\" text-anchor=\"middle\" dy=\"0.6em\">N</text>\n",
       "    <text x=\"128.45\" y=\"81.72\" text-anchor=\"middle\" dy=\"0.6em\">O</text>\n",
       "    <text x=\"132.89\" y=\"81.72\" text-anchor=\"middle\" dy=\"0.6em\">P</text>\n",
       "    <text x=\"137.33\" y=\"81.72\" text-anchor=\"middle\" dy=\"0.6em\">Q</text>\n",
       "    <text x=\"141.77\" y=\"81.72\" text-anchor=\"middle\" dy=\"0.6em\">R</text>\n",
       "    <text x=\"146.21\" y=\"81.72\" text-anchor=\"middle\" dy=\"0.6em\">S</text>\n",
       "    <text x=\"150.65\" y=\"81.72\" text-anchor=\"middle\" dy=\"0.6em\">T</text>\n",
       "    <text x=\"155.1\" y=\"81.72\" text-anchor=\"middle\" dy=\"0.6em\">U</text>\n",
       "    <text x=\"159.54\" y=\"81.72\" text-anchor=\"middle\" dy=\"0.6em\">V</text>\n",
       "    <text x=\"163.98\" y=\"81.72\" text-anchor=\"middle\" dy=\"0.6em\">W</text>\n",
       "    <text x=\"168.42\" y=\"81.72\" text-anchor=\"middle\" dy=\"0.6em\">X</text>\n",
       "    <text x=\"172.86\" y=\"81.72\" text-anchor=\"middle\" dy=\"0.6em\">Y</text>\n",
       "    <text x=\"177.3\" y=\"81.72\" text-anchor=\"middle\" dy=\"0.6em\">Z</text>\n",
       "    <text x=\"181.74\" y=\"81.72\" text-anchor=\"middle\" dy=\"0.6em\">a</text>\n",
       "    <text x=\"186.19\" y=\"81.72\" text-anchor=\"middle\" dy=\"0.6em\">b</text>\n",
       "    <text x=\"190.63\" y=\"81.72\" text-anchor=\"middle\" dy=\"0.6em\">c</text>\n",
       "    <text x=\"195.07\" y=\"81.72\" text-anchor=\"middle\" dy=\"0.6em\">d</text>\n",
       "    <text x=\"199.51\" y=\"81.72\" text-anchor=\"middle\" dy=\"0.6em\">e</text>\n",
       "    <text x=\"203.95\" y=\"81.72\" text-anchor=\"middle\" dy=\"0.6em\">f</text>\n",
       "    <text x=\"208.39\" y=\"81.72\" text-anchor=\"middle\" dy=\"0.6em\">g</text>\n",
       "    <text x=\"212.83\" y=\"81.72\" text-anchor=\"middle\" dy=\"0.6em\">h</text>\n",
       "    <text x=\"217.28\" y=\"81.72\" text-anchor=\"middle\" dy=\"0.6em\">i</text>\n",
       "    <text x=\"221.72\" y=\"81.72\" text-anchor=\"middle\" dy=\"0.6em\">j</text>\n",
       "    <text x=\"226.16\" y=\"81.72\" text-anchor=\"middle\" dy=\"0.6em\">k</text>\n",
       "    <text x=\"230.6\" y=\"81.72\" text-anchor=\"middle\" dy=\"0.6em\">l</text>\n",
       "    <text x=\"235.04\" y=\"81.72\" text-anchor=\"middle\" dy=\"0.6em\">m</text>\n",
       "    <text x=\"239.48\" y=\"81.72\" text-anchor=\"middle\" dy=\"0.6em\">n</text>\n",
       "    <text x=\"243.92\" y=\"81.72\" text-anchor=\"middle\" dy=\"0.6em\">o</text>\n",
       "    <text x=\"248.37\" y=\"81.72\" text-anchor=\"middle\" dy=\"0.6em\">p</text>\n",
       "    <text x=\"252.81\" y=\"81.72\" text-anchor=\"middle\" dy=\"0.6em\">q</text>\n",
       "    <text x=\"257.25\" y=\"81.72\" text-anchor=\"middle\" dy=\"0.6em\">r</text>\n",
       "    <text x=\"261.69\" y=\"81.72\" text-anchor=\"middle\" dy=\"0.6em\">s</text>\n",
       "    <text x=\"266.13\" y=\"81.72\" text-anchor=\"middle\" dy=\"0.6em\">t</text>\n",
       "    <text x=\"270.57\" y=\"81.72\" text-anchor=\"middle\" dy=\"0.6em\">u</text>\n",
       "    <text x=\"275.01\" y=\"81.72\" text-anchor=\"middle\" dy=\"0.6em\">v</text>\n",
       "    <text x=\"279.46\" y=\"81.72\" text-anchor=\"middle\" dy=\"0.6em\">w</text>\n",
       "    <text x=\"283.9\" y=\"81.72\" text-anchor=\"middle\" dy=\"0.6em\">x</text>\n",
       "    <text x=\"288.34\" y=\"81.72\" text-anchor=\"middle\" dy=\"0.6em\">y</text>\n",
       "    <text x=\"292.78\" y=\"81.72\" text-anchor=\"middle\" dy=\"0.6em\">z</text>\n",
       "  </g>\n",
       "<g clip-path=\"url(#img-ab254349-4)\">\n",
       "  <g id=\"img-ab254349-5\">\n",
       "    <g pointer-events=\"visible\" opacity=\"1\" fill=\"#000000\" fill-opacity=\"0.000\" stroke=\"#000000\" stroke-opacity=\"0.000\" class=\"guide background\" id=\"img-ab254349-6\">\n",
       "      <rect x=\"19.63\" y=\"10.61\" width=\"275.37\" height=\"70.1\"/>\n",
       "    </g>\n",
       "    <g class=\"guide ygridlines xfixed\" stroke-dasharray=\"0.5,0.5\" stroke-width=\"0.2\" stroke=\"#D0D0E0\" id=\"img-ab254349-7\">\n",
       "      <path fill=\"none\" d=\"M19.63,78.72 L 295 78.72\"/>\n",
       "      <path fill=\"none\" d=\"M19.63,62.19 L 295 62.19\"/>\n",
       "      <path fill=\"none\" d=\"M19.63,45.66 L 295 45.66\"/>\n",
       "      <path fill=\"none\" d=\"M19.63,29.14 L 295 29.14\"/>\n",
       "      <path fill=\"none\" d=\"M19.63,12.61 L 295 12.61\"/>\n",
       "    </g>\n",
       "    <g class=\"guide xgridlines yfixed\" stroke-dasharray=\"0.5,0.5\" stroke-width=\"0.2\" stroke=\"#D0D0E0\" id=\"img-ab254349-8\">\n",
       "      <path fill=\"none\" d=\"M24.07,10.61 L 24.07 80.72\"/>\n",
       "      <path fill=\"none\" d=\"M28.51,10.61 L 28.51 80.72\"/>\n",
       "      <path fill=\"none\" d=\"M32.96,10.61 L 32.96 80.72\"/>\n",
       "      <path fill=\"none\" d=\"M37.4,10.61 L 37.4 80.72\"/>\n",
       "      <path fill=\"none\" d=\"M41.84,10.61 L 41.84 80.72\"/>\n",
       "      <path fill=\"none\" d=\"M46.28,10.61 L 46.28 80.72\"/>\n",
       "      <path fill=\"none\" d=\"M50.72,10.61 L 50.72 80.72\"/>\n",
       "      <path fill=\"none\" d=\"M55.16,10.61 L 55.16 80.72\"/>\n",
       "      <path fill=\"none\" d=\"M59.6,10.61 L 59.6 80.72\"/>\n",
       "      <path fill=\"none\" d=\"M64.05,10.61 L 64.05 80.72\"/>\n",
       "      <path fill=\"none\" d=\"M68.49,10.61 L 68.49 80.72\"/>\n",
       "      <path fill=\"none\" d=\"M72.93,10.61 L 72.93 80.72\"/>\n",
       "      <path fill=\"none\" d=\"M77.37,10.61 L 77.37 80.72\"/>\n",
       "      <path fill=\"none\" d=\"M81.81,10.61 L 81.81 80.72\"/>\n",
       "      <path fill=\"none\" d=\"M86.25,10.61 L 86.25 80.72\"/>\n",
       "      <path fill=\"none\" d=\"M90.69,10.61 L 90.69 80.72\"/>\n",
       "      <path fill=\"none\" d=\"M95.14,10.61 L 95.14 80.72\"/>\n",
       "      <path fill=\"none\" d=\"M99.58,10.61 L 99.58 80.72\"/>\n",
       "      <path fill=\"none\" d=\"M104.02,10.61 L 104.02 80.72\"/>\n",
       "      <path fill=\"none\" d=\"M108.46,10.61 L 108.46 80.72\"/>\n",
       "      <path fill=\"none\" d=\"M112.9,10.61 L 112.9 80.72\"/>\n",
       "      <path fill=\"none\" d=\"M117.34,10.61 L 117.34 80.72\"/>\n",
       "      <path fill=\"none\" d=\"M121.78,10.61 L 121.78 80.72\"/>\n",
       "      <path fill=\"none\" d=\"M126.23,10.61 L 126.23 80.72\"/>\n",
       "      <path fill=\"none\" d=\"M130.67,10.61 L 130.67 80.72\"/>\n",
       "      <path fill=\"none\" d=\"M135.11,10.61 L 135.11 80.72\"/>\n",
       "      <path fill=\"none\" d=\"M139.55,10.61 L 139.55 80.72\"/>\n",
       "      <path fill=\"none\" d=\"M143.99,10.61 L 143.99 80.72\"/>\n",
       "      <path fill=\"none\" d=\"M148.43,10.61 L 148.43 80.72\"/>\n",
       "      <path fill=\"none\" d=\"M152.87,10.61 L 152.87 80.72\"/>\n",
       "      <path fill=\"none\" d=\"M157.32,10.61 L 157.32 80.72\"/>\n",
       "      <path fill=\"none\" d=\"M161.76,10.61 L 161.76 80.72\"/>\n",
       "      <path fill=\"none\" d=\"M166.2,10.61 L 166.2 80.72\"/>\n",
       "      <path fill=\"none\" d=\"M170.64,10.61 L 170.64 80.72\"/>\n",
       "      <path fill=\"none\" d=\"M175.08,10.61 L 175.08 80.72\"/>\n",
       "      <path fill=\"none\" d=\"M179.52,10.61 L 179.52 80.72\"/>\n",
       "      <path fill=\"none\" d=\"M183.96,10.61 L 183.96 80.72\"/>\n",
       "      <path fill=\"none\" d=\"M188.41,10.61 L 188.41 80.72\"/>\n",
       "      <path fill=\"none\" d=\"M192.85,10.61 L 192.85 80.72\"/>\n",
       "      <path fill=\"none\" d=\"M197.29,10.61 L 197.29 80.72\"/>\n",
       "      <path fill=\"none\" d=\"M201.73,10.61 L 201.73 80.72\"/>\n",
       "      <path fill=\"none\" d=\"M206.17,10.61 L 206.17 80.72\"/>\n",
       "      <path fill=\"none\" d=\"M210.61,10.61 L 210.61 80.72\"/>\n",
       "      <path fill=\"none\" d=\"M215.05,10.61 L 215.05 80.72\"/>\n",
       "      <path fill=\"none\" d=\"M219.5,10.61 L 219.5 80.72\"/>\n",
       "      <path fill=\"none\" d=\"M223.94,10.61 L 223.94 80.72\"/>\n",
       "      <path fill=\"none\" d=\"M228.38,10.61 L 228.38 80.72\"/>\n",
       "      <path fill=\"none\" d=\"M232.82,10.61 L 232.82 80.72\"/>\n",
       "      <path fill=\"none\" d=\"M237.26,10.61 L 237.26 80.72\"/>\n",
       "      <path fill=\"none\" d=\"M241.7,10.61 L 241.7 80.72\"/>\n",
       "      <path fill=\"none\" d=\"M246.14,10.61 L 246.14 80.72\"/>\n",
       "      <path fill=\"none\" d=\"M250.59,10.61 L 250.59 80.72\"/>\n",
       "      <path fill=\"none\" d=\"M255.03,10.61 L 255.03 80.72\"/>\n",
       "      <path fill=\"none\" d=\"M259.47,10.61 L 259.47 80.72\"/>\n",
       "      <path fill=\"none\" d=\"M263.91,10.61 L 263.91 80.72\"/>\n",
       "      <path fill=\"none\" d=\"M268.35,10.61 L 268.35 80.72\"/>\n",
       "      <path fill=\"none\" d=\"M272.79,10.61 L 272.79 80.72\"/>\n",
       "      <path fill=\"none\" d=\"M277.23,10.61 L 277.23 80.72\"/>\n",
       "      <path fill=\"none\" d=\"M281.68,10.61 L 281.68 80.72\"/>\n",
       "      <path fill=\"none\" d=\"M286.12,10.61 L 286.12 80.72\"/>\n",
       "      <path fill=\"none\" d=\"M290.56,10.61 L 290.56 80.72\"/>\n",
       "    </g>\n",
       "    <g class=\"plotpanel\" id=\"img-ab254349-9\">\n",
       "      <g shape-rendering=\"crispEdges\" stroke-width=\"0.3\" id=\"img-ab254349-10\">\n",
       "        <g stroke=\"#000000\" stroke-opacity=\"0.000\" class=\"geometry\" id=\"img-ab254349-11\">\n",
       "          <rect x=\"19.61\" y=\"68.14\" width=\"4.49\" height=\"10.58\" fill=\"#00BFFF\"/>\n",
       "          <rect x=\"24.05\" y=\"75.41\" width=\"4.49\" height=\"3.31\" fill=\"#D4CA3A\"/>\n",
       "          <rect x=\"28.49\" y=\"70.78\" width=\"4.49\" height=\"7.93\" fill=\"#FF6DAE\"/>\n",
       "          <rect x=\"32.93\" y=\"75.41\" width=\"4.49\" height=\"3.31\" fill=\"#00B78D\"/>\n",
       "          <rect x=\"37.37\" y=\"75.41\" width=\"4.49\" height=\"3.31\" fill=\"#BEA9FF\"/>\n",
       "          <rect x=\"41.81\" y=\"73.43\" width=\"4.49\" height=\"5.29\" fill=\"#FF6765\"/>\n",
       "          <rect x=\"46.26\" y=\"72.77\" width=\"4.49\" height=\"5.95\" fill=\"#C6C6C6\"/>\n",
       "          <rect x=\"50.7\" y=\"76.07\" width=\"4.49\" height=\"2.64\" fill=\"#63DF75\"/>\n",
       "          <rect x=\"55.14\" y=\"77.39\" width=\"4.49\" height=\"1.32\" fill=\"#00E6D3\"/>\n",
       "          <rect x=\"59.58\" y=\"74.09\" width=\"4.49\" height=\"4.63\" fill=\"#E870DD\"/>\n",
       "          <rect x=\"64.02\" y=\"24.51\" width=\"4.49\" height=\"54.2\" fill=\"#93A649\"/>\n",
       "          <rect x=\"68.46\" y=\"75.41\" width=\"4.49\" height=\"3.31\" fill=\"#FF9A4B\"/>\n",
       "          <rect x=\"72.9\" y=\"60.87\" width=\"4.49\" height=\"17.85\" fill=\"#00B4BC\"/>\n",
       "          <rect x=\"77.35\" y=\"62.19\" width=\"4.49\" height=\"16.53\" fill=\"#6299FF\"/>\n",
       "          <rect x=\"81.79\" y=\"37.07\" width=\"4.49\" height=\"41.65\" fill=\"#00E4FF\"/>\n",
       "          <rect x=\"86.23\" y=\"72.1\" width=\"4.49\" height=\"6.61\" fill=\"#C39800\"/>\n",
       "          <rect x=\"90.67\" y=\"64.83\" width=\"4.49\" height=\"13.88\" fill=\"#FF93A4\"/>\n",
       "          <rect x=\"95.11\" y=\"60.21\" width=\"4.49\" height=\"18.51\" fill=\"#32B44E\"/>\n",
       "          <rect x=\"99.55\" y=\"51.61\" width=\"4.49\" height=\"27.1\" fill=\"#9E9E9E\"/>\n",
       "          <rect x=\"103.99\" y=\"72.77\" width=\"4.49\" height=\"5.95\" fill=\"#00E5B2\"/>\n",
       "          <rect x=\"108.44\" y=\"73.43\" width=\"4.49\" height=\"5.29\" fill=\"#FFA9F6\"/>\n",
       "          <rect x=\"112.88\" y=\"58.88\" width=\"4.49\" height=\"19.83\" fill=\"#FFAA89\"/>\n",
       "          <rect x=\"117.32\" y=\"62.85\" width=\"4.49\" height=\"15.86\" fill=\"#82CAFF\"/>\n",
       "          <rect x=\"121.76\" y=\"48.97\" width=\"4.49\" height=\"29.75\" fill=\"#00BBAA\"/>\n",
       "          <rect x=\"126.2\" y=\"45.66\" width=\"4.49\" height=\"33.05\" fill=\"#A08CFF\"/>\n",
       "          <rect x=\"130.64\" y=\"64.17\" width=\"4.49\" height=\"14.54\" fill=\"#00D485\"/>\n",
       "          <rect x=\"135.08\" y=\"78.05\" width=\"4.49\" height=\"0.66\" fill=\"#BCCF6F\"/>\n",
       "          <rect x=\"139.53\" y=\"47.65\" width=\"4.49\" height=\"31.07\" fill=\"#FFA0C8\"/>\n",
       "          <rect x=\"143.97\" y=\"53.6\" width=\"4.49\" height=\"25.12\" fill=\"#FF5F82\"/>\n",
       "          <rect x=\"148.41\" y=\"45\" width=\"4.49\" height=\"33.71\" fill=\"#C483E9\"/>\n",
       "          <rect x=\"152.85\" y=\"72.1\" width=\"4.49\" height=\"6.61\" fill=\"#FF734A\"/>\n",
       "          <rect x=\"157.29\" y=\"73.43\" width=\"4.49\" height=\"5.29\" fill=\"#82CC4D\"/>\n",
       "          <rect x=\"161.73\" y=\"69.46\" width=\"4.49\" height=\"9.25\" fill=\"#FF928B\"/>\n",
       "          <rect x=\"166.17\" y=\"75.41\" width=\"4.49\" height=\"3.31\" fill=\"#E799FF\"/>\n",
       "          <rect x=\"170.62\" y=\"74.75\" width=\"4.49\" height=\"3.97\" fill=\"#00B573\"/>\n",
       "          <rect x=\"175.06\" y=\"75.41\" width=\"4.49\" height=\"3.31\" fill=\"#DAB45B\"/>\n",
       "          <rect x=\"179.5\" y=\"64.17\" width=\"4.49\" height=\"14.54\" fill=\"#00D0D8\"/>\n",
       "          <rect x=\"183.94\" y=\"76.73\" width=\"4.49\" height=\"1.98\" fill=\"#CE9247\"/>\n",
       "          <rect x=\"188.38\" y=\"76.07\" width=\"4.49\" height=\"2.64\" fill=\"#6CBD73\"/>\n",
       "          <rect x=\"192.82\" y=\"75.41\" width=\"4.49\" height=\"3.31\" fill=\"#00C4E9\"/>\n",
       "          <rect x=\"197.26\" y=\"58.22\" width=\"4.49\" height=\"20.49\" fill=\"#B7AE38\"/>\n",
       "          <rect x=\"201.71\" y=\"74.09\" width=\"4.49\" height=\"4.63\" fill=\"#00B0FE\"/>\n",
       "          <rect x=\"206.15\" y=\"74.75\" width=\"4.49\" height=\"3.97\" fill=\"#66B032\"/>\n",
       "          <rect x=\"210.59\" y=\"76.73\" width=\"4.49\" height=\"1.98\" fill=\"#FFB445\"/>\n",
       "          <rect x=\"215.03\" y=\"64.17\" width=\"4.49\" height=\"14.54\" fill=\"#A6C537\"/>\n",
       "          <rect x=\"219.47\" y=\"76.07\" width=\"4.49\" height=\"2.64\" fill=\"#88B962\"/>\n",
       "          <rect x=\"223.91\" y=\"73.43\" width=\"4.49\" height=\"5.29\" fill=\"#68DCA2\"/>\n",
       "          <rect x=\"228.35\" y=\"70.12\" width=\"4.49\" height=\"8.59\" fill=\"#F08031\"/>\n",
       "          <rect x=\"232.8\" y=\"74.09\" width=\"4.49\" height=\"4.63\" fill=\"#9CB4FF\"/>\n",
       "          <rect x=\"237.24\" y=\"66.16\" width=\"4.49\" height=\"12.56\" fill=\"#27D0AB\"/>\n",
       "          <rect x=\"241.68\" y=\"72.1\" width=\"4.49\" height=\"6.61\" fill=\"#F88F6F\"/>\n",
       "          <rect x=\"246.12\" y=\"72.77\" width=\"4.49\" height=\"5.95\" fill=\"#DB8D17\"/>\n",
       "          <rect x=\"250.56\" y=\"76.07\" width=\"4.49\" height=\"2.64\" fill=\"#A3D57C\"/>\n",
       "          <rect x=\"255\" y=\"64.17\" width=\"4.49\" height=\"14.54\" fill=\"#8AAA16\"/>\n",
       "          <rect x=\"259.44\" y=\"73.43\" width=\"4.49\" height=\"5.29\" fill=\"#E38ED9\"/>\n",
       "          <rect x=\"263.89\" y=\"65.49\" width=\"4.49\" height=\"13.22\" fill=\"#E1B32A\"/>\n",
       "          <rect x=\"268.33\" y=\"72.77\" width=\"4.49\" height=\"5.95\" fill=\"#FF8AC9\"/>\n",
       "          <rect x=\"272.77\" y=\"76.73\" width=\"4.49\" height=\"1.98\" fill=\"#FF8CFA\"/>\n",
       "          <rect x=\"277.21\" y=\"75.41\" width=\"4.49\" height=\"3.31\" fill=\"#00D0C2\"/>\n",
       "          <rect x=\"281.65\" y=\"77.39\" width=\"4.49\" height=\"1.32\" fill=\"#FFB279\"/>\n",
       "          <rect x=\"286.09\" y=\"76.07\" width=\"4.49\" height=\"2.64\" fill=\"#EC975F\"/>\n",
       "          <rect x=\"290.53\" y=\"77.39\" width=\"4.49\" height=\"1.32\" fill=\"#00B3D0\"/>\n",
       "        </g>\n",
       "      </g>\n",
       "    </g>\n",
       "  </g>\n",
       "</g>\n",
       "  <g class=\"guide ylabels\" font-size=\"2.82\" font-family=\"'PT Sans Caption','Helvetica Neue','Helvetica',sans-serif\" fill=\"#6C606B\" id=\"img-ab254349-12\">\n",
       "    <text x=\"18.63\" y=\"78.72\" text-anchor=\"end\" dy=\"0.35em\">0</text>\n",
       "    <text x=\"18.63\" y=\"62.19\" text-anchor=\"end\" dy=\"0.35em\">25</text>\n",
       "    <text x=\"18.63\" y=\"45.66\" text-anchor=\"end\" dy=\"0.35em\">50</text>\n",
       "    <text x=\"18.63\" y=\"29.14\" text-anchor=\"end\" dy=\"0.35em\">75</text>\n",
       "    <text x=\"18.63\" y=\"12.61\" text-anchor=\"end\" dy=\"0.35em\">100</text>\n",
       "  </g>\n",
       "  <g font-size=\"3.88\" font-family=\"'PT Sans','Helvetica Neue','Helvetica',sans-serif\" fill=\"#564A55\" stroke=\"#000000\" stroke-opacity=\"0.000\" id=\"img-ab254349-13\">\n",
       "    <text x=\"8.81\" y=\"43.66\" text-anchor=\"middle\" dy=\"0.35em\" transform=\"rotate(-90, 8.81, 45.66)\"># of samples</text>\n",
       "  </g>\n",
       "  <g font-size=\"3.88\" font-family=\"'PT Sans','Helvetica Neue','Helvetica',sans-serif\" fill=\"#564A55\" stroke=\"#000000\" stroke-opacity=\"0.000\" id=\"img-ab254349-14\">\n",
       "    <text x=\"157.32\" y=\"5\" text-anchor=\"middle\" dy=\"0.6em\">Distribution of training data</text>\n",
       "  </g>\n",
       "</g>\n",
       "<defs>\n",
       "  <clipPath id=\"img-ab254349-4\">\n",
       "  <path d=\"M19.63,10.61 L 295 10.61 295 80.72 19.63 80.72\" />\n",
       "</clipPath>\n",
       "</defs>\n",
       "</svg>\n"
      ],
      "text/plain": [
       "Compose.SVG(300.0mm, 100.0mm, IOBuffer(data=UInt8[...], readable=true, writable=true, seekable=true, append=false, size=16094, maxsize=Inf, ptr=16095, mark=-1), nothing, \"img-ab254349\", 0, Compose.SVGPropertyFrame[], Dict{Type,Union{Compose.Property, Void}}(Pair{Type,Union{Compose.Property, Void}}(Compose.Property{Compose.FillPrimitive}, nothing)), Dict{Compose.ClipPrimitive,String}(Pair{Compose.ClipPrimitive,String}(Compose.ClipPrimitive{Tuple{Measures.Length{:mm,Float64},Measures.Length{:mm,Float64}}}(Tuple{Measures.Length{:mm,Float64},Measures.Length{:mm,Float64}}[(19.6317mm, 10.6117mm), (295.0mm, 10.6117mm), (295.0mm, 80.715mm), (19.6317mm, 80.715mm)]), \"img-ab254349-4\")), Tuple{Compose.FormPrimitive,String}[], Set{AbstractString}(), true, false, nothing, true, \"img-ab254349-14\", false, 14, AbstractString[\"/Applications/JuliaPro-0.6.2.2.app/Contents/Resources/pkgs-0.6.2.2/v0.6/Gadfly/src/gadfly.js\"], Tuple{AbstractString,AbstractString}[(\"Snap.svg\", \"Snap\"), (\"Gadfly\", \"Gadfly\")], AbstractString[\"fig.select(\\\"#img-ab254349-5\\\")\\n   .init_gadfly();\"], false, :none)"
      ]
     },
     "metadata": {},
     "output_type": "display_data"
    }
   ],
   "source": [
    "counts=by(trainLabels, :Class, nrow);\n",
    "p1=Gadfly.plot(x = counts[:Class], y=counts[:x1], color = counts[:Class], Theme(key_position = :none), Guide.xlabel(\"Characters\"), Guide.ylabel(\"# of samples\"), Geom.bar, Guide.title(\"Distribution of training data\"))\n",
    "draw(SVG(30cm, 10cm), p1)"
   ]
  },
  {
   "cell_type": "markdown",
   "metadata": {},
   "source": [
    "You can also scroll through the images!"
   ]
  },
  {
   "cell_type": "code",
   "execution_count": 5,
   "metadata": {},
   "outputs": [
    {
     "data": {
      "text/html": [],
      "text/plain": [
       "Interact.Options{:SelectionSlider,Any}(1: \"input\" = 500 Any , \"i\", 500, \"500\", 500, Interact.OptionDict(DataStructures.OrderedDict{Any,Any}(\"1\"=>1,\"2\"=>2,\"3\"=>3,\"4\"=>4,\"5\"=>5,\"6\"=>6,\"7\"=>7,\"8\"=>8,\"9\"=>9,\"10\"=>10…), Dict{Any,Any}(Pair{Any,Any}(306, \"306\"),Pair{Any,Any}(29, \"29\"),Pair{Any,Any}(74, \"74\"),Pair{Any,Any}(905, \"905\"),Pair{Any,Any}(176, \"176\"),Pair{Any,Any}(892, \"892\"),Pair{Any,Any}(285, \"285\"),Pair{Any,Any}(318, \"318\"),Pair{Any,Any}(873, \"873\"),Pair{Any,Any}(975, \"975\")…)), Any[], Any[], true, \"horizontal\")"
      ]
     },
     "metadata": {},
     "output_type": "display_data"
    },
    {
     "name": "stderr",
     "output_type": "stream",
     "text": [
      "\u001b[1m\u001b[36mINFO: \u001b[39m\u001b[22m\u001b[36mRecompiling stale cache file /Applications/JuliaPro-0.6.2.2.app/Contents/Resources/pkgs-0.6.2.2/lib/v0.6/QuartzImageIO.ji for module QuartzImageIO.\n",
      "\u001b[39m"
     ]
    },
    {
     "data": {
      "image/png": "[encoded data removed]",
      "text/plain": [
       "20×20 Array{RGB4{N0f8},2}:\n",
       " RGB4{N0f8}(0.122,0.118,0.192)  …  RGB4{N0f8}(0.141,0.129,0.2)  \n",
       " RGB4{N0f8}(0.141,0.129,0.196)     RGB4{N0f8}(0.133,0.125,0.204)\n",
       " RGB4{N0f8}(0.094,0.102,0.169)     RGB4{N0f8}(0.137,0.129,0.184)\n",
       " RGB4{N0f8}(0.114,0.118,0.216)     RGB4{N0f8}(0.153,0.137,0.208)\n",
       " RGB4{N0f8}(0.141,0.153,0.235)     RGB4{N0f8}(0.145,0.133,0.208)\n",
       " RGB4{N0f8}(0.11,0.106,0.196)   …  RGB4{N0f8}(0.137,0.129,0.22) \n",
       " RGB4{N0f8}(0.145,0.137,0.22)      RGB4{N0f8}(0.153,0.149,0.212)\n",
       " RGB4{N0f8}(0.106,0.114,0.204)     RGB4{N0f8}(0.173,0.173,0.271)\n",
       " RGB4{N0f8}(0.122,0.133,0.224)     RGB4{N0f8}(0.137,0.141,0.204)\n",
       " RGB4{N0f8}(0.078,0.098,0.18)      RGB4{N0f8}(0.118,0.145,0.22) \n",
       " RGB4{N0f8}(0.11,0.118,0.2)     …  RGB4{N0f8}(0.114,0.141,0.212)\n",
       " RGB4{N0f8}(0.075,0.094,0.2)       RGB4{N0f8}(0.114,0.145,0.212)\n",
       " RGB4{N0f8}(0.039,0.059,0.145)     RGB4{N0f8}(0.118,0.129,0.204)\n",
       " RGB4{N0f8}(0.086,0.098,0.161)     RGB4{N0f8}(0.114,0.125,0.22) \n",
       " RGB4{N0f8}(0.067,0.067,0.161)     RGB4{N0f8}(0.125,0.129,0.216)\n",
       " RGB4{N0f8}(0.086,0.075,0.176)  …  RGB4{N0f8}(0.102,0.106,0.208)\n",
       " RGB4{N0f8}(0.047,0.059,0.149)     RGB4{N0f8}(0.059,0.047,0.18) \n",
       " RGB4{N0f8}(0.11,0.098,0.161)      RGB4{N0f8}(0.09,0.122,0.196) \n",
       " RGB4{N0f8}(0.173,0.157,0.259)     RGB4{N0f8}(0.188,0.173,0.275)\n",
       " RGB4{N0f8}(0.153,0.141,0.247)     RGB4{N0f8}(0.165,0.153,0.263)"
      ]
     },
     "execution_count": 5,
     "metadata": {
      "comm_id": "df45d8ea-7ece-4e89-872e-f733f775b62d",
      "reactive": true
     },
     "output_type": "execute_result"
    }
   ],
   "source": [
    "@manipulate for i = 1:size(trainLabels,1)\n",
    "    load(\"$(path)/trainResized/$i.Bmp\")\n",
    "end"
   ]
  },
  {
   "cell_type": "code",
   "execution_count": 8,
   "metadata": {},
   "outputs": [
    {
     "data": {
      "text/plain": [
       "\"n\""
      ]
     },
     "execution_count": 8,
     "metadata": {},
     "output_type": "execute_result"
    }
   ],
   "source": [
    "trainLabels[500,2]"
   ]
  },
  {
   "cell_type": "markdown",
   "metadata": {},
   "source": [
    "But we haven't really read the training data yet. Only the labels. \n",
    "\n",
    "Now, load each image, convert into grayscale, and build a large training data matrix. Each row represents an image"
   ]
  },
  {
   "cell_type": "code",
   "execution_count": 10,
   "metadata": {},
   "outputs": [
    {
     "data": {
      "text/plain": [
       "1000×400 Array{Float64,2}:\n",
       " 0.243137   0.25098    0.254902   …  0.262745   0.262745   0.278431 \n",
       " 0.462745   0.458824   0.462745      0.45098    0.454902   0.454902 \n",
       " 0.317647   0.321569   0.286275      0.321569   0.301961   0.305882 \n",
       " 0.301961   0.317647   0.439216      0.443137   0.521569   0.54902  \n",
       " 0.0862745  0.0705882  0.0784314     0.0862745  0.0823529  0.0745098\n",
       " 0.419608   0.419608   0.419608   …  0.431373   0.423529   0.415686 \n",
       " 0.286275   0.290196   0.278431      0.298039   0.278431   0.282353 \n",
       " 0.243137   0.203922   0.235294      0.27451    0.286275   0.254902 \n",
       " 0.247059   0.239216   0.243137      0.227451   0.25098    0.235294 \n",
       " 0.784314   0.819608   0.847059      0.941176   0.941176   0.945098 \n",
       " 0.364706   0.364706   0.352941   …  0.458824   0.458824   0.45098  \n",
       " 0.266667   0.27451    0.282353      0.333333   0.254902   0.262745 \n",
       " 0.235294   0.670588   0.745098      0.196078   0.133333   0.117647 \n",
       " ⋮                                ⋱                                 \n",
       " 0.290196   0.301961   0.294118      0.352941   0.368627   0.419608 \n",
       " 0.388235   0.384314   0.407843      0.678431   0.376471   0.462745 \n",
       " 0.129412   0.129412   0.129412   …  0.133333   0.12549    0.117647 \n",
       " 0.623529   0.611765   0.607843      0.364706   0.427451   0.517647 \n",
       " 0.835294   0.737255   0.792157      0.670588   0.694118   0.643137 \n",
       " 0.52549    0.517647   0.482353      0.494118   0.368627   0.352941 \n",
       " 0.85098    0.847059   0.847059      0.839216   0.843137   0.85098  \n",
       " 0.517647   0.576471   0.6        …  0.380392   0.266667   0.156863 \n",
       " 0.572549   0.552941   0.537255      0.572549   0.572549   0.568627 \n",
       " 0.294118   0.443137   0.431373      0.235294   0.231373   0.239216 \n",
       " 0.65098    0.666667   0.513725      0.631373   0.654902   0.643137 \n",
       " 0.862745   0.917647   0.776471      0.921569   0.878431   0.862745 "
      ]
     },
     "execution_count": 10,
     "metadata": {},
     "output_type": "execute_result"
    }
   ],
   "source": [
    "function read_data_sv(typeData::AbstractString, trainLabels::DataFrame, imageSize)\n",
    "    x = zeros(size(trainLabels, 1), imageSize)\n",
    "    for (index, idImage) in enumerate(trainLabels[:ID])\n",
    "    nameFile = \"$(path)/$(typeData)Resized/$(idImage).Bmp\"\n",
    "        img = load(nameFile)\n",
    "        img = Gray.(img)\n",
    "        x[index, :] = reshape(img, 1, imageSize)\n",
    "    end\n",
    "    x\n",
    "end\n",
    "train_data = read_data_sv(\"train\", trainLabels, imageSize)"
   ]
  },
  {
   "cell_type": "markdown",
   "metadata": {},
   "source": [
    "## Tempering the Data\n",
    "\n",
    "All the labels are strings. Let's convert them into character labels and then convert to integer labels. "
   ]
  },
  {
   "cell_type": "code",
   "execution_count": 12,
   "metadata": {},
   "outputs": [
    {
     "data": {
      "text/plain": [
       "2-element Array{Symbol,1}:\n",
       " :ID   \n",
       " :Class"
      ]
     },
     "execution_count": 12,
     "metadata": {},
     "output_type": "execute_result"
    }
   ],
   "source": [
    "names(trainLabels)"
   ]
  },
  {
   "cell_type": "code",
   "execution_count": 11,
   "metadata": {},
   "outputs": [
    {
     "data": {
      "text/plain": [
       "1000-element Array{Int64,1}:\n",
       " 110\n",
       "  56\n",
       "  84\n",
       "  73\n",
       "  82\n",
       "  87\n",
       "  76\n",
       " 108\n",
       "  75\n",
       "  71\n",
       "  65\n",
       "  65\n",
       "  67\n",
       "   ⋮\n",
       "  84\n",
       "  52\n",
       "  48\n",
       "  79\n",
       "  79\n",
       " 101\n",
       "  71\n",
       "  74\n",
       " 101\n",
       "  78\n",
       " 101\n",
       "  69"
      ]
     },
     "execution_count": 11,
     "metadata": {},
     "output_type": "execute_result"
    }
   ],
   "source": [
    "chars = map(x -> x[1], trainLabels[:Class])\n",
    "trainLabelsInt = map(Int, chars) \n",
    "trainLabelsInt = Array(trainLabelsInt)"
   ]
  },
  {
   "cell_type": "markdown",
   "metadata": {},
   "source": [
    "Transpose the images, so that the columns represent each image. Note that every entry in the our training labels corresponds to a column in this matrix. For example, the first label is an 'n', and so is the first image. Scroll back up and check that the training labels match the images. "
   ]
  },
  {
   "cell_type": "code",
   "execution_count": 13,
   "metadata": {},
   "outputs": [
    {
     "data": {
      "text/plain": [
       "400×1000 Array{Float64,2}:\n",
       " 0.243137  0.462745  0.317647  0.301961  …  0.294118  0.65098   0.862745\n",
       " 0.25098   0.458824  0.321569  0.317647     0.443137  0.666667  0.917647\n",
       " 0.254902  0.462745  0.286275  0.439216     0.431373  0.513725  0.776471\n",
       " 0.25098   0.466667  0.27451   0.560784     0.415686  0.478431  0.894118\n",
       " 0.219608  0.466667  0.298039  0.615686     0.419608  0.643137  0.909804\n",
       " 0.623529  0.462745  0.309804  0.6       …  0.478431  0.67451   0.894118\n",
       " 0.266667  0.572549  0.298039  0.572549     0.501961  0.654902  0.894118\n",
       " 0.258824  0.831373  0.32549   0.556863     0.470588  0.643137  0.87451 \n",
       " 0.254902  0.8       0.384314  0.556863     0.435294  0.662745  0.894118\n",
       " 0.247059  0.811765  0.576471  0.556863     0.419608  0.654902  0.882353\n",
       " 0.247059  0.823529  0.690196  0.560784  …  0.392157  0.67451   0.858824\n",
       " 0.239216  0.741176  0.729412  0.556863     0.419608  0.670588  0.862745\n",
       " 0.258824  0.811765  0.709804  0.560784     0.427451  0.666667  0.886275\n",
       " ⋮                                       ⋱                              \n",
       " 0.25098   0.458824  0.301961  0.419608     0.470588  0.235294  0.968627\n",
       " 0.254902  0.470588  0.301961  0.223529     0.34902   0.25098   0.956863\n",
       " 0.262745  0.470588  0.309804  0.176471  …  0.298039  0.207843  0.956863\n",
       " 0.254902  0.462745  0.298039  0.192157     0.243137  0.266667  0.92549 \n",
       " 0.262745  0.466667  0.313725  0.231373     0.254902  0.654902  0.905882\n",
       " 0.25098   0.458824  0.309804  0.219608     0.286275  0.639216  0.886275\n",
       " 0.305882  0.45098   0.294118  0.219608     0.301961  0.607843  0.901961\n",
       " 0.254902  0.454902  0.294118  0.243137  …  0.235294  0.270588  0.933333\n",
       " 0.282353  0.454902  0.313725  0.341176     0.219608  0.470588  0.933333\n",
       " 0.262745  0.45098   0.321569  0.443137     0.235294  0.631373  0.921569\n",
       " 0.262745  0.454902  0.301961  0.521569     0.231373  0.654902  0.878431\n",
       " 0.278431  0.454902  0.305882  0.54902      0.239216  0.643137  0.862745"
      ]
     },
     "execution_count": 13,
     "metadata": {},
     "output_type": "execute_result"
    }
   ],
   "source": [
    "train_data = train_data'"
   ]
  },
  {
   "cell_type": "markdown",
   "metadata": {},
   "source": [
    "## The Algorithm\n",
    "\n",
    "The algorithm we're using here is a very simple, rudimentary K nearest neighbors (KNN). The idea is to take a particular image, and see which \"k\" images it is closest to. \n",
    "\n",
    "** Objective ** : To find the right value of \"k\" such that our model matches the training set.\n",
    "\n",
    "Some questions: \n",
    "* What does \"closest\" mean? How do you measure distance between two images?\n",
    "* How exactly do you find the right value of \"k\"?\n",
    "* What exactly is our \"model\"?\n",
    "\n",
    "The following function takes a particular image and finds the distance between the image under consideration and all the others. Note that each image is now a vector of 400 instead of the original 20x20, making it simpler to calculate distances."
   ]
  },
  {
   "cell_type": "code",
   "execution_count": 17,
   "metadata": {},
   "outputs": [
    {
     "data": {
      "text/plain": [
       "get_all_distances (generic function with 1 method)"
      ]
     },
     "execution_count": 17,
     "metadata": {},
     "output_type": "execute_result"
    }
   ],
   "source": [
    "function get_all_distances(imageI::AbstractArray, x::AbstractArray)\n",
    "    diff = imageI .- x\n",
    "    distances = vec(sum(diff .* diff,1))\n",
    "end"
   ]
  },
  {
   "cell_type": "markdown",
   "metadata": {},
   "source": [
    "Find the \"k\" closest neighbors. Once you get all the distances, consider the first \"k\" distances as your closest distances. (Why do you thinking we're taking `2:k+1` instead of `1:k` ?)"
   ]
  },
  {
   "cell_type": "code",
   "execution_count": 18,
   "metadata": {},
   "outputs": [
    {
     "data": {
      "text/plain": [
       "get_k_nearest_neighbors (generic function with 3 methods)"
      ]
     },
     "execution_count": 18,
     "metadata": {},
     "output_type": "execute_result"
    }
   ],
   "source": [
    "function get_k_nearest_neighbors(x::AbstractArray, imageI::AbstractArray, k::Int = 3, train = true)\n",
    "    nRows, nCols = size(x)\n",
    "    distances = get_all_distances(imageI, x)\n",
    "    sortedNeighbors = sortperm(distances)\n",
    "    if train\n",
    "        return kNearestNeighbors = Array(sortedNeighbors[2:k+1])\n",
    "    else\n",
    "        return kNearestNeighbors = Array(sortedNeighbors[1:k])  \n",
    "    end\n",
    "end\n"
   ]
  },
  {
   "cell_type": "markdown",
   "metadata": {},
   "source": [
    "Finally, assign the most \"popular\" character amongst the \"k\" least distances to the image under question. "
   ]
  },
  {
   "cell_type": "code",
   "execution_count": 20,
   "metadata": {},
   "outputs": [
    {
     "data": {
      "text/plain": [
       "assign_label (generic function with 1 method)"
      ]
     },
     "execution_count": 20,
     "metadata": {},
     "output_type": "execute_result"
    }
   ],
   "source": [
    "function assign_label(x::AbstractArray, y::AbstractArray{Int64}, imageI::AbstractArray, k, train::Bool)\n",
    "    kNearestNeighbors = get_k_nearest_neighbors(x, imageI, k, train)\n",
    "    counts = Dict{Int, Int}()\n",
    "    highestCount = 0\n",
    "    mostPopularLabel = 0\n",
    "    for n in kNearestNeighbors\n",
    "        labelOfN = y[n]\n",
    "        if !haskey(counts, labelOfN)\n",
    "            counts[labelOfN] = 0\n",
    "        end\n",
    "        counts[labelOfN] += 1\n",
    "        if counts[labelOfN] > highestCount\n",
    "            highestCount = counts[labelOfN]\n",
    "            mostPopularLabel = labelOfN\n",
    "        end\n",
    "     end\n",
    "    mostPopularLabel\n",
    "end"
   ]
  },
  {
   "cell_type": "markdown",
   "metadata": {},
   "source": [
    "Let's run this now. What's the training accuracy? \n",
    "\n",
    "Make this better:\n",
    "* More training samples\n",
    "* A better model! \n"
   ]
  },
  {
   "cell_type": "code",
   "execution_count": 21,
   "metadata": {},
   "outputs": [
    {
     "name": "stdout",
     "output_type": "stream",
     "text": [
      "  3.482764 seconds (239.54 k allocations: 5.990 GiB, 23.18% gc time)\n"
     ]
    },
    {
     "data": {
      "text/plain": [
       "0.26"
      ]
     },
     "execution_count": 21,
     "metadata": {},
     "output_type": "execute_result"
    }
   ],
   "source": [
    "k = 3\n",
    "checks = falses(size(train_data, 2))\n",
    "@time for i = 1:size(train_data, 2)\n",
    "    imageI = train_data[:,i]\n",
    "    checks[i]  = (assign_label(train_data, trainLabelsInt, imageI, k, true) == trainLabelsInt[i])\n",
    "end\n",
    "accuracy = length(find(checks)) / length(checks)"
   ]
  },
  {
   "cell_type": "code",
   "execution_count": 31,
   "metadata": {},
   "outputs": [
    {
     "data": {
      "text/plain": [
       "(400, 1000)"
      ]
     },
     "execution_count": 31,
     "metadata": {},
     "output_type": "execute_result"
    }
   ],
   "source": [
    "size(train_data)"
   ]
  },
  {
   "cell_type": "markdown",
   "metadata": {},
   "source": [
    "## Test cases\n",
    "\n",
    "Let's read the test labels now. "
   ]
  },
  {
   "cell_type": "code",
   "execution_count": 22,
   "metadata": {},
   "outputs": [
    {
     "data": {
      "text/html": [
       "<table class=\"data-frame\"><thead><tr><th></th><th>ID</th><th>Class</th></tr></thead><tbody><tr><th>1</th><td>6284</td><td>A</td></tr><tr><th>2</th><td>6285</td><td>A</td></tr><tr><th>3</th><td>6286</td><td>A</td></tr><tr><th>4</th><td>6287</td><td>A</td></tr><tr><th>5</th><td>6288</td><td>A</td></tr><tr><th>6</th><td>6289</td><td>A</td></tr><tr><th>7</th><td>6290</td><td>A</td></tr><tr><th>8</th><td>6291</td><td>A</td></tr><tr><th>9</th><td>6292</td><td>A</td></tr><tr><th>10</th><td>6293</td><td>A</td></tr><tr><th>11</th><td>6294</td><td>A</td></tr><tr><th>12</th><td>6295</td><td>A</td></tr><tr><th>13</th><td>6296</td><td>A</td></tr><tr><th>14</th><td>6297</td><td>A</td></tr><tr><th>15</th><td>6298</td><td>A</td></tr><tr><th>16</th><td>6299</td><td>A</td></tr><tr><th>17</th><td>6300</td><td>A</td></tr><tr><th>18</th><td>6301</td><td>A</td></tr><tr><th>19</th><td>6302</td><td>A</td></tr><tr><th>20</th><td>6303</td><td>A</td></tr><tr><th>21</th><td>6304</td><td>A</td></tr><tr><th>22</th><td>6305</td><td>A</td></tr><tr><th>23</th><td>6306</td><td>A</td></tr><tr><th>24</th><td>6307</td><td>A</td></tr><tr><th>25</th><td>6308</td><td>A</td></tr><tr><th>26</th><td>6309</td><td>A</td></tr><tr><th>27</th><td>6310</td><td>A</td></tr><tr><th>28</th><td>6311</td><td>A</td></tr><tr><th>29</th><td>6312</td><td>A</td></tr><tr><th>30</th><td>6313</td><td>A</td></tr><tr><th>&vellip;</th><td>&vellip;</td><td>&vellip;</td></tr></tbody></table>"
      ],
      "text/plain": [
       "1000×2 DataFrames.DataFrame\n",
       "│ Row  │ ID   │ Class │\n",
       "├──────┼──────┼───────┤\n",
       "│ 1    │ 6284 │ \"A\"   │\n",
       "│ 2    │ 6285 │ \"A\"   │\n",
       "│ 3    │ 6286 │ \"A\"   │\n",
       "│ 4    │ 6287 │ \"A\"   │\n",
       "│ 5    │ 6288 │ \"A\"   │\n",
       "│ 6    │ 6289 │ \"A\"   │\n",
       "│ 7    │ 6290 │ \"A\"   │\n",
       "│ 8    │ 6291 │ \"A\"   │\n",
       "│ 9    │ 6292 │ \"A\"   │\n",
       "│ 10   │ 6293 │ \"A\"   │\n",
       "│ 11   │ 6294 │ \"A\"   │\n",
       "⋮\n",
       "│ 989  │ 7272 │ \"A\"   │\n",
       "│ 990  │ 7273 │ \"A\"   │\n",
       "│ 991  │ 7274 │ \"A\"   │\n",
       "│ 992  │ 7275 │ \"A\"   │\n",
       "│ 993  │ 7276 │ \"A\"   │\n",
       "│ 994  │ 7277 │ \"A\"   │\n",
       "│ 995  │ 7278 │ \"A\"   │\n",
       "│ 996  │ 7279 │ \"A\"   │\n",
       "│ 997  │ 7280 │ \"A\"   │\n",
       "│ 998  │ 7281 │ \"A\"   │\n",
       "│ 999  │ 7282 │ \"A\"   │\n",
       "│ 1000 │ 7283 │ \"A\"   │"
      ]
     },
     "execution_count": 22,
     "metadata": {},
     "output_type": "execute_result"
    }
   ],
   "source": [
    "testLabels = readtable(\"$(path)/testLabels.csv\")\n",
    "testLabels = testLabels[1:1000,:]"
   ]
  },
  {
   "cell_type": "markdown",
   "metadata": {},
   "source": [
    "Read the test data. We're going to take every test image and then find which training image it is closest to, and then assign it to that particular class. "
   ]
  },
  {
   "cell_type": "code",
   "execution_count": 23,
   "metadata": {},
   "outputs": [
    {
     "data": {
      "text/plain": [
       "1000×400 Array{Float64,2}:\n",
       " 0.45098    0.439216   0.443137   …  0.898039   0.627451  0.470588 \n",
       " 0.282353   0.27451    0.278431      0.380392   0.317647  0.294118 \n",
       " 0.113725   0.117647   0.0980392     0.188235   0.109804  0.101961 \n",
       " 0.592157   0.592157   0.584314      0.596078   0.584314  0.592157 \n",
       " 0.501961   0.490196   0.509804      0.152941   0.439216  0.541176 \n",
       " 0.552941   0.552941   0.54902    …  0.337255   0.305882  0.501961 \n",
       " 0.141176   0.145098   0.137255      0.137255   0.152941  0.156863 \n",
       " 0.862745   0.862745   0.870588      0.890196   0.898039  0.882353 \n",
       " 0.705882   0.709804   0.709804      0.756863   0.733333  0.701961 \n",
       " 0.866667   0.858824   0.858824      0.176471   0.305882  0.905882 \n",
       " 0.231373   0.317647   0.4        …  0.235294   0.243137  0.239216 \n",
       " 0.737255   0.780392   0.780392      0.780392   0.780392  0.780392 \n",
       " 0.47451    0.47451    0.482353      0.478431   0.466667  0.478431 \n",
       " ⋮                                ⋱                                \n",
       " 0.72549    0.72549    0.72549       0.211765   0.266667  0.443137 \n",
       " 0.0705882  0.0627451  0.0627451     0.0941176  0.113725  0.0862745\n",
       " 0.580392   0.588235   0.588235   …  0.564706   0.584314  0.592157 \n",
       " 0.607843   0.623529   0.619608      0.647059   0.647059  0.627451 \n",
       " 0.713725   0.713725   0.709804      0.729412   0.713725  0.721569 \n",
       " 0.231373   0.235294   0.333333      0.219608   0.227451  0.235294 \n",
       " 0.584314   0.580392   0.576471      0.623529   0.627451  0.596078 \n",
       " 0.521569   0.533333   0.537255   …  0.145098   0.2       0.411765 \n",
       " 0.505882   0.501961   0.513725      0.392157   0.454902  0.47451  \n",
       " 0.305882   0.32549    0.317647      0.313725   0.309804  0.364706 \n",
       " 0.564706   0.556863   0.572549      0.580392   0.564706  0.556863 \n",
       " 0.490196   0.227451   0.396078      0.239216   0.247059  0.564706 "
      ]
     },
     "execution_count": 23,
     "metadata": {},
     "output_type": "execute_result"
    }
   ],
   "source": [
    "test_data = read_data_sv(\"test\", testLabels, imageSize)"
   ]
  },
  {
   "cell_type": "code",
   "execution_count": 24,
   "metadata": {},
   "outputs": [
    {
     "data": {
      "text/plain": [
       "400×1000 Array{Float64,2}:\n",
       " 0.45098   0.282353  0.113725   0.592157  …  0.305882  0.564706   0.490196\n",
       " 0.439216  0.27451   0.117647   0.592157     0.32549   0.556863   0.227451\n",
       " 0.443137  0.278431  0.0980392  0.584314     0.317647  0.572549   0.396078\n",
       " 0.439216  0.290196  0.0901961  0.6          0.337255  0.6        0.552941\n",
       " 0.447059  0.329412  0.105882   0.572549     0.301961  0.372549   0.517647\n",
       " 0.45098   0.356863  0.101961   0.576471  …  0.309804  0.160784   0.509804\n",
       " 0.447059  0.380392  0.0901961  0.611765     0.317647  0.117647   0.509804\n",
       " 0.443137  0.372549  0.0980392  0.596078     0.34902   0.113725   0.52549 \n",
       " 0.439216  0.286275  0.0901961  0.596078     0.372549  0.133333   0.537255\n",
       " 0.439216  0.266667  0.117647   0.596078     0.223529  0.0941176  0.54902 \n",
       " 0.45098   0.27451   0.117647   0.603922  …  0.45098   0.0627451  0.556863\n",
       " 0.439216  0.278431  0.0862745  0.6          0.54902   0.121569   0.54902 \n",
       " 0.45098   0.278431  0.0901961  0.592157     0.529412  0.180392   0.545098\n",
       " ⋮                                        ⋱                               \n",
       " 0.447059  0.356863  0.141176   0.596078     0.380392  0.113725   0.568627\n",
       " 0.537255  0.290196  0.152941   0.603922     0.341176  0.101961   0.580392\n",
       " 0.580392  0.286275  0.160784   0.615686  …  0.317647  0.364706   0.560784\n",
       " 0.568627  0.286275  0.156863   0.6          0.360784  0.576471   0.568627\n",
       " 0.552941  0.278431  0.168627   0.580392     0.403922  0.584314   0.572549\n",
       " 0.466667  0.278431  0.184314   0.592157     0.329412  0.572549   0.572549\n",
       " 0.454902  0.368627  0.164706   0.615686     0.329412  0.592157   0.584314\n",
       " 0.466667  0.435294  0.168627   0.6       …  0.4       0.254902   0.576471\n",
       " 0.792157  0.411765  0.196078   0.611765     0.317647  0.14902    0.247059\n",
       " 0.898039  0.380392  0.188235   0.596078     0.313725  0.580392   0.239216\n",
       " 0.627451  0.317647  0.109804   0.584314     0.309804  0.564706   0.247059\n",
       " 0.470588  0.294118  0.101961   0.592157     0.364706  0.556863   0.564706"
      ]
     },
     "execution_count": 24,
     "metadata": {},
     "output_type": "execute_result"
    }
   ],
   "source": [
    "test_data = test_data'"
   ]
  },
  {
   "cell_type": "markdown",
   "metadata": {},
   "source": [
    "Let's now run our test data and get our predictions. "
   ]
  },
  {
   "cell_type": "code",
   "execution_count": 26,
   "metadata": {},
   "outputs": [
    {
     "name": "stdout",
     "output_type": "stream",
     "text": [
      "  3.040153 seconds (19.98 k allocations: 5.980 GiB, 26.71% gc time)\n"
     ]
    }
   ],
   "source": [
    "x = test_data\n",
    "xT = train_data\n",
    "yT = trainLabelsInt\n",
    "k = 3\n",
    "prediction = zeros(Int,size(x,2))\n",
    "@time for i = 1:size(x,2)\n",
    "    imageI = x[:,i]\n",
    "    prediction[i]  = assign_label(xT, yT, imageI, k, false)\n",
    "end"
   ]
  },
  {
   "cell_type": "code",
   "execution_count": 27,
   "metadata": {},
   "outputs": [
    {
     "data": {
      "text/plain": [
       "1000-element Array{Char,1}:\n",
       " 'P'\n",
       " 'A'\n",
       " 'r'\n",
       " 'I'\n",
       " 'E'\n",
       " 'I'\n",
       " 'g'\n",
       " 'I'\n",
       " '6'\n",
       " 'R'\n",
       " 'N'\n",
       " 'R'\n",
       " 'N'\n",
       " ⋮  \n",
       " 'R'\n",
       " 'R'\n",
       " 'R'\n",
       " 'N'\n",
       " 'i'\n",
       " 'E'\n",
       " 'R'\n",
       " 'l'\n",
       " 't'\n",
       " 'm'\n",
       " 'A'\n",
       " 'T'"
      ]
     },
     "execution_count": 27,
     "metadata": {},
     "output_type": "execute_result"
    }
   ],
   "source": [
    "prediction = map(Char, prediction)"
   ]
  },
  {
   "cell_type": "code",
   "execution_count": 28,
   "metadata": {},
   "outputs": [
    {
     "data": {
      "text/html": [],
      "text/plain": [
       "Interact.Options{:SelectionSlider,Any}(5: \"input-2\" = 500 Any , \"i\", 500, \"500\", 500, Interact.OptionDict(DataStructures.OrderedDict{Any,Any}(\"1\"=>1,\"2\"=>2,\"3\"=>3,\"4\"=>4,\"5\"=>5,\"6\"=>6,\"7\"=>7,\"8\"=>8,\"9\"=>9,\"10\"=>10…), Dict{Any,Any}(Pair{Any,Any}(306, \"306\"),Pair{Any,Any}(29, \"29\"),Pair{Any,Any}(74, \"74\"),Pair{Any,Any}(905, \"905\"),Pair{Any,Any}(176, \"176\"),Pair{Any,Any}(892, \"892\"),Pair{Any,Any}(285, \"285\"),Pair{Any,Any}(318, \"318\"),Pair{Any,Any}(873, \"873\"),Pair{Any,Any}(975, \"975\")…)), Any[], Any[], true, \"horizontal\")"
      ]
     },
     "metadata": {},
     "output_type": "display_data"
    },
    {
     "data": {
      "image/png": "[encoded data removed]",
      "text/plain": [
       "20×20 Array{RGB4{N0f8},2}:\n",
       " RGB4{N0f8}(0.255,0.255,0.204)  …  RGB4{N0f8}(0.247,0.247,0.235)\n",
       " RGB4{N0f8}(0.259,0.243,0.239)     RGB4{N0f8}(0.255,0.255,0.231)\n",
       " RGB4{N0f8}(0.235,0.196,0.192)     RGB4{N0f8}(0.22,0.204,0.173) \n",
       " RGB4{N0f8}(0.333,0.31,0.212)      RGB4{N0f8}(0.31,0.294,0.255) \n",
       " RGB4{N0f8}(0.373,0.337,0.204)     RGB4{N0f8}(0.353,0.318,0.306)\n",
       " RGB4{N0f8}(0.267,0.251,0.239)  …  RGB4{N0f8}(0.314,0.306,0.286)\n",
       " RGB4{N0f8}(0.176,0.18,0.176)      RGB4{N0f8}(0.302,0.286,0.243)\n",
       " RGB4{N0f8}(0.275,0.235,0.2)       RGB4{N0f8}(0.333,0.275,0.247)\n",
       " RGB4{N0f8}(0.255,0.235,0.208)     RGB4{N0f8}(0.278,0.243,0.22) \n",
       " RGB4{N0f8}(0.251,0.224,0.192)     RGB4{N0f8}(0.29,0.271,0.259) \n",
       " RGB4{N0f8}(0.267,0.231,0.196)  …  RGB4{N0f8}(0.302,0.263,0.224)\n",
       " RGB4{N0f8}(0.306,0.282,0.251)     RGB4{N0f8}(0.906,0.851,0.4)  \n",
       " RGB4{N0f8}(0.306,0.294,0.259)     RGB4{N0f8}(1.0,0.957,0.298)  \n",
       " RGB4{N0f8}(0.31,0.302,0.263)      RGB4{N0f8}(0.671,0.608,0.012)\n",
       " RGB4{N0f8}(0.31,0.294,0.298)      RGB4{N0f8}(0.722,0.647,0.157)\n",
       " RGB4{N0f8}(0.333,0.345,0.349)  …  RGB4{N0f8}(0.286,0.188,0.024)\n",
       " RGB4{N0f8}(0.278,0.267,0.224)     RGB4{N0f8}(0.302,0.267,0.239)\n",
       " RGB4{N0f8}(0.259,0.231,0.192)     RGB4{N0f8}(0.298,0.243,0.2)  \n",
       " RGB4{N0f8}(0.267,0.243,0.231)     RGB4{N0f8}(0.271,0.235,0.212)\n",
       " RGB4{N0f8}(0.286,0.247,0.231)     RGB4{N0f8}(0.306,0.271,0.235)"
      ]
     },
     "execution_count": 28,
     "metadata": {
      "comm_id": "caec6193-9d9e-471f-aa5b-a59f212e00f1",
      "reactive": true
     },
     "output_type": "execute_result"
    }
   ],
   "source": [
    "@manipulate for i = 1:1000\n",
    "    load(\"$path/testResized/$(6283+i).Bmp\")\n",
    "end"
   ]
  },
  {
   "cell_type": "code",
   "execution_count": 46,
   "metadata": {},
   "outputs": [
    {
     "data": {
      "text/plain": [
       "'S': ASCII/Unicode U+0053 (category Lu: Letter, uppercase)"
      ]
     },
     "execution_count": 46,
     "metadata": {},
     "output_type": "execute_result"
    }
   ],
   "source": [
    "i = 539\n",
    "prediction[i]"
   ]
  },
  {
   "cell_type": "code",
   "execution_count": 40,
   "metadata": {
    "collapsed": true
   },
   "outputs": [],
   "source": [
    "# 539, 537, 638, 745, 616\n",
    "\n",
    "# 722, "
   ]
  },
  {
   "cell_type": "code",
   "execution_count": null,
   "metadata": {
    "collapsed": true
   },
   "outputs": [],
   "source": []
  }
 ],
 "metadata": {
  "kernelspec": {
   "display_name": "Julia 0.6.2",
   "language": "julia",
   "name": "julia-0.6"
  },
  "language_info": {
   "file_extension": ".jl",
   "mimetype": "application/julia",
   "name": "julia",
   "version": "0.6.2"
  }
 },
 "nbformat": 4,
 "nbformat_minor": 2
}
