{
 "cells": [
  {
   "cell_type": "markdown",
   "metadata": {},
   "source": [
    "# Computer Representations of Data\n",
    "\n",
    "The core to data science and machine learning is data. But how do computers represent data? Before we start getting into mathematics, let's find out exactly what an \"artificial intellegence\" has at their disposal to learn from.\n",
    "\n",
    "## Data is Represented as Arrays\n",
    "\n",
    "Let's take a look at some fruit. Using the Images.jl library we can load in some images."
   ]
  },
  {
   "cell_type": "code",
   "execution_count": 1,
   "metadata": {},
   "outputs": [
    {
     "data": {
      "image/png": "[encoded data removed]",
      "text/plain": [
       "100×100 Array{RGB{N0f8},2}:\n",
       " RGB{N0f8}(0.996,1.0,0.984)    …  RGB{N0f8}(1.0,1.0,1.0)\n",
       " RGB{N0f8}(0.984,1.0,0.988)       RGB{N0f8}(1.0,1.0,1.0)\n",
       " RGB{N0f8}(0.98,1.0,0.996)        RGB{N0f8}(1.0,1.0,1.0)\n",
       " RGB{N0f8}(0.969,1.0,0.992)       RGB{N0f8}(1.0,1.0,1.0)\n",
       " RGB{N0f8}(0.969,1.0,1.0)         RGB{N0f8}(1.0,1.0,1.0)\n",
       " RGB{N0f8}(0.98,1.0,1.0)       …  RGB{N0f8}(1.0,1.0,1.0)\n",
       " RGB{N0f8}(0.992,0.996,1.0)       RGB{N0f8}(1.0,1.0,1.0)\n",
       " RGB{N0f8}(1.0,0.992,1.0)         RGB{N0f8}(1.0,1.0,1.0)\n",
       " RGB{N0f8}(1.0,0.984,1.0)         RGB{N0f8}(1.0,1.0,1.0)\n",
       " RGB{N0f8}(1.0,0.984,1.0)         RGB{N0f8}(1.0,1.0,1.0)\n",
       " RGB{N0f8}(1.0,0.992,1.0)      …  RGB{N0f8}(1.0,1.0,1.0)\n",
       " RGB{N0f8}(1.0,0.996,1.0)         RGB{N0f8}(1.0,1.0,1.0)\n",
       " RGB{N0f8}(1.0,1.0,1.0)           RGB{N0f8}(1.0,1.0,1.0)\n",
       " ⋮                             ⋱                        \n",
       " RGB{N0f8}(0.992,1.0,0.988)       RGB{N0f8}(1.0,1.0,1.0)\n",
       " RGB{N0f8}(0.992,1.0,0.988)       RGB{N0f8}(1.0,1.0,1.0)\n",
       " RGB{N0f8}(0.992,1.0,0.996)    …  RGB{N0f8}(1.0,1.0,1.0)\n",
       " RGB{N0f8}(0.996,1.0,1.0)         RGB{N0f8}(1.0,1.0,1.0)\n",
       " RGB{N0f8}(0.996,0.996,0.996)     RGB{N0f8}(1.0,1.0,1.0)\n",
       " RGB{N0f8}(1.0,0.992,0.996)       RGB{N0f8}(1.0,1.0,1.0)\n",
       " RGB{N0f8}(1.0,0.992,0.996)       RGB{N0f8}(1.0,1.0,1.0)\n",
       " RGB{N0f8}(1.0,0.992,0.996)    …  RGB{N0f8}(1.0,1.0,1.0)\n",
       " RGB{N0f8}(1.0,0.996,1.0)         RGB{N0f8}(1.0,1.0,1.0)\n",
       " RGB{N0f8}(1.0,1.0,1.0)           RGB{N0f8}(1.0,1.0,1.0)\n",
       " RGB{N0f8}(1.0,1.0,1.0)           RGB{N0f8}(1.0,1.0,1.0)\n",
       " RGB{N0f8}(1.0,1.0,1.0)           RGB{N0f8}(1.0,1.0,1.0)"
      ]
     },
     "execution_count": 1,
     "metadata": {},
     "output_type": "execute_result"
    }
   ],
   "source": [
    "using Images\n",
    "apple = load(\"10_100.jpg\")"
   ]
  },
  {
   "cell_type": "code",
   "execution_count": 2,
   "metadata": {},
   "outputs": [
    {
     "data": {
      "image/png": "[encoded data removed]",
      "text/plain": [
       "100×100 Array{RGB{N0f8},2}:\n",
       " RGB{N0f8}(1.0,1.0,1.0)  RGB{N0f8}(1.0,1.0,1.0)  …  RGB{N0f8}(1.0,1.0,1.0)\n",
       " RGB{N0f8}(1.0,1.0,1.0)  RGB{N0f8}(1.0,1.0,1.0)     RGB{N0f8}(1.0,1.0,1.0)\n",
       " RGB{N0f8}(1.0,1.0,1.0)  RGB{N0f8}(1.0,1.0,1.0)     RGB{N0f8}(1.0,1.0,1.0)\n",
       " RGB{N0f8}(1.0,1.0,1.0)  RGB{N0f8}(1.0,1.0,1.0)     RGB{N0f8}(1.0,1.0,1.0)\n",
       " RGB{N0f8}(1.0,1.0,1.0)  RGB{N0f8}(1.0,1.0,1.0)     RGB{N0f8}(1.0,1.0,1.0)\n",
       " RGB{N0f8}(1.0,1.0,1.0)  RGB{N0f8}(1.0,1.0,1.0)  …  RGB{N0f8}(1.0,1.0,1.0)\n",
       " RGB{N0f8}(1.0,1.0,1.0)  RGB{N0f8}(1.0,1.0,1.0)     RGB{N0f8}(1.0,1.0,1.0)\n",
       " RGB{N0f8}(1.0,1.0,1.0)  RGB{N0f8}(1.0,1.0,1.0)     RGB{N0f8}(1.0,1.0,1.0)\n",
       " RGB{N0f8}(1.0,1.0,1.0)  RGB{N0f8}(1.0,1.0,1.0)     RGB{N0f8}(1.0,1.0,1.0)\n",
       " RGB{N0f8}(1.0,1.0,1.0)  RGB{N0f8}(1.0,1.0,1.0)     RGB{N0f8}(1.0,1.0,1.0)\n",
       " RGB{N0f8}(1.0,1.0,1.0)  RGB{N0f8}(1.0,1.0,1.0)  …  RGB{N0f8}(1.0,1.0,1.0)\n",
       " RGB{N0f8}(1.0,1.0,1.0)  RGB{N0f8}(1.0,1.0,1.0)     RGB{N0f8}(1.0,1.0,1.0)\n",
       " RGB{N0f8}(1.0,1.0,1.0)  RGB{N0f8}(1.0,1.0,1.0)     RGB{N0f8}(1.0,1.0,1.0)\n",
       " ⋮                                               ⋱                        \n",
       " RGB{N0f8}(1.0,1.0,1.0)  RGB{N0f8}(1.0,1.0,1.0)     RGB{N0f8}(1.0,1.0,1.0)\n",
       " RGB{N0f8}(1.0,1.0,1.0)  RGB{N0f8}(1.0,1.0,1.0)     RGB{N0f8}(1.0,1.0,1.0)\n",
       " RGB{N0f8}(1.0,1.0,1.0)  RGB{N0f8}(1.0,1.0,1.0)  …  RGB{N0f8}(1.0,1.0,1.0)\n",
       " RGB{N0f8}(1.0,1.0,1.0)  RGB{N0f8}(1.0,1.0,1.0)     RGB{N0f8}(1.0,1.0,1.0)\n",
       " RGB{N0f8}(1.0,1.0,1.0)  RGB{N0f8}(1.0,1.0,1.0)     RGB{N0f8}(1.0,1.0,1.0)\n",
       " RGB{N0f8}(1.0,1.0,1.0)  RGB{N0f8}(1.0,1.0,1.0)     RGB{N0f8}(1.0,1.0,1.0)\n",
       " RGB{N0f8}(1.0,1.0,1.0)  RGB{N0f8}(1.0,1.0,1.0)     RGB{N0f8}(1.0,1.0,1.0)\n",
       " RGB{N0f8}(1.0,1.0,1.0)  RGB{N0f8}(1.0,1.0,1.0)  …  RGB{N0f8}(1.0,1.0,1.0)\n",
       " RGB{N0f8}(1.0,1.0,1.0)  RGB{N0f8}(1.0,1.0,1.0)     RGB{N0f8}(1.0,1.0,1.0)\n",
       " RGB{N0f8}(1.0,1.0,1.0)  RGB{N0f8}(1.0,1.0,1.0)     RGB{N0f8}(1.0,1.0,1.0)\n",
       " RGB{N0f8}(1.0,1.0,1.0)  RGB{N0f8}(1.0,1.0,1.0)     RGB{N0f8}(1.0,1.0,1.0)\n",
       " RGB{N0f8}(1.0,1.0,1.0)  RGB{N0f8}(1.0,1.0,1.0)     RGB{N0f8}(1.0,1.0,1.0)"
      ]
     },
     "execution_count": 2,
     "metadata": {},
     "output_type": "execute_result"
    }
   ],
   "source": [
    "banana = load(\"104_100.jpg\")"
   ]
  },
  {
   "cell_type": "markdown",
   "metadata": {},
   "source": [
    "Here we have images of apples and bananas. We would like to eventually build a program that can automatically distinguish between the two. However, the computer doesn't \"see\" an apple or a banana, instead it just has numbers. An image is encoded in what's called an array.\n",
    "\n",
    "[Cartoon of an Array]\n",
    "\n",
    "An array is a bunch of connected numbers. For example, our `apple` is a 100x100 image:"
   ]
  },
  {
   "cell_type": "code",
   "execution_count": 28,
   "metadata": {},
   "outputs": [
    {
     "data": {
      "text/plain": [
       "(100, 100)"
      ]
     },
     "execution_count": 28,
     "metadata": {},
     "output_type": "execute_result"
    }
   ],
   "source": [
    "size(apple)"
   ]
  },
  {
   "cell_type": "markdown",
   "metadata": {},
   "source": [
    "We can grab the number at any of the locations using the brackets `[i,j]` to grab the value at a specific point. Let's get the `(40,60)`th pixel:"
   ]
  },
  {
   "cell_type": "code",
   "execution_count": 29,
   "metadata": {},
   "outputs": [
    {
     "data": {
      "image/svg+xml": [
       "<?xml version=\"1.0\" encoding=\"UTF-8\"?>\n",
       "<!DOCTYPE svg PUBLIC \"-//W3C//DTD SVG 1.1//EN\"\n",
       " \"http://www.w3.org/Graphics/SVG/1.1/DTD/svg11.dtd\">\n",
       "<svg xmlns=\"http://www.w3.org/2000/svg\" version=\"1.1\"\n",
       "     width=\"25mm\" height=\"25mm\" viewBox=\"0 0 1 1\">\n",
       "     <rect width=\"1\" height=\"1\"\n",
       "           fill=\"#85190D\" stroke=\"none\"/>\n",
       "</svg>\n"
      ],
      "text/plain": [
       "RGB{N0f8}(0.522,0.098,0.051)"
      ]
     },
     "execution_count": 29,
     "metadata": {},
     "output_type": "execute_result"
    }
   ],
   "source": [
    "apple[40,60]"
   ]
  },
  {
   "cell_type": "markdown",
   "metadata": {},
   "source": [
    "## Colors as Numbers\n",
    "\n",
    "At each point of the image it's a color. Computers store colors in RGB format, that is they store a 0-1 value of red, green, and blue where 0 means none of that color and 1 means the brightest form of that color. For example, we can pull out the `red` value like:"
   ]
  },
  {
   "cell_type": "code",
   "execution_count": 39,
   "metadata": {},
   "outputs": [
    {
     "name": "stdout",
     "output_type": "stream",
     "text": [
      "The RGB values are (0.52156866, 0.098039225, 0.050980397)"
     ]
    }
   ],
   "source": [
    "red_value = float(red(apple[40,60]))\n",
    "green_value = float(green(apple[40,60]))\n",
    "blue_value = float(blue(apple[40,60]))\n",
    "print(\"The RGB values are ($red_value, $green_value, $blue_value)\")"
   ]
  },
  {
   "cell_type": "markdown",
   "metadata": {},
   "source": [
    "Since the red value is high while the others are low, this means that at pixel `(40,60)`, the picture of the apple is very red. If we do the same at one of the corners of the picture:"
   ]
  },
  {
   "cell_type": "code",
   "execution_count": 42,
   "metadata": {},
   "outputs": [
    {
     "name": "stdout",
     "output_type": "stream",
     "text": [
      "The RGB values are (0.9960785, 1.0, 0.9843138)"
     ]
    }
   ],
   "source": [
    "red_value = float(red(apple[1,1]))\n",
    "green_value = float(green(apple[1,1]))\n",
    "blue_value = float(blue(apple[1,1]))\n",
    "print(\"The RGB values are ($red_value, $green_value, $blue_value)\")"
   ]
  },
  {
   "cell_type": "markdown",
   "metadata": {},
   "source": [
    "we see that every color is bright which means white. \n",
    "\n",
    "## Working on an Image as a Whole\n",
    "\n",
    "In Julia, to apply a function to the whole array we add a `.`, so the following gives us the `red` value at every point:"
   ]
  },
  {
   "cell_type": "code",
   "execution_count": 41,
   "metadata": {},
   "outputs": [
    {
     "data": {
      "text/plain": [
       "100×100 Array{Float32,2}:\n",
       " 0.996078  1.0       1.0       1.0       …  1.0       1.0  1.0  1.0  1.0\n",
       " 0.984314  0.996078  1.0       1.0          0.996078  1.0  1.0  1.0  1.0\n",
       " 0.980392  0.984314  0.996078  1.0          1.0       1.0  1.0  1.0  1.0\n",
       " 0.968628  0.980392  0.996078  1.0          0.996078  1.0  1.0  1.0  1.0\n",
       " 0.968628  0.980392  1.0       1.0          0.996078  1.0  1.0  1.0  1.0\n",
       " 0.980392  0.984314  1.0       1.0       …  0.996078  1.0  1.0  1.0  1.0\n",
       " 0.992157  0.992157  1.0       1.0          1.0       1.0  1.0  1.0  1.0\n",
       " 1.0       1.0       1.0       0.996078     1.0       1.0  1.0  1.0  1.0\n",
       " 1.0       1.0       1.0       0.996078     1.0       1.0  1.0  1.0  1.0\n",
       " 1.0       1.0       1.0       0.992157     1.0       1.0  1.0  1.0  1.0\n",
       " 1.0       1.0       1.0       0.992157  …  1.0       1.0  1.0  1.0  1.0\n",
       " 1.0       1.0       0.992157  0.992157     0.988235  1.0  1.0  1.0  1.0\n",
       " 1.0       1.0       0.992157  0.992157     0.996078  1.0  1.0  1.0  1.0\n",
       " ⋮                                       ⋱  ⋮                           \n",
       " 0.992157  0.992157  0.996078  1.0          1.0       1.0  1.0  1.0  1.0\n",
       " 0.992157  0.992157  1.0       1.0          1.0       1.0  1.0  1.0  1.0\n",
       " 0.992157  0.996078  0.996078  0.996078  …  1.0       1.0  1.0  1.0  1.0\n",
       " 0.996078  0.996078  0.996078  0.996078     1.0       1.0  1.0  1.0  1.0\n",
       " 0.996078  1.0       1.0       1.0          1.0       1.0  1.0  1.0  1.0\n",
       " 1.0       0.996078  1.0       1.0          1.0       1.0  1.0  1.0  1.0\n",
       " 1.0       1.0       0.996078  1.0          0.996078  1.0  1.0  1.0  1.0\n",
       " 1.0       1.0       0.996078  0.996078  …  0.996078  1.0  1.0  1.0  1.0\n",
       " 1.0       1.0       1.0       1.0          1.0       1.0  1.0  1.0  1.0\n",
       " 1.0       1.0       1.0       1.0          1.0       1.0  1.0  1.0  1.0\n",
       " 1.0       1.0       1.0       1.0          1.0       1.0  1.0  1.0  1.0\n",
       " 1.0       1.0       1.0       1.0          1.0       1.0  1.0  1.0  1.0"
      ]
     },
     "execution_count": 41,
     "metadata": {},
     "output_type": "execute_result"
    }
   ],
   "source": [
    "float.(red.(apple))"
   ]
  },
  {
   "cell_type": "markdown",
   "metadata": {},
   "source": [
    "Julia's [mathematical standard library](https://docs.julialang.org/en/stable/stdlib/math/#Mathematics-1) has many mathematical functions built in. One of them is the `mean` function which computes the average value. If we apply this to our apple:"
   ]
  },
  {
   "cell_type": "code",
   "execution_count": 44,
   "metadata": {},
   "outputs": [
    {
     "data": {
      "text/plain": [
       "0.57016706f0"
      ]
     },
     "execution_count": 44,
     "metadata": {},
     "output_type": "execute_result"
    }
   ],
   "source": [
    "mean(float.(red.(apple)))"
   ]
  },
  {
   "cell_type": "markdown",
   "metadata": {},
   "source": [
    "we see that the value is between the amount of red in the apple and the amount of red in the white background. Somehow we need to teach a computer use this information about picture to recognize there's an apple there?\n",
    "\n",
    "## A Quick Riddle\n",
    "\n",
    "Here's a quick riddle. Let's check the average value of red in the image of the banana."
   ]
  },
  {
   "cell_type": "code",
   "execution_count": 49,
   "metadata": {},
   "outputs": [
    {
     "data": {
      "text/plain": [
       "0.90400153f0"
      ]
     },
     "execution_count": 49,
     "metadata": {},
     "output_type": "execute_result"
    }
   ],
   "source": [
    "mean(float.(red.(banana)))"
   ]
  },
  {
   "cell_type": "markdown",
   "metadata": {},
   "source": [
    "Oh no, that's more red than our apple? This isn't a mistake and is actually true! Before you move onto the next excerise, example the images of the apple and the banana very carefully and see if you can explain why this is expected. "
   ]
  }
 ],
 "metadata": {
  "kernelspec": {
   "display_name": "Julia 0.6.2",
   "language": "julia",
   "name": "julia-0.6"
  },
  "language_info": {
   "file_extension": ".jl",
   "mimetype": "application/julia",
   "name": "julia",
   "version": "0.6.2"
  }
 },
 "nbformat": 4,
 "nbformat_minor": 2
}
