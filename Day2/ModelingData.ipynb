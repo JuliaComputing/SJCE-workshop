{
 "cells": [
  {
   "cell_type": "markdown",
   "metadata": {},
   "source": [
    "# Modeling Data\n",
    "\n",
    "Machine learning and data science is about modeling data. **Modeling** is the representation of an idea into a mathematical equation. All machine learning methods are about training a computer to fit a model to some data. Even the fanciest terms like neural networks are simply choices for models. In this notebook we will begin to start building our first computational model of data.\n",
    "\n",
    "## Modeling Data is Hard!\n",
    "\n",
    "Let's pick up where we left off in the previous notebook with fruit. We were left with a riddle. When we load in images of apples and bananas"
   ]
  },
  {
   "cell_type": "code",
   "execution_count": 2,
   "metadata": {},
   "outputs": [
    {
     "data": {
      "image/png": "[encoded data removed]",
      "text/plain": [
       "100×100 Array{RGB{N0f8},2}:\n",
       " RGB{N0f8}(0.996,1.0,0.984)    …  RGB{N0f8}(1.0,1.0,1.0)\n",
       " RGB{N0f8}(0.984,1.0,0.988)       RGB{N0f8}(1.0,1.0,1.0)\n",
       " RGB{N0f8}(0.98,1.0,0.996)        RGB{N0f8}(1.0,1.0,1.0)\n",
       " RGB{N0f8}(0.969,1.0,0.992)       RGB{N0f8}(1.0,1.0,1.0)\n",
       " RGB{N0f8}(0.969,1.0,1.0)         RGB{N0f8}(1.0,1.0,1.0)\n",
       " RGB{N0f8}(0.98,1.0,1.0)       …  RGB{N0f8}(1.0,1.0,1.0)\n",
       " RGB{N0f8}(0.992,0.996,1.0)       RGB{N0f8}(1.0,1.0,1.0)\n",
       " RGB{N0f8}(1.0,0.992,1.0)         RGB{N0f8}(1.0,1.0,1.0)\n",
       " RGB{N0f8}(1.0,0.984,1.0)         RGB{N0f8}(1.0,1.0,1.0)\n",
       " RGB{N0f8}(1.0,0.984,1.0)         RGB{N0f8}(1.0,1.0,1.0)\n",
       " RGB{N0f8}(1.0,0.992,1.0)      …  RGB{N0f8}(1.0,1.0,1.0)\n",
       " RGB{N0f8}(1.0,0.996,1.0)         RGB{N0f8}(1.0,1.0,1.0)\n",
       " RGB{N0f8}(1.0,1.0,1.0)           RGB{N0f8}(1.0,1.0,1.0)\n",
       " ⋮                             ⋱                        \n",
       " RGB{N0f8}(0.992,1.0,0.988)       RGB{N0f8}(1.0,1.0,1.0)\n",
       " RGB{N0f8}(0.992,1.0,0.988)       RGB{N0f8}(1.0,1.0,1.0)\n",
       " RGB{N0f8}(0.992,1.0,0.996)    …  RGB{N0f8}(1.0,1.0,1.0)\n",
       " RGB{N0f8}(0.996,1.0,1.0)         RGB{N0f8}(1.0,1.0,1.0)\n",
       " RGB{N0f8}(0.996,0.996,0.996)     RGB{N0f8}(1.0,1.0,1.0)\n",
       " RGB{N0f8}(1.0,0.992,0.996)       RGB{N0f8}(1.0,1.0,1.0)\n",
       " RGB{N0f8}(1.0,0.992,0.996)       RGB{N0f8}(1.0,1.0,1.0)\n",
       " RGB{N0f8}(1.0,0.992,0.996)    …  RGB{N0f8}(1.0,1.0,1.0)\n",
       " RGB{N0f8}(1.0,0.996,1.0)         RGB{N0f8}(1.0,1.0,1.0)\n",
       " RGB{N0f8}(1.0,1.0,1.0)           RGB{N0f8}(1.0,1.0,1.0)\n",
       " RGB{N0f8}(1.0,1.0,1.0)           RGB{N0f8}(1.0,1.0,1.0)\n",
       " RGB{N0f8}(1.0,1.0,1.0)           RGB{N0f8}(1.0,1.0,1.0)"
      ]
     },
     "execution_count": 2,
     "metadata": {},
     "output_type": "execute_result"
    }
   ],
   "source": [
    "using Images\n",
    "apple = load(\"10_100.jpg\")"
   ]
  },
  {
   "cell_type": "code",
   "execution_count": 3,
   "metadata": {},
   "outputs": [
    {
     "data": {
      "image/png": "[encoded data removed]",
      "text/plain": [
       "100×100 Array{RGB{N0f8},2}:\n",
       " RGB{N0f8}(1.0,1.0,1.0)  RGB{N0f8}(1.0,1.0,1.0)  …  RGB{N0f8}(1.0,1.0,1.0)\n",
       " RGB{N0f8}(1.0,1.0,1.0)  RGB{N0f8}(1.0,1.0,1.0)     RGB{N0f8}(1.0,1.0,1.0)\n",
       " RGB{N0f8}(1.0,1.0,1.0)  RGB{N0f8}(1.0,1.0,1.0)     RGB{N0f8}(1.0,1.0,1.0)\n",
       " RGB{N0f8}(1.0,1.0,1.0)  RGB{N0f8}(1.0,1.0,1.0)     RGB{N0f8}(1.0,1.0,1.0)\n",
       " RGB{N0f8}(1.0,1.0,1.0)  RGB{N0f8}(1.0,1.0,1.0)     RGB{N0f8}(1.0,1.0,1.0)\n",
       " RGB{N0f8}(1.0,1.0,1.0)  RGB{N0f8}(1.0,1.0,1.0)  …  RGB{N0f8}(1.0,1.0,1.0)\n",
       " RGB{N0f8}(1.0,1.0,1.0)  RGB{N0f8}(1.0,1.0,1.0)     RGB{N0f8}(1.0,1.0,1.0)\n",
       " RGB{N0f8}(1.0,1.0,1.0)  RGB{N0f8}(1.0,1.0,1.0)     RGB{N0f8}(1.0,1.0,1.0)\n",
       " RGB{N0f8}(1.0,1.0,1.0)  RGB{N0f8}(1.0,1.0,1.0)     RGB{N0f8}(1.0,1.0,1.0)\n",
       " RGB{N0f8}(1.0,1.0,1.0)  RGB{N0f8}(1.0,1.0,1.0)     RGB{N0f8}(1.0,1.0,1.0)\n",
       " RGB{N0f8}(1.0,1.0,1.0)  RGB{N0f8}(1.0,1.0,1.0)  …  RGB{N0f8}(1.0,1.0,1.0)\n",
       " RGB{N0f8}(1.0,1.0,1.0)  RGB{N0f8}(1.0,1.0,1.0)     RGB{N0f8}(1.0,1.0,1.0)\n",
       " RGB{N0f8}(1.0,1.0,1.0)  RGB{N0f8}(1.0,1.0,1.0)     RGB{N0f8}(1.0,1.0,1.0)\n",
       " ⋮                                               ⋱                        \n",
       " RGB{N0f8}(1.0,1.0,1.0)  RGB{N0f8}(1.0,1.0,1.0)     RGB{N0f8}(1.0,1.0,1.0)\n",
       " RGB{N0f8}(1.0,1.0,1.0)  RGB{N0f8}(1.0,1.0,1.0)     RGB{N0f8}(1.0,1.0,1.0)\n",
       " RGB{N0f8}(1.0,1.0,1.0)  RGB{N0f8}(1.0,1.0,1.0)  …  RGB{N0f8}(1.0,1.0,1.0)\n",
       " RGB{N0f8}(1.0,1.0,1.0)  RGB{N0f8}(1.0,1.0,1.0)     RGB{N0f8}(1.0,1.0,1.0)\n",
       " RGB{N0f8}(1.0,1.0,1.0)  RGB{N0f8}(1.0,1.0,1.0)     RGB{N0f8}(1.0,1.0,1.0)\n",
       " RGB{N0f8}(1.0,1.0,1.0)  RGB{N0f8}(1.0,1.0,1.0)     RGB{N0f8}(1.0,1.0,1.0)\n",
       " RGB{N0f8}(1.0,1.0,1.0)  RGB{N0f8}(1.0,1.0,1.0)     RGB{N0f8}(1.0,1.0,1.0)\n",
       " RGB{N0f8}(1.0,1.0,1.0)  RGB{N0f8}(1.0,1.0,1.0)  …  RGB{N0f8}(1.0,1.0,1.0)\n",
       " RGB{N0f8}(1.0,1.0,1.0)  RGB{N0f8}(1.0,1.0,1.0)     RGB{N0f8}(1.0,1.0,1.0)\n",
       " RGB{N0f8}(1.0,1.0,1.0)  RGB{N0f8}(1.0,1.0,1.0)     RGB{N0f8}(1.0,1.0,1.0)\n",
       " RGB{N0f8}(1.0,1.0,1.0)  RGB{N0f8}(1.0,1.0,1.0)     RGB{N0f8}(1.0,1.0,1.0)\n",
       " RGB{N0f8}(1.0,1.0,1.0)  RGB{N0f8}(1.0,1.0,1.0)     RGB{N0f8}(1.0,1.0,1.0)"
      ]
     },
     "execution_count": 3,
     "metadata": {},
     "output_type": "execute_result"
    }
   ],
   "source": [
    "banana = load(\"104_100.jpg\")"
   ]
  },
  {
   "cell_type": "markdown",
   "metadata": {},
   "source": [
    "and then compare their average value for the color red, we end up with something paradoxical:"
   ]
  },
  {
   "cell_type": "code",
   "execution_count": 4,
   "metadata": {},
   "outputs": [
    {
     "data": {
      "text/plain": [
       "\"The average value of red in the apple is 0.57016706 while the average value of red in the banana is 0.90400153\""
      ]
     },
     "execution_count": 4,
     "metadata": {},
     "output_type": "execute_result"
    }
   ],
   "source": [
    "\"The average value of red in the apple is $(mean(float.(red.(apple)))) while the average value of red in the banana is $(mean(float.(red.(banana))))\""
   ]
  },
  {
   "cell_type": "markdown",
   "metadata": {},
   "source": [
    "Were you able to guess why? There's actually two reasons. One of the reasons is the background. The image of the banana has a lot more background than the apple, and the white background has a red value of 1! In our minds we ignore the background and say \"the banana is bright yellow, the apple is a dark red\", but a computer just has a bundle of numbers and does not know where it should be looking.\n",
    "\n",
    "But the other issue is that \"bright yellow\" isn't a color that exists in a computer. The computer has three colors: red, green, and blue. \"Bright yellow\" in a computer is a mixture of red and green, and it just so happens that to get this color yellow it needs more red than the apple!"
   ]
  },
  {
   "cell_type": "code",
   "execution_count": 5,
   "metadata": {},
   "outputs": [
    {
     "data": {
      "text/plain": [
       "\"The amount of red in the apple at (60,60) is 0.44705886 while the amount of red in the banana at (60,60) is 0.6666667\""
      ]
     },
     "execution_count": 5,
     "metadata": {},
     "output_type": "execute_result"
    }
   ],
   "source": [
    "\"The amount of red in the apple at (60,60) is $(float(red(apple[60,60]))) while the amount of red in the banana at (60,60) is $(float(red(banana[60,60])))\""
   ]
  },
  {
   "cell_type": "markdown",
   "metadata": {},
   "source": [
    "This is a clear example that modeling data is hard!\n",
    "\n",
    "## Take some time to think about the data\n",
    "\n",
    "Apples and bananas are very different, but how do you use the RGB brightness to tell the difference between the two? Here's some quick ideas:\n",
    "\n",
    "- We can use shape. But how can we encode ideas of shape from the array?\n",
    "- We can use size. But how do we calculate size?\n",
    "- We can use another color, or combinations of colors. What colors?\n",
    "\n",
    "Let's go with the last route. The banana is yellow which is a combination of red and green, while the apple is red. This means that the color that clearly differentiates between the two is not red but green!"
   ]
  },
  {
   "cell_type": "code",
   "execution_count": 6,
   "metadata": {},
   "outputs": [
    {
     "data": {
      "text/plain": [
       "\"The average value of green in the apple is 0.33820274 while the average value of green in the banana is 0.88079727\""
      ]
     },
     "execution_count": 6,
     "metadata": {},
     "output_type": "execute_result"
    }
   ],
   "source": [
    "\"The average value of green in the apple is $(mean(float.(green.(apple)))) while the average value of green in the banana is $(mean(float.(green.(banana))))\""
   ]
  },
  {
   "cell_type": "markdown",
   "metadata": {},
   "source": [
    "What we just did has fancy names. **Feature selection** is the process of subsetting the data to a more relevant and informative set. We took the full image data and decided to select out the green channel. **Data munging** is transforming the data into a format more suitable for modeling. Here, instead of keeping the full green channel, we transformed it down to a single data point: the average amount of green."
   ]
  },
  {
   "cell_type": "markdown",
   "metadata": {},
   "source": [
    "## Building a Model\n",
    "\n",
    "We want to model the connection between \"the average amount of green\" and \"is an apple or banana\". This model is a mathematical function which takes in our data and spits out a number that we will interpret as \"is an apple\" or \"is a banana\".\n",
    "\n",
    "[Diagram of an ML function]\n",
    "\n",
    "We will interpret the output of the function as \"is an apple\" if the output is close to zero, and \"is a banana\" if it's close to one. Anything in the middle is something we are unsure about. A common function for performing this kind of **classification** is the sigmoid:\n",
    "\n",
    "$$\\sigma(x;w,b) := \\frac{1}{1 + \\exp(-wx + b)}$$\n",
    "\n",
    "$$ x = data $$\n",
    "\n",
    "$$ \\sigma(x;w,b)=0 \\implies apple$$\n",
    "\n",
    "$$ \\sigma(x;w,b) = 1 \\implies banana $$\n",
    "\n",
    "The `;` in the function differentiates from the **data** and the **parameters**. `x` is the data and is determined from the image. The parameters, `w` and `b`, are numbers which we choose to make our function match the results it should be modeling."
   ]
  },
  {
   "cell_type": "code",
   "execution_count": 7,
   "metadata": {},
   "outputs": [
    {
     "data": {
      "text/plain": [
       "σ (generic function with 1 method)"
      ]
     },
     "execution_count": 7,
     "metadata": {},
     "output_type": "execute_result"
    }
   ],
   "source": [
    "σ(x,w,b) = 1 / (1 + exp(-w*x+b))"
   ]
  },
  {
   "cell_type": "markdown",
   "metadata": {},
   "source": [
    "What we want is that when we give it the average green for the apple, `x=0.33820274`, it should give something close to 0 meaning apple. And when we give it `x=0.88079727`, it should output something close to 1 meaning banana.\n",
    "\n",
    "We can understand how our choice of `w` and `b` effect our model by seeing how it changes the plot:"
   ]
  },
  {
   "cell_type": "code",
   "execution_count": 37,
   "metadata": {},
   "outputs": [
    {
     "data": {
      "application/vnd.jupyter.widget-view+json": {
       "model_id": "19265ce8-20a2-433c-a485-11360ca5e773",
       "version_major": 2,
       "version_minor": 0
      }
     },
     "metadata": {},
     "output_type": "display_data"
    },
    {
     "data": {
      "text/html": [],
      "text/plain": [
       "Interact.Options{:SelectionSlider,Any}(127: \"input-47\" = 10.0 Any , \"w\", 10.0, \"10.0\", 2001, Interact.OptionDict(DataStructures.OrderedDict{Any,Any}(\"-10.0\"=>-10.0,\"-9.99\"=>-9.99,\"-9.98\"=>-9.98,\"-9.97\"=>-9.97,\"-9.96\"=>-9.96,\"-9.95\"=>-9.95,\"-9.94\"=>-9.94,\"-9.93\"=>-9.93,\"-9.92\"=>-9.92,\"-9.91\"=>-9.91…), Dict{Any,Any}(Pair{Any,Any}(24.1, \"24.1\"),Pair{Any,Any}(-6.32, \"-6.32\"),Pair{Any,Any}(9.84, \"9.84\"),Pair{Any,Any}(-2.43, \"-2.43\"),Pair{Any,Any}(27.55, \"27.55\"),Pair{Any,Any}(23.28, \"23.28\"),Pair{Any,Any}(-3.89, \"-3.89\"),Pair{Any,Any}(-4.49, \"-4.49\"),Pair{Any,Any}(16.81, \"16.81\"),Pair{Any,Any}(15.21, \"15.21\")…)), Any[], Any[], true, \"horizontal\")"
      ]
     },
     "metadata": {},
     "output_type": "display_data"
    },
    {
     "data": {
      "application/vnd.jupyter.widget-view+json": {
       "model_id": "66c8e336-f384-437b-80d0-da00dd253ddc",
       "version_major": 2,
       "version_minor": 0
      }
     },
     "metadata": {},
     "output_type": "display_data"
    },
    {
     "data": {
      "text/html": [],
      "text/plain": [
       "Interact.Options{:SelectionSlider,Any}(129: \"input-48\" = 15.0 Any , \"b\", 15.0, \"15.0\", 151, Interact.OptionDict(DataStructures.OrderedDict{Any,Any}(\"0.0\"=>0.0,\"0.1\"=>0.1,\"0.2\"=>0.2,\"0.3\"=>0.3,\"0.4\"=>0.4,\"0.5\"=>0.5,\"0.6\"=>0.6,\"0.7\"=>0.7,\"0.8\"=>0.8,\"0.9\"=>0.9…), Dict{Any,Any}(Pair{Any,Any}(24.1, \"24.1\"),Pair{Any,Any}(1.2, \"1.2\"),Pair{Any,Any}(15.6, \"15.6\"),Pair{Any,Any}(10.7, \"10.7\"),Pair{Any,Any}(13.2, \"13.2\"),Pair{Any,Any}(11.0, \"11.0\"),Pair{Any,Any}(21.5, \"21.5\"),Pair{Any,Any}(7.4, \"7.4\"),Pair{Any,Any}(28.1, \"28.1\"),Pair{Any,Any}(29.0, \"29.0\")…)), Any[], Any[], true, \"horizontal\")"
      ]
     },
     "metadata": {},
     "output_type": "display_data"
    },
    {
     "data": {
      "text/html": [
       "<?xml version=\"1.0\" encoding=\"utf-8\"?>\n",
       "<svg xmlns=\"http://www.w3.org/2000/svg\" xmlns:xlink=\"http://www.w3.org/1999/xlink\" width=\"600\" height=\"400\" viewBox=\"0 0 600 400\">\n",
       "<defs>\n",
       "  <clipPath id=\"clip2900\">\n",
       "    <rect x=\"0\" y=\"0\" width=\"600\" height=\"400\"/>\n",
       "  </clipPath>\n",
       "</defs>\n",
       "<polygon clip-path=\"url(#clip2900)\" points=\"\n",
       "0,400 600,400 600,0 0,0 \n",
       "  \" fill=\"#ffffff\" fill-opacity=\"1\"/>\n",
       "<defs>\n",
       "  <clipPath id=\"clip2901\">\n",
       "    <rect x=\"120\" y=\"0\" width=\"421\" height=\"400\"/>\n",
       "  </clipPath>\n",
       "</defs>\n",
       "<polygon clip-path=\"url(#clip2900)\" points=\"\n",
       "45.8557,375.869 580.315,375.869 580.315,11.811 45.8557,11.811 \n",
       "  \" fill=\"#ffffff\" fill-opacity=\"1\"/>\n",
       "<defs>\n",
       "  <clipPath id=\"clip2902\">\n",
       "    <rect x=\"45\" y=\"11\" width=\"535\" height=\"365\"/>\n",
       "  </clipPath>\n",
       "</defs>\n",
       "<polyline clip-path=\"url(#clip2902)\" style=\"stroke:#000000; stroke-width:0.5; stroke-opacity:0.1; fill:none\" points=\"\n",
       "  55.9933,375.869 55.9933,11.811 \n",
       "  \"/>\n",
       "<polyline clip-path=\"url(#clip2902)\" style=\"stroke:#000000; stroke-width:0.5; stroke-opacity:0.1; fill:none\" points=\"\n",
       "  183.698,375.869 183.698,11.811 \n",
       "  \"/>\n",
       "<polyline clip-path=\"url(#clip2902)\" style=\"stroke:#000000; stroke-width:0.5; stroke-opacity:0.1; fill:none\" points=\"\n",
       "  311.403,375.869 311.403,11.811 \n",
       "  \"/>\n",
       "<polyline clip-path=\"url(#clip2902)\" style=\"stroke:#000000; stroke-width:0.5; stroke-opacity:0.1; fill:none\" points=\"\n",
       "  439.107,375.869 439.107,11.811 \n",
       "  \"/>\n",
       "<polyline clip-path=\"url(#clip2902)\" style=\"stroke:#000000; stroke-width:0.5; stroke-opacity:0.1; fill:none\" points=\"\n",
       "  566.812,375.869 566.812,11.811 \n",
       "  \"/>\n",
       "<polyline clip-path=\"url(#clip2902)\" style=\"stroke:#000000; stroke-width:0.5; stroke-opacity:0.1; fill:none\" points=\"\n",
       "  45.8557,365.583 580.315,365.583 \n",
       "  \"/>\n",
       "<polyline clip-path=\"url(#clip2902)\" style=\"stroke:#000000; stroke-width:0.5; stroke-opacity:0.1; fill:none\" points=\"\n",
       "  45.8557,312.619 580.315,312.619 \n",
       "  \"/>\n",
       "<polyline clip-path=\"url(#clip2902)\" style=\"stroke:#000000; stroke-width:0.5; stroke-opacity:0.1; fill:none\" points=\"\n",
       "  45.8557,259.654 580.315,259.654 \n",
       "  \"/>\n",
       "<polyline clip-path=\"url(#clip2902)\" style=\"stroke:#000000; stroke-width:0.5; stroke-opacity:0.1; fill:none\" points=\"\n",
       "  45.8557,206.69 580.315,206.69 \n",
       "  \"/>\n",
       "<polyline clip-path=\"url(#clip2902)\" style=\"stroke:#000000; stroke-width:0.5; stroke-opacity:0.1; fill:none\" points=\"\n",
       "  45.8557,153.726 580.315,153.726 \n",
       "  \"/>\n",
       "<polyline clip-path=\"url(#clip2902)\" style=\"stroke:#000000; stroke-width:0.5; stroke-opacity:0.1; fill:none\" points=\"\n",
       "  45.8557,100.761 580.315,100.761 \n",
       "  \"/>\n",
       "<polyline clip-path=\"url(#clip2902)\" style=\"stroke:#000000; stroke-width:0.5; stroke-opacity:0.1; fill:none\" points=\"\n",
       "  45.8557,47.797 580.315,47.797 \n",
       "  \"/>\n",
       "<polyline clip-path=\"url(#clip2900)\" style=\"stroke:#000000; stroke-width:1; stroke-opacity:1; fill:none\" points=\"\n",
       "  45.8557,375.869 580.315,375.869 \n",
       "  \"/>\n",
       "<polyline clip-path=\"url(#clip2900)\" style=\"stroke:#000000; stroke-width:1; stroke-opacity:1; fill:none\" points=\"\n",
       "  45.8557,375.869 45.8557,11.811 \n",
       "  \"/>\n",
       "<polyline clip-path=\"url(#clip2900)\" style=\"stroke:#000000; stroke-width:1; stroke-opacity:1; fill:none\" points=\"\n",
       "  55.9933,375.869 55.9933,370.408 \n",
       "  \"/>\n",
       "<polyline clip-path=\"url(#clip2900)\" style=\"stroke:#000000; stroke-width:1; stroke-opacity:1; fill:none\" points=\"\n",
       "  183.698,375.869 183.698,370.408 \n",
       "  \"/>\n",
       "<polyline clip-path=\"url(#clip2900)\" style=\"stroke:#000000; stroke-width:1; stroke-opacity:1; fill:none\" points=\"\n",
       "  311.403,375.869 311.403,370.408 \n",
       "  \"/>\n",
       "<polyline clip-path=\"url(#clip2900)\" style=\"stroke:#000000; stroke-width:1; stroke-opacity:1; fill:none\" points=\"\n",
       "  439.107,375.869 439.107,370.408 \n",
       "  \"/>\n",
       "<polyline clip-path=\"url(#clip2900)\" style=\"stroke:#000000; stroke-width:1; stroke-opacity:1; fill:none\" points=\"\n",
       "  566.812,375.869 566.812,370.408 \n",
       "  \"/>\n",
       "<polyline clip-path=\"url(#clip2900)\" style=\"stroke:#000000; stroke-width:1; stroke-opacity:1; fill:none\" points=\"\n",
       "  45.8557,365.583 53.8726,365.583 \n",
       "  \"/>\n",
       "<polyline clip-path=\"url(#clip2900)\" style=\"stroke:#000000; stroke-width:1; stroke-opacity:1; fill:none\" points=\"\n",
       "  45.8557,312.619 53.8726,312.619 \n",
       "  \"/>\n",
       "<polyline clip-path=\"url(#clip2900)\" style=\"stroke:#000000; stroke-width:1; stroke-opacity:1; fill:none\" points=\"\n",
       "  45.8557,259.654 53.8726,259.654 \n",
       "  \"/>\n",
       "<polyline clip-path=\"url(#clip2900)\" style=\"stroke:#000000; stroke-width:1; stroke-opacity:1; fill:none\" points=\"\n",
       "  45.8557,206.69 53.8726,206.69 \n",
       "  \"/>\n",
       "<polyline clip-path=\"url(#clip2900)\" style=\"stroke:#000000; stroke-width:1; stroke-opacity:1; fill:none\" points=\"\n",
       "  45.8557,153.726 53.8726,153.726 \n",
       "  \"/>\n",
       "<polyline clip-path=\"url(#clip2900)\" style=\"stroke:#000000; stroke-width:1; stroke-opacity:1; fill:none\" points=\"\n",
       "  45.8557,100.761 53.8726,100.761 \n",
       "  \"/>\n",
       "<polyline clip-path=\"url(#clip2900)\" style=\"stroke:#000000; stroke-width:1; stroke-opacity:1; fill:none\" points=\"\n",
       "  45.8557,47.797 53.8726,47.797 \n",
       "  \"/>\n",
       "<g clip-path=\"url(#clip2900)\">\n",
       "<text style=\"fill:#000000; fill-opacity:1; font-family:Arial,Helvetica Neue,Helvetica,sans-serif; font-size:12; text-anchor:middle;\" transform=\"rotate(0, 55.9933, 389.669)\" x=\"55.9933\" y=\"389.669\">0.00</text>\n",
       "</g>\n",
       "<g clip-path=\"url(#clip2900)\">\n",
       "<text style=\"fill:#000000; fill-opacity:1; font-family:Arial,Helvetica Neue,Helvetica,sans-serif; font-size:12; text-anchor:middle;\" transform=\"rotate(0, 183.698, 389.669)\" x=\"183.698\" y=\"389.669\">0.25</text>\n",
       "</g>\n",
       "<g clip-path=\"url(#clip2900)\">\n",
       "<text style=\"fill:#000000; fill-opacity:1; font-family:Arial,Helvetica Neue,Helvetica,sans-serif; font-size:12; text-anchor:middle;\" transform=\"rotate(0, 311.403, 389.669)\" x=\"311.403\" y=\"389.669\">0.50</text>\n",
       "</g>\n",
       "<g clip-path=\"url(#clip2900)\">\n",
       "<text style=\"fill:#000000; fill-opacity:1; font-family:Arial,Helvetica Neue,Helvetica,sans-serif; font-size:12; text-anchor:middle;\" transform=\"rotate(0, 439.107, 389.669)\" x=\"439.107\" y=\"389.669\">0.75</text>\n",
       "</g>\n",
       "<g clip-path=\"url(#clip2900)\">\n",
       "<text style=\"fill:#000000; fill-opacity:1; font-family:Arial,Helvetica Neue,Helvetica,sans-serif; font-size:12; text-anchor:middle;\" transform=\"rotate(0, 566.812, 389.669)\" x=\"566.812\" y=\"389.669\">1.00</text>\n",
       "</g>\n",
       "<g clip-path=\"url(#clip2900)\">\n",
       "<text style=\"fill:#000000; fill-opacity:1; font-family:Arial,Helvetica Neue,Helvetica,sans-serif; font-size:12; text-anchor:end;\" transform=\"rotate(0, 39.8557, 370.083)\" x=\"39.8557\" y=\"370.083\">0.000</text>\n",
       "</g>\n",
       "<g clip-path=\"url(#clip2900)\">\n",
       "<text style=\"fill:#000000; fill-opacity:1; font-family:Arial,Helvetica Neue,Helvetica,sans-serif; font-size:12; text-anchor:end;\" transform=\"rotate(0, 39.8557, 317.119)\" x=\"39.8557\" y=\"317.119\">0.001</text>\n",
       "</g>\n",
       "<g clip-path=\"url(#clip2900)\">\n",
       "<text style=\"fill:#000000; fill-opacity:1; font-family:Arial,Helvetica Neue,Helvetica,sans-serif; font-size:12; text-anchor:end;\" transform=\"rotate(0, 39.8557, 264.154)\" x=\"39.8557\" y=\"264.154\">0.002</text>\n",
       "</g>\n",
       "<g clip-path=\"url(#clip2900)\">\n",
       "<text style=\"fill:#000000; fill-opacity:1; font-family:Arial,Helvetica Neue,Helvetica,sans-serif; font-size:12; text-anchor:end;\" transform=\"rotate(0, 39.8557, 211.19)\" x=\"39.8557\" y=\"211.19\">0.003</text>\n",
       "</g>\n",
       "<g clip-path=\"url(#clip2900)\">\n",
       "<text style=\"fill:#000000; fill-opacity:1; font-family:Arial,Helvetica Neue,Helvetica,sans-serif; font-size:12; text-anchor:end;\" transform=\"rotate(0, 39.8557, 158.226)\" x=\"39.8557\" y=\"158.226\">0.004</text>\n",
       "</g>\n",
       "<g clip-path=\"url(#clip2900)\">\n",
       "<text style=\"fill:#000000; fill-opacity:1; font-family:Arial,Helvetica Neue,Helvetica,sans-serif; font-size:12; text-anchor:end;\" transform=\"rotate(0, 39.8557, 105.261)\" x=\"39.8557\" y=\"105.261\">0.005</text>\n",
       "</g>\n",
       "<g clip-path=\"url(#clip2900)\">\n",
       "<text style=\"fill:#000000; fill-opacity:1; font-family:Arial,Helvetica Neue,Helvetica,sans-serif; font-size:12; text-anchor:end;\" transform=\"rotate(0, 39.8557, 52.297)\" x=\"39.8557\" y=\"52.297\">0.006</text>\n",
       "</g>\n",
       "<polyline clip-path=\"url(#clip2902)\" style=\"stroke:#009af9; stroke-width:3; stroke-opacity:1; fill:none\" points=\"\n",
       "  60.9819,365.565 107.108,365.539 134.828,365.507 158.265,365.463 183.724,365.386 207.196,365.27 232.359,365.071 261.513,364.678 287.422,364.079 310.142,363.237 \n",
       "  334.913,361.773 359.831,359.378 387.38,354.944 413.594,347.812 427.221,342.381 440.849,335.29 452.321,327.669 463.792,318.131 470.795,311.166 477.798,303.179 \n",
       "  484.801,294.023 491.804,283.525 498.386,272.258 504.969,259.448 511.552,244.883 518.135,228.325 523.408,213.442 528.681,196.95 533.954,178.677 539.227,158.432 \n",
       "  544.5,136.003 549.773,111.157 555.047,83.6367 560.32,53.1574 561.943,43.1327 563.566,32.7885 565.189,22.1145 \n",
       "  \"/>\n",
       "<circle clip-path=\"url(#clip2902)\" style=\"fill:#000000; stroke:none; fill-opacity:1\" cx=\"228.754\" cy=\"365.106\" r=\"4\"/>\n",
       "<circle clip-path=\"url(#clip2902)\" style=\"fill:#e26f46; stroke:none; fill-opacity:1\" cx=\"228.754\" cy=\"365.106\" r=\"3\"/>\n",
       "<circle clip-path=\"url(#clip2902)\" style=\"fill:#000000; stroke:none; fill-opacity:1\" cx=\"505.921\" cy=\"257.456\" r=\"4\"/>\n",
       "<circle clip-path=\"url(#clip2902)\" style=\"fill:#3da44d; stroke:none; fill-opacity:1\" cx=\"505.921\" cy=\"257.456\" r=\"3\"/>\n",
       "<polygon clip-path=\"url(#clip2900)\" points=\"\n",
       "63.8557,93.171 165.335,93.171 165.335,32.691 63.8557,32.691 \n",
       "  \" fill=\"#ffffff\" fill-opacity=\"1\"/>\n",
       "<polyline clip-path=\"url(#clip2900)\" style=\"stroke:#000000; stroke-width:1; stroke-opacity:1; fill:none\" points=\"\n",
       "  63.8557,93.171 165.335,93.171 165.335,32.691 63.8557,32.691 63.8557,93.171 \n",
       "  \"/>\n",
       "<polyline clip-path=\"url(#clip2900)\" style=\"stroke:#009af9; stroke-width:3; stroke-opacity:1; fill:none\" points=\"\n",
       "  69.8557,47.811 105.856,47.811 \n",
       "  \"/>\n",
       "<g clip-path=\"url(#clip2900)\">\n",
       "<text style=\"fill:#000000; fill-opacity:1; font-family:Arial,Helvetica Neue,Helvetica,sans-serif; font-size:12; text-anchor:start;\" transform=\"rotate(0, 111.856, 52.311)\" x=\"111.856\" y=\"52.311\">Model</text>\n",
       "</g>\n",
       "<circle clip-path=\"url(#clip2900)\" style=\"fill:#000000; stroke:none; fill-opacity:1\" cx=\"90.8557\" cy=\"62.931\" r=\"6\"/>\n",
       "<circle clip-path=\"url(#clip2900)\" style=\"fill:#e26f46; stroke:none; fill-opacity:1\" cx=\"90.8557\" cy=\"62.931\" r=\"5\"/>\n",
       "<g clip-path=\"url(#clip2900)\">\n",
       "<text style=\"fill:#000000; fill-opacity:1; font-family:Arial,Helvetica Neue,Helvetica,sans-serif; font-size:12; text-anchor:start;\" transform=\"rotate(0, 111.856, 67.431)\" x=\"111.856\" y=\"67.431\">Apple</text>\n",
       "</g>\n",
       "<circle clip-path=\"url(#clip2900)\" style=\"fill:#000000; stroke:none; fill-opacity:1\" cx=\"90.8557\" cy=\"78.051\" r=\"6\"/>\n",
       "<circle clip-path=\"url(#clip2900)\" style=\"fill:#3da44d; stroke:none; fill-opacity:1\" cx=\"90.8557\" cy=\"78.051\" r=\"5\"/>\n",
       "<g clip-path=\"url(#clip2900)\">\n",
       "<text style=\"fill:#000000; fill-opacity:1; font-family:Arial,Helvetica Neue,Helvetica,sans-serif; font-size:12; text-anchor:start;\" transform=\"rotate(0, 111.856, 82.551)\" x=\"111.856\" y=\"82.551\">Banana</text>\n",
       "</g>\n",
       "</svg>\n"
      ]
     },
     "execution_count": 37,
     "metadata": {
      "comm_id": "10cf1221-048d-4257-b0e7-4cd252ba3ae4",
      "reactive": true
     },
     "output_type": "execute_result"
    }
   ],
   "source": [
    "using Plots; gr()\n",
    "using Interact\n",
    "@manipulate for w in -10:0.01:30, b in 0:0.1:30\n",
    "    plot(x->σ(x,w,b),0,1,label=\"Model\",legend = :topleft,lw=3)\n",
    "    scatter!([0.33820274],[σ(0.33820274,w,b)],label=\"Apple\")\n",
    "    scatter!([0.88079727],[σ(0.88079727,w,b)],label=\"Banana\")\n",
    "end"
   ]
  },
  {
   "cell_type": "markdown",
   "metadata": {},
   "source": [
    "Notice that the two parameters do two very different things. The **weight** `w` determines how fast the transition between 0 and 1 occurs. It encodes how trustworthy we think our data can actually is, and in what range we should be putting points between 0 and 1 and thus calling them \"unsure\". The **bias** encodes where on the x-axis the switch should take place. It can be seen as shifting the function left-right.\n",
    "\n",
    "Here's some parameter choices that work well:"
   ]
  },
  {
   "cell_type": "code",
   "execution_count": 38,
   "metadata": {},
   "outputs": [
    {
     "data": {
      "text/html": [
       "<?xml version=\"1.0\" encoding=\"utf-8\"?>\n",
       "<svg xmlns=\"http://www.w3.org/2000/svg\" xmlns:xlink=\"http://www.w3.org/1999/xlink\" width=\"600\" height=\"400\" viewBox=\"0 0 600 400\">\n",
       "<defs>\n",
       "  <clipPath id=\"clip5900\">\n",
       "    <rect x=\"0\" y=\"0\" width=\"600\" height=\"400\"/>\n",
       "  </clipPath>\n",
       "</defs>\n",
       "<polygon clip-path=\"url(#clip5900)\" points=\"\n",
       "0,400 600,400 600,0 0,0 \n",
       "  \" fill=\"#ffffff\" fill-opacity=\"1\"/>\n",
       "<defs>\n",
       "  <clipPath id=\"clip5901\">\n",
       "    <rect x=\"120\" y=\"0\" width=\"421\" height=\"400\"/>\n",
       "  </clipPath>\n",
       "</defs>\n",
       "<polygon clip-path=\"url(#clip5900)\" points=\"\n",
       "39.1651,375.869 580.315,375.869 580.315,11.811 39.1651,11.811 \n",
       "  \" fill=\"#ffffff\" fill-opacity=\"1\"/>\n",
       "<defs>\n",
       "  <clipPath id=\"clip5902\">\n",
       "    <rect x=\"39\" y=\"11\" width=\"542\" height=\"365\"/>\n",
       "  </clipPath>\n",
       "</defs>\n",
       "<polyline clip-path=\"url(#clip5902)\" style=\"stroke:#000000; stroke-width:0.5; stroke-opacity:0.1; fill:none\" points=\"\n",
       "  49.3804,375.869 49.3804,11.811 \n",
       "  \"/>\n",
       "<polyline clip-path=\"url(#clip5902)\" style=\"stroke:#000000; stroke-width:0.5; stroke-opacity:0.1; fill:none\" points=\"\n",
       "  179.944,375.869 179.944,11.811 \n",
       "  \"/>\n",
       "<polyline clip-path=\"url(#clip5902)\" style=\"stroke:#000000; stroke-width:0.5; stroke-opacity:0.1; fill:none\" points=\"\n",
       "  310.509,375.869 310.509,11.811 \n",
       "  \"/>\n",
       "<polyline clip-path=\"url(#clip5902)\" style=\"stroke:#000000; stroke-width:0.5; stroke-opacity:0.1; fill:none\" points=\"\n",
       "  441.073,375.869 441.073,11.811 \n",
       "  \"/>\n",
       "<polyline clip-path=\"url(#clip5902)\" style=\"stroke:#000000; stroke-width:0.5; stroke-opacity:0.1; fill:none\" points=\"\n",
       "  571.637,375.869 571.637,11.811 \n",
       "  \"/>\n",
       "<polyline clip-path=\"url(#clip5902)\" style=\"stroke:#000000; stroke-width:0.5; stroke-opacity:0.1; fill:none\" points=\"\n",
       "  39.1651,365.565 580.315,365.565 \n",
       "  \"/>\n",
       "<polyline clip-path=\"url(#clip5902)\" style=\"stroke:#000000; stroke-width:0.5; stroke-opacity:0.1; fill:none\" points=\"\n",
       "  39.1651,279.697 580.315,279.697 \n",
       "  \"/>\n",
       "<polyline clip-path=\"url(#clip5902)\" style=\"stroke:#000000; stroke-width:0.5; stroke-opacity:0.1; fill:none\" points=\"\n",
       "  39.1651,193.829 580.315,193.829 \n",
       "  \"/>\n",
       "<polyline clip-path=\"url(#clip5902)\" style=\"stroke:#000000; stroke-width:0.5; stroke-opacity:0.1; fill:none\" points=\"\n",
       "  39.1651,107.961 580.315,107.961 \n",
       "  \"/>\n",
       "<polyline clip-path=\"url(#clip5902)\" style=\"stroke:#000000; stroke-width:0.5; stroke-opacity:0.1; fill:none\" points=\"\n",
       "  39.1651,22.0925 580.315,22.0925 \n",
       "  \"/>\n",
       "<polyline clip-path=\"url(#clip5900)\" style=\"stroke:#000000; stroke-width:1; stroke-opacity:1; fill:none\" points=\"\n",
       "  39.1651,375.869 580.315,375.869 \n",
       "  \"/>\n",
       "<polyline clip-path=\"url(#clip5900)\" style=\"stroke:#000000; stroke-width:1; stroke-opacity:1; fill:none\" points=\"\n",
       "  39.1651,375.869 39.1651,11.811 \n",
       "  \"/>\n",
       "<polyline clip-path=\"url(#clip5900)\" style=\"stroke:#000000; stroke-width:1; stroke-opacity:1; fill:none\" points=\"\n",
       "  49.3804,375.869 49.3804,370.408 \n",
       "  \"/>\n",
       "<polyline clip-path=\"url(#clip5900)\" style=\"stroke:#000000; stroke-width:1; stroke-opacity:1; fill:none\" points=\"\n",
       "  179.944,375.869 179.944,370.408 \n",
       "  \"/>\n",
       "<polyline clip-path=\"url(#clip5900)\" style=\"stroke:#000000; stroke-width:1; stroke-opacity:1; fill:none\" points=\"\n",
       "  310.509,375.869 310.509,370.408 \n",
       "  \"/>\n",
       "<polyline clip-path=\"url(#clip5900)\" style=\"stroke:#000000; stroke-width:1; stroke-opacity:1; fill:none\" points=\"\n",
       "  441.073,375.869 441.073,370.408 \n",
       "  \"/>\n",
       "<polyline clip-path=\"url(#clip5900)\" style=\"stroke:#000000; stroke-width:1; stroke-opacity:1; fill:none\" points=\"\n",
       "  571.637,375.869 571.637,370.408 \n",
       "  \"/>\n",
       "<polyline clip-path=\"url(#clip5900)\" style=\"stroke:#000000; stroke-width:1; stroke-opacity:1; fill:none\" points=\"\n",
       "  39.1651,365.565 47.2823,365.565 \n",
       "  \"/>\n",
       "<polyline clip-path=\"url(#clip5900)\" style=\"stroke:#000000; stroke-width:1; stroke-opacity:1; fill:none\" points=\"\n",
       "  39.1651,279.697 47.2823,279.697 \n",
       "  \"/>\n",
       "<polyline clip-path=\"url(#clip5900)\" style=\"stroke:#000000; stroke-width:1; stroke-opacity:1; fill:none\" points=\"\n",
       "  39.1651,193.829 47.2823,193.829 \n",
       "  \"/>\n",
       "<polyline clip-path=\"url(#clip5900)\" style=\"stroke:#000000; stroke-width:1; stroke-opacity:1; fill:none\" points=\"\n",
       "  39.1651,107.961 47.2823,107.961 \n",
       "  \"/>\n",
       "<polyline clip-path=\"url(#clip5900)\" style=\"stroke:#000000; stroke-width:1; stroke-opacity:1; fill:none\" points=\"\n",
       "  39.1651,22.0925 47.2823,22.0925 \n",
       "  \"/>\n",
       "<g clip-path=\"url(#clip5900)\">\n",
       "<text style=\"fill:#000000; fill-opacity:1; font-family:Arial,Helvetica Neue,Helvetica,sans-serif; font-size:12; text-anchor:middle;\" transform=\"rotate(0, 49.3804, 389.669)\" x=\"49.3804\" y=\"389.669\">0.00</text>\n",
       "</g>\n",
       "<g clip-path=\"url(#clip5900)\">\n",
       "<text style=\"fill:#000000; fill-opacity:1; font-family:Arial,Helvetica Neue,Helvetica,sans-serif; font-size:12; text-anchor:middle;\" transform=\"rotate(0, 179.944, 389.669)\" x=\"179.944\" y=\"389.669\">0.25</text>\n",
       "</g>\n",
       "<g clip-path=\"url(#clip5900)\">\n",
       "<text style=\"fill:#000000; fill-opacity:1; font-family:Arial,Helvetica Neue,Helvetica,sans-serif; font-size:12; text-anchor:middle;\" transform=\"rotate(0, 310.509, 389.669)\" x=\"310.509\" y=\"389.669\">0.50</text>\n",
       "</g>\n",
       "<g clip-path=\"url(#clip5900)\">\n",
       "<text style=\"fill:#000000; fill-opacity:1; font-family:Arial,Helvetica Neue,Helvetica,sans-serif; font-size:12; text-anchor:middle;\" transform=\"rotate(0, 441.073, 389.669)\" x=\"441.073\" y=\"389.669\">0.75</text>\n",
       "</g>\n",
       "<g clip-path=\"url(#clip5900)\">\n",
       "<text style=\"fill:#000000; fill-opacity:1; font-family:Arial,Helvetica Neue,Helvetica,sans-serif; font-size:12; text-anchor:middle;\" transform=\"rotate(0, 571.637, 389.669)\" x=\"571.637\" y=\"389.669\">1.00</text>\n",
       "</g>\n",
       "<g clip-path=\"url(#clip5900)\">\n",
       "<text style=\"fill:#000000; fill-opacity:1; font-family:Arial,Helvetica Neue,Helvetica,sans-serif; font-size:12; text-anchor:end;\" transform=\"rotate(0, 33.1651, 370.065)\" x=\"33.1651\" y=\"370.065\">0.00</text>\n",
       "</g>\n",
       "<g clip-path=\"url(#clip5900)\">\n",
       "<text style=\"fill:#000000; fill-opacity:1; font-family:Arial,Helvetica Neue,Helvetica,sans-serif; font-size:12; text-anchor:end;\" transform=\"rotate(0, 33.1651, 284.197)\" x=\"33.1651\" y=\"284.197\">0.25</text>\n",
       "</g>\n",
       "<g clip-path=\"url(#clip5900)\">\n",
       "<text style=\"fill:#000000; fill-opacity:1; font-family:Arial,Helvetica Neue,Helvetica,sans-serif; font-size:12; text-anchor:end;\" transform=\"rotate(0, 33.1651, 198.329)\" x=\"33.1651\" y=\"198.329\">0.50</text>\n",
       "</g>\n",
       "<g clip-path=\"url(#clip5900)\">\n",
       "<text style=\"fill:#000000; fill-opacity:1; font-family:Arial,Helvetica Neue,Helvetica,sans-serif; font-size:12; text-anchor:end;\" transform=\"rotate(0, 33.1651, 112.461)\" x=\"33.1651\" y=\"112.461\">0.75</text>\n",
       "</g>\n",
       "<g clip-path=\"url(#clip5900)\">\n",
       "<text style=\"fill:#000000; fill-opacity:1; font-family:Arial,Helvetica Neue,Helvetica,sans-serif; font-size:12; text-anchor:end;\" transform=\"rotate(0, 33.1651, 26.5925)\" x=\"33.1651\" y=\"26.5925\">1.00</text>\n",
       "</g>\n",
       "<polyline clip-path=\"url(#clip5902)\" style=\"stroke:#009af9; stroke-width:3; stroke-opacity:1; fill:none\" points=\"\n",
       "  54.4806,365.565 101.64,365.564 129.981,365.562 153.942,365.556 179.972,365.531 203.968,365.453 229.695,365.171 259.502,363.873 272.747,362.343 285.991,359.453 \n",
       "  297.606,354.915 309.22,347.19 315.551,340.987 321.883,332.901 328.214,322.514 334.545,309.421 340.914,293.197 347.283,273.784 353.652,251.356 360.021,226.477 \n",
       "  367.063,197.263 374.104,167.848 381.146,139.915 388.188,114.824 394.888,94.3388 401.588,77.3809 408.288,63.7914 414.988,53.1818 421.954,44.788 428.921,38.5411 \n",
       "  435.887,33.9501 442.854,30.6071 454.582,26.9388 466.311,24.8379 494.949,22.7718 521.87,22.2745 564.999,22.1145 \n",
       "  \"/>\n",
       "<circle clip-path=\"url(#clip5902)\" style=\"fill:#000000; stroke:none; fill-opacity:1\" cx=\"226.009\" cy=\"365.236\" r=\"4\"/>\n",
       "<circle clip-path=\"url(#clip5902)\" style=\"fill:#e26f46; stroke:none; fill-opacity:1\" cx=\"226.009\" cy=\"365.236\" r=\"3\"/>\n",
       "<circle clip-path=\"url(#clip5902)\" style=\"fill:#000000; stroke:none; fill-opacity:1\" cx=\"509.382\" cy=\"22.4278\" r=\"4\"/>\n",
       "<circle clip-path=\"url(#clip5902)\" style=\"fill:#3da44d; stroke:none; fill-opacity:1\" cx=\"509.382\" cy=\"22.4278\" r=\"3\"/>\n",
       "<polygon clip-path=\"url(#clip5900)\" points=\"\n",
       "57.1651,93.171 158.644,93.171 158.644,32.691 57.1651,32.691 \n",
       "  \" fill=\"#ffffff\" fill-opacity=\"1\"/>\n",
       "<polyline clip-path=\"url(#clip5900)\" style=\"stroke:#000000; stroke-width:1; stroke-opacity:1; fill:none\" points=\"\n",
       "  57.1651,93.171 158.644,93.171 158.644,32.691 57.1651,32.691 57.1651,93.171 \n",
       "  \"/>\n",
       "<polyline clip-path=\"url(#clip5900)\" style=\"stroke:#009af9; stroke-width:3; stroke-opacity:1; fill:none\" points=\"\n",
       "  63.1651,47.811 99.1651,47.811 \n",
       "  \"/>\n",
       "<g clip-path=\"url(#clip5900)\">\n",
       "<text style=\"fill:#000000; fill-opacity:1; font-family:Arial,Helvetica Neue,Helvetica,sans-serif; font-size:12; text-anchor:start;\" transform=\"rotate(0, 105.165, 52.311)\" x=\"105.165\" y=\"52.311\">Model</text>\n",
       "</g>\n",
       "<circle clip-path=\"url(#clip5900)\" style=\"fill:#000000; stroke:none; fill-opacity:1\" cx=\"84.1651\" cy=\"62.931\" r=\"6\"/>\n",
       "<circle clip-path=\"url(#clip5900)\" style=\"fill:#e26f46; stroke:none; fill-opacity:1\" cx=\"84.1651\" cy=\"62.931\" r=\"5\"/>\n",
       "<g clip-path=\"url(#clip5900)\">\n",
       "<text style=\"fill:#000000; fill-opacity:1; font-family:Arial,Helvetica Neue,Helvetica,sans-serif; font-size:12; text-anchor:start;\" transform=\"rotate(0, 105.165, 67.431)\" x=\"105.165\" y=\"67.431\">Apple</text>\n",
       "</g>\n",
       "<circle clip-path=\"url(#clip5900)\" style=\"fill:#000000; stroke:none; fill-opacity:1\" cx=\"84.1651\" cy=\"78.051\" r=\"6\"/>\n",
       "<circle clip-path=\"url(#clip5900)\" style=\"fill:#3da44d; stroke:none; fill-opacity:1\" cx=\"84.1651\" cy=\"78.051\" r=\"5\"/>\n",
       "<g clip-path=\"url(#clip5900)\">\n",
       "<text style=\"fill:#000000; fill-opacity:1; font-family:Arial,Helvetica Neue,Helvetica,sans-serif; font-size:12; text-anchor:start;\" transform=\"rotate(0, 105.165, 82.551)\" x=\"105.165\" y=\"82.551\">Banana</text>\n",
       "</g>\n",
       "</svg>\n"
      ]
     },
     "execution_count": 38,
     "metadata": {},
     "output_type": "execute_result"
    }
   ],
   "source": [
    "w = 25.58; b = 15.6\n",
    "plot(x->σ(x,w,b),0,1,label=\"Model\",legend = :topleft,lw=3)\n",
    "scatter!([0.33820274],[σ(0.33820274,w,b)],label=\"Apple\")\n",
    "scatter!([0.88079727],[σ(0.88079727,w,b)],label=\"Banana\")"
   ]
  },
  {
   "cell_type": "markdown",
   "metadata": {},
   "source": [
    "Once we have a model, we have a computational representation for how to choose between \"apple\" and \"banana\". Let's pull in some new images and see what our model says!"
   ]
  },
  {
   "cell_type": "code",
   "execution_count": 41,
   "metadata": {},
   "outputs": [
    {
     "data": {
      "image/png": "[encoded data removed]",
      "text/plain": [
       "100×100 Array{RGB{N0f8},2}:\n",
       " RGB{N0f8}(0.984,1.0,1.0)    …  RGB{N0f8}(1.0,1.0,1.0)\n",
       " RGB{N0f8}(0.992,0.996,1.0)     RGB{N0f8}(1.0,1.0,1.0)\n",
       " RGB{N0f8}(1.0,0.992,0.988)     RGB{N0f8}(1.0,1.0,1.0)\n",
       " RGB{N0f8}(1.0,0.988,0.976)     RGB{N0f8}(1.0,1.0,1.0)\n",
       " RGB{N0f8}(1.0,0.992,0.973)     RGB{N0f8}(1.0,1.0,1.0)\n",
       " RGB{N0f8}(1.0,0.996,0.976)  …  RGB{N0f8}(1.0,1.0,1.0)\n",
       " RGB{N0f8}(0.984,1.0,0.98)      RGB{N0f8}(1.0,1.0,1.0)\n",
       " RGB{N0f8}(0.976,1.0,0.984)     RGB{N0f8}(1.0,1.0,1.0)\n",
       " RGB{N0f8}(0.969,1.0,0.992)     RGB{N0f8}(1.0,1.0,1.0)\n",
       " RGB{N0f8}(0.973,1.0,1.0)       RGB{N0f8}(1.0,1.0,1.0)\n",
       " RGB{N0f8}(0.984,1.0,1.0)    …  RGB{N0f8}(1.0,1.0,1.0)\n",
       " RGB{N0f8}(0.996,0.992,1.0)     RGB{N0f8}(1.0,1.0,1.0)\n",
       " RGB{N0f8}(1.0,0.992,1.0)       RGB{N0f8}(1.0,1.0,1.0)\n",
       " ⋮                           ⋱                        \n",
       " RGB{N0f8}(1.0,1.0,1.0)         RGB{N0f8}(1.0,1.0,1.0)\n",
       " RGB{N0f8}(1.0,1.0,1.0)         RGB{N0f8}(1.0,1.0,1.0)\n",
       " RGB{N0f8}(1.0,1.0,1.0)      …  RGB{N0f8}(1.0,1.0,1.0)\n",
       " RGB{N0f8}(1.0,1.0,1.0)         RGB{N0f8}(1.0,1.0,1.0)\n",
       " RGB{N0f8}(0.996,1.0,1.0)       RGB{N0f8}(1.0,1.0,1.0)\n",
       " RGB{N0f8}(0.996,1.0,1.0)       RGB{N0f8}(1.0,1.0,1.0)\n",
       " RGB{N0f8}(0.996,1.0,1.0)       RGB{N0f8}(1.0,1.0,1.0)\n",
       " RGB{N0f8}(0.996,1.0,1.0)    …  RGB{N0f8}(1.0,1.0,1.0)\n",
       " RGB{N0f8}(1.0,1.0,1.0)         RGB{N0f8}(1.0,1.0,1.0)\n",
       " RGB{N0f8}(1.0,1.0,1.0)         RGB{N0f8}(1.0,1.0,1.0)\n",
       " RGB{N0f8}(1.0,1.0,1.0)         RGB{N0f8}(1.0,1.0,1.0)\n",
       " RGB{N0f8}(1.0,1.0,1.0)         RGB{N0f8}(1.0,1.0,1.0)"
      ]
     },
     "execution_count": 41,
     "metadata": {},
     "output_type": "execute_result"
    }
   ],
   "source": [
    "apple2 = load(\"107_100.jpg\")"
   ]
  },
  {
   "cell_type": "code",
   "execution_count": 43,
   "metadata": {},
   "outputs": [
    {
     "data": {
      "text/html": [
       "<?xml version=\"1.0\" encoding=\"utf-8\"?>\n",
       "<svg xmlns=\"http://www.w3.org/2000/svg\" xmlns:xlink=\"http://www.w3.org/1999/xlink\" width=\"600\" height=\"400\" viewBox=\"0 0 600 400\">\n",
       "<defs>\n",
       "  <clipPath id=\"clip6100\">\n",
       "    <rect x=\"0\" y=\"0\" width=\"600\" height=\"400\"/>\n",
       "  </clipPath>\n",
       "</defs>\n",
       "<polygon clip-path=\"url(#clip6100)\" points=\"\n",
       "0,400 600,400 600,0 0,0 \n",
       "  \" fill=\"#ffffff\" fill-opacity=\"1\"/>\n",
       "<defs>\n",
       "  <clipPath id=\"clip6101\">\n",
       "    <rect x=\"120\" y=\"0\" width=\"421\" height=\"400\"/>\n",
       "  </clipPath>\n",
       "</defs>\n",
       "<polygon clip-path=\"url(#clip6100)\" points=\"\n",
       "39.1651,375.869 580.315,375.869 580.315,11.811 39.1651,11.811 \n",
       "  \" fill=\"#ffffff\" fill-opacity=\"1\"/>\n",
       "<defs>\n",
       "  <clipPath id=\"clip6102\">\n",
       "    <rect x=\"39\" y=\"11\" width=\"542\" height=\"365\"/>\n",
       "  </clipPath>\n",
       "</defs>\n",
       "<polyline clip-path=\"url(#clip6102)\" style=\"stroke:#000000; stroke-width:0.5; stroke-opacity:0.1; fill:none\" points=\"\n",
       "  49.3804,375.869 49.3804,11.811 \n",
       "  \"/>\n",
       "<polyline clip-path=\"url(#clip6102)\" style=\"stroke:#000000; stroke-width:0.5; stroke-opacity:0.1; fill:none\" points=\"\n",
       "  179.944,375.869 179.944,11.811 \n",
       "  \"/>\n",
       "<polyline clip-path=\"url(#clip6102)\" style=\"stroke:#000000; stroke-width:0.5; stroke-opacity:0.1; fill:none\" points=\"\n",
       "  310.509,375.869 310.509,11.811 \n",
       "  \"/>\n",
       "<polyline clip-path=\"url(#clip6102)\" style=\"stroke:#000000; stroke-width:0.5; stroke-opacity:0.1; fill:none\" points=\"\n",
       "  441.073,375.869 441.073,11.811 \n",
       "  \"/>\n",
       "<polyline clip-path=\"url(#clip6102)\" style=\"stroke:#000000; stroke-width:0.5; stroke-opacity:0.1; fill:none\" points=\"\n",
       "  571.637,375.869 571.637,11.811 \n",
       "  \"/>\n",
       "<polyline clip-path=\"url(#clip6102)\" style=\"stroke:#000000; stroke-width:0.5; stroke-opacity:0.1; fill:none\" points=\"\n",
       "  39.1651,365.565 580.315,365.565 \n",
       "  \"/>\n",
       "<polyline clip-path=\"url(#clip6102)\" style=\"stroke:#000000; stroke-width:0.5; stroke-opacity:0.1; fill:none\" points=\"\n",
       "  39.1651,279.697 580.315,279.697 \n",
       "  \"/>\n",
       "<polyline clip-path=\"url(#clip6102)\" style=\"stroke:#000000; stroke-width:0.5; stroke-opacity:0.1; fill:none\" points=\"\n",
       "  39.1651,193.829 580.315,193.829 \n",
       "  \"/>\n",
       "<polyline clip-path=\"url(#clip6102)\" style=\"stroke:#000000; stroke-width:0.5; stroke-opacity:0.1; fill:none\" points=\"\n",
       "  39.1651,107.961 580.315,107.961 \n",
       "  \"/>\n",
       "<polyline clip-path=\"url(#clip6102)\" style=\"stroke:#000000; stroke-width:0.5; stroke-opacity:0.1; fill:none\" points=\"\n",
       "  39.1651,22.0925 580.315,22.0925 \n",
       "  \"/>\n",
       "<polyline clip-path=\"url(#clip6100)\" style=\"stroke:#000000; stroke-width:1; stroke-opacity:1; fill:none\" points=\"\n",
       "  39.1651,375.869 580.315,375.869 \n",
       "  \"/>\n",
       "<polyline clip-path=\"url(#clip6100)\" style=\"stroke:#000000; stroke-width:1; stroke-opacity:1; fill:none\" points=\"\n",
       "  39.1651,375.869 39.1651,11.811 \n",
       "  \"/>\n",
       "<polyline clip-path=\"url(#clip6100)\" style=\"stroke:#000000; stroke-width:1; stroke-opacity:1; fill:none\" points=\"\n",
       "  49.3804,375.869 49.3804,370.408 \n",
       "  \"/>\n",
       "<polyline clip-path=\"url(#clip6100)\" style=\"stroke:#000000; stroke-width:1; stroke-opacity:1; fill:none\" points=\"\n",
       "  179.944,375.869 179.944,370.408 \n",
       "  \"/>\n",
       "<polyline clip-path=\"url(#clip6100)\" style=\"stroke:#000000; stroke-width:1; stroke-opacity:1; fill:none\" points=\"\n",
       "  310.509,375.869 310.509,370.408 \n",
       "  \"/>\n",
       "<polyline clip-path=\"url(#clip6100)\" style=\"stroke:#000000; stroke-width:1; stroke-opacity:1; fill:none\" points=\"\n",
       "  441.073,375.869 441.073,370.408 \n",
       "  \"/>\n",
       "<polyline clip-path=\"url(#clip6100)\" style=\"stroke:#000000; stroke-width:1; stroke-opacity:1; fill:none\" points=\"\n",
       "  571.637,375.869 571.637,370.408 \n",
       "  \"/>\n",
       "<polyline clip-path=\"url(#clip6100)\" style=\"stroke:#000000; stroke-width:1; stroke-opacity:1; fill:none\" points=\"\n",
       "  39.1651,365.565 47.2823,365.565 \n",
       "  \"/>\n",
       "<polyline clip-path=\"url(#clip6100)\" style=\"stroke:#000000; stroke-width:1; stroke-opacity:1; fill:none\" points=\"\n",
       "  39.1651,279.697 47.2823,279.697 \n",
       "  \"/>\n",
       "<polyline clip-path=\"url(#clip6100)\" style=\"stroke:#000000; stroke-width:1; stroke-opacity:1; fill:none\" points=\"\n",
       "  39.1651,193.829 47.2823,193.829 \n",
       "  \"/>\n",
       "<polyline clip-path=\"url(#clip6100)\" style=\"stroke:#000000; stroke-width:1; stroke-opacity:1; fill:none\" points=\"\n",
       "  39.1651,107.961 47.2823,107.961 \n",
       "  \"/>\n",
       "<polyline clip-path=\"url(#clip6100)\" style=\"stroke:#000000; stroke-width:1; stroke-opacity:1; fill:none\" points=\"\n",
       "  39.1651,22.0925 47.2823,22.0925 \n",
       "  \"/>\n",
       "<g clip-path=\"url(#clip6100)\">\n",
       "<text style=\"fill:#000000; fill-opacity:1; font-family:Arial,Helvetica Neue,Helvetica,sans-serif; font-size:12; text-anchor:middle;\" transform=\"rotate(0, 49.3804, 389.669)\" x=\"49.3804\" y=\"389.669\">0.00</text>\n",
       "</g>\n",
       "<g clip-path=\"url(#clip6100)\">\n",
       "<text style=\"fill:#000000; fill-opacity:1; font-family:Arial,Helvetica Neue,Helvetica,sans-serif; font-size:12; text-anchor:middle;\" transform=\"rotate(0, 179.944, 389.669)\" x=\"179.944\" y=\"389.669\">0.25</text>\n",
       "</g>\n",
       "<g clip-path=\"url(#clip6100)\">\n",
       "<text style=\"fill:#000000; fill-opacity:1; font-family:Arial,Helvetica Neue,Helvetica,sans-serif; font-size:12; text-anchor:middle;\" transform=\"rotate(0, 310.509, 389.669)\" x=\"310.509\" y=\"389.669\">0.50</text>\n",
       "</g>\n",
       "<g clip-path=\"url(#clip6100)\">\n",
       "<text style=\"fill:#000000; fill-opacity:1; font-family:Arial,Helvetica Neue,Helvetica,sans-serif; font-size:12; text-anchor:middle;\" transform=\"rotate(0, 441.073, 389.669)\" x=\"441.073\" y=\"389.669\">0.75</text>\n",
       "</g>\n",
       "<g clip-path=\"url(#clip6100)\">\n",
       "<text style=\"fill:#000000; fill-opacity:1; font-family:Arial,Helvetica Neue,Helvetica,sans-serif; font-size:12; text-anchor:middle;\" transform=\"rotate(0, 571.637, 389.669)\" x=\"571.637\" y=\"389.669\">1.00</text>\n",
       "</g>\n",
       "<g clip-path=\"url(#clip6100)\">\n",
       "<text style=\"fill:#000000; fill-opacity:1; font-family:Arial,Helvetica Neue,Helvetica,sans-serif; font-size:12; text-anchor:end;\" transform=\"rotate(0, 33.1651, 370.065)\" x=\"33.1651\" y=\"370.065\">0.00</text>\n",
       "</g>\n",
       "<g clip-path=\"url(#clip6100)\">\n",
       "<text style=\"fill:#000000; fill-opacity:1; font-family:Arial,Helvetica Neue,Helvetica,sans-serif; font-size:12; text-anchor:end;\" transform=\"rotate(0, 33.1651, 284.197)\" x=\"33.1651\" y=\"284.197\">0.25</text>\n",
       "</g>\n",
       "<g clip-path=\"url(#clip6100)\">\n",
       "<text style=\"fill:#000000; fill-opacity:1; font-family:Arial,Helvetica Neue,Helvetica,sans-serif; font-size:12; text-anchor:end;\" transform=\"rotate(0, 33.1651, 198.329)\" x=\"33.1651\" y=\"198.329\">0.50</text>\n",
       "</g>\n",
       "<g clip-path=\"url(#clip6100)\">\n",
       "<text style=\"fill:#000000; fill-opacity:1; font-family:Arial,Helvetica Neue,Helvetica,sans-serif; font-size:12; text-anchor:end;\" transform=\"rotate(0, 33.1651, 112.461)\" x=\"33.1651\" y=\"112.461\">0.75</text>\n",
       "</g>\n",
       "<g clip-path=\"url(#clip6100)\">\n",
       "<text style=\"fill:#000000; fill-opacity:1; font-family:Arial,Helvetica Neue,Helvetica,sans-serif; font-size:12; text-anchor:end;\" transform=\"rotate(0, 33.1651, 26.5925)\" x=\"33.1651\" y=\"26.5925\">1.00</text>\n",
       "</g>\n",
       "<polyline clip-path=\"url(#clip6102)\" style=\"stroke:#009af9; stroke-width:3; stroke-opacity:1; fill:none\" points=\"\n",
       "  54.4806,365.565 101.64,365.564 129.981,365.562 153.942,365.556 179.972,365.531 203.968,365.453 229.695,365.171 259.502,363.873 272.747,362.343 285.991,359.453 \n",
       "  297.606,354.915 309.22,347.19 315.551,340.987 321.883,332.901 328.214,322.514 334.545,309.421 340.914,293.197 347.283,273.784 353.652,251.356 360.021,226.477 \n",
       "  367.063,197.263 374.104,167.848 381.146,139.915 388.188,114.824 394.888,94.3388 401.588,77.3809 408.288,63.7914 414.988,53.1818 421.954,44.788 428.921,38.5411 \n",
       "  435.887,33.9501 442.854,30.6071 454.582,26.9388 466.311,24.8379 494.949,22.7718 521.87,22.2745 564.999,22.1145 \n",
       "  \"/>\n",
       "<circle clip-path=\"url(#clip6102)\" style=\"fill:#000000; stroke:none; fill-opacity:1\" cx=\"226.009\" cy=\"365.236\" r=\"4\"/>\n",
       "<circle clip-path=\"url(#clip6102)\" style=\"fill:#e26f46; stroke:none; fill-opacity:1\" cx=\"226.009\" cy=\"365.236\" r=\"3\"/>\n",
       "<polygon clip-path=\"url(#clip6100)\" points=\"\n",
       "57.1651,78.051 175.347,78.051 175.347,32.691 57.1651,32.691 \n",
       "  \" fill=\"#ffffff\" fill-opacity=\"1\"/>\n",
       "<polyline clip-path=\"url(#clip6100)\" style=\"stroke:#000000; stroke-width:1; stroke-opacity:1; fill:none\" points=\"\n",
       "  57.1651,78.051 175.347,78.051 175.347,32.691 57.1651,32.691 57.1651,78.051 \n",
       "  \"/>\n",
       "<polyline clip-path=\"url(#clip6100)\" style=\"stroke:#009af9; stroke-width:3; stroke-opacity:1; fill:none\" points=\"\n",
       "  63.1651,47.811 99.1651,47.811 \n",
       "  \"/>\n",
       "<g clip-path=\"url(#clip6100)\">\n",
       "<text style=\"fill:#000000; fill-opacity:1; font-family:Arial,Helvetica Neue,Helvetica,sans-serif; font-size:12; text-anchor:start;\" transform=\"rotate(0, 105.165, 52.311)\" x=\"105.165\" y=\"52.311\">Model</text>\n",
       "</g>\n",
       "<circle clip-path=\"url(#clip6100)\" style=\"fill:#000000; stroke:none; fill-opacity:1\" cx=\"84.1651\" cy=\"62.931\" r=\"6\"/>\n",
       "<circle clip-path=\"url(#clip6100)\" style=\"fill:#e26f46; stroke:none; fill-opacity:1\" cx=\"84.1651\" cy=\"62.931\" r=\"5\"/>\n",
       "<g clip-path=\"url(#clip6100)\">\n",
       "<text style=\"fill:#000000; fill-opacity:1; font-family:Arial,Helvetica Neue,Helvetica,sans-serif; font-size:12; text-anchor:start;\" transform=\"rotate(0, 105.165, 67.431)\" x=\"105.165\" y=\"67.431\">New Apple</text>\n",
       "</g>\n",
       "</svg>\n"
      ]
     },
     "execution_count": 43,
     "metadata": {},
     "output_type": "execute_result"
    }
   ],
   "source": [
    "green_amt = mean(float.(green.(apple)))\n",
    "w = 25.58; b = 15.6\n",
    "plot(x->σ(x,w,b),0,1,label=\"Model\",legend = :topleft,lw=3)\n",
    "scatter!([0.33820274],[σ(0.33820274,w,b)],label=\"New Apple\")"
   ]
  },
  {
   "cell_type": "markdown",
   "metadata": {},
   "source": [
    "Our model successfully says that our new image is an apple! Pat yourself on the back: you've actually trained your first neural net.\n",
    "\n",
    "## Closing Remarks: Bigger Models, More Data, More Accuracy\n",
    "\n",
    "That last apple should start making you think: not all apples are that red and some are quite yellow. \"redness\" is one attribute of being an apple, but isn't the full thing. What we need to do is incorporate more ideas into our model by allowing more inputs. However, more inputs would mean more parameters to tweak. Also, we would like to have the computer start \"learning\" on its own. How do we take the next step?\n",
    "\n",
    "The first thing to think about is, if you wanted to incorporate more data into the model, how would you change the sigmoid function? Play around with some ideas. But also, start thinking about how you chose parameters. What process did you do to finally end up at good parameters? These two problems (models with more data and automatically choosing parameters) are the last remaining step to understanding deep learning."
   ]
  }
 ],
 "metadata": {
  "kernelspec": {
   "display_name": "Julia 0.6.2",
   "language": "julia",
   "name": "julia-0.6"
  },
  "language_info": {
   "file_extension": ".jl",
   "mimetype": "application/julia",
   "name": "julia",
   "version": "0.6.2"
  }
 },
 "nbformat": 4,
 "nbformat_minor": 2
}
