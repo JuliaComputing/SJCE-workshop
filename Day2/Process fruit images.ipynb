{
 "cells": [
  {
   "cell_type": "code",
   "execution_count": 2,
   "metadata": {},
   "outputs": [],
   "source": [
    "using Images"
   ]
  },
  {
   "cell_type": "code",
   "execution_count": 51,
   "metadata": {},
   "outputs": [
    {
     "data": {
      "image/svg+xml": [
       "<?xml version=\"1.0\" encoding=\"UTF-8\"?>\n",
       "<!DOCTYPE svg PUBLIC \"-//W3C//DTD SVG 1.1//EN\"\n",
       " \"http://www.w3.org/Graphics/SVG/1.1/DTD/svg11.dtd\">\n",
       "<svg xmlns=\"http://www.w3.org/2000/svg\" version=\"1.1\"\n",
       "     width=\"25mm\" height=\"25mm\" viewBox=\"0 0 1 1\">\n",
       "     <rect width=\"1\" height=\"1\"\n",
       "           fill=\"#000000\" stroke=\"none\"/>\n",
       "</svg>\n"
      ],
      "text/plain": [
       "RGB4{N0f8}(0.0,0.0,0.0)"
      ]
     },
     "execution_count": 51,
     "metadata": {},
     "output_type": "execute_result"
    }
   ],
   "source": [
    "const white = RGB4{N0f8}(1.0, 1.0, 1.0)\n",
    "const black = RGB4{N0f8}(0.0, 0.0, 0.0)"
   ]
  },
  {
   "cell_type": "code",
   "execution_count": 52,
   "metadata": {},
   "outputs": [
    {
     "data": {
      "image/png": "[encoded data removed]",
      "text/plain": [
       "100×100 Array{RGB4{N0f8},2}:\n",
       " RGB4{N0f8}(0.996,1.0,0.984)    …  RGB4{N0f8}(1.0,1.0,1.0)\n",
       " RGB4{N0f8}(0.984,1.0,0.98)        RGB4{N0f8}(1.0,1.0,1.0)\n",
       " RGB4{N0f8}(0.98,1.0,0.988)        RGB4{N0f8}(1.0,1.0,1.0)\n",
       " RGB4{N0f8}(0.969,1.0,0.992)       RGB4{N0f8}(1.0,1.0,1.0)\n",
       " RGB4{N0f8}(0.969,1.0,1.0)         RGB4{N0f8}(1.0,1.0,1.0)\n",
       " RGB4{N0f8}(0.98,1.0,1.0)       …  RGB4{N0f8}(1.0,1.0,1.0)\n",
       " RGB4{N0f8}(0.992,0.996,1.0)       RGB4{N0f8}(1.0,1.0,1.0)\n",
       " RGB4{N0f8}(0.996,0.992,1.0)       RGB4{N0f8}(1.0,1.0,1.0)\n",
       " RGB4{N0f8}(0.996,0.988,1.0)       RGB4{N0f8}(1.0,1.0,1.0)\n",
       " RGB4{N0f8}(1.0,0.984,1.0)         RGB4{N0f8}(1.0,1.0,1.0)\n",
       " RGB4{N0f8}(1.0,0.992,1.0)      …  RGB4{N0f8}(1.0,1.0,1.0)\n",
       " RGB4{N0f8}(1.0,0.996,1.0)         RGB4{N0f8}(1.0,1.0,1.0)\n",
       " RGB4{N0f8}(1.0,1.0,1.0)           RGB4{N0f8}(1.0,1.0,1.0)\n",
       " ⋮                              ⋱                         \n",
       " RGB4{N0f8}(0.992,1.0,0.988)       RGB4{N0f8}(1.0,1.0,1.0)\n",
       " RGB4{N0f8}(0.992,1.0,0.988)       RGB4{N0f8}(1.0,1.0,1.0)\n",
       " RGB4{N0f8}(0.992,1.0,0.996)    …  RGB4{N0f8}(1.0,1.0,1.0)\n",
       " RGB4{N0f8}(0.996,1.0,1.0)         RGB4{N0f8}(1.0,1.0,1.0)\n",
       " RGB4{N0f8}(0.996,0.996,0.996)     RGB4{N0f8}(1.0,1.0,1.0)\n",
       " RGB4{N0f8}(0.996,0.996,0.996)     RGB4{N0f8}(1.0,1.0,1.0)\n",
       " RGB4{N0f8}(1.0,0.992,0.996)       RGB4{N0f8}(1.0,1.0,1.0)\n",
       " RGB4{N0f8}(1.0,0.992,0.996)    …  RGB4{N0f8}(1.0,1.0,1.0)\n",
       " RGB4{N0f8}(1.0,1.0,1.0)           RGB4{N0f8}(1.0,1.0,1.0)\n",
       " RGB4{N0f8}(1.0,1.0,1.0)           RGB4{N0f8}(1.0,1.0,1.0)\n",
       " RGB4{N0f8}(1.0,1.0,1.0)           RGB4{N0f8}(1.0,1.0,1.0)\n",
       " RGB4{N0f8}(1.0,1.0,1.0)           RGB4{N0f8}(1.0,1.0,1.0)"
      ]
     },
     "execution_count": 52,
     "metadata": {},
     "output_type": "execute_result"
    }
   ],
   "source": [
    "# apple_image = load(\"100_100.jpg\")\n",
    "apple_image = load(\"10_100.jpg\")"
   ]
  },
  {
   "cell_type": "code",
   "execution_count": 53,
   "metadata": {},
   "outputs": [
    {
     "data": {
      "text/plain": [
       "Array{ColorTypes.RGB4{FixedPointNumbers.Normed{UInt8,8}},2}"
      ]
     },
     "execution_count": 53,
     "metadata": {},
     "output_type": "execute_result"
    }
   ],
   "source": [
    "typeof(apple_image)"
   ]
  },
  {
   "cell_type": "code",
   "execution_count": 54,
   "metadata": {},
   "outputs": [
    {
     "data": {
      "text/plain": [
       "3×100×100 ChannelView(::Array{RGB4{N0f8},2}) with element type FixedPointNumbers.Normed{UInt8,8}:\n",
       "[:, :, 1] =\n",
       " 0.996N0f8  0.984N0f8  0.98N0f8   …  1.0N0f8  1.0N0f8  1.0N0f8  1.0N0f8\n",
       " 1.0N0f8    1.0N0f8    1.0N0f8       1.0N0f8  1.0N0f8  1.0N0f8  1.0N0f8\n",
       " 0.984N0f8  0.98N0f8   0.988N0f8     1.0N0f8  1.0N0f8  1.0N0f8  1.0N0f8\n",
       "\n",
       "[:, :, 2] =\n",
       " 1.0N0f8    0.996N0f8  0.984N0f8  …  1.0N0f8  1.0N0f8  1.0N0f8  1.0N0f8\n",
       " 1.0N0f8    1.0N0f8    1.0N0f8       1.0N0f8  1.0N0f8  1.0N0f8  1.0N0f8\n",
       " 0.992N0f8  0.992N0f8  0.996N0f8     1.0N0f8  1.0N0f8  1.0N0f8  1.0N0f8\n",
       "\n",
       "[:, :, 3] =\n",
       " 1.0N0f8    1.0N0f8    0.996N0f8  …  1.0N0f8  1.0N0f8  1.0N0f8  1.0N0f8\n",
       " 0.992N0f8  0.992N0f8  0.996N0f8     1.0N0f8  1.0N0f8  1.0N0f8  1.0N0f8\n",
       " 0.988N0f8  0.996N0f8  0.996N0f8     1.0N0f8  1.0N0f8  1.0N0f8  1.0N0f8\n",
       "\n",
       "...\n",
       "\n",
       "[:, :, 98] =\n",
       " 1.0N0f8  1.0N0f8  1.0N0f8  1.0N0f8  …  1.0N0f8  1.0N0f8  1.0N0f8  1.0N0f8\n",
       " 1.0N0f8  1.0N0f8  1.0N0f8  1.0N0f8     1.0N0f8  1.0N0f8  1.0N0f8  1.0N0f8\n",
       " 1.0N0f8  1.0N0f8  1.0N0f8  1.0N0f8     1.0N0f8  1.0N0f8  1.0N0f8  1.0N0f8\n",
       "\n",
       "[:, :, 99] =\n",
       " 1.0N0f8  1.0N0f8  1.0N0f8  1.0N0f8  …  1.0N0f8  1.0N0f8  1.0N0f8  1.0N0f8\n",
       " 1.0N0f8  1.0N0f8  1.0N0f8  1.0N0f8     1.0N0f8  1.0N0f8  1.0N0f8  1.0N0f8\n",
       " 1.0N0f8  1.0N0f8  1.0N0f8  1.0N0f8     1.0N0f8  1.0N0f8  1.0N0f8  1.0N0f8\n",
       "\n",
       "[:, :, 100] =\n",
       " 1.0N0f8  1.0N0f8  1.0N0f8  1.0N0f8  …  1.0N0f8  1.0N0f8  1.0N0f8  1.0N0f8\n",
       " 1.0N0f8  1.0N0f8  1.0N0f8  1.0N0f8     1.0N0f8  1.0N0f8  1.0N0f8  1.0N0f8\n",
       " 1.0N0f8  1.0N0f8  1.0N0f8  1.0N0f8     1.0N0f8  1.0N0f8  1.0N0f8  1.0N0f8"
      ]
     },
     "execution_count": 54,
     "metadata": {},
     "output_type": "execute_result"
    }
   ],
   "source": [
    "apple_channels = channelview(apple_image)"
   ]
  },
  {
   "cell_type": "code",
   "execution_count": 55,
   "metadata": {
    "collapsed": true
   },
   "outputs": [],
   "source": [
    "using MappedArrays"
   ]
  },
  {
   "cell_type": "code",
   "execution_count": 56,
   "metadata": {},
   "outputs": [
    {
     "data": {
      "text/plain": [
       "100×100 Array{Float64,2}:\n",
       " 0.996078  1.0       1.0       1.0       …  1.0       1.0  1.0  1.0  1.0\n",
       " 0.984314  0.996078  1.0       1.0          1.0       1.0  1.0  1.0  1.0\n",
       " 0.980392  0.984314  0.996078  1.0          1.0       1.0  1.0  1.0  1.0\n",
       " 0.968627  0.980392  0.996078  1.0          0.996078  1.0  1.0  1.0  1.0\n",
       " 0.968627  0.980392  1.0       1.0          0.988235  1.0  1.0  1.0  1.0\n",
       " 0.980392  0.984314  1.0       1.0       …  0.996078  1.0  1.0  1.0  1.0\n",
       " 0.992157  1.0       0.996078  1.0          1.0       1.0  1.0  1.0  1.0\n",
       " 0.996078  1.0       1.0       0.996078     1.0       1.0  1.0  1.0  1.0\n",
       " 0.996078  1.0       1.0       0.996078     1.0       1.0  1.0  1.0  1.0\n",
       " 1.0       1.0       1.0       0.992157     1.0       1.0  1.0  1.0  1.0\n",
       " 1.0       1.0       1.0       0.992157  …  1.0       1.0  1.0  1.0  1.0\n",
       " 1.0       1.0       0.992157  0.992157     0.988235  1.0  1.0  1.0  1.0\n",
       " 1.0       1.0       0.992157  0.992157     0.996078  1.0  1.0  1.0  1.0\n",
       " ⋮                                       ⋱  ⋮                           \n",
       " 0.992157  0.992157  0.996078  1.0          1.0       1.0  1.0  1.0  1.0\n",
       " 0.992157  0.992157  1.0       1.0          1.0       1.0  1.0  1.0  1.0\n",
       " 0.992157  0.996078  0.996078  1.0       …  1.0       1.0  1.0  1.0  1.0\n",
       " 0.996078  0.996078  0.996078  0.996078     1.0       1.0  1.0  1.0  1.0\n",
       " 0.996078  1.0       1.0       1.0          1.0       1.0  1.0  1.0  1.0\n",
       " 0.996078  0.996078  1.0       1.0          1.0       1.0  1.0  1.0  1.0\n",
       " 1.0       1.0       0.996078  1.0          0.996078  1.0  1.0  1.0  1.0\n",
       " 1.0       1.0       0.996078  0.996078  …  0.996078  1.0  1.0  1.0  1.0\n",
       " 1.0       1.0       1.0       1.0          1.0       1.0  1.0  1.0  1.0\n",
       " 1.0       1.0       1.0       1.0          1.0       1.0  1.0  1.0  1.0\n",
       " 1.0       1.0       1.0       1.0          1.0       1.0  1.0  1.0  1.0\n",
       " 1.0       1.0       1.0       1.0          1.0       1.0  1.0  1.0  1.0"
      ]
     },
     "execution_count": 56,
     "metadata": {},
     "output_type": "execute_result"
    }
   ],
   "source": [
    "red_channel = mappedarray(Float64, apple_channels)[1, :, :]"
   ]
  },
  {
   "cell_type": "code",
   "execution_count": 57,
   "metadata": {},
   "outputs": [
    {
     "data": {
      "image/png": "[encoded data removed]",
      "text/plain": [
       "100×100 Array{Gray{Float64},2}:\n",
       " Gray{Float64}(0.996078)  Gray{Float64}(1.0)       …  Gray{Float64}(1.0)\n",
       " Gray{Float64}(0.984314)  Gray{Float64}(0.996078)     Gray{Float64}(1.0)\n",
       " Gray{Float64}(0.980392)  Gray{Float64}(0.984314)     Gray{Float64}(1.0)\n",
       " Gray{Float64}(0.968627)  Gray{Float64}(0.980392)     Gray{Float64}(1.0)\n",
       " Gray{Float64}(0.968627)  Gray{Float64}(0.980392)     Gray{Float64}(1.0)\n",
       " Gray{Float64}(0.980392)  Gray{Float64}(0.984314)  …  Gray{Float64}(1.0)\n",
       " Gray{Float64}(0.992157)  Gray{Float64}(1.0)          Gray{Float64}(1.0)\n",
       " Gray{Float64}(0.996078)  Gray{Float64}(1.0)          Gray{Float64}(1.0)\n",
       " Gray{Float64}(0.996078)  Gray{Float64}(1.0)          Gray{Float64}(1.0)\n",
       " Gray{Float64}(1.0)       Gray{Float64}(1.0)          Gray{Float64}(1.0)\n",
       " Gray{Float64}(1.0)       Gray{Float64}(1.0)       …  Gray{Float64}(1.0)\n",
       " Gray{Float64}(1.0)       Gray{Float64}(1.0)          Gray{Float64}(1.0)\n",
       " Gray{Float64}(1.0)       Gray{Float64}(1.0)          Gray{Float64}(1.0)\n",
       " ⋮                                                 ⋱                    \n",
       " Gray{Float64}(0.992157)  Gray{Float64}(0.992157)     Gray{Float64}(1.0)\n",
       " Gray{Float64}(0.992157)  Gray{Float64}(0.992157)     Gray{Float64}(1.0)\n",
       " Gray{Float64}(0.992157)  Gray{Float64}(0.996078)  …  Gray{Float64}(1.0)\n",
       " Gray{Float64}(0.996078)  Gray{Float64}(0.996078)     Gray{Float64}(1.0)\n",
       " Gray{Float64}(0.996078)  Gray{Float64}(1.0)          Gray{Float64}(1.0)\n",
       " Gray{Float64}(0.996078)  Gray{Float64}(0.996078)     Gray{Float64}(1.0)\n",
       " Gray{Float64}(1.0)       Gray{Float64}(1.0)          Gray{Float64}(1.0)\n",
       " Gray{Float64}(1.0)       Gray{Float64}(1.0)       …  Gray{Float64}(1.0)\n",
       " Gray{Float64}(1.0)       Gray{Float64}(1.0)          Gray{Float64}(1.0)\n",
       " Gray{Float64}(1.0)       Gray{Float64}(1.0)          Gray{Float64}(1.0)\n",
       " Gray{Float64}(1.0)       Gray{Float64}(1.0)          Gray{Float64}(1.0)\n",
       " Gray{Float64}(1.0)       Gray{Float64}(1.0)          Gray{Float64}(1.0)"
      ]
     },
     "execution_count": 57,
     "metadata": {},
     "output_type": "execute_result"
    }
   ],
   "source": [
    "Gray.(red_channel)"
   ]
  },
  {
   "cell_type": "code",
   "execution_count": 58,
   "metadata": {},
   "outputs": [
    {
     "data": {
      "text/plain": [
       "0.0"
      ]
     },
     "execution_count": 58,
     "metadata": {},
     "output_type": "execute_result"
    }
   ],
   "source": [
    "red_channel[red_channel .== 1.0] = 0.0"
   ]
  },
  {
   "cell_type": "code",
   "execution_count": 59,
   "metadata": {},
   "outputs": [
    {
     "data": {
      "image/png": "[encoded data removed]",
      "text/plain": [
       "100×100 Array{Gray{Float64},2}:\n",
       " Gray{Float64}(0.996078)  Gray{Float64}(0.0)       …  Gray{Float64}(0.0)\n",
       " Gray{Float64}(0.984314)  Gray{Float64}(0.996078)     Gray{Float64}(0.0)\n",
       " Gray{Float64}(0.980392)  Gray{Float64}(0.984314)     Gray{Float64}(0.0)\n",
       " Gray{Float64}(0.968627)  Gray{Float64}(0.980392)     Gray{Float64}(0.0)\n",
       " Gray{Float64}(0.968627)  Gray{Float64}(0.980392)     Gray{Float64}(0.0)\n",
       " Gray{Float64}(0.980392)  Gray{Float64}(0.984314)  …  Gray{Float64}(0.0)\n",
       " Gray{Float64}(0.992157)  Gray{Float64}(0.0)          Gray{Float64}(0.0)\n",
       " Gray{Float64}(0.996078)  Gray{Float64}(0.0)          Gray{Float64}(0.0)\n",
       " Gray{Float64}(0.996078)  Gray{Float64}(0.0)          Gray{Float64}(0.0)\n",
       " Gray{Float64}(0.0)       Gray{Float64}(0.0)          Gray{Float64}(0.0)\n",
       " Gray{Float64}(0.0)       Gray{Float64}(0.0)       …  Gray{Float64}(0.0)\n",
       " Gray{Float64}(0.0)       Gray{Float64}(0.0)          Gray{Float64}(0.0)\n",
       " Gray{Float64}(0.0)       Gray{Float64}(0.0)          Gray{Float64}(0.0)\n",
       " ⋮                                                 ⋱                    \n",
       " Gray{Float64}(0.992157)  Gray{Float64}(0.992157)     Gray{Float64}(0.0)\n",
       " Gray{Float64}(0.992157)  Gray{Float64}(0.992157)     Gray{Float64}(0.0)\n",
       " Gray{Float64}(0.992157)  Gray{Float64}(0.996078)  …  Gray{Float64}(0.0)\n",
       " Gray{Float64}(0.996078)  Gray{Float64}(0.996078)     Gray{Float64}(0.0)\n",
       " Gray{Float64}(0.996078)  Gray{Float64}(0.0)          Gray{Float64}(0.0)\n",
       " Gray{Float64}(0.996078)  Gray{Float64}(0.996078)     Gray{Float64}(0.0)\n",
       " Gray{Float64}(0.0)       Gray{Float64}(0.0)          Gray{Float64}(0.0)\n",
       " Gray{Float64}(0.0)       Gray{Float64}(0.0)       …  Gray{Float64}(0.0)\n",
       " Gray{Float64}(0.0)       Gray{Float64}(0.0)          Gray{Float64}(0.0)\n",
       " Gray{Float64}(0.0)       Gray{Float64}(0.0)          Gray{Float64}(0.0)\n",
       " Gray{Float64}(0.0)       Gray{Float64}(0.0)          Gray{Float64}(0.0)\n",
       " Gray{Float64}(0.0)       Gray{Float64}(0.0)          Gray{Float64}(0.0)"
      ]
     },
     "execution_count": 59,
     "metadata": {},
     "output_type": "execute_result"
    }
   ],
   "source": [
    "Gray.(red_channel)"
   ]
  },
  {
   "cell_type": "code",
   "execution_count": 60,
   "metadata": {},
   "outputs": [
    {
     "name": "stdout",
     "output_type": "stream",
     "text": [
      "RGB4{N0f8}(1.0,1.0,1.0)"
     ]
    }
   ],
   "source": [
    "show(apple_image[end,end])"
   ]
  },
  {
   "cell_type": "code",
   "execution_count": 61,
   "metadata": {},
   "outputs": [
    {
     "data": {
      "image/svg+xml": [
       "<?xml version=\"1.0\" encoding=\"UTF-8\"?>\n",
       "<!DOCTYPE svg PUBLIC \"-//W3C//DTD SVG 1.1//EN\"\n",
       " \"http://www.w3.org/Graphics/SVG/1.1/DTD/svg11.dtd\">\n",
       "<svg xmlns=\"http://www.w3.org/2000/svg\" version=\"1.1\"\n",
       "     width=\"25mm\" height=\"25mm\" viewBox=\"0 0 1 1\">\n",
       "     <rect width=\"1\" height=\"1\"\n",
       "           fill=\"#000000\" stroke=\"none\"/>\n",
       "</svg>\n"
      ],
      "text/plain": [
       "RGB4{N0f8}(0.0,0.0,0.0)"
      ]
     },
     "execution_count": 61,
     "metadata": {},
     "output_type": "execute_result"
    }
   ],
   "source": [
    "const white = RGB4{N0f8}(1.0, 1.0, 1.0)\n",
    "const black = RGB4{N0f8}(0.0, 0.0, 0.0)"
   ]
  },
  {
   "cell_type": "code",
   "execution_count": 62,
   "metadata": {},
   "outputs": [
    {
     "data": {
      "text/plain": [
       "3.0f0"
      ]
     },
     "execution_count": 62,
     "metadata": {},
     "output_type": "execute_result"
    }
   ],
   "source": [
    "abs(RGB4{N0f8}(1.0,1.0,1.0))"
   ]
  },
  {
   "cell_type": "code",
   "execution_count": 63,
   "metadata": {},
   "outputs": [
    {
     "data": {
      "image/png": "[encoded data removed]",
      "text/plain": [
       "100×100 Array{RGB4{N0f8},2}:\n",
       " RGB4{N0f8}(0.004,0.0,0.016)    …  RGB4{N0f8}(0.0,0.0,0.0)\n",
       " RGB4{N0f8}(0.016,0.0,0.02)        RGB4{N0f8}(0.0,0.0,0.0)\n",
       " RGB4{N0f8}(0.02,0.0,0.012)        RGB4{N0f8}(0.0,0.0,0.0)\n",
       " RGB4{N0f8}(0.031,0.0,0.008)       RGB4{N0f8}(0.0,0.0,0.0)\n",
       " RGB4{N0f8}(0.031,0.0,0.0)         RGB4{N0f8}(0.0,0.0,0.0)\n",
       " RGB4{N0f8}(0.02,0.0,0.0)       …  RGB4{N0f8}(0.0,0.0,0.0)\n",
       " RGB4{N0f8}(0.008,0.004,0.0)       RGB4{N0f8}(0.0,0.0,0.0)\n",
       " RGB4{N0f8}(0.004,0.008,0.0)       RGB4{N0f8}(0.0,0.0,0.0)\n",
       " RGB4{N0f8}(0.004,0.012,0.0)       RGB4{N0f8}(0.0,0.0,0.0)\n",
       " RGB4{N0f8}(0.0,0.016,0.0)         RGB4{N0f8}(0.0,0.0,0.0)\n",
       " RGB4{N0f8}(0.0,0.008,0.0)      …  RGB4{N0f8}(0.0,0.0,0.0)\n",
       " RGB4{N0f8}(0.0,0.004,0.0)         RGB4{N0f8}(0.0,0.0,0.0)\n",
       " RGB4{N0f8}(0.0,0.0,0.0)           RGB4{N0f8}(0.0,0.0,0.0)\n",
       " ⋮                              ⋱                         \n",
       " RGB4{N0f8}(0.008,0.0,0.012)       RGB4{N0f8}(0.0,0.0,0.0)\n",
       " RGB4{N0f8}(0.008,0.0,0.012)       RGB4{N0f8}(0.0,0.0,0.0)\n",
       " RGB4{N0f8}(0.008,0.0,0.004)    …  RGB4{N0f8}(0.0,0.0,0.0)\n",
       " RGB4{N0f8}(0.004,0.0,0.0)         RGB4{N0f8}(0.0,0.0,0.0)\n",
       " RGB4{N0f8}(0.004,0.004,0.004)     RGB4{N0f8}(0.0,0.0,0.0)\n",
       " RGB4{N0f8}(0.004,0.004,0.004)     RGB4{N0f8}(0.0,0.0,0.0)\n",
       " RGB4{N0f8}(0.0,0.008,0.004)       RGB4{N0f8}(0.0,0.0,0.0)\n",
       " RGB4{N0f8}(0.0,0.008,0.004)    …  RGB4{N0f8}(0.0,0.0,0.0)\n",
       " RGB4{N0f8}(0.0,0.0,0.0)           RGB4{N0f8}(0.0,0.0,0.0)\n",
       " RGB4{N0f8}(0.0,0.0,0.0)           RGB4{N0f8}(0.0,0.0,0.0)\n",
       " RGB4{N0f8}(0.0,0.0,0.0)           RGB4{N0f8}(0.0,0.0,0.0)\n",
       " RGB4{N0f8}(0.0,0.0,0.0)           RGB4{N0f8}(0.0,0.0,0.0)"
      ]
     },
     "execution_count": 63,
     "metadata": {},
     "output_type": "execute_result"
    }
   ],
   "source": [
    "white .- apple_image"
   ]
  },
  {
   "cell_type": "code",
   "execution_count": 64,
   "metadata": {},
   "outputs": [
    {
     "data": {
      "text/plain": [
       "100×100 Array{Float32,2}:\n",
       " 0.0196078   0.00784314  0.0196078   …  0.0117647   0.0  0.0  0.0  0.0\n",
       " 0.0352941   0.0117647   0.0117647      0.0117647   0.0  0.0  0.0  0.0\n",
       " 0.0313726   0.0196078   0.0117647      0.0         0.0  0.0  0.0  0.0\n",
       " 0.0392157   0.0235294   0.0117647      0.00392157  0.0  0.0  0.0  0.0\n",
       " 0.0313726   0.0196078   0.0            0.0117647   0.0  0.0  0.0  0.0\n",
       " 0.0196078   0.0156863   0.0         …  0.00392157  0.0  0.0  0.0  0.0\n",
       " 0.0117647   0.00392157  0.00784314     0.0         0.0  0.0  0.0  0.0\n",
       " 0.0117647   0.00392157  0.00784314     0.00392157  0.0  0.0  0.0  0.0\n",
       " 0.0156863   0.00784314  0.00392157     0.00392157  0.0  0.0  0.0  0.0\n",
       " 0.0156863   0.00784314  0.0            0.027451    0.0  0.0  0.0  0.0\n",
       " 0.00784314  0.00392157  0.0         …  0.00784314  0.0  0.0  0.0  0.0\n",
       " 0.00392157  0.0         0.0196078      0.0627451   0.0  0.0  0.0  0.0\n",
       " 0.0         0.0         0.0196078      0.0235294   0.0  0.0  0.0  0.0\n",
       " ⋮                                   ⋱  ⋮                             \n",
       " 0.0196078   0.0196078   0.0117647      0.0117647   0.0  0.0  0.0  0.0\n",
       " 0.0196078   0.0196078   0.0            0.0117647   0.0  0.0  0.0  0.0\n",
       " 0.0117647   0.00392157  0.00392157  …  0.0         0.0  0.0  0.0  0.0\n",
       " 0.00392157  0.00392157  0.00392157     0.0         0.0  0.0  0.0  0.0\n",
       " 0.0117647   0.0         0.0            0.0         0.0  0.0  0.0  0.0\n",
       " 0.0117647   0.0117647   0.0            0.0         0.0  0.0  0.0  0.0\n",
       " 0.0117647   0.0117647   0.0117647      0.00392157  0.0  0.0  0.0  0.0\n",
       " 0.0117647   0.0117647   0.0117647   …  0.00392157  0.0  0.0  0.0  0.0\n",
       " 0.0         0.0         0.0            0.0         0.0  0.0  0.0  0.0\n",
       " 0.0         0.0         0.0            0.0         0.0  0.0  0.0  0.0\n",
       " 0.0         0.0         0.0            0.0         0.0  0.0  0.0  0.0\n",
       " 0.0         0.0         0.0            0.0         0.0  0.0  0.0  0.0"
      ]
     },
     "execution_count": 64,
     "metadata": {},
     "output_type": "execute_result"
    }
   ],
   "source": [
    "abs.(white .- apple_image)"
   ]
  },
  {
   "cell_type": "code",
   "execution_count": 65,
   "metadata": {},
   "outputs": [
    {
     "data": {
      "image/svg+xml": [
       "<?xml version=\"1.0\" encoding=\"UTF-8\"?>\n",
       "<!DOCTYPE svg PUBLIC \"-//W3C//DTD SVG 1.1//EN\"\n",
       " \"http://www.w3.org/Graphics/SVG/1.1/DTD/svg11.dtd\">\n",
       "<svg xmlns=\"http://www.w3.org/2000/svg\" version=\"1.1\"\n",
       "     width=\"25mm\" height=\"25mm\" viewBox=\"0 0 1 1\">\n",
       "     <rect width=\"1\" height=\"1\"\n",
       "           fill=\"#000000\" stroke=\"none\"/>\n",
       "</svg>\n"
      ],
      "text/plain": [
       "RGB4{N0f8}(0.0,0.0,0.0)"
      ]
     },
     "execution_count": 65,
     "metadata": {},
     "output_type": "execute_result"
    }
   ],
   "source": [
    "new_apple = copy(apple_image)\n",
    "new_apple[abs.(white .- apple_image) .< 0.5] = RGB4{N0f8}(0.0,0.0,0.0)"
   ]
  },
  {
   "cell_type": "code",
   "execution_count": 66,
   "metadata": {},
   "outputs": [
    {
     "data": {
      "image/png": "[encoded data removed]",
      "text/plain": [
       "100×100 Array{RGB4{N0f8},2}:\n",
       " RGB4{N0f8}(0.0,0.0,0.0)  RGB4{N0f8}(0.0,0.0,0.0)  …  RGB4{N0f8}(0.0,0.0,0.0)\n",
       " RGB4{N0f8}(0.0,0.0,0.0)  RGB4{N0f8}(0.0,0.0,0.0)     RGB4{N0f8}(0.0,0.0,0.0)\n",
       " RGB4{N0f8}(0.0,0.0,0.0)  RGB4{N0f8}(0.0,0.0,0.0)     RGB4{N0f8}(0.0,0.0,0.0)\n",
       " RGB4{N0f8}(0.0,0.0,0.0)  RGB4{N0f8}(0.0,0.0,0.0)     RGB4{N0f8}(0.0,0.0,0.0)\n",
       " RGB4{N0f8}(0.0,0.0,0.0)  RGB4{N0f8}(0.0,0.0,0.0)     RGB4{N0f8}(0.0,0.0,0.0)\n",
       " RGB4{N0f8}(0.0,0.0,0.0)  RGB4{N0f8}(0.0,0.0,0.0)  …  RGB4{N0f8}(0.0,0.0,0.0)\n",
       " RGB4{N0f8}(0.0,0.0,0.0)  RGB4{N0f8}(0.0,0.0,0.0)     RGB4{N0f8}(0.0,0.0,0.0)\n",
       " RGB4{N0f8}(0.0,0.0,0.0)  RGB4{N0f8}(0.0,0.0,0.0)     RGB4{N0f8}(0.0,0.0,0.0)\n",
       " RGB4{N0f8}(0.0,0.0,0.0)  RGB4{N0f8}(0.0,0.0,0.0)     RGB4{N0f8}(0.0,0.0,0.0)\n",
       " RGB4{N0f8}(0.0,0.0,0.0)  RGB4{N0f8}(0.0,0.0,0.0)     RGB4{N0f8}(0.0,0.0,0.0)\n",
       " RGB4{N0f8}(0.0,0.0,0.0)  RGB4{N0f8}(0.0,0.0,0.0)  …  RGB4{N0f8}(0.0,0.0,0.0)\n",
       " RGB4{N0f8}(0.0,0.0,0.0)  RGB4{N0f8}(0.0,0.0,0.0)     RGB4{N0f8}(0.0,0.0,0.0)\n",
       " RGB4{N0f8}(0.0,0.0,0.0)  RGB4{N0f8}(0.0,0.0,0.0)     RGB4{N0f8}(0.0,0.0,0.0)\n",
       " ⋮                                                 ⋱                         \n",
       " RGB4{N0f8}(0.0,0.0,0.0)  RGB4{N0f8}(0.0,0.0,0.0)     RGB4{N0f8}(0.0,0.0,0.0)\n",
       " RGB4{N0f8}(0.0,0.0,0.0)  RGB4{N0f8}(0.0,0.0,0.0)     RGB4{N0f8}(0.0,0.0,0.0)\n",
       " RGB4{N0f8}(0.0,0.0,0.0)  RGB4{N0f8}(0.0,0.0,0.0)  …  RGB4{N0f8}(0.0,0.0,0.0)\n",
       " RGB4{N0f8}(0.0,0.0,0.0)  RGB4{N0f8}(0.0,0.0,0.0)     RGB4{N0f8}(0.0,0.0,0.0)\n",
       " RGB4{N0f8}(0.0,0.0,0.0)  RGB4{N0f8}(0.0,0.0,0.0)     RGB4{N0f8}(0.0,0.0,0.0)\n",
       " RGB4{N0f8}(0.0,0.0,0.0)  RGB4{N0f8}(0.0,0.0,0.0)     RGB4{N0f8}(0.0,0.0,0.0)\n",
       " RGB4{N0f8}(0.0,0.0,0.0)  RGB4{N0f8}(0.0,0.0,0.0)     RGB4{N0f8}(0.0,0.0,0.0)\n",
       " RGB4{N0f8}(0.0,0.0,0.0)  RGB4{N0f8}(0.0,0.0,0.0)  …  RGB4{N0f8}(0.0,0.0,0.0)\n",
       " RGB4{N0f8}(0.0,0.0,0.0)  RGB4{N0f8}(0.0,0.0,0.0)     RGB4{N0f8}(0.0,0.0,0.0)\n",
       " RGB4{N0f8}(0.0,0.0,0.0)  RGB4{N0f8}(0.0,0.0,0.0)     RGB4{N0f8}(0.0,0.0,0.0)\n",
       " RGB4{N0f8}(0.0,0.0,0.0)  RGB4{N0f8}(0.0,0.0,0.0)     RGB4{N0f8}(0.0,0.0,0.0)\n",
       " RGB4{N0f8}(0.0,0.0,0.0)  RGB4{N0f8}(0.0,0.0,0.0)     RGB4{N0f8}(0.0,0.0,0.0)"
      ]
     },
     "execution_count": 66,
     "metadata": {},
     "output_type": "execute_result"
    }
   ],
   "source": [
    "new_apple\n"
   ]
  },
  {
   "cell_type": "code",
   "execution_count": 67,
   "metadata": {},
   "outputs": [
    {
     "name": "stdout",
     "output_type": "stream",
     "text": [
      "search: \u001b[1mi\u001b[22m\u001b[1mn\u001b[22m\u001b[1md\u001b[22m\u001b[1m2\u001b[22m\u001b[1ms\u001b[22m\u001b[1mu\u001b[22m\u001b[1mb\u001b[22m\n",
      "\n"
     ]
    },
    {
     "data": {
      "text/markdown": [
       "```\n",
       "ind2sub(a, index) -> subscripts\n",
       "```\n",
       "\n",
       "Returns a tuple of subscripts into array `a` corresponding to the linear index `index`.\n",
       "\n",
       "```jldoctest\n",
       "julia> A = ones(5,6,7);\n",
       "\n",
       "julia> ind2sub(A,35)\n",
       "(5, 1, 2)\n",
       "\n",
       "julia> ind2sub(A,70)\n",
       "(5, 2, 3)\n",
       "```\n",
       "\n",
       "```\n",
       "ind2sub(dims, index) -> subscripts\n",
       "```\n",
       "\n",
       "Returns a tuple of subscripts into an array with dimensions `dims`, corresponding to the linear index `index`.\n",
       "\n",
       "**Example**:\n",
       "\n",
       "```\n",
       "i, j, ... = ind2sub(size(A), indmax(A))\n",
       "```\n",
       "\n",
       "provides the indices of the maximum element.\n",
       "\n",
       "```jldoctest\n",
       "julia> ind2sub((3,4),2)\n",
       "(2, 1)\n",
       "\n",
       "julia> ind2sub((3,4),3)\n",
       "(3, 1)\n",
       "\n",
       "julia> ind2sub((3,4),4)\n",
       "(1, 2)\n",
       "```\n"
      ],
      "text/plain": [
       "```\n",
       "ind2sub(a, index) -> subscripts\n",
       "```\n",
       "\n",
       "Returns a tuple of subscripts into array `a` corresponding to the linear index `index`.\n",
       "\n",
       "```jldoctest\n",
       "julia> A = ones(5,6,7);\n",
       "\n",
       "julia> ind2sub(A,35)\n",
       "(5, 1, 2)\n",
       "\n",
       "julia> ind2sub(A,70)\n",
       "(5, 2, 3)\n",
       "```\n",
       "\n",
       "```\n",
       "ind2sub(dims, index) -> subscripts\n",
       "```\n",
       "\n",
       "Returns a tuple of subscripts into an array with dimensions `dims`, corresponding to the linear index `index`.\n",
       "\n",
       "**Example**:\n",
       "\n",
       "```\n",
       "i, j, ... = ind2sub(size(A), indmax(A))\n",
       "```\n",
       "\n",
       "provides the indices of the maximum element.\n",
       "\n",
       "```jldoctest\n",
       "julia> ind2sub((3,4),2)\n",
       "(2, 1)\n",
       "\n",
       "julia> ind2sub((3,4),3)\n",
       "(3, 1)\n",
       "\n",
       "julia> ind2sub((3,4),4)\n",
       "(1, 2)\n",
       "```\n"
      ]
     },
     "execution_count": 67,
     "metadata": {},
     "output_type": "execute_result"
    }
   ],
   "source": [
    "?ind2sub"
   ]
  },
  {
   "cell_type": "code",
   "execution_count": 68,
   "metadata": {},
   "outputs": [
    {
     "data": {
      "text/plain": [
       "7567-element Array{Tuple{Int64,Int64},1}:\n",
       " (43, 1)  \n",
       " (44, 1)  \n",
       " (45, 1)  \n",
       " (46, 1)  \n",
       " (47, 1)  \n",
       " (48, 1)  \n",
       " (49, 1)  \n",
       " (50, 1)  \n",
       " (51, 1)  \n",
       " (52, 1)  \n",
       " (35, 2)  \n",
       " (36, 2)  \n",
       " (37, 2)  \n",
       " ⋮        \n",
       " (45, 100)\n",
       " (46, 100)\n",
       " (47, 100)\n",
       " (48, 100)\n",
       " (49, 100)\n",
       " (50, 100)\n",
       " (51, 100)\n",
       " (52, 100)\n",
       " (53, 100)\n",
       " (54, 100)\n",
       " (55, 100)\n",
       " (56, 100)"
      ]
     },
     "execution_count": 68,
     "metadata": {},
     "output_type": "execute_result"
    }
   ],
   "source": [
    "nonblack = ind2sub.([new_apple], find(new_apple .!= black))"
   ]
  },
  {
   "cell_type": "code",
   "execution_count": 69,
   "metadata": {},
   "outputs": [
    {
     "name": "stderr",
     "output_type": "stream",
     "text": [
      "WARNING: imported binding for height overwritten in module Main\n",
      "WARNING: imported binding for width overwritten in module Main\n"
     ]
    },
    {
     "data": {
      "text/plain": [
       "99"
      ]
     },
     "execution_count": 69,
     "metadata": {},
     "output_type": "execute_result"
    }
   ],
   "source": [
    "height = maximum(first.(nonblack)) - minimum(first.(nonblack))\n",
    "width = maximum(last.(nonblack)) - minimum(last.(nonblack))"
   ]
  },
  {
   "cell_type": "code",
   "execution_count": 70,
   "metadata": {},
   "outputs": [
    {
     "data": {
      "text/plain": [
       "94"
      ]
     },
     "execution_count": 70,
     "metadata": {},
     "output_type": "execute_result"
    }
   ],
   "source": [
    "height"
   ]
  },
  {
   "cell_type": "code",
   "execution_count": 71,
   "metadata": {},
   "outputs": [
    {
     "data": {
      "text/plain": [
       "99"
      ]
     },
     "execution_count": 71,
     "metadata": {},
     "output_type": "execute_result"
    }
   ],
   "source": [
    "width"
   ]
  },
  {
   "cell_type": "code",
   "execution_count": 72,
   "metadata": {},
   "outputs": [
    {
     "data": {
      "image/png": "[encoded data removed]",
      "text/plain": [
       "100×100 Array{RGB4{N0f8},2}:\n",
       " RGB4{N0f8}(0.0,0.0,0.0)  RGB4{N0f8}(0.0,0.0,0.0)  …  RGB4{N0f8}(0.0,0.0,0.0)\n",
       " RGB4{N0f8}(0.0,0.0,0.0)  RGB4{N0f8}(0.0,0.0,0.0)     RGB4{N0f8}(0.0,0.0,0.0)\n",
       " RGB4{N0f8}(0.0,0.0,0.0)  RGB4{N0f8}(0.0,0.0,0.0)     RGB4{N0f8}(0.0,0.0,0.0)\n",
       " RGB4{N0f8}(0.0,0.0,0.0)  RGB4{N0f8}(0.0,0.0,0.0)     RGB4{N0f8}(0.0,0.0,0.0)\n",
       " RGB4{N0f8}(0.0,0.0,0.0)  RGB4{N0f8}(0.0,0.0,0.0)     RGB4{N0f8}(0.0,0.0,0.0)\n",
       " RGB4{N0f8}(0.0,0.0,0.0)  RGB4{N0f8}(0.0,0.0,0.0)  …  RGB4{N0f8}(0.0,0.0,0.0)\n",
       " RGB4{N0f8}(0.0,0.0,0.0)  RGB4{N0f8}(0.0,0.0,0.0)     RGB4{N0f8}(0.0,0.0,0.0)\n",
       " RGB4{N0f8}(0.0,0.0,0.0)  RGB4{N0f8}(0.0,0.0,0.0)     RGB4{N0f8}(0.0,0.0,0.0)\n",
       " RGB4{N0f8}(0.0,0.0,0.0)  RGB4{N0f8}(0.0,0.0,0.0)     RGB4{N0f8}(0.0,0.0,0.0)\n",
       " RGB4{N0f8}(0.0,0.0,0.0)  RGB4{N0f8}(0.0,0.0,0.0)     RGB4{N0f8}(0.0,0.0,0.0)\n",
       " RGB4{N0f8}(0.0,0.0,0.0)  RGB4{N0f8}(0.0,0.0,0.0)  …  RGB4{N0f8}(0.0,0.0,0.0)\n",
       " RGB4{N0f8}(0.0,0.0,0.0)  RGB4{N0f8}(0.0,0.0,0.0)     RGB4{N0f8}(0.0,0.0,0.0)\n",
       " RGB4{N0f8}(0.0,0.0,0.0)  RGB4{N0f8}(0.0,0.0,0.0)     RGB4{N0f8}(0.0,0.0,0.0)\n",
       " ⋮                                                 ⋱                         \n",
       " RGB4{N0f8}(0.0,0.0,0.0)  RGB4{N0f8}(0.0,0.0,0.0)     RGB4{N0f8}(0.0,0.0,0.0)\n",
       " RGB4{N0f8}(0.0,0.0,0.0)  RGB4{N0f8}(0.0,0.0,0.0)     RGB4{N0f8}(0.0,0.0,0.0)\n",
       " RGB4{N0f8}(0.0,0.0,0.0)  RGB4{N0f8}(0.0,0.0,0.0)  …  RGB4{N0f8}(0.0,0.0,0.0)\n",
       " RGB4{N0f8}(0.0,0.0,0.0)  RGB4{N0f8}(0.0,0.0,0.0)     RGB4{N0f8}(0.0,0.0,0.0)\n",
       " RGB4{N0f8}(0.0,0.0,0.0)  RGB4{N0f8}(0.0,0.0,0.0)     RGB4{N0f8}(0.0,0.0,0.0)\n",
       " RGB4{N0f8}(0.0,0.0,0.0)  RGB4{N0f8}(0.0,0.0,0.0)     RGB4{N0f8}(0.0,0.0,0.0)\n",
       " RGB4{N0f8}(0.0,0.0,0.0)  RGB4{N0f8}(0.0,0.0,0.0)     RGB4{N0f8}(0.0,0.0,0.0)\n",
       " RGB4{N0f8}(0.0,0.0,0.0)  RGB4{N0f8}(0.0,0.0,0.0)  …  RGB4{N0f8}(0.0,0.0,0.0)\n",
       " RGB4{N0f8}(0.0,0.0,0.0)  RGB4{N0f8}(0.0,0.0,0.0)     RGB4{N0f8}(0.0,0.0,0.0)\n",
       " RGB4{N0f8}(0.0,0.0,0.0)  RGB4{N0f8}(0.0,0.0,0.0)     RGB4{N0f8}(0.0,0.0,0.0)\n",
       " RGB4{N0f8}(0.0,0.0,0.0)  RGB4{N0f8}(0.0,0.0,0.0)     RGB4{N0f8}(0.0,0.0,0.0)\n",
       " RGB4{N0f8}(0.0,0.0,0.0)  RGB4{N0f8}(0.0,0.0,0.0)     RGB4{N0f8}(0.0,0.0,0.0)"
      ]
     },
     "execution_count": 72,
     "metadata": {},
     "output_type": "execute_result"
    }
   ],
   "source": [
    "new_apple"
   ]
  },
  {
   "cell_type": "code",
   "execution_count": 73,
   "metadata": {},
   "outputs": [
    {
     "data": {
      "image/svg+xml": [
       "<?xml version=\"1.0\" encoding=\"UTF-8\"?>\n",
       "<!DOCTYPE svg PUBLIC \"-//W3C//DTD SVG 1.1//EN\"\n",
       " \"http://www.w3.org/Graphics/SVG/1.1/DTD/svg11.dtd\">\n",
       "<svg xmlns=\"http://www.w3.org/2000/svg\" version=\"1.1\"\n",
       "     width=\"25mm\" height=\"25mm\" viewBox=\"0 0 1 1\">\n",
       "     <rect width=\"1\" height=\"1\"\n",
       "           fill=\"#6F211C\" stroke=\"none\"/>\n",
       "</svg>\n"
      ],
      "text/plain": [
       "RGB4{Float64}(0.4342254940829249,0.1286670449863579,0.10816574548413324)"
      ]
     },
     "execution_count": 73,
     "metadata": {},
     "output_type": "execute_result"
    }
   ],
   "source": [
    "mean(new_apple[new_apple .!= black])"
   ]
  },
  {
   "cell_type": "code",
   "execution_count": 74,
   "metadata": {},
   "outputs": [
    {
     "name": "stdout",
     "output_type": "stream",
     "text": [
      "RGB4{Float64}(0.4342254940829249,0.1286670449863579,0.10816574548413324)"
     ]
    }
   ],
   "source": [
    "show(ans)"
   ]
  },
  {
   "cell_type": "markdown",
   "metadata": {},
   "source": [
    "## Banana"
   ]
  },
  {
   "cell_type": "code",
   "execution_count": 75,
   "metadata": {},
   "outputs": [
    {
     "data": {
      "image/png": "[encoded data removed]",
      "text/plain": [
       "100×100 Array{RGB4{N0f8},2}:\n",
       " RGB4{N0f8}(1.0,1.0,1.0)  RGB4{N0f8}(1.0,1.0,1.0)  …  RGB4{N0f8}(1.0,1.0,1.0)\n",
       " RGB4{N0f8}(1.0,1.0,1.0)  RGB4{N0f8}(1.0,1.0,1.0)     RGB4{N0f8}(1.0,1.0,1.0)\n",
       " RGB4{N0f8}(1.0,1.0,1.0)  RGB4{N0f8}(1.0,1.0,1.0)     RGB4{N0f8}(1.0,1.0,1.0)\n",
       " RGB4{N0f8}(1.0,1.0,1.0)  RGB4{N0f8}(1.0,1.0,1.0)     RGB4{N0f8}(1.0,1.0,1.0)\n",
       " RGB4{N0f8}(1.0,1.0,1.0)  RGB4{N0f8}(1.0,1.0,1.0)     RGB4{N0f8}(1.0,1.0,1.0)\n",
       " RGB4{N0f8}(1.0,1.0,1.0)  RGB4{N0f8}(1.0,1.0,1.0)  …  RGB4{N0f8}(1.0,1.0,1.0)\n",
       " RGB4{N0f8}(1.0,1.0,1.0)  RGB4{N0f8}(1.0,1.0,1.0)     RGB4{N0f8}(1.0,1.0,1.0)\n",
       " RGB4{N0f8}(1.0,1.0,1.0)  RGB4{N0f8}(1.0,1.0,1.0)     RGB4{N0f8}(1.0,1.0,1.0)\n",
       " RGB4{N0f8}(1.0,1.0,1.0)  RGB4{N0f8}(1.0,1.0,1.0)     RGB4{N0f8}(1.0,1.0,1.0)\n",
       " RGB4{N0f8}(1.0,1.0,1.0)  RGB4{N0f8}(1.0,1.0,1.0)     RGB4{N0f8}(1.0,1.0,1.0)\n",
       " RGB4{N0f8}(1.0,1.0,1.0)  RGB4{N0f8}(1.0,1.0,1.0)  …  RGB4{N0f8}(1.0,1.0,1.0)\n",
       " RGB4{N0f8}(1.0,1.0,1.0)  RGB4{N0f8}(1.0,1.0,1.0)     RGB4{N0f8}(1.0,1.0,1.0)\n",
       " RGB4{N0f8}(1.0,1.0,1.0)  RGB4{N0f8}(1.0,1.0,1.0)     RGB4{N0f8}(1.0,1.0,1.0)\n",
       " ⋮                                                 ⋱                         \n",
       " RGB4{N0f8}(1.0,1.0,1.0)  RGB4{N0f8}(1.0,1.0,1.0)     RGB4{N0f8}(1.0,1.0,1.0)\n",
       " RGB4{N0f8}(1.0,1.0,1.0)  RGB4{N0f8}(1.0,1.0,1.0)     RGB4{N0f8}(1.0,1.0,1.0)\n",
       " RGB4{N0f8}(1.0,1.0,1.0)  RGB4{N0f8}(1.0,1.0,1.0)  …  RGB4{N0f8}(1.0,1.0,1.0)\n",
       " RGB4{N0f8}(1.0,1.0,1.0)  RGB4{N0f8}(1.0,1.0,1.0)     RGB4{N0f8}(1.0,1.0,1.0)\n",
       " RGB4{N0f8}(1.0,1.0,1.0)  RGB4{N0f8}(1.0,1.0,1.0)     RGB4{N0f8}(1.0,1.0,1.0)\n",
       " RGB4{N0f8}(1.0,1.0,1.0)  RGB4{N0f8}(1.0,1.0,1.0)     RGB4{N0f8}(1.0,1.0,1.0)\n",
       " RGB4{N0f8}(1.0,1.0,1.0)  RGB4{N0f8}(1.0,1.0,1.0)     RGB4{N0f8}(1.0,1.0,1.0)\n",
       " RGB4{N0f8}(1.0,1.0,1.0)  RGB4{N0f8}(1.0,1.0,1.0)  …  RGB4{N0f8}(1.0,1.0,1.0)\n",
       " RGB4{N0f8}(1.0,1.0,1.0)  RGB4{N0f8}(1.0,1.0,1.0)     RGB4{N0f8}(1.0,1.0,1.0)\n",
       " RGB4{N0f8}(1.0,1.0,1.0)  RGB4{N0f8}(1.0,1.0,1.0)     RGB4{N0f8}(1.0,1.0,1.0)\n",
       " RGB4{N0f8}(1.0,1.0,1.0)  RGB4{N0f8}(1.0,1.0,1.0)     RGB4{N0f8}(1.0,1.0,1.0)\n",
       " RGB4{N0f8}(1.0,1.0,1.0)  RGB4{N0f8}(1.0,1.0,1.0)     RGB4{N0f8}(1.0,1.0,1.0)"
      ]
     },
     "execution_count": 75,
     "metadata": {},
     "output_type": "execute_result"
    }
   ],
   "source": [
    "banana = load(\"104_100.jpg\")"
   ]
  },
  {
   "cell_type": "code",
   "execution_count": 76,
   "metadata": {},
   "outputs": [
    {
     "data": {
      "image/svg+xml": [
       "<?xml version=\"1.0\" encoding=\"UTF-8\"?>\n",
       "<!DOCTYPE svg PUBLIC \"-//W3C//DTD SVG 1.1//EN\"\n",
       " \"http://www.w3.org/Graphics/SVG/1.1/DTD/svg11.dtd\">\n",
       "<svg xmlns=\"http://www.w3.org/2000/svg\" version=\"1.1\"\n",
       "     width=\"25mm\" height=\"25mm\" viewBox=\"0 0 1 1\">\n",
       "     <rect width=\"1\" height=\"1\"\n",
       "           fill=\"#E7E1CC\" stroke=\"none\"/>\n",
       "</svg>\n"
      ],
      "text/plain": [
       "RGB4{Float64}(0.9040309803921571,0.8808207843137256,0.8001250980392166)"
      ]
     },
     "execution_count": 76,
     "metadata": {},
     "output_type": "execute_result"
    }
   ],
   "source": [
    "mean(banana)"
   ]
  },
  {
   "cell_type": "code",
   "execution_count": 77,
   "metadata": {},
   "outputs": [
    {
     "name": "stdout",
     "output_type": "stream",
     "text": [
      "RGB4{Float64}(0.9040309803921571,0.8808207843137256,0.8001250980392166)"
     ]
    }
   ],
   "source": [
    "show(ans)"
   ]
  },
  {
   "cell_type": "code",
   "execution_count": 78,
   "metadata": {},
   "outputs": [
    {
     "data": {
      "image/svg+xml": [
       "<?xml version=\"1.0\" encoding=\"UTF-8\"?>\n",
       "<!DOCTYPE svg PUBLIC \"-//W3C//DTD SVG 1.1//EN\"\n",
       " \"http://www.w3.org/Graphics/SVG/1.1/DTD/svg11.dtd\">\n",
       "<svg xmlns=\"http://www.w3.org/2000/svg\" version=\"1.1\"\n",
       "     width=\"25mm\" height=\"25mm\" viewBox=\"0 0 1 1\">\n",
       "     <rect width=\"1\" height=\"1\"\n",
       "           fill=\"#000000\" stroke=\"none\"/>\n",
       "</svg>\n"
      ],
      "text/plain": [
       "RGB4{N0f8}(0.0,0.0,0.0)"
      ]
     },
     "execution_count": 78,
     "metadata": {},
     "output_type": "execute_result"
    }
   ],
   "source": [
    "new_banana = copy(banana)\n",
    "new_banana[abs.(white .- banana) .< 0.5] = RGB4{N0f8}(0.0,0.0,0.0)"
   ]
  },
  {
   "cell_type": "code",
   "execution_count": 79,
   "metadata": {},
   "outputs": [
    {
     "data": {
      "image/png": "[encoded data removed]",
      "text/plain": [
       "100×100 Array{RGB4{N0f8},2}:\n",
       " RGB4{N0f8}(0.0,0.0,0.0)  RGB4{N0f8}(0.0,0.0,0.0)  …  RGB4{N0f8}(0.0,0.0,0.0)\n",
       " RGB4{N0f8}(0.0,0.0,0.0)  RGB4{N0f8}(0.0,0.0,0.0)     RGB4{N0f8}(0.0,0.0,0.0)\n",
       " RGB4{N0f8}(0.0,0.0,0.0)  RGB4{N0f8}(0.0,0.0,0.0)     RGB4{N0f8}(0.0,0.0,0.0)\n",
       " RGB4{N0f8}(0.0,0.0,0.0)  RGB4{N0f8}(0.0,0.0,0.0)     RGB4{N0f8}(0.0,0.0,0.0)\n",
       " RGB4{N0f8}(0.0,0.0,0.0)  RGB4{N0f8}(0.0,0.0,0.0)     RGB4{N0f8}(0.0,0.0,0.0)\n",
       " RGB4{N0f8}(0.0,0.0,0.0)  RGB4{N0f8}(0.0,0.0,0.0)  …  RGB4{N0f8}(0.0,0.0,0.0)\n",
       " RGB4{N0f8}(0.0,0.0,0.0)  RGB4{N0f8}(0.0,0.0,0.0)     RGB4{N0f8}(0.0,0.0,0.0)\n",
       " RGB4{N0f8}(0.0,0.0,0.0)  RGB4{N0f8}(0.0,0.0,0.0)     RGB4{N0f8}(0.0,0.0,0.0)\n",
       " RGB4{N0f8}(0.0,0.0,0.0)  RGB4{N0f8}(0.0,0.0,0.0)     RGB4{N0f8}(0.0,0.0,0.0)\n",
       " RGB4{N0f8}(0.0,0.0,0.0)  RGB4{N0f8}(0.0,0.0,0.0)     RGB4{N0f8}(0.0,0.0,0.0)\n",
       " RGB4{N0f8}(0.0,0.0,0.0)  RGB4{N0f8}(0.0,0.0,0.0)  …  RGB4{N0f8}(0.0,0.0,0.0)\n",
       " RGB4{N0f8}(0.0,0.0,0.0)  RGB4{N0f8}(0.0,0.0,0.0)     RGB4{N0f8}(0.0,0.0,0.0)\n",
       " RGB4{N0f8}(0.0,0.0,0.0)  RGB4{N0f8}(0.0,0.0,0.0)     RGB4{N0f8}(0.0,0.0,0.0)\n",
       " ⋮                                                 ⋱                         \n",
       " RGB4{N0f8}(0.0,0.0,0.0)  RGB4{N0f8}(0.0,0.0,0.0)     RGB4{N0f8}(0.0,0.0,0.0)\n",
       " RGB4{N0f8}(0.0,0.0,0.0)  RGB4{N0f8}(0.0,0.0,0.0)     RGB4{N0f8}(0.0,0.0,0.0)\n",
       " RGB4{N0f8}(0.0,0.0,0.0)  RGB4{N0f8}(0.0,0.0,0.0)  …  RGB4{N0f8}(0.0,0.0,0.0)\n",
       " RGB4{N0f8}(0.0,0.0,0.0)  RGB4{N0f8}(0.0,0.0,0.0)     RGB4{N0f8}(0.0,0.0,0.0)\n",
       " RGB4{N0f8}(0.0,0.0,0.0)  RGB4{N0f8}(0.0,0.0,0.0)     RGB4{N0f8}(0.0,0.0,0.0)\n",
       " RGB4{N0f8}(0.0,0.0,0.0)  RGB4{N0f8}(0.0,0.0,0.0)     RGB4{N0f8}(0.0,0.0,0.0)\n",
       " RGB4{N0f8}(0.0,0.0,0.0)  RGB4{N0f8}(0.0,0.0,0.0)     RGB4{N0f8}(0.0,0.0,0.0)\n",
       " RGB4{N0f8}(0.0,0.0,0.0)  RGB4{N0f8}(0.0,0.0,0.0)  …  RGB4{N0f8}(0.0,0.0,0.0)\n",
       " RGB4{N0f8}(0.0,0.0,0.0)  RGB4{N0f8}(0.0,0.0,0.0)     RGB4{N0f8}(0.0,0.0,0.0)\n",
       " RGB4{N0f8}(0.0,0.0,0.0)  RGB4{N0f8}(0.0,0.0,0.0)     RGB4{N0f8}(0.0,0.0,0.0)\n",
       " RGB4{N0f8}(0.0,0.0,0.0)  RGB4{N0f8}(0.0,0.0,0.0)     RGB4{N0f8}(0.0,0.0,0.0)\n",
       " RGB4{N0f8}(0.0,0.0,0.0)  RGB4{N0f8}(0.0,0.0,0.0)     RGB4{N0f8}(0.0,0.0,0.0)"
      ]
     },
     "execution_count": 79,
     "metadata": {},
     "output_type": "execute_result"
    }
   ],
   "source": [
    "new_banana"
   ]
  },
  {
   "cell_type": "code",
   "execution_count": 80,
   "metadata": {},
   "outputs": [
    {
     "data": {
      "image/svg+xml": [
       "<?xml version=\"1.0\" encoding=\"UTF-8\"?>\n",
       "<!DOCTYPE svg PUBLIC \"-//W3C//DTD SVG 1.1//EN\"\n",
       " \"http://www.w3.org/Graphics/SVG/1.1/DTD/svg11.dtd\">\n",
       "<svg xmlns=\"http://www.w3.org/2000/svg\" version=\"1.1\"\n",
       "     width=\"25mm\" height=\"25mm\" viewBox=\"0 0 1 1\">\n",
       "     <rect width=\"1\" height=\"1\"\n",
       "           fill=\"#9B8330\" stroke=\"none\"/>\n",
       "</svg>\n"
      ],
      "text/plain": [
       "RGB4{Float64}(0.6096658836445241,0.514868541076373,0.18687105966305895)"
      ]
     },
     "execution_count": 80,
     "metadata": {},
     "output_type": "execute_result"
    }
   ],
   "source": [
    "mean(new_banana[new_banana .!= black])"
   ]
  },
  {
   "cell_type": "code",
   "execution_count": 81,
   "metadata": {},
   "outputs": [
    {
     "name": "stdout",
     "output_type": "stream",
     "text": [
      "RGB4{Float64}(0.6096658836445241,0.514868541076373,0.18687105966305895)"
     ]
    }
   ],
   "source": [
    "show(ans)"
   ]
  },
  {
   "cell_type": "code",
   "execution_count": 82,
   "metadata": {},
   "outputs": [
    {
     "data": {
      "text/plain": [
       "extract_info (generic function with 2 methods)"
      ]
     },
     "execution_count": 82,
     "metadata": {},
     "output_type": "execute_result"
    }
   ],
   "source": [
    "# syntax is pretty different with Julia 0.7:\n",
    "\n",
    "function extract_info(image, threshold=0.5)\n",
    "    \n",
    "    # make white (= background) truly white:\n",
    "    new_image = copy(image)\n",
    "    new_image[abs.(white .- image) .< threshold] = white\n",
    "    \n",
    "    non_white = find(new_image .!= white)\n",
    "    \n",
    "    non_white_indices = ind2sub.([new_image], non_white)\n",
    "\n",
    "    height = maximum(first.(non_white_indices)) - minimum(first.(non_white_indices))\n",
    "    width = maximum(last.(non_white_indices)) - minimum(last.(non_white_indices))\n",
    "    \n",
    "    mean_color = mean(new_image[non_white])\n",
    "    \n",
    "    return height, width, mean_color, new_image\n",
    "end"
   ]
  },
  {
   "cell_type": "code",
   "execution_count": 83,
   "metadata": {},
   "outputs": [
    {
     "data": {
      "text/plain": [
       "(50, 99, RGB4{Float64}(0.6096658836445241,0.514868541076373,0.18687105966305895), ColorTypes.RGB4{FixedPointNumbers.Normed{UInt8,8}}[RGB4{N0f8}(1.0,1.0,1.0) RGB4{N0f8}(1.0,1.0,1.0) … RGB4{N0f8}(1.0,1.0,1.0) RGB4{N0f8}(1.0,1.0,1.0); RGB4{N0f8}(1.0,1.0,1.0) RGB4{N0f8}(1.0,1.0,1.0) … RGB4{N0f8}(1.0,1.0,1.0) RGB4{N0f8}(1.0,1.0,1.0); … ; RGB4{N0f8}(1.0,1.0,1.0) RGB4{N0f8}(1.0,1.0,1.0) … RGB4{N0f8}(1.0,1.0,1.0) RGB4{N0f8}(1.0,1.0,1.0); RGB4{N0f8}(1.0,1.0,1.0) RGB4{N0f8}(1.0,1.0,1.0) … RGB4{N0f8}(1.0,1.0,1.0) RGB4{N0f8}(1.0,1.0,1.0)])"
      ]
     },
     "execution_count": 83,
     "metadata": {},
     "output_type": "execute_result"
    }
   ],
   "source": [
    "height, width, mean_color, new_image = extract_info(banana)"
   ]
  },
  {
   "cell_type": "code",
   "execution_count": 84,
   "metadata": {},
   "outputs": [
    {
     "data": {
      "image/png": "[encoded data removed]",
      "text/plain": [
       "100×100 Array{RGB4{N0f8},2}:\n",
       " RGB4{N0f8}(1.0,1.0,1.0)  RGB4{N0f8}(1.0,1.0,1.0)  …  RGB4{N0f8}(1.0,1.0,1.0)\n",
       " RGB4{N0f8}(1.0,1.0,1.0)  RGB4{N0f8}(1.0,1.0,1.0)     RGB4{N0f8}(1.0,1.0,1.0)\n",
       " RGB4{N0f8}(1.0,1.0,1.0)  RGB4{N0f8}(1.0,1.0,1.0)     RGB4{N0f8}(1.0,1.0,1.0)\n",
       " RGB4{N0f8}(1.0,1.0,1.0)  RGB4{N0f8}(1.0,1.0,1.0)     RGB4{N0f8}(1.0,1.0,1.0)\n",
       " RGB4{N0f8}(1.0,1.0,1.0)  RGB4{N0f8}(1.0,1.0,1.0)     RGB4{N0f8}(1.0,1.0,1.0)\n",
       " RGB4{N0f8}(1.0,1.0,1.0)  RGB4{N0f8}(1.0,1.0,1.0)  …  RGB4{N0f8}(1.0,1.0,1.0)\n",
       " RGB4{N0f8}(1.0,1.0,1.0)  RGB4{N0f8}(1.0,1.0,1.0)     RGB4{N0f8}(1.0,1.0,1.0)\n",
       " RGB4{N0f8}(1.0,1.0,1.0)  RGB4{N0f8}(1.0,1.0,1.0)     RGB4{N0f8}(1.0,1.0,1.0)\n",
       " RGB4{N0f8}(1.0,1.0,1.0)  RGB4{N0f8}(1.0,1.0,1.0)     RGB4{N0f8}(1.0,1.0,1.0)\n",
       " RGB4{N0f8}(1.0,1.0,1.0)  RGB4{N0f8}(1.0,1.0,1.0)     RGB4{N0f8}(1.0,1.0,1.0)\n",
       " RGB4{N0f8}(1.0,1.0,1.0)  RGB4{N0f8}(1.0,1.0,1.0)  …  RGB4{N0f8}(1.0,1.0,1.0)\n",
       " RGB4{N0f8}(1.0,1.0,1.0)  RGB4{N0f8}(1.0,1.0,1.0)     RGB4{N0f8}(1.0,1.0,1.0)\n",
       " RGB4{N0f8}(1.0,1.0,1.0)  RGB4{N0f8}(1.0,1.0,1.0)     RGB4{N0f8}(1.0,1.0,1.0)\n",
       " ⋮                                                 ⋱                         \n",
       " RGB4{N0f8}(1.0,1.0,1.0)  RGB4{N0f8}(1.0,1.0,1.0)     RGB4{N0f8}(1.0,1.0,1.0)\n",
       " RGB4{N0f8}(1.0,1.0,1.0)  RGB4{N0f8}(1.0,1.0,1.0)     RGB4{N0f8}(1.0,1.0,1.0)\n",
       " RGB4{N0f8}(1.0,1.0,1.0)  RGB4{N0f8}(1.0,1.0,1.0)  …  RGB4{N0f8}(1.0,1.0,1.0)\n",
       " RGB4{N0f8}(1.0,1.0,1.0)  RGB4{N0f8}(1.0,1.0,1.0)     RGB4{N0f8}(1.0,1.0,1.0)\n",
       " RGB4{N0f8}(1.0,1.0,1.0)  RGB4{N0f8}(1.0,1.0,1.0)     RGB4{N0f8}(1.0,1.0,1.0)\n",
       " RGB4{N0f8}(1.0,1.0,1.0)  RGB4{N0f8}(1.0,1.0,1.0)     RGB4{N0f8}(1.0,1.0,1.0)\n",
       " RGB4{N0f8}(1.0,1.0,1.0)  RGB4{N0f8}(1.0,1.0,1.0)     RGB4{N0f8}(1.0,1.0,1.0)\n",
       " RGB4{N0f8}(1.0,1.0,1.0)  RGB4{N0f8}(1.0,1.0,1.0)  …  RGB4{N0f8}(1.0,1.0,1.0)\n",
       " RGB4{N0f8}(1.0,1.0,1.0)  RGB4{N0f8}(1.0,1.0,1.0)     RGB4{N0f8}(1.0,1.0,1.0)\n",
       " RGB4{N0f8}(1.0,1.0,1.0)  RGB4{N0f8}(1.0,1.0,1.0)     RGB4{N0f8}(1.0,1.0,1.0)\n",
       " RGB4{N0f8}(1.0,1.0,1.0)  RGB4{N0f8}(1.0,1.0,1.0)     RGB4{N0f8}(1.0,1.0,1.0)\n",
       " RGB4{N0f8}(1.0,1.0,1.0)  RGB4{N0f8}(1.0,1.0,1.0)     RGB4{N0f8}(1.0,1.0,1.0)"
      ]
     },
     "execution_count": 84,
     "metadata": {},
     "output_type": "execute_result"
    }
   ],
   "source": [
    "new_image"
   ]
  },
  {
   "cell_type": "markdown",
   "metadata": {},
   "source": [
    "## Process data"
   ]
  },
  {
   "cell_type": "code",
   "execution_count": 85,
   "metadata": {},
   "outputs": [],
   "source": [
    "dir = \"Fruit-Images-Dataset/Training/Apple\\ Braeburn/\"\n",
    "files = readdir(\"Fruit-Images-Dataset/Training/Apple\\ Braeburn/\");"
   ]
  },
  {
   "cell_type": "code",
   "execution_count": 86,
   "metadata": {},
   "outputs": [
    {
     "data": {
      "image/png": "[encoded data removed]",
      "text/plain": [
       "100×100 Array{RGB4{N0f8},2}:\n",
       " RGB4{N0f8}(0.996,1.0,1.0)    …  RGB4{N0f8}(1.0,1.0,1.0)\n",
       " RGB4{N0f8}(0.996,1.0,1.0)       RGB4{N0f8}(1.0,1.0,1.0)\n",
       " RGB4{N0f8}(0.996,1.0,1.0)       RGB4{N0f8}(1.0,1.0,1.0)\n",
       " RGB4{N0f8}(0.996,1.0,1.0)       RGB4{N0f8}(1.0,1.0,1.0)\n",
       " RGB4{N0f8}(0.996,1.0,1.0)       RGB4{N0f8}(1.0,1.0,1.0)\n",
       " RGB4{N0f8}(0.996,1.0,1.0)    …  RGB4{N0f8}(1.0,1.0,1.0)\n",
       " RGB4{N0f8}(1.0,1.0,1.0)         RGB4{N0f8}(1.0,1.0,1.0)\n",
       " RGB4{N0f8}(1.0,1.0,1.0)         RGB4{N0f8}(1.0,1.0,1.0)\n",
       " RGB4{N0f8}(1.0,1.0,1.0)         RGB4{N0f8}(1.0,1.0,1.0)\n",
       " RGB4{N0f8}(1.0,1.0,1.0)         RGB4{N0f8}(1.0,1.0,1.0)\n",
       " RGB4{N0f8}(1.0,1.0,1.0)      …  RGB4{N0f8}(1.0,1.0,1.0)\n",
       " RGB4{N0f8}(1.0,1.0,1.0)         RGB4{N0f8}(1.0,1.0,1.0)\n",
       " RGB4{N0f8}(1.0,1.0,1.0)         RGB4{N0f8}(1.0,1.0,1.0)\n",
       " ⋮                            ⋱                         \n",
       " RGB4{N0f8}(1.0,0.992,1.0)       RGB4{N0f8}(1.0,1.0,1.0)\n",
       " RGB4{N0f8}(0.996,0.992,1.0)     RGB4{N0f8}(1.0,1.0,1.0)\n",
       " RGB4{N0f8}(0.98,0.996,1.0)   …  RGB4{N0f8}(1.0,1.0,1.0)\n",
       " RGB4{N0f8}(0.976,1.0,1.0)       RGB4{N0f8}(1.0,1.0,1.0)\n",
       " RGB4{N0f8}(0.969,1.0,0.992)     RGB4{N0f8}(1.0,1.0,1.0)\n",
       " RGB4{N0f8}(0.976,1.0,0.984)     RGB4{N0f8}(1.0,1.0,1.0)\n",
       " RGB4{N0f8}(0.984,1.0,0.98)      RGB4{N0f8}(1.0,1.0,1.0)\n",
       " RGB4{N0f8}(0.992,1.0,0.98)   …  RGB4{N0f8}(1.0,1.0,1.0)\n",
       " RGB4{N0f8}(1.0,1.0,1.0)         RGB4{N0f8}(1.0,1.0,1.0)\n",
       " RGB4{N0f8}(1.0,1.0,1.0)         RGB4{N0f8}(1.0,1.0,1.0)\n",
       " RGB4{N0f8}(1.0,1.0,1.0)         RGB4{N0f8}(1.0,1.0,1.0)\n",
       " RGB4{N0f8}(1.0,1.0,1.0)         RGB4{N0f8}(1.0,1.0,1.0)"
      ]
     },
     "execution_count": 86,
     "metadata": {},
     "output_type": "execute_result"
    }
   ],
   "source": [
    "fruit = load(joinpath(dir, files[1]))"
   ]
  },
  {
   "cell_type": "code",
   "execution_count": 87,
   "metadata": {},
   "outputs": [],
   "source": [
    "height, width, mean_color, cleaned_image = extract_info(fruit);"
   ]
  },
  {
   "cell_type": "code",
   "execution_count": 88,
   "metadata": {},
   "outputs": [
    {
     "data": {
      "image/png": "[encoded data removed]",
      "text/plain": [
       "100×100 Array{RGB4{N0f8},2}:\n",
       " RGB4{N0f8}(1.0,1.0,1.0)  RGB4{N0f8}(1.0,1.0,1.0)  …  RGB4{N0f8}(1.0,1.0,1.0)\n",
       " RGB4{N0f8}(1.0,1.0,1.0)  RGB4{N0f8}(1.0,1.0,1.0)     RGB4{N0f8}(1.0,1.0,1.0)\n",
       " RGB4{N0f8}(1.0,1.0,1.0)  RGB4{N0f8}(1.0,1.0,1.0)     RGB4{N0f8}(1.0,1.0,1.0)\n",
       " RGB4{N0f8}(1.0,1.0,1.0)  RGB4{N0f8}(1.0,1.0,1.0)     RGB4{N0f8}(1.0,1.0,1.0)\n",
       " RGB4{N0f8}(1.0,1.0,1.0)  RGB4{N0f8}(1.0,1.0,1.0)     RGB4{N0f8}(1.0,1.0,1.0)\n",
       " RGB4{N0f8}(1.0,1.0,1.0)  RGB4{N0f8}(1.0,1.0,1.0)  …  RGB4{N0f8}(1.0,1.0,1.0)\n",
       " RGB4{N0f8}(1.0,1.0,1.0)  RGB4{N0f8}(1.0,1.0,1.0)     RGB4{N0f8}(1.0,1.0,1.0)\n",
       " RGB4{N0f8}(1.0,1.0,1.0)  RGB4{N0f8}(1.0,1.0,1.0)     RGB4{N0f8}(1.0,1.0,1.0)\n",
       " RGB4{N0f8}(1.0,1.0,1.0)  RGB4{N0f8}(1.0,1.0,1.0)     RGB4{N0f8}(1.0,1.0,1.0)\n",
       " RGB4{N0f8}(1.0,1.0,1.0)  RGB4{N0f8}(1.0,1.0,1.0)     RGB4{N0f8}(1.0,1.0,1.0)\n",
       " RGB4{N0f8}(1.0,1.0,1.0)  RGB4{N0f8}(1.0,1.0,1.0)  …  RGB4{N0f8}(1.0,1.0,1.0)\n",
       " RGB4{N0f8}(1.0,1.0,1.0)  RGB4{N0f8}(1.0,1.0,1.0)     RGB4{N0f8}(1.0,1.0,1.0)\n",
       " RGB4{N0f8}(1.0,1.0,1.0)  RGB4{N0f8}(1.0,1.0,1.0)     RGB4{N0f8}(1.0,1.0,1.0)\n",
       " ⋮                                                 ⋱                         \n",
       " RGB4{N0f8}(1.0,1.0,1.0)  RGB4{N0f8}(1.0,1.0,1.0)     RGB4{N0f8}(1.0,1.0,1.0)\n",
       " RGB4{N0f8}(1.0,1.0,1.0)  RGB4{N0f8}(1.0,1.0,1.0)     RGB4{N0f8}(1.0,1.0,1.0)\n",
       " RGB4{N0f8}(1.0,1.0,1.0)  RGB4{N0f8}(1.0,1.0,1.0)  …  RGB4{N0f8}(1.0,1.0,1.0)\n",
       " RGB4{N0f8}(1.0,1.0,1.0)  RGB4{N0f8}(1.0,1.0,1.0)     RGB4{N0f8}(1.0,1.0,1.0)\n",
       " RGB4{N0f8}(1.0,1.0,1.0)  RGB4{N0f8}(1.0,1.0,1.0)     RGB4{N0f8}(1.0,1.0,1.0)\n",
       " RGB4{N0f8}(1.0,1.0,1.0)  RGB4{N0f8}(1.0,1.0,1.0)     RGB4{N0f8}(1.0,1.0,1.0)\n",
       " RGB4{N0f8}(1.0,1.0,1.0)  RGB4{N0f8}(1.0,1.0,1.0)     RGB4{N0f8}(1.0,1.0,1.0)\n",
       " RGB4{N0f8}(1.0,1.0,1.0)  RGB4{N0f8}(1.0,1.0,1.0)  …  RGB4{N0f8}(1.0,1.0,1.0)\n",
       " RGB4{N0f8}(1.0,1.0,1.0)  RGB4{N0f8}(1.0,1.0,1.0)     RGB4{N0f8}(1.0,1.0,1.0)\n",
       " RGB4{N0f8}(1.0,1.0,1.0)  RGB4{N0f8}(1.0,1.0,1.0)     RGB4{N0f8}(1.0,1.0,1.0)\n",
       " RGB4{N0f8}(1.0,1.0,1.0)  RGB4{N0f8}(1.0,1.0,1.0)     RGB4{N0f8}(1.0,1.0,1.0)\n",
       " RGB4{N0f8}(1.0,1.0,1.0)  RGB4{N0f8}(1.0,1.0,1.0)     RGB4{N0f8}(1.0,1.0,1.0)"
      ]
     },
     "execution_count": 88,
     "metadata": {},
     "output_type": "execute_result"
    }
   ],
   "source": [
    "cleaned_image"
   ]
  },
  {
   "cell_type": "code",
   "execution_count": null,
   "metadata": {
    "collapsed": true
   },
   "outputs": [],
   "source": []
  },
  {
   "cell_type": "code",
   "execution_count": 89,
   "metadata": {},
   "outputs": [
    {
     "data": {
      "text/plain": [
       "3-element Array{Float64,1}:\n",
       " 0.501466\n",
       " 0.229304\n",
       " 0.148436"
      ]
     },
     "execution_count": 89,
     "metadata": {},
     "output_type": "execute_result"
    }
   ],
   "source": [
    "\n",
    "getfield.(mean_color, 1:3)"
   ]
  },
  {
   "cell_type": "markdown",
   "metadata": {},
   "source": [
    "## Process some directories"
   ]
  },
  {
   "cell_type": "markdown",
   "metadata": {},
   "source": [
    "### Braeburns"
   ]
  },
  {
   "cell_type": "code",
   "execution_count": 90,
   "metadata": {},
   "outputs": [],
   "source": [
    "dir = \"Fruit-Images-Dataset/Training/Apple\\ Braeburn/\"\n",
    "files = readdir(dir)\n",
    "\n",
    "output = open(\"apples.dat\", \"w\")\n",
    "println(output, \"height \\t width \\t red \\t green \\t blue\")\n",
    "\n",
    "for file in files\n",
    "    fruit = load(joinpath(dir, file))\n",
    "    height, width, mean_color, cleaned_image = extract_info(fruit);\n",
    "    \n",
    "    println(output, height, \"\\t\", width, \"\\t\", mean_color.r, \"\\t\", mean_color.g, \"\\t\", mean_color.b)\n",
    "end\n",
    "\n",
    "close(output)"
   ]
  },
  {
   "cell_type": "markdown",
   "metadata": {},
   "source": [
    "### Bananas"
   ]
  },
  {
   "cell_type": "code",
   "execution_count": 91,
   "metadata": {},
   "outputs": [],
   "source": [
    "dir = \"Fruit-Images-Dataset/Training/Banana\"\n",
    "files = readdir(dir)\n",
    "\n",
    "output = open(\"bananas.dat\", \"w\")\n",
    "println(output, \"height \\t width \\t red \\t green \\t blue\")\n",
    "\n",
    "for file in files\n",
    "    fruit = load(joinpath(dir, file))\n",
    "    height, width, mean_color, cleaned_image = extract_info(fruit);\n",
    "    \n",
    "    println(output, height, \"\\t\", width, \"\\t\", mean_color.r, \"\\t\", mean_color.g, \"\\t\", mean_color.b)\n",
    "end\n",
    "\n",
    "close(output)"
   ]
  },
  {
   "cell_type": "markdown",
   "metadata": {},
   "source": [
    "## Load data"
   ]
  },
  {
   "cell_type": "code",
   "execution_count": 92,
   "metadata": {},
   "outputs": [],
   "source": [
    "using CSV"
   ]
  },
  {
   "cell_type": "code",
   "execution_count": 112,
   "metadata": {},
   "outputs": [
    {
     "data": {
      "text/html": [
       "<table class=\"data-frame\"><thead><tr><th></th><th>height </th><th> width </th><th> red </th><th> green </th><th> blue</th></tr></thead><tbody><tr><th>1</th><td>Nullable{Int64}(98)</td><td>Nullable{Int64}(99)</td><td>Nullable{Float64}(0.583507)</td><td>Nullable{Float64}(0.500662)</td><td>Nullable{Float64}(0.207504)</td></tr><tr><th>2</th><td>Nullable{Int64}(50)</td><td>Nullable{Int64}(99)</td><td>Nullable{Float64}(0.609666)</td><td>Nullable{Float64}(0.514869)</td><td>Nullable{Float64}(0.186871)</td></tr><tr><th>3</th><td>Nullable{Int64}(52)</td><td>Nullable{Int64}(99)</td><td>Nullable{Float64}(0.610012)</td><td>Nullable{Float64}(0.515759)</td><td>Nullable{Float64}(0.187504)</td></tr><tr><th>4</th><td>Nullable{Int64}(99)</td><td>Nullable{Int64}(69)</td><td>Nullable{Float64}(0.568033)</td><td>Nullable{Float64}(0.492939)</td><td>Nullable{Float64}(0.239316)</td></tr><tr><th>5</th><td>Nullable{Int64}(51)</td><td>Nullable{Int64}(99)</td><td>Nullable{Float64}(0.609766)</td><td>Nullable{Float64}(0.51485)</td><td>Nullable{Float64}(0.183329)</td></tr><tr><th>6</th><td>Nullable{Int64}(53)</td><td>Nullable{Int64}(99)</td><td>Nullable{Float64}(0.608089)</td><td>Nullable{Float64}(0.514609)</td><td>Nullable{Float64}(0.183374)</td></tr><tr><th>7</th><td>Nullable{Int64}(53)</td><td>Nullable{Int64}(99)</td><td>Nullable{Float64}(0.608676)</td><td>Nullable{Float64}(0.515487)</td><td>Nullable{Float64}(0.186206)</td></tr><tr><th>8</th><td>Nullable{Int64}(53)</td><td>Nullable{Int64}(99)</td><td>Nullable{Float64}(0.609278)</td><td>Nullable{Float64}(0.516486)</td><td>Nullable{Float64}(0.188582)</td></tr><tr><th>9</th><td>Nullable{Int64}(99)</td><td>Nullable{Int64}(67)</td><td>Nullable{Float64}(0.569099)</td><td>Nullable{Float64}(0.494501)</td><td>Nullable{Float64}(0.241941)</td></tr><tr><th>10</th><td>Nullable{Int64}(54)</td><td>Nullable{Int64}(99)</td><td>Nullable{Float64}(0.610284)</td><td>Nullable{Float64}(0.516183)</td><td>Nullable{Float64}(0.189116)</td></tr><tr><th>11</th><td>Nullable{Int64}(54)</td><td>Nullable{Int64}(99)</td><td>Nullable{Float64}(0.607329)</td><td>Nullable{Float64}(0.515344)</td><td>Nullable{Float64}(0.188351)</td></tr><tr><th>12</th><td>Nullable{Int64}(56)</td><td>Nullable{Int64}(99)</td><td>Nullable{Float64}(0.608367)</td><td>Nullable{Float64}(0.51465)</td><td>Nullable{Float64}(0.188733)</td></tr><tr><th>13</th><td>Nullable{Int64}(56)</td><td>Nullable{Int64}(99)</td><td>Nullable{Float64}(0.606331)</td><td>Nullable{Float64}(0.513778)</td><td>Nullable{Float64}(0.18818)</td></tr><tr><th>14</th><td>Nullable{Int64}(56)</td><td>Nullable{Int64}(99)</td><td>Nullable{Float64}(0.608364)</td><td>Nullable{Float64}(0.516287)</td><td>Nullable{Float64}(0.193825)</td></tr><tr><th>15</th><td>Nullable{Int64}(57)</td><td>Nullable{Int64}(99)</td><td>Nullable{Float64}(0.605807)</td><td>Nullable{Float64}(0.513735)</td><td>Nullable{Float64}(0.191391)</td></tr><tr><th>16</th><td>Nullable{Int64}(58)</td><td>Nullable{Int64}(99)</td><td>Nullable{Float64}(0.605733)</td><td>Nullable{Float64}(0.512879)</td><td>Nullable{Float64}(0.190078)</td></tr><tr><th>17</th><td>Nullable{Int64}(59)</td><td>Nullable{Int64}(99)</td><td>Nullable{Float64}(0.604937)</td><td>Nullable{Float64}(0.513665)</td><td>Nullable{Float64}(0.192874)</td></tr><tr><th>18</th><td>Nullable{Int64}(59)</td><td>Nullable{Int64}(99)</td><td>Nullable{Float64}(0.603498)</td><td>Nullable{Float64}(0.511384)</td><td>Nullable{Float64}(0.192722)</td></tr><tr><th>19</th><td>Nullable{Int64}(59)</td><td>Nullable{Int64}(99)</td><td>Nullable{Float64}(0.600693)</td><td>Nullable{Float64}(0.510035)</td><td>Nullable{Float64}(0.189299)</td></tr><tr><th>20</th><td>Nullable{Int64}(61)</td><td>Nullable{Int64}(99)</td><td>Nullable{Float64}(0.602988)</td><td>Nullable{Float64}(0.511165)</td><td>Nullable{Float64}(0.194563)</td></tr><tr><th>21</th><td>Nullable{Int64}(61)</td><td>Nullable{Int64}(99)</td><td>Nullable{Float64}(0.600188)</td><td>Nullable{Float64}(0.509263)</td><td>Nullable{Float64}(0.193743)</td></tr><tr><th>22</th><td>Nullable{Int64}(61)</td><td>Nullable{Int64}(99)</td><td>Nullable{Float64}(0.599505)</td><td>Nullable{Float64}(0.507729)</td><td>Nullable{Float64}(0.193026)</td></tr><tr><th>23</th><td>Nullable{Int64}(63)</td><td>Nullable{Int64}(99)</td><td>Nullable{Float64}(0.597605)</td><td>Nullable{Float64}(0.507)</td><td>Nullable{Float64}(0.194595)</td></tr><tr><th>24</th><td>Nullable{Int64}(65)</td><td>Nullable{Int64}(99)</td><td>Nullable{Float64}(0.596964)</td><td>Nullable{Float64}(0.506184)</td><td>Nullable{Float64}(0.196388)</td></tr><tr><th>25</th><td>Nullable{Int64}(66)</td><td>Nullable{Int64}(99)</td><td>Nullable{Float64}(0.597058)</td><td>Nullable{Float64}(0.506745)</td><td>Nullable{Float64}(0.197678)</td></tr><tr><th>26</th><td>Nullable{Int64}(67)</td><td>Nullable{Int64}(99)</td><td>Nullable{Float64}(0.597075)</td><td>Nullable{Float64}(0.50638)</td><td>Nullable{Float64}(0.19838)</td></tr><tr><th>27</th><td>Nullable{Int64}(69)</td><td>Nullable{Int64}(99)</td><td>Nullable{Float64}(0.592933)</td><td>Nullable{Float64}(0.504191)</td><td>Nullable{Float64}(0.198419)</td></tr><tr><th>28</th><td>Nullable{Int64}(73)</td><td>Nullable{Int64}(99)</td><td>Nullable{Float64}(0.589429)</td><td>Nullable{Float64}(0.500421)</td><td>Nullable{Float64}(0.201329)</td></tr><tr><th>29</th><td>Nullable{Int64}(78)</td><td>Nullable{Int64}(99)</td><td>Nullable{Float64}(0.586179)</td><td>Nullable{Float64}(0.49841)</td><td>Nullable{Float64}(0.201781)</td></tr><tr><th>30</th><td>Nullable{Int64}(79)</td><td>Nullable{Int64}(99)</td><td>Nullable{Float64}(0.582614)</td><td>Nullable{Float64}(0.495792)</td><td>Nullable{Float64}(0.201449)</td></tr><tr><th>&vellip;</th><td>&vellip;</td><td>&vellip;</td><td>&vellip;</td><td>&vellip;</td><td>&vellip;</td></tr></tbody></table>"
      ],
      "text/plain": [
       "490×5 DataFrames.DataFrame\n",
       "│ Row │ height  │  width  │  red     │  green   │  blue    │\n",
       "├─────┼─────────┼─────────┼──────────┼──────────┼──────────┤\n",
       "│ 1   │ 98      │ 99      │ 0.583507 │ 0.500662 │ 0.207504 │\n",
       "│ 2   │ 50      │ 99      │ 0.609666 │ 0.514869 │ 0.186871 │\n",
       "│ 3   │ 52      │ 99      │ 0.610012 │ 0.515759 │ 0.187504 │\n",
       "│ 4   │ 99      │ 69      │ 0.568033 │ 0.492939 │ 0.239316 │\n",
       "│ 5   │ 51      │ 99      │ 0.609766 │ 0.51485  │ 0.183329 │\n",
       "│ 6   │ 53      │ 99      │ 0.608089 │ 0.514609 │ 0.183374 │\n",
       "│ 7   │ 53      │ 99      │ 0.608676 │ 0.515487 │ 0.186206 │\n",
       "│ 8   │ 53      │ 99      │ 0.609278 │ 0.516486 │ 0.188582 │\n",
       "│ 9   │ 99      │ 67      │ 0.569099 │ 0.494501 │ 0.241941 │\n",
       "│ 10  │ 54      │ 99      │ 0.610284 │ 0.516183 │ 0.189116 │\n",
       "│ 11  │ 54      │ 99      │ 0.607329 │ 0.515344 │ 0.188351 │\n",
       "⋮\n",
       "│ 479 │ 31      │ 99      │ 0.52913  │ 0.44031  │ 0.203179 │\n",
       "│ 480 │ 37      │ 99      │ 0.528731 │ 0.456548 │ 0.230871 │\n",
       "│ 481 │ 37      │ 99      │ 0.524028 │ 0.452379 │ 0.226256 │\n",
       "│ 482 │ 37      │ 99      │ 0.523906 │ 0.452571 │ 0.230475 │\n",
       "│ 483 │ 39      │ 99      │ 0.523823 │ 0.4514   │ 0.229759 │\n",
       "│ 484 │ 39      │ 99      │ 0.522489 │ 0.449973 │ 0.233683 │\n",
       "│ 485 │ 41      │ 99      │ 0.517573 │ 0.444391 │ 0.227029 │\n",
       "│ 486 │ 41      │ 99      │ 0.515956 │ 0.441912 │ 0.230229 │\n",
       "│ 487 │ 41      │ 99      │ 0.517585 │ 0.444827 │ 0.234798 │\n",
       "│ 488 │ 41      │ 99      │ 0.510357 │ 0.436022 │ 0.228139 │\n",
       "│ 489 │ 43      │ 99      │ 0.508873 │ 0.43433  │ 0.230683 │\n",
       "│ 490 │ 31      │ 99      │ 0.528205 │ 0.440139 │ 0.199588 │"
      ]
     },
     "execution_count": 112,
     "metadata": {},
     "output_type": "execute_result"
    }
   ],
   "source": [
    "apples = CSV.read(\"apples.dat\", delim='\\t')\n",
    "bananas = CSV.read(\"bananas.dat\", delim='\\t')"
   ]
  },
  {
   "cell_type": "code",
   "execution_count": 100,
   "metadata": {},
   "outputs": [
    {
     "name": "stderr",
     "output_type": "stream",
     "text": [
      "WARNING: using JuliaDB.load in module Main conflicts with an existing identifier.\n"
     ]
    }
   ],
   "source": [
    "# using JuliaDB"
   ]
  },
  {
   "cell_type": "code",
   "execution_count": 102,
   "metadata": {},
   "outputs": [
    {
     "data": {
      "text/plain": [
       "Table with 490 rows, 5 columns:\n",
       "height_  width_  red_      green_    blue\n",
       "─────────────────────────────────────────────\n",
       "98       99      0.583507  0.500662  0.207504\n",
       "50       99      0.609666  0.514869  0.186871\n",
       "52       99      0.610012  0.515759  0.187504\n",
       "99       69      0.568033  0.492939  0.239316\n",
       "51       99      0.609766  0.51485   0.183329\n",
       "53       99      0.608089  0.514609  0.183374\n",
       "53       99      0.608676  0.515487  0.186206\n",
       "53       99      0.609278  0.516486  0.188582\n",
       "99       67      0.569099  0.494501  0.241941\n",
       "54       99      0.610284  0.516183  0.189116\n",
       "54       99      0.607329  0.515344  0.188351\n",
       "56       99      0.608367  0.51465   0.188733\n",
       "⋮\n",
       "37       99      0.528731  0.456548  0.230871\n",
       "37       99      0.524028  0.452379  0.226256\n",
       "37       99      0.523906  0.452571  0.230475\n",
       "39       99      0.523823  0.4514    0.229759\n",
       "39       99      0.522489  0.449973  0.233683\n",
       "41       99      0.517573  0.444391  0.227029\n",
       "41       99      0.515956  0.441912  0.230229\n",
       "41       99      0.517585  0.444827  0.234798\n",
       "41       99      0.510357  0.436022  0.228139\n",
       "43       99      0.508873  0.43433   0.230683\n",
       "31       99      0.528205  0.440139  0.199588"
      ]
     },
     "execution_count": 102,
     "metadata": {},
     "output_type": "execute_result"
    }
   ],
   "source": [
    "# apples = loadtable(\"apples.dat\", delim='\\t')\n",
    "# bananas = loadtable(\"bananas.dat\", delim='\\t')"
   ]
  },
  {
   "cell_type": "code",
   "execution_count": 103,
   "metadata": {},
   "outputs": [
    {
     "name": "stderr",
     "output_type": "stream",
     "text": [
      "\u001b[1m\u001b[36mINFO: \u001b[39m\u001b[22m\u001b[36mPackage GR is already installed\n",
      "\u001b[39m\u001b[1m\u001b[36mINFO: \u001b[39m\u001b[22m\u001b[36mMETADATA is out-of-date — you may not have the latest version of GR\n",
      "\u001b[39m\u001b[1m\u001b[36mINFO: \u001b[39m\u001b[22m\u001b[36mUse `Pkg.update()` to get the latest versions of your packages\n",
      "\u001b[39m"
     ]
    }
   ],
   "source": [
    "Pkg.add(\"GR\")"
   ]
  },
  {
   "cell_type": "code",
   "execution_count": 104,
   "metadata": {},
   "outputs": [
    {
     "data": {
      "text/plain": [
       "Plots.GRBackend()"
      ]
     },
     "execution_count": 104,
     "metadata": {},
     "output_type": "execute_result"
    }
   ],
   "source": [
    "using Plots; gr()"
   ]
  },
  {
   "cell_type": "code",
   "execution_count": 111,
   "metadata": {},
   "outputs": [
    {
     "ename": "LoadError",
     "evalue": "\u001b[91mKeyError: key :red not found\u001b[39m",
     "output_type": "error",
     "traceback": [
      "\u001b[91mKeyError: key :red not found\u001b[39m",
      "",
      "Stacktrace:",
      " [1] \u001b[1mgetindex\u001b[22m\u001b[22m at \u001b[1m./dict.jl:474\u001b[22m\u001b[22m [inlined]",
      " [2] \u001b[1mgetindex\u001b[22m\u001b[22m\u001b[1m(\u001b[22m\u001b[22m::DataFrames.Index, ::Symbol\u001b[1m)\u001b[22m\u001b[22m at \u001b[1m/Users/jane/.julia/v0.6/DataFrames/src/other/index.jl:115\u001b[22m\u001b[22m",
      " [3] \u001b[1mgetindex\u001b[22m\u001b[22m\u001b[1m(\u001b[22m\u001b[22m::DataFrames.DataFrame, ::Symbol\u001b[1m)\u001b[22m\u001b[22m at \u001b[1m/Users/jane/.julia/v0.6/DataFrames/src/dataframe/dataframe.jl:228\u001b[22m\u001b[22m",
      " [4] \u001b[1minclude_string\u001b[22m\u001b[22m\u001b[1m(\u001b[22m\u001b[22m::String, ::String\u001b[1m)\u001b[22m\u001b[22m at \u001b[1m./loading.jl:515\u001b[22m\u001b[22m"
     ]
    }
   ],
   "source": [
    "scatter(apples[:red], apples[:green])\n",
    "scatter!(bananas[:red], bananas[:green])"
   ]
  },
  {
   "cell_type": "code",
   "execution_count": 97,
   "metadata": {},
   "outputs": [],
   "source": [
    "using Interact"
   ]
  },
  {
   "cell_type": "code",
   "execution_count": 98,
   "metadata": {},
   "outputs": [
    {
     "data": {
      "application/vnd.jupyter.widget-view+json": {
       "model_id": "b3c06688-14f8-4c33-b845-dadf7f463bca",
       "version_major": 2,
       "version_minor": 0
      }
     },
     "metadata": {},
     "output_type": "display_data"
    },
    {
     "data": {
      "text/html": [],
      "text/plain": [
       "Interact.Options{:SelectionSlider,Any}(7: \"input-4\" = 0.0 Any , \"wx\", 0.0, \"0.0\", 101, Interact.OptionDict(DataStructures.OrderedDict{Any,Any}(\"-1.0\"=>-1.0,\"-0.99\"=>-0.99,\"-0.98\"=>-0.98,\"-0.97\"=>-0.97,\"-0.96\"=>-0.96,\"-0.95\"=>-0.95,\"-0.94\"=>-0.94,\"-0.93\"=>-0.93,\"-0.92\"=>-0.92,\"-0.91\"=>-0.91…), Dict{Any,Any}(Pair{Any,Any}(-0.92, \"-0.92\"),Pair{Any,Any}(-0.22, \"-0.22\"),Pair{Any,Any}(0.22, \"0.22\"),Pair{Any,Any}(0.2, \"0.2\"),Pair{Any,Any}(0.89, \"0.89\"),Pair{Any,Any}(0.48, \"0.48\"),Pair{Any,Any}(-0.8, \"-0.8\"),Pair{Any,Any}(-0.08, \"-0.08\"),Pair{Any,Any}(-0.97, \"-0.97\"),Pair{Any,Any}(0.24, \"0.24\")…)), Any[], Any[], true, \"horizontal\")"
      ]
     },
     "metadata": {},
     "output_type": "display_data"
    },
    {
     "data": {
      "application/vnd.jupyter.widget-view+json": {
       "model_id": "b21fc590-e199-4df1-8dc3-7b5bba209aad",
       "version_major": 2,
       "version_minor": 0
      }
     },
     "metadata": {},
     "output_type": "display_data"
    },
    {
     "data": {
      "text/html": [],
      "text/plain": [
       "Interact.Options{:SelectionSlider,Any}(9: \"input-5\" = 0.05 Any , \"wy\", 0.05, \"0.05\", 96, Interact.OptionDict(DataStructures.OrderedDict{Any,Any}(\"-0.9\"=>-0.9,\"-0.89\"=>-0.89,\"-0.88\"=>-0.88,\"-0.87\"=>-0.87,\"-0.86\"=>-0.86,\"-0.85\"=>-0.85,\"-0.84\"=>-0.84,\"-0.83\"=>-0.83,\"-0.82\"=>-0.82,\"-0.81\"=>-0.81…), Dict{Any,Any}(Pair{Any,Any}(-0.22, \"-0.22\"),Pair{Any,Any}(0.22, \"0.22\"),Pair{Any,Any}(0.2, \"0.2\"),Pair{Any,Any}(0.89, \"0.89\"),Pair{Any,Any}(0.48, \"0.48\"),Pair{Any,Any}(-0.8, \"-0.8\"),Pair{Any,Any}(-0.08, \"-0.08\"),Pair{Any,Any}(0.24, \"0.24\"),Pair{Any,Any}(-0.24, \"-0.24\"),Pair{Any,Any}(0.11, \"0.11\")…)), Any[], Any[], true, \"horizontal\")"
      ]
     },
     "metadata": {},
     "output_type": "display_data"
    },
    {
     "data": {
      "application/vnd.jupyter.widget-view+json": {
       "model_id": "c8a0f25d-0da4-42cd-9bba-5927595f5c1c",
       "version_major": 2,
       "version_minor": 0
      }
     },
     "metadata": {},
     "output_type": "display_data"
    },
    {
     "data": {
      "text/html": [],
      "text/plain": [
       "Interact.Options{:SelectionSlider,Any}(11: \"input-6\" = 0.0 Any , \"b\", 0.0, \"0.0\", 101, Interact.OptionDict(DataStructures.OrderedDict{Any,Any}(\"-1.0\"=>-1.0,\"-0.99\"=>-0.99,\"-0.98\"=>-0.98,\"-0.97\"=>-0.97,\"-0.96\"=>-0.96,\"-0.95\"=>-0.95,\"-0.94\"=>-0.94,\"-0.93\"=>-0.93,\"-0.92\"=>-0.92,\"-0.91\"=>-0.91…), Dict{Any,Any}(Pair{Any,Any}(-0.92, \"-0.92\"),Pair{Any,Any}(-0.22, \"-0.22\"),Pair{Any,Any}(0.22, \"0.22\"),Pair{Any,Any}(0.2, \"0.2\"),Pair{Any,Any}(0.89, \"0.89\"),Pair{Any,Any}(0.48, \"0.48\"),Pair{Any,Any}(-0.8, \"-0.8\"),Pair{Any,Any}(-0.08, \"-0.08\"),Pair{Any,Any}(-0.97, \"-0.97\"),Pair{Any,Any}(0.24, \"0.24\")…)), Any[], Any[], true, \"horizontal\")"
      ]
     },
     "metadata": {},
     "output_type": "display_data"
    },
    {
     "ename": "LoadError",
     "evalue": "\u001b[91mKeyError: key :red not found\u001b[39m",
     "output_type": "error",
     "traceback": [
      "\u001b[91mKeyError: key :red not found\u001b[39m",
      "",
      "Stacktrace:",
      " [1] \u001b[1mgetindex\u001b[22m\u001b[22m at \u001b[1m./dict.jl:474\u001b[22m\u001b[22m [inlined]",
      " [2] \u001b[1mgetindex\u001b[22m\u001b[22m\u001b[1m(\u001b[22m\u001b[22m::DataFrames.Index, ::Symbol\u001b[1m)\u001b[22m\u001b[22m at \u001b[1m/Users/jane/.julia/v0.6/DataFrames/src/other/index.jl:115\u001b[22m\u001b[22m",
      " [3] \u001b[1mgetindex\u001b[22m\u001b[22m\u001b[1m(\u001b[22m\u001b[22m::DataFrames.DataFrame, ::Symbol\u001b[1m)\u001b[22m\u001b[22m at \u001b[1m/Users/jane/.julia/v0.6/DataFrames/src/dataframe/dataframe.jl:228\u001b[22m\u001b[22m",
      " [4] \u001b[1m(::##21#23)\u001b[22m\u001b[22m\u001b[1m(\u001b[22m\u001b[22m::Float64, ::Float64, ::Float64\u001b[1m)\u001b[22m\u001b[22m at \u001b[1m./In[98]:7\u001b[22m\u001b[22m",
      " [5] \u001b[1m(::Base.#kw##map)\u001b[22m\u001b[22m\u001b[1m(\u001b[22m\u001b[22m::Array{Any,1}, ::Base.#map, ::Function, ::Reactive.Signal{Any}, ::Reactive.Signal{Any}, ::Vararg{Reactive.Signal{Any},N} where N\u001b[1m)\u001b[22m\u001b[22m at \u001b[1m./<missing>:0\u001b[22m\u001b[22m",
      " [6] \u001b[1minclude_string\u001b[22m\u001b[22m\u001b[1m(\u001b[22m\u001b[22m::String, ::String\u001b[1m)\u001b[22m\u001b[22m at \u001b[1m./loading.jl:515\u001b[22m\u001b[22m"
     ]
    }
   ],
   "source": [
    "# Plane w⋅x - b == 0\n",
    "# wx*x + wy*y - b == 0\n",
    "# y = (b - wx*x) / wy\n",
    "\n",
    "\n",
    "@manipulate for wx in -1:0.01:1, wy in -0.9:0.01:1, b in -1:0.01:1\n",
    "    scatter(apples[:red], apples[:green])\n",
    "    scatter!(bananas[:red], bananas[:green])\n",
    "    plot!(x->(b - wx*x) / wy, 0, 1)\n",
    "    \n",
    "    xlims!(0, 1)\n",
    "    ylims!(0, 1)\n",
    "end\n",
    "    "
   ]
  },
  {
   "cell_type": "code",
   "execution_count": null,
   "metadata": {
    "collapsed": true
   },
   "outputs": [],
   "source": []
  }
 ],
 "metadata": {
  "kernelspec": {
   "display_name": "Julia 0.6.0",
   "language": "julia",
   "name": "julia-0.6"
  },
  "language_info": {
   "file_extension": ".jl",
   "mimetype": "application/julia",
   "name": "julia",
   "version": "0.6.0"
  },
  "toc": {
   "colors": {
    "hover_highlight": "#DAA520",
    "running_highlight": "#FF0000",
    "selected_highlight": "#FFD700"
   },
   "moveMenuLeft": true,
   "nav_menu": {
    "height": "48px",
    "width": "252px"
   },
   "navigate_menu": true,
   "number_sections": true,
   "sideBar": true,
   "threshold": "1",
   "toc_cell": false,
   "toc_section_display": "block",
   "toc_window_display": false
  }
 },
 "nbformat": 4,
 "nbformat_minor": 2
}
