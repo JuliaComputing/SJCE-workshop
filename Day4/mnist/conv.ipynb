{
 "cells": [
  {
   "cell_type": "code",
   "execution_count": 2,
   "metadata": {},
   "outputs": [],
   "source": [
    "using Flux, Flux.Data.MNIST, Images\n",
    "using Flux: onehotbatch, argmax, crossentropy, throttle\n",
    "using Base.Iterators: repeated, partition"
   ]
  },
  {
   "cell_type": "code",
   "execution_count": 3,
   "metadata": {},
   "outputs": [
    {
     "data": {
      "text/plain": [
       "gpu (generic function with 1 method)"
      ]
     },
     "execution_count": 3,
     "metadata": {},
     "output_type": "execute_result"
    }
   ],
   "source": [
    "gpu(x) = x\n",
    "# using CuArrays\n",
    "# gpu(x) = cu(x)"
   ]
  },
  {
   "cell_type": "code",
   "execution_count": 4,
   "metadata": {
    "scrolled": true
   },
   "outputs": [
    {
     "data": {
      "text/html": [
       "<table><tbody><tr><td style='text-align:center;vertical-align:middle; margin: 0.5em;border:1px #90999f solid;border-collapse:collapse'><img style='max-width: 100px; max-height:100px;display:inline' src=\"data:image/png;base64,iVBORw0KGgoAAAANSUhEUgAAAHAAAABwCAAAAADji6uXAAAABGdBTUEAALGPC/xhBQAAAAJiS0dEAP+Hj8y/AAAAB3RJTUUH4gIQDQkdB51QFQAAAYxJREFUaN7t2r8rRWEcx/GLSUqy+FUWyiDKxCiDURgV/wCTxUaJKKsMMpgMKBtFWZQyyMIkA2UVUvLjxvtTnrrdTunqua6Tz2u5t26dd8/wnB/fczMZMzMzs3+oArU5prGIHTRiAx94xgwcLH2wGa0Ywyo2kU1wjW3o+yOO0AsHSxvswh2y33jDKIa/9KANBa/OwehBbexLJEWOsQtt8AcUfHAHfyUog1jDOELsFFXQ7+3QCcHBvxuUapRBB1ZwBFEDDhY9GCxBwUOUw8H0BbXZFVO0Hw6mLygt0AVXN77rmIBOCg6mJyhDuEe4IE+hAQ6mJygd2EeIrqAJDqYnKDXQg+g7FD2Ag+kKBi9QUJ8/mj45WJJgJ2axh7D5z1C0G2QHo9HQbhm3yB0UvUKDougrczBaqB6TuEL+oO8EA4i6MgejBevQhwskDWl1Uxx1szsYLagB+xaShux6kaXBbSWirczBaMFu6MXjDfJDT5hHGLBH4WD0oP4EkBs5xwLmoIeXaCEHixY0M7OCfQI3irirkfzU5gAAAABJRU5ErkJg\"></td><td style='text-align:center;vertical-align:middle; margin: 0.5em;border:1px #90999f solid;border-collapse:collapse'><img style='max-width: 100px; max-height:100px;display:inline' src=\"data:image/png;base64,iVBORw0KGgoAAAANSUhEUgAAAHAAAABwCAAAAADji6uXAAAABGdBTUEAALGPC/xhBQAAAAJiS0dEAP+Hj8y/AAAAB3RJTUUH4gIQDQkdB51QFQAAAatJREFUaN7t2L0rRWEAx/E7UbLJoBhZiRKljAbKgtmfINs1icFkILsisVjYFAtRJpsReSmDl1JKufH9ladOct1z3Xs65+b3We7t9JzzvcM5z3Puk8uZmZlZRXqwigL02Q0HayfYhUe8RzzAwdoI9uIaulkUesI99L0fdXAwm8EGDOASungInmIM4dgMHMxmcB3RBz0EZRL70LFNOJi9oBZbTdaFLweYhr7foBOj+MAWHMxW8Ptiu4tGDCOPZoSx+gEvqOiFysGqBjuwAV1Ii+wZNFEXGx8mA53jYPrBeuxAF3jGEJrQilLBQziYflAvteFhH0SccxzMVvAYYbGNe44WYJ1zBAfTDY7gFboBphD3vHDTrMDBdIPj0Il3aEGp8ZroF6DgHvSS5WA2gheIE5uHxl9BC3VZMQcTDS7ht3H6o6OXXo3dRtkhBxMLTkAPsW6CYmO0qRA2Gtbw55iDiQTDTfOGZejmaIOO6w+OfohCmhi0mdcHB7MZDG5xjugxvezOoaKQg4kFtXFwgp821LVBVGpSdzD9oOgFeBbR4CLaUfWYg4kEzczM/olPb9eX2t8FSoIAAAAASUVORK5C\"></td><td style='text-align:center;vertical-align:middle; margin: 0.5em;border:1px #90999f solid;border-collapse:collapse'><img style='max-width: 100px; max-height:100px;display:inline' src=\"data:image/png;base64,iVBORw0KGgoAAAANSUhEUgAAAHAAAABwCAAAAADji6uXAAAABGdBTUEAALGPC/xhBQAAAAJiS0dEAP+Hj8y/AAAAB3RJTUUH4gIQDQkdB51QFQAAAUVJREFUaN7t2S1LBFEYhuFFsIrNoGZNKzYtFn+BQYsgssFfsKBF+yZNgknQZPQD/AdWwWQQ66ogKCKI+LH30xZW4XjY8eXAc7Wd2XfvE84wM2ytZmZmZmY95nGHCTgYE5zDAnKDGziDg3HBLRwiJzaAPVxhEg7GBG+QGxzFFw6QPORg34O3yA2eQ8FNOBgTrOMVucELKDgDB2OCunlqICc4gjY0Pw4HY4L70IDCfw1qkZq9xjAcjA3qhSTl+0NYwgneoNllJK/SwcqCi+g+PoVpNLGDXTzjBQ84hT5/IPkB2MFKgvqhTzzisouOaSHveIJutNvQBhnDIO6h88kxBysJyjqOf9DAbw9Ha9CC9CLkYHwwxxEUbMHBsoOzcNBBB+OC31iBg+UGtWlW4WDZQf1J4mC5QV34DpYb1AX/r5vGQTMz668O1qS/bXAGxQwAAAAASUVORK5C\"></td><td style='text-align:center;vertical-align:middle; margin: 0.5em;border:1px #90999f solid;border-collapse:collapse'><img style='max-width: 100px; max-height:100px;display:inline' src=\"data:image/png;base64,iVBORw0KGgoAAAANSUhEUgAAAHAAAABwCAAAAADji6uXAAAABGdBTUEAALGPC/xhBQAAAAJiS0dEAP+Hj8y/AAAAB3RJTUUH4gIQDQkdB51QFQAAARFJREFUaN7t2SFKRUEUgOEXDYJF0KbN6gJERVyA1SJGFyG6AbvB4AZcgOUFwWqyajOpwSAYLhf9D7yRV8QyJxz4vw38HJh7Z+7cyUSSJEm/TjHiGzswWCt4jE8MiOg2DNYKnmOYMVgvuI93ROwRa1iAwRrBLbygLZgjpE1mMMUVxpkpUmMGu1tGhGKxvGEPBusE1/GAFjxD6nQGuztBOzDdYgkG6wQP8IEI3mEFqdMZ7Coe+HHONVKnM9jdJYY5GzBYJ7iJZ7TYDVKnM9jdK1rsHoswWCvYDr3hEKkxg93FRhs/QNrGGxd4BusE46UdF3gR+sIFUm98DXa3i/bx+YS0kEGDBv+0irg8MFg3KEn61w99Ni8tJcZfTQAAAABJRU5ErkJg\"></td><td style='text-align:center;vertical-align:middle; margin: 0.5em;border:1px #90999f solid;border-collapse:collapse'><img style='max-width: 100px; max-height:100px;display:inline' src=\"data:image/png;base64,iVBORw0KGgoAAAANSUhEUgAAAHAAAABwCAAAAADji6uXAAAABGdBTUEAALGPC/xhBQAAAAJiS0dEAP+Hj8y/AAAAB3RJTUUH4gIQDQkdB51QFQAAAWhJREFUaN7t2bErBnEcx/FnoIhkIZPJpMxYlMmE0WIwK4NSNqVMFoU/ApMJC1kMVovYMFAmSgYn3p96vnWL6Z7n3O/6vKbnud/1ez9Xv+6eu2s0zMzMzMzM/sE49nGD76ZVLEDbNe5gdYOa9AUZFDqHwlmTth3AweoFOzCJd2jiC0yjE704QQTX4GD1gkuIhXGKPsTYImLsAQNwsFrBLWgxaMJd5GNyiwjOo/DROdjS4AYU+8QxuhFjXZjDB7TPJgofnYMtDfYjLraK5cdGcI1YLIfogYPVCg4iJhyGvq/jCm+Ik8EXZlEo5mBbglo0z4g/R1nOI56gz9qncMzBtgRFN5evUPAO2xjFEC6h4A4crG7wL1P4gX7IChxMLziDOBm05G7JwdKD4mDawfqv0voHl+Fg2sExxAXYwTSDcg8tmgk4mGYwHrzrhZducBxML6iH7WdQ9AiFH+45WHowontQtLSF46DVzy+EgqssLrxZiAAAAABJRU5ErkJg\"></td><td style='text-align:center;vertical-align:middle; margin: 0.5em;border:1px #90999f solid;border-collapse:collapse'><img style='max-width: 100px; max-height:100px;display:inline' src=\"data:image/png;base64,iVBORw0KGgoAAAANSUhEUgAAAHAAAABwCAAAAADji6uXAAAABGdBTUEAALGPC/xhBQAAAAJiS0dEAP+Hj8y/AAAAB3RJTUUH4gIQDQkdB51QFQAAAa1JREFUaN7t2U8opGEAx3HlXyl/a4lC21KuDvawXDhx4IqDctgLhz1xWLGtE7ctF3txclDKhVHOTiJRLpSiKG6bRS4z2e+v5qnpvSjend7J73OZMc/7Pt/U+2+eKSoyMzMze+cq0YivmEE5HCyM4Ecs4xjpHEtwMNnBDvzGAxTI4BIn0N+30DYOJi9YDYX+IPcgOUUr2hE+64GDyQuOIx1xhmZo3MHkB7cRJjzHGloQxgfhYLKDTfiJL6hHdFwPUQ4mO/iSFThYWMFv+A59gdHrPhTbRTEcTGawAl3YQibrGeH9NT4htv/KwdiCpfiMK+jAuIcmX8dfhBP+BtMog4PJCWrnIYRJ59ANjdUhuqggw3j1ApGDsQZ1sCwgTJRCDTT2AQfQCf+EeWwgbLuDPnRmOZj/oG6ii9DOd5hELTSmC/geNKZFhV7o8yr0YxXaJ8Qv4GD+gxPQxro4j0An+QB0wQ4Lez8QFhWiRpHK0oKDg/kP6maqSR9xCB0cuRfoWcT6hO1g7MEjRG+sm5hCG0oQW8zB/xLUD5Fj+AV94WzAm5+oHcxr0MzMzKzA/APi6Dp6kH0fRgAAAABJRU5ErkJg\"></td><td style='text-align:center;vertical-align:middle; margin: 0.5em;border:1px #90999f solid;border-collapse:collapse'><img style='max-width: 100px; max-height:100px;display:inline' src=\"data:image/png;base64,iVBORw0KGgoAAAANSUhEUgAAAHAAAABwCAAAAADji6uXAAAABGdBTUEAALGPC/xhBQAAAAJiS0dEAP+Hj8y/AAAAB3RJTUUH4gIQDQkdB51QFQAAAMVJREFUaN7t2rEJwlAURuH0NtY2CnYuIu6iG+gOWriEjSM4hJ3gCG5g0HPBgK1FhD+cb4HTXO7jvaRpJEnSzw544YopDGYFZ3igxRNLGMwKjnCGwdxg2cNgbnCMCwzmBie4owtu0eshbLAXO3TBsobBrGAxmB+sy0z7YTAzOPwpNWjQoMH/Lu8TDOYFv4emLGAwK3jEd7AeiwxmBTcwmB0sN3QLvJb5HAazgvXBpBuaihrMC65gMDtYj+v184DB3KAkSQPyBmsnTx16xAqqAAAAAElFTkSuQmCC\"></td><td style='text-align:center;vertical-align:middle; margin: 0.5em;border:1px #90999f solid;border-collapse:collapse'><img style='max-width: 100px; max-height:100px;display:inline' src=\"data:image/png;base64,iVBORw0KGgoAAAANSUhEUgAAAHAAAABwCAAAAADji6uXAAAABGdBTUEAALGPC/xhBQAAAAJiS0dEAP+Hj8y/AAAAB3RJTUUH4gIQDQkdB51QFQAAAXVJREFUaN7t2b8rRWEcx/E7+LlQJgMxWTAomwxWRpFyJwMZ/AWyXRYDMRn4C6RYLAxmisFiQQaLohgsV7y/dU+dns49dM89+srntd1OPe9O3XPuc79PoSAiIiLyz/ShH4v4xEeCAzRBQV9Bi6zjHg8owxYvV7GHNijoJ3iEcNG0oBmBgn6CS4gWekQJqyhVnEJB38EGdFd0IrxuD3n0QjD7aIaCfoLfmcIbouAmcospWHczCB/8TD++Cv5acBbXeEc8doFWKOgr2IsVnMWEm6hnzKMLme9GwboGB3GLcJMUBg+R+c4UzC14h3B4kDRUGIeC/oKmB8sYxkBgA9EXR0G/wTTtUPBvB6ehoM9gIyaQtqmdwysU9BccxTFsERsGhdc7UMQLopgNFcagoI/gFaKFtrEWOEd8I3yCSdQUUzD3YDUWtIH7DlpQc0zBXIJD2EVS6AaX2IL90ckUUjC3oLGDjgU8wUJ2+GGfkw5KFPQZFBGRH/sCTLDCKc3kJ5IAAAAASUVORK5C\"></td><td style='text-align:center;vertical-align:middle; margin: 0.5em;border:1px #90999f solid;border-collapse:collapse'><img style='max-width: 100px; max-height:100px;display:inline' src=\"data:image/png;base64,iVBORw0KGgoAAAANSUhEUgAAAHAAAABwCAAAAADji6uXAAAABGdBTUEAALGPC/xhBQAAAAJiS0dEAP+Hj8y/AAAAB3RJTUUH4gIQDQkdB51QFQAAALtJREFUaN7t2bHNAQAQR3GRSJSKr9DpRKlVfSNIWENjEioDqNR2MIDGCFoU6PBuCOIf77fAqy53yTUakiRJP6iFf+xgMDP4hweO6MJgbrAMYTA3+ITB7GAZwWB2cAaDecEOTqjgAgbzgmULgwYNfkdwDYPZwTMMZgbnMJgdnKKCV/RgMC84RgVv6MNgXrAcUNEVDGYGl7igDYO5wVrATRjMDdbgT2AwM1gPyzsGMJgZ3GCPjxzCBiVJ7/UCjcCnv5d7AwAAAAAASUVORK5C\"></td><td style='text-align:center;vertical-align:middle; margin: 0.5em;border:1px #90999f solid;border-collapse:collapse'><img style='max-width: 100px; max-height:100px;display:inline' src=\"data:image/png;base64,iVBORw0KGgoAAAANSUhEUgAAAHAAAABwCAAAAADji6uXAAAABGdBTUEAALGPC/xhBQAAAAJiS0dEAP+Hj8y/AAAAB3RJTUUH4gIQDQkdB51QFQAAAYpJREFUaN7t2D8rRWEAx/E7kEFRyqDIYLslXoBIeQMMpAyyGC0WNllsFotFsngNEhkoFpPBnywMDEpZhCu+v7qnTifTvc9Tz9Hvs5x7z3M733Pq3HOecyoVMzMzi+YIx3CwnMFNvGMbDpYvuAHF3jANB8sXPEENh4gec7AhozhAF4pjs3jBDYbgYJrBa3xjBMWxK/xgEkFiDkYJXkJ/7Ank1w9DF2ztjE4eB9MMruMLOjm6ka1vxz60I2dohYPpBfvwDE2QxpAf04RXsQcEOTIHgwcHcQdtVA8q+bFlfEBji3AwrWAL5qELsm6sWp5jFW3owQU+sYOmj8zB4ME51OoU0wQ3+67wI/T5CU3HHAwenIFutrpYa4Pj0ERJL+3yO6Glfqf4ABxMJ6iXq/dYQH59FafIB2UPDcccjBJcgiZOxfV6qfAKRfTyrlrXAQfTCv6lE1vQyXKL4AEHowdXkN1we+FguYL90MVcN9s1RD86B4PTH10nzC6ixxyMQg+hCk7BwXIGzczM/rFfdhhZTNymX2MAAAAASUVORK5C\"></td></tr></tbody></table>"
      ],
      "text/plain": [
       "10-element Array{Array{ColorTypes.Gray{FixedPointNumbers.Normed{UInt8,8}},2},1}:\n",
       " ColorTypes.Gray{FixedPointNumbers.Normed{UInt8,8}}[Gray{N0f8}(0.0) Gray{N0f8}(0.0) … Gray{N0f8}(0.0) Gray{N0f8}(0.0); Gray{N0f8}(0.0) Gray{N0f8}(0.0) … Gray{N0f8}(0.0) Gray{N0f8}(0.0); … ; Gray{N0f8}(0.0) Gray{N0f8}(0.0) … Gray{N0f8}(0.0) Gray{N0f8}(0.0); Gray{N0f8}(0.0) Gray{N0f8}(0.0) … Gray{N0f8}(0.0) Gray{N0f8}(0.0)]\n",
       " ColorTypes.Gray{FixedPointNumbers.Normed{UInt8,8}}[Gray{N0f8}(0.0) Gray{N0f8}(0.0) … Gray{N0f8}(0.0) Gray{N0f8}(0.0); Gray{N0f8}(0.0) Gray{N0f8}(0.0) … Gray{N0f8}(0.0) Gray{N0f8}(0.0); … ; Gray{N0f8}(0.0) Gray{N0f8}(0.0) … Gray{N0f8}(0.0) Gray{N0f8}(0.0); Gray{N0f8}(0.0) Gray{N0f8}(0.0) … Gray{N0f8}(0.0) Gray{N0f8}(0.0)]\n",
       " ColorTypes.Gray{FixedPointNumbers.Normed{UInt8,8}}[Gray{N0f8}(0.0) Gray{N0f8}(0.0) … Gray{N0f8}(0.0) Gray{N0f8}(0.0); Gray{N0f8}(0.0) Gray{N0f8}(0.0) … Gray{N0f8}(0.0) Gray{N0f8}(0.0); … ; Gray{N0f8}(0.0) Gray{N0f8}(0.0) … Gray{N0f8}(0.0) Gray{N0f8}(0.0); Gray{N0f8}(0.0) Gray{N0f8}(0.0) … Gray{N0f8}(0.0) Gray{N0f8}(0.0)]\n",
       " ColorTypes.Gray{FixedPointNumbers.Normed{UInt8,8}}[Gray{N0f8}(0.0) Gray{N0f8}(0.0) … Gray{N0f8}(0.0) Gray{N0f8}(0.0); Gray{N0f8}(0.0) Gray{N0f8}(0.0) … Gray{N0f8}(0.0) Gray{N0f8}(0.0); … ; Gray{N0f8}(0.0) Gray{N0f8}(0.0) … Gray{N0f8}(0.0) Gray{N0f8}(0.0); Gray{N0f8}(0.0) Gray{N0f8}(0.0) … Gray{N0f8}(0.0) Gray{N0f8}(0.0)]\n",
       " ColorTypes.Gray{FixedPointNumbers.Normed{UInt8,8}}[Gray{N0f8}(0.0) Gray{N0f8}(0.0) … Gray{N0f8}(0.0) Gray{N0f8}(0.0); Gray{N0f8}(0.0) Gray{N0f8}(0.0) … Gray{N0f8}(0.0) Gray{N0f8}(0.0); … ; Gray{N0f8}(0.0) Gray{N0f8}(0.0) … Gray{N0f8}(0.0) Gray{N0f8}(0.0); Gray{N0f8}(0.0) Gray{N0f8}(0.0) … Gray{N0f8}(0.0) Gray{N0f8}(0.0)]\n",
       " ColorTypes.Gray{FixedPointNumbers.Normed{UInt8,8}}[Gray{N0f8}(0.0) Gray{N0f8}(0.0) … Gray{N0f8}(0.0) Gray{N0f8}(0.0); Gray{N0f8}(0.0) Gray{N0f8}(0.0) … Gray{N0f8}(0.0) Gray{N0f8}(0.0); … ; Gray{N0f8}(0.0) Gray{N0f8}(0.0) … Gray{N0f8}(0.0) Gray{N0f8}(0.0); Gray{N0f8}(0.0) Gray{N0f8}(0.0) … Gray{N0f8}(0.0) Gray{N0f8}(0.0)]\n",
       " ColorTypes.Gray{FixedPointNumbers.Normed{UInt8,8}}[Gray{N0f8}(0.0) Gray{N0f8}(0.0) … Gray{N0f8}(0.0) Gray{N0f8}(0.0); Gray{N0f8}(0.0) Gray{N0f8}(0.0) … Gray{N0f8}(0.0) Gray{N0f8}(0.0); … ; Gray{N0f8}(0.0) Gray{N0f8}(0.0) … Gray{N0f8}(0.0) Gray{N0f8}(0.0); Gray{N0f8}(0.0) Gray{N0f8}(0.0) … Gray{N0f8}(0.0) Gray{N0f8}(0.0)]\n",
       " ColorTypes.Gray{FixedPointNumbers.Normed{UInt8,8}}[Gray{N0f8}(0.0) Gray{N0f8}(0.0) … Gray{N0f8}(0.0) Gray{N0f8}(0.0); Gray{N0f8}(0.0) Gray{N0f8}(0.0) … Gray{N0f8}(0.0) Gray{N0f8}(0.0); … ; Gray{N0f8}(0.0) Gray{N0f8}(0.0) … Gray{N0f8}(0.0) Gray{N0f8}(0.0); Gray{N0f8}(0.0) Gray{N0f8}(0.0) … Gray{N0f8}(0.0) Gray{N0f8}(0.0)]\n",
       " ColorTypes.Gray{FixedPointNumbers.Normed{UInt8,8}}[Gray{N0f8}(0.0) Gray{N0f8}(0.0) … Gray{N0f8}(0.0) Gray{N0f8}(0.0); Gray{N0f8}(0.0) Gray{N0f8}(0.0) … Gray{N0f8}(0.0) Gray{N0f8}(0.0); … ; Gray{N0f8}(0.0) Gray{N0f8}(0.0) … Gray{N0f8}(0.0) Gray{N0f8}(0.0); Gray{N0f8}(0.0) Gray{N0f8}(0.0) … Gray{N0f8}(0.0) Gray{N0f8}(0.0)]\n",
       " ColorTypes.Gray{FixedPointNumbers.Normed{UInt8,8}}[Gray{N0f8}(0.0) Gray{N0f8}(0.0) … Gray{N0f8}(0.0) Gray{N0f8}(0.0); Gray{N0f8}(0.0) Gray{N0f8}(0.0) … Gray{N0f8}(0.0) Gray{N0f8}(0.0); … ; Gray{N0f8}(0.0) Gray{N0f8}(0.0) … Gray{N0f8}(0.0) Gray{N0f8}(0.0); Gray{N0f8}(0.0) Gray{N0f8}(0.0) … Gray{N0f8}(0.0) Gray{N0f8}(0.0)]"
      ]
     },
     "execution_count": 4,
     "metadata": {},
     "output_type": "execute_result"
    }
   ],
   "source": [
    "imgs = MNIST.images()\n",
    "\n",
    "labels = gpu(collect(onehotbatch(MNIST.labels(), 0:9)))\n",
    "\n",
    "imgs[1:10]"
   ]
  },
  {
   "cell_type": "code",
   "execution_count": 5,
   "metadata": {},
   "outputs": [],
   "source": [
    "# Partition into batches of size 1,000\n",
    "train = [(gpu(cat(4, float.(imgs[i])...)), labels[:,i])\n",
    "         for i in partition(1:60_000, 1000)]\n",
    "\n",
    "# Prepare test set (first 1,000 images)\n",
    "tX = gpu(cat(4, float.(MNIST.images(:test)[1:1000])...))\n",
    "tY = gpu(onehotbatch(MNIST.labels(:test)[1:1000], 0:9));"
   ]
  },
  {
   "cell_type": "code",
   "execution_count": 11,
   "metadata": {},
   "outputs": [
    {
     "data": {
      "text/plain": [
       "loss (generic function with 1 method)"
      ]
     },
     "execution_count": 11,
     "metadata": {},
     "output_type": "execute_result"
    }
   ],
   "source": [
    "m = Chain(\n",
    "  Conv2D((2,2), 1=>16, relu),\n",
    "  x -> maxpool2d(x, 2),\n",
    "  Conv2D((2,2), 16=>8, relu),\n",
    "  x -> maxpool2d(x, 2),\n",
    "  x -> reshape(x, :, size(x, 4)),\n",
    "  Dense(288, 10), softmax)\n",
    "\n",
    "m = gpu(m)\n",
    "\n",
    "loss(x, y) = crossentropy(m(x), y)"
   ]
  },
  {
   "cell_type": "code",
   "execution_count": 7,
   "metadata": {},
   "outputs": [
    {
     "data": {
      "image/png": "[encoded data removed]",
      "text/plain": [
       "10×100 Array{Gray{Bool},2}:\n",
       " Gray{Bool}(false)  Gray{Bool}(true)   …  Gray{Bool}(false)\n",
       " Gray{Bool}(false)  Gray{Bool}(false)     Gray{Bool}(true) \n",
       " Gray{Bool}(false)  Gray{Bool}(false)     Gray{Bool}(false)\n",
       " Gray{Bool}(false)  Gray{Bool}(false)     Gray{Bool}(false)\n",
       " Gray{Bool}(false)  Gray{Bool}(false)     Gray{Bool}(false)\n",
       " Gray{Bool}(true)   Gray{Bool}(false)  …  Gray{Bool}(false)\n",
       " Gray{Bool}(false)  Gray{Bool}(false)     Gray{Bool}(false)\n",
       " Gray{Bool}(false)  Gray{Bool}(false)     Gray{Bool}(false)\n",
       " Gray{Bool}(false)  Gray{Bool}(false)     Gray{Bool}(false)\n",
       " Gray{Bool}(false)  Gray{Bool}(false)     Gray{Bool}(false)"
      ]
     },
     "execution_count": 7,
     "metadata": {},
     "output_type": "execute_result"
    }
   ],
   "source": [
    "Gray.(collect(labels[:,1:100]))"
   ]
  },
  {
   "cell_type": "code",
   "execution_count": 8,
   "metadata": {},
   "outputs": [
    {
     "data": {
      "image/png": "[encoded data removed]",
      "text/plain": [
       "10×100 Array{Gray{Float64},2}:\n",
       " Gray{Float64}(0.0999438)  …  Gray{Float64}(0.0999945)\n",
       " Gray{Float64}(0.0999047)     Gray{Float64}(0.0999743)\n",
       " Gray{Float64}(0.100007)      Gray{Float64}(0.0999659)\n",
       " Gray{Float64}(0.100038)      Gray{Float64}(0.100097) \n",
       " Gray{Float64}(0.100101)      Gray{Float64}(0.100007) \n",
       " Gray{Float64}(0.0999561)  …  Gray{Float64}(0.0999382)\n",
       " Gray{Float64}(0.100011)      Gray{Float64}(0.100051) \n",
       " Gray{Float64}(0.099989)      Gray{Float64}(0.100002) \n",
       " Gray{Float64}(0.100091)      Gray{Float64}(0.0999595)\n",
       " Gray{Float64}(0.0999605)     Gray{Float64}(0.100011) "
      ]
     },
     "execution_count": 8,
     "metadata": {},
     "output_type": "execute_result"
    }
   ],
   "source": [
    "Gray.(collect(m(train[1][1]).data)[:,1:100])"
   ]
  },
  {
   "cell_type": "code",
   "execution_count": 9,
   "metadata": {},
   "outputs": [
    {
     "data": {
      "text/plain": [
       "(::throttled) (generic function with 1 method)"
      ]
     },
     "execution_count": 9,
     "metadata": {},
     "output_type": "execute_result"
    }
   ],
   "source": [
    "evalcb = throttle(5) do\n",
    "    display(Gray.(collect(m(train[1][1]).data)[:,1:100]))\n",
    "end"
   ]
  },
  {
   "cell_type": "code",
   "execution_count": 12,
   "metadata": {},
   "outputs": [
    {
     "data": {
      "image/png": "[encoded data removed]",
      "text/plain": [
       "10×100 Array{Gray{Float64},2}:\n",
       " Gray{Float64}(0.100074)   …  Gray{Float64}(0.100078) \n",
       " Gray{Float64}(0.100245)      Gray{Float64}(0.100233) \n",
       " Gray{Float64}(0.0999198)     Gray{Float64}(0.0999262)\n",
       " Gray{Float64}(0.0998663)     Gray{Float64}(0.10003)  \n",
       " Gray{Float64}(0.100303)      Gray{Float64}(0.100221) \n",
       " Gray{Float64}(0.0997312)  …  Gray{Float64}(0.099737) \n",
       " Gray{Float64}(0.0998093)     Gray{Float64}(0.0997295)\n",
       " Gray{Float64}(0.100185)      Gray{Float64}(0.100095) \n",
       " Gray{Float64}(0.0999052)     Gray{Float64}(0.0999204)\n",
       " Gray{Float64}(0.0999603)     Gray{Float64}(0.10003)  "
      ]
     },
     "metadata": {},
     "output_type": "display_data"
    },
    {
     "data": {
      "image/png": "[encoded data removed]",
      "text/plain": [
       "10×100 Array{Gray{Float64},2}:\n",
       " Gray{Float64}(0.100058)   …  Gray{Float64}(0.100002) \n",
       " Gray{Float64}(0.101443)      Gray{Float64}(0.10193)  \n",
       " Gray{Float64}(0.0988726)     Gray{Float64}(0.0995259)\n",
       " Gray{Float64}(0.100448)      Gray{Float64}(0.101235) \n",
       " Gray{Float64}(0.102187)      Gray{Float64}(0.101546) \n",
       " Gray{Float64}(0.0973092)  …  Gray{Float64}(0.0970726)\n",
       " Gray{Float64}(0.100338)      Gray{Float64}(0.0993664)\n",
       " Gray{Float64}(0.101567)      Gray{Float64}(0.10082)  \n",
       " Gray{Float64}(0.0986736)     Gray{Float64}(0.0991589)\n",
       " Gray{Float64}(0.099103)      Gray{Float64}(0.0993424)"
      ]
     },
     "metadata": {},
     "output_type": "display_data"
    },
    {
     "data": {
      "image/png": "[encoded data removed]",
      "text/plain": [
       "10×100 Array{Gray{Float64},2}:\n",
       " Gray{Float64}(0.101076)   …  Gray{Float64}(0.0998076)\n",
       " Gray{Float64}(0.102112)      Gray{Float64}(0.104644) \n",
       " Gray{Float64}(0.0978504)     Gray{Float64}(0.0997983)\n",
       " Gray{Float64}(0.102802)      Gray{Float64}(0.104527) \n",
       " Gray{Float64}(0.10241)       Gray{Float64}(0.10081)  \n",
       " Gray{Float64}(0.0931881)  …  Gray{Float64}(0.0927144)\n",
       " Gray{Float64}(0.10156)       Gray{Float64}(0.0987962)\n",
       " Gray{Float64}(0.103822)      Gray{Float64}(0.101596) \n",
       " Gray{Float64}(0.0976825)     Gray{Float64}(0.0992034)\n",
       " Gray{Float64}(0.0974966)     Gray{Float64}(0.0981023)"
      ]
     },
     "metadata": {},
     "output_type": "display_data"
    },
    {
     "data": {
      "image/png": "[encoded data removed]",
      "text/plain": [
       "10×100 Array{Gray{Float64},2}:\n",
       " Gray{Float64}(0.104898)   …  Gray{Float64}(0.0997432)\n",
       " Gray{Float64}(0.101548)      Gray{Float64}(0.109887) \n",
       " Gray{Float64}(0.0960503)     Gray{Float64}(0.0998921)\n",
       " Gray{Float64}(0.106841)      Gray{Float64}(0.109203) \n",
       " Gray{Float64}(0.101277)      Gray{Float64}(0.0984505)\n",
       " Gray{Float64}(0.0871745)  …  Gray{Float64}(0.0856629)\n",
       " Gray{Float64}(0.102137)      Gray{Float64}(0.0968063)\n",
       " Gray{Float64}(0.106054)      Gray{Float64}(0.101523) \n",
       " Gray{Float64}(0.09832)       Gray{Float64}(0.101377) \n",
       " Gray{Float64}(0.0956986)     Gray{Float64}(0.0974558)"
      ]
     },
     "metadata": {},
     "output_type": "display_data"
    },
    {
     "data": {
      "image/png": "[encoded data removed]",
      "text/plain": [
       "10×100 Array{Gray{Float64},2}:\n",
       " Gray{Float64}(0.112194)   …  Gray{Float64}(0.0979662)\n",
       " Gray{Float64}(0.0981278)     Gray{Float64}(0.11895)  \n",
       " Gray{Float64}(0.0968978)     Gray{Float64}(0.102999) \n",
       " Gray{Float64}(0.111567)      Gray{Float64}(0.113352) \n",
       " Gray{Float64}(0.0966533)     Gray{Float64}(0.0932636)\n",
       " Gray{Float64}(0.083788)   …  Gray{Float64}(0.0786682)\n",
       " Gray{Float64}(0.102806)      Gray{Float64}(0.0936437)\n",
       " Gray{Float64}(0.106434)      Gray{Float64}(0.0994508)\n",
       " Gray{Float64}(0.100486)      Gray{Float64}(0.105918) \n",
       " Gray{Float64}(0.091045)      Gray{Float64}(0.0957885)"
      ]
     },
     "metadata": {},
     "output_type": "display_data"
    },
    {
     "data": {
      "image/png": "[encoded data removed]",
      "text/plain": [
       "10×100 Array{Gray{Float64},2}:\n",
       " Gray{Float64}(0.121168)   …  Gray{Float64}(0.0915866)\n",
       " Gray{Float64}(0.0912054)     Gray{Float64}(0.135722) \n",
       " Gray{Float64}(0.0994139)     Gray{Float64}(0.10791)  \n",
       " Gray{Float64}(0.113544)      Gray{Float64}(0.112992) \n",
       " Gray{Float64}(0.0850165)     Gray{Float64}(0.083162) \n",
       " Gray{Float64}(0.0866767)  …  Gray{Float64}(0.0726529)\n",
       " Gray{Float64}(0.102105)      Gray{Float64}(0.0877337)\n",
       " Gray{Float64}(0.106617)      Gray{Float64}(0.0969994)\n",
       " Gray{Float64}(0.108198)      Gray{Float64}(0.115755) \n",
       " Gray{Float64}(0.0860561)     Gray{Float64}(0.0954867)"
      ]
     },
     "metadata": {},
     "output_type": "display_data"
    },
    {
     "data": {
      "image/png": "[encoded data removed]",
      "text/plain": [
       "10×100 Array{Gray{Float64},2}:\n",
       " Gray{Float64}(0.119608)   …  Gray{Float64}(0.0749968)\n",
       " Gray{Float64}(0.0823049)     Gray{Float64}(0.169643) \n",
       " Gray{Float64}(0.102375)      Gray{Float64}(0.112806) \n",
       " Gray{Float64}(0.118152)      Gray{Float64}(0.109297) \n",
       " Gray{Float64}(0.0707211)     Gray{Float64}(0.0704446)\n",
       " Gray{Float64}(0.104148)   …  Gray{Float64}(0.0694593)\n",
       " Gray{Float64}(0.10017)       Gray{Float64}(0.0783539)\n",
       " Gray{Float64}(0.10833)       Gray{Float64}(0.0947591)\n",
       " Gray{Float64}(0.115367)      Gray{Float64}(0.125011) \n",
       " Gray{Float64}(0.0788249)     Gray{Float64}(0.09523)  "
      ]
     },
     "metadata": {},
     "output_type": "display_data"
    },
    {
     "data": {
      "image/png": "[encoded data removed]",
      "text/plain": [
       "10×100 Array{Gray{Float64},2}:\n",
       " Gray{Float64}(0.0977065)  …  Gray{Float64}(0.0495928)\n",
       " Gray{Float64}(0.0721549)     Gray{Float64}(0.23829)  \n",
       " Gray{Float64}(0.0976176)     Gray{Float64}(0.109571) \n",
       " Gray{Float64}(0.134276)      Gray{Float64}(0.104892) \n",
       " Gray{Float64}(0.054406)      Gray{Float64}(0.0549206)\n",
       " Gray{Float64}(0.154848)   …  Gray{Float64}(0.0686166)\n",
       " Gray{Float64}(0.0889829)     Gray{Float64}(0.0618378)\n",
       " Gray{Float64}(0.116176)      Gray{Float64}(0.0939861)\n",
       " Gray{Float64}(0.121541)      Gray{Float64}(0.130858) \n",
       " Gray{Float64}(0.0622913)     Gray{Float64}(0.087435) "
      ]
     },
     "metadata": {},
     "output_type": "display_data"
    },
    {
     "data": {
      "image/png": "[encoded data removed]",
      "text/plain": [
       "10×100 Array{Gray{Float64},2}:\n",
       " Gray{Float64}(0.0735759)  …  Gray{Float64}(0.0270428)\n",
       " Gray{Float64}(0.0605702)     Gray{Float64}(0.371599) \n",
       " Gray{Float64}(0.0776135)     Gray{Float64}(0.0894416)\n",
       " Gray{Float64}(0.164807)      Gray{Float64}(0.0943181)\n",
       " Gray{Float64}(0.0417069)     Gray{Float64}(0.0401858)\n",
       " Gray{Float64}(0.237307)   …  Gray{Float64}(0.057815) \n",
       " Gray{Float64}(0.0697909)     Gray{Float64}(0.041165) \n",
       " Gray{Float64}(0.107595)      Gray{Float64}(0.0816809)\n",
       " Gray{Float64}(0.126618)      Gray{Float64}(0.127987) \n",
       " Gray{Float64}(0.0404161)     Gray{Float64}(0.0687642)"
      ]
     },
     "metadata": {},
     "output_type": "display_data"
    },
    {
     "name": "stderr",
     "output_type": "stream",
     "text": [
      "\u001b[91mERROR (unhandled task failure): \u001b[91mInterruptException:\u001b[39m\n",
      "Stacktrace:\n",
      " [1] \u001b[1mprocess_events\u001b[22m\u001b[22m at \u001b[1m./libuv.jl:82\u001b[22m\u001b[22m [inlined]\n",
      " [2] \u001b[1mwait\u001b[22m\u001b[22m\u001b[1m(\u001b[22m\u001b[22m\u001b[1m)\u001b[22m\u001b[22m at \u001b[1m./event.jl:216\u001b[22m\u001b[22m\n",
      " [3] \u001b[1mwait\u001b[22m\u001b[22m\u001b[1m(\u001b[22m\u001b[22m::Condition\u001b[1m)\u001b[22m\u001b[22m at \u001b[1m./event.jl:27\u001b[22m\u001b[22m\n",
      " [4] \u001b[1mstream_wait\u001b[22m\u001b[22m\u001b[1m(\u001b[22m\u001b[22m::Timer, ::Condition, ::Vararg{Condition,N} where N\u001b[1m)\u001b[22m\u001b[22m at \u001b[1m./stream.jl:42\u001b[22m\u001b[22m\n",
      " [5] \u001b[1mwait\u001b[22m\u001b[22m\u001b[1m(\u001b[22m\u001b[22m::Timer\u001b[1m)\u001b[22m\u001b[22m at \u001b[1m./event.jl:357\u001b[22m\u001b[22m\n",
      " [6] \u001b[1m(::Base.##300#301{IJulia.#send_stderr,Timer})\u001b[22m\u001b[22m\u001b[1m(\u001b[22m\u001b[22m\u001b[1m)\u001b[22m\u001b[22m at \u001b[1m./event.jl:430\u001b[22m\u001b[22m\n",
      "\u001b[39m"
     ]
    }
   ],
   "source": [
    "Flux.train!(loss, train, ADAM(params(m)), cb = evalcb)"
   ]
  },
  {
   "cell_type": "markdown",
   "metadata": {},
   "source": [
    "Test set accuracy."
   ]
  },
  {
   "cell_type": "code",
   "execution_count": null,
   "metadata": {},
   "outputs": [],
   "source": [
    "mean(argmax(m(tX)) .== argmax(tY))"
   ]
  },
  {
   "cell_type": "code",
   "execution_count": null,
   "metadata": {},
   "outputs": [],
   "source": []
  }
 ],
 "metadata": {
  "kernelspec": {
   "display_name": "Julia 0.6.3-pre",
   "language": "julia",
   "name": "julia-0.6"
  },
  "language_info": {
   "file_extension": ".jl",
   "mimetype": "application/julia",
   "name": "julia",
   "version": "0.6.3"
  }
 },
 "nbformat": 4,
 "nbformat_minor": 2
}
