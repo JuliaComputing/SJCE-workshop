{
 "cells": [
  {
   "cell_type": "code",
   "execution_count": 2,
   "metadata": {},
   "outputs": [],
   "source": [
    "using Flux, Flux.Data.MNIST, Images\n",
    "using Flux: onehotbatch, argmax, crossentropy, throttle\n",
    "using Base.Iterators: repeated, partition"
   ]
  },
  {
   "cell_type": "code",
   "execution_count": 3,
   "metadata": {},
   "outputs": [
    {
     "data": {
      "text/plain": [
       "gpu (generic function with 1 method)"
      ]
     },
     "execution_count": 3,
     "metadata": {},
     "output_type": "execute_result"
    }
   ],
   "source": [
    "gpu(x) = x\n",
    "# using CuArrays\n",
    "# gpu(x) = cu(x)"
   ]
  },
  {
   "cell_type": "code",
   "execution_count": 4,
   "metadata": {
    "scrolled": true
   },
   "outputs": [
    {
     "data": {
      "text/html": [
       "<table><tbody><tr><td style='text-align:center;vertical-align:middle; margin: 0.5em;border:1px #90999f solid;border-collapse:collapse'><img style='max-width: 100px; max-height:100px;display:inline' src=\"data:image/png;base64,iVBORw0KGgoAAAANSUhEUgAAAHAAAABwCAAAAADji6uXAAAABGdBTUEAALGPC/xhBQAAAAJiS0dEAP+Hj8y/AAAAB3RJTUUH4gIQDREfa4ipYAAAAYxJREFUaN7t2r8rRWEcx/GLSUqy+FUWyiDKxCiDURgV/wCTxUaJKKsMMpgMKBtFWZQyyMIkA2UVUvLjxvtTnrrdTunqua6Tz2u5t26dd8/wnB/fczMZMzMzs3+oArU5prGIHTRiAx94xgwcLH2wGa0Ywyo2kU1wjW3o+yOO0AsHSxvswh2y33jDKIa/9KANBa/OwehBbexLJEWOsQtt8AcUfHAHfyUog1jDOELsFFXQ7+3QCcHBvxuUapRBB1ZwBFEDDhY9GCxBwUOUw8H0BbXZFVO0Hw6mLygt0AVXN77rmIBOCg6mJyhDuEe4IE+hAQ6mJygd2EeIrqAJDqYnKDXQg+g7FD2Ag+kKBi9QUJ8/mj45WJJgJ2axh7D5z1C0G2QHo9HQbhm3yB0UvUKDougrczBaqB6TuEL+oO8EA4i6MgejBevQhwskDWl1Uxx1szsYLagB+xaShux6kaXBbSWirczBaMFu6MXjDfJDT5hHGLBH4WD0oP4EkBs5xwLmoIeXaCEHixY0M7OCfQI3irirkfzU5gAAAABJRU5ErkJg\"></td><td style='text-align:center;vertical-align:middle; margin: 0.5em;border:1px #90999f solid;border-collapse:collapse'><img style='max-width: 100px; max-height:100px;display:inline' src=\"data:image/png;base64,iVBORw0KGgoAAAANSUhEUgAAAHAAAABwCAAAAADji6uXAAAABGdBTUEAALGPC/xhBQAAAAJiS0dEAP+Hj8y/AAAAB3RJTUUH4gIQDREfa4ipYAAAAatJREFUaN7t2L0rRWEAx/E7UbLJoBhZiRKljAbKgtmfINs1icFkILsisVjYFAtRJpsReSmDl1JKufH9ladOct1z3Xs65+b3We7t9JzzvcM5z3Puk8uZmZlZRXqwigL02Q0HayfYhUe8RzzAwdoI9uIaulkUesI99L0fdXAwm8EGDOASungInmIM4dgMHMxmcB3RBz0EZRL70LFNOJi9oBZbTdaFLweYhr7foBOj+MAWHMxW8Ptiu4tGDCOPZoSx+gEvqOiFysGqBjuwAV1Ii+wZNFEXGx8mA53jYPrBeuxAF3jGEJrQilLBQziYflAvteFhH0SccxzMVvAYYbGNe44WYJ1zBAfTDY7gFboBphD3vHDTrMDBdIPj0Il3aEGp8ZroF6DgHvSS5WA2gheIE5uHxl9BC3VZMQcTDS7ht3H6o6OXXo3dRtkhBxMLTkAPsW6CYmO0qRA2Gtbw55iDiQTDTfOGZejmaIOO6w+OfohCmhi0mdcHB7MZDG5xjugxvezOoaKQg4kFtXFwgp821LVBVGpSdzD9oOgFeBbR4CLaUfWYg4kEzczM/olPb9eX2t8FSoIAAAAASUVORK5C\"></td><td style='text-align:center;vertical-align:middle; margin: 0.5em;border:1px #90999f solid;border-collapse:collapse'><img style='max-width: 100px; max-height:100px;display:inline' src=\"data:image/png;base64,iVBORw0KGgoAAAANSUhEUgAAAHAAAABwCAAAAADji6uXAAAABGdBTUEAALGPC/xhBQAAAAJiS0dEAP+Hj8y/AAAAB3RJTUUH4gIQDREfa4ipYAAAAUVJREFUaN7t2S1LBFEYhuFFsIrNoGZNKzYtFn+BQYsgssFfsKBF+yZNgknQZPQD/AdWwWQQ66ogKCKI+LH30xZW4XjY8eXAc7Wd2XfvE84wM2ytZmZmZmY95nGHCTgYE5zDAnKDGziDg3HBLRwiJzaAPVxhEg7GBG+QGxzFFw6QPORg34O3yA2eQ8FNOBgTrOMVucELKDgDB2OCunlqICc4gjY0Pw4HY4L70IDCfw1qkZq9xjAcjA3qhSTl+0NYwgneoNllJK/SwcqCi+g+PoVpNLGDXTzjBQ84hT5/IPkB2MFKgvqhTzzisouOaSHveIJutNvQBhnDIO6h88kxBysJyjqOf9DAbw9Ha9CC9CLkYHwwxxEUbMHBsoOzcNBBB+OC31iBg+UGtWlW4WDZQf1J4mC5QV34DpYb1AX/r5vGQTMz668O1qS/bXAGxQwAAAAASUVORK5C\"></td><td style='text-align:center;vertical-align:middle; margin: 0.5em;border:1px #90999f solid;border-collapse:collapse'><img style='max-width: 100px; max-height:100px;display:inline' src=\"data:image/png;base64,iVBORw0KGgoAAAANSUhEUgAAAHAAAABwCAAAAADji6uXAAAABGdBTUEAALGPC/xhBQAAAAJiS0dEAP+Hj8y/AAAAB3RJTUUH4gIQDREfa4ipYAAAARFJREFUaN7t2SFKRUEUgOEXDYJF0KbN6gJERVyA1SJGFyG6AbvB4AZcgOUFwWqyajOpwSAYLhf9D7yRV8QyJxz4vw38HJh7Z+7cyUSSJEm/TjHiGzswWCt4jE8MiOg2DNYKnmOYMVgvuI93ROwRa1iAwRrBLbygLZgjpE1mMMUVxpkpUmMGu1tGhGKxvGEPBusE1/GAFjxD6nQGuztBOzDdYgkG6wQP8IEI3mEFqdMZ7Coe+HHONVKnM9jdJYY5GzBYJ7iJZ7TYDVKnM9jdK1rsHoswWCvYDr3hEKkxg93FRhs/QNrGGxd4BusE46UdF3gR+sIFUm98DXa3i/bx+YS0kEGDBv+0irg8MFg3KEn61w99Ni8tJcZfTQAAAABJRU5ErkJg\"></td><td style='text-align:center;vertical-align:middle; margin: 0.5em;border:1px #90999f solid;border-collapse:collapse'><img style='max-width: 100px; max-height:100px;display:inline' src=\"data:image/png;base64,iVBORw0KGgoAAAANSUhEUgAAAHAAAABwCAAAAADji6uXAAAABGdBTUEAALGPC/xhBQAAAAJiS0dEAP+Hj8y/AAAAB3RJTUUH4gIQDREfa4ipYAAAAWhJREFUaN7t2bErBnEcx/FnoIhkIZPJpMxYlMmE0WIwK4NSNqVMFoU/ApMJC1kMVovYMFAmSgYn3p96vnWL6Z7n3O/6vKbnud/1ez9Xv+6eu2s0zMzMzMzM/sE49nGD76ZVLEDbNe5gdYOa9AUZFDqHwlmTth3AweoFOzCJd2jiC0yjE704QQTX4GD1gkuIhXGKPsTYImLsAQNwsFrBLWgxaMJd5GNyiwjOo/DROdjS4AYU+8QxuhFjXZjDB7TPJgofnYMtDfYjLraK5cdGcI1YLIfogYPVCg4iJhyGvq/jCm+Ik8EXZlEo5mBbglo0z4g/R1nOI56gz9qncMzBtgRFN5evUPAO2xjFEC6h4A4crG7wL1P4gX7IChxMLziDOBm05G7JwdKD4mDawfqv0voHl+Fg2sExxAXYwTSDcg8tmgk4mGYwHrzrhZducBxML6iH7WdQ9AiFH+45WHowontQtLSF46DVzy+EgqssLrxZiAAAAABJRU5ErkJg\"></td><td style='text-align:center;vertical-align:middle; margin: 0.5em;border:1px #90999f solid;border-collapse:collapse'><img style='max-width: 100px; max-height:100px;display:inline' src=\"data:image/png;base64,iVBORw0KGgoAAAANSUhEUgAAAHAAAABwCAAAAADji6uXAAAABGdBTUEAALGPC/xhBQAAAAJiS0dEAP+Hj8y/AAAAB3RJTUUH4gIQDREfa4ipYAAAAa1JREFUaN7t2U8opGEAx3HlXyl/a4lC21KuDvawXDhx4IqDctgLhz1xWLGtE7ctF3txclDKhVHOTiJRLpSiKG6bRS4z2e+v5qnpvSjend7J73OZMc/7Pt/U+2+eKSoyMzMze+cq0YivmEE5HCyM4Ecs4xjpHEtwMNnBDvzGAxTI4BIn0N+30DYOJi9YDYX+IPcgOUUr2hE+64GDyQuOIx1xhmZo3MHkB7cRJjzHGloQxgfhYLKDTfiJL6hHdFwPUQ4mO/iSFThYWMFv+A59gdHrPhTbRTEcTGawAl3YQibrGeH9NT4htv/KwdiCpfiMK+jAuIcmX8dfhBP+BtMog4PJCWrnIYRJ59ANjdUhuqggw3j1ApGDsQZ1sCwgTJRCDTT2AQfQCf+EeWwgbLuDPnRmOZj/oG6ii9DOd5hELTSmC/geNKZFhV7o8yr0YxXaJ8Qv4GD+gxPQxro4j0An+QB0wQ4Lez8QFhWiRpHK0oKDg/kP6maqSR9xCB0cuRfoWcT6hO1g7MEjRG+sm5hCG0oQW8zB/xLUD5Fj+AV94WzAm5+oHcxr0MzMzKzA/APi6Dp6kH0fRgAAAABJRU5ErkJg\"></td><td style='text-align:center;vertical-align:middle; margin: 0.5em;border:1px #90999f solid;border-collapse:collapse'><img style='max-width: 100px; max-height:100px;display:inline' src=\"data:image/png;base64,iVBORw0KGgoAAAANSUhEUgAAAHAAAABwCAAAAADji6uXAAAABGdBTUEAALGPC/xhBQAAAAJiS0dEAP+Hj8y/AAAAB3RJTUUH4gIQDREfa4ipYAAAAMVJREFUaN7t2rEJwlAURuH0NtY2CnYuIu6iG+gOWriEjSM4hJ3gCG5g0HPBgK1FhD+cb4HTXO7jvaRpJEnSzw544YopDGYFZ3igxRNLGMwKjnCGwdxg2cNgbnCMCwzmBie4owtu0eshbLAXO3TBsobBrGAxmB+sy0z7YTAzOPwpNWjQoMH/Lu8TDOYFv4emLGAwK3jEd7AeiwxmBTcwmB0sN3QLvJb5HAazgvXBpBuaihrMC65gMDtYj+v184DB3KAkSQPyBmsnTx16xAqqAAAAAElFTkSuQmCC\"></td><td style='text-align:center;vertical-align:middle; margin: 0.5em;border:1px #90999f solid;border-collapse:collapse'><img style='max-width: 100px; max-height:100px;display:inline' src=\"data:image/png;base64,iVBORw0KGgoAAAANSUhEUgAAAHAAAABwCAAAAADji6uXAAAABGdBTUEAALGPC/xhBQAAAAJiS0dEAP+Hj8y/AAAAB3RJTUUH4gIQDREfa4ipYAAAAXVJREFUaN7t2b8rRWEcx/E7+LlQJgMxWTAomwxWRpFyJwMZ/AWyXRYDMRn4C6RYLAxmisFiQQaLohgsV7y/dU+dns49dM89+srntd1OPe9O3XPuc79PoSAiIiLyz/ShH4v4xEeCAzRBQV9Bi6zjHg8owxYvV7GHNijoJ3iEcNG0oBmBgn6CS4gWekQJqyhVnEJB38EGdFd0IrxuD3n0QjD7aIaCfoLfmcIbouAmcospWHczCB/8TD++Cv5acBbXeEc8doFWKOgr2IsVnMWEm6hnzKMLme9GwboGB3GLcJMUBg+R+c4UzC14h3B4kDRUGIeC/oKmB8sYxkBgA9EXR0G/wTTtUPBvB6ehoM9gIyaQtqmdwysU9BccxTFsERsGhdc7UMQLopgNFcagoI/gFaKFtrEWOEd8I3yCSdQUUzD3YDUWtIH7DlpQc0zBXIJD2EVS6AaX2IL90ckUUjC3oLGDjgU8wUJ2+GGfkw5KFPQZFBGRH/sCTLDCKc3kJ5IAAAAASUVORK5C\"></td><td style='text-align:center;vertical-align:middle; margin: 0.5em;border:1px #90999f solid;border-collapse:collapse'><img style='max-width: 100px; max-height:100px;display:inline' src=\"data:image/png;base64,iVBORw0KGgoAAAANSUhEUgAAAHAAAABwCAAAAADji6uXAAAABGdBTUEAALGPC/xhBQAAAAJiS0dEAP+Hj8y/AAAAB3RJTUUH4gIQDREfa4ipYAAAALtJREFUaN7t2bHNAQAQR3GRSJSKr9DpRKlVfSNIWENjEioDqNR2MIDGCFoU6PBuCOIf77fAqy53yTUakiRJP6iFf+xgMDP4hweO6MJgbrAMYTA3+ITB7GAZwWB2cAaDecEOTqjgAgbzgmULgwYNfkdwDYPZwTMMZgbnMJgdnKKCV/RgMC84RgVv6MNgXrAcUNEVDGYGl7igDYO5wVrATRjMDdbgT2AwM1gPyzsGMJgZ3GCPjxzCBiVJ7/UCjcCnv5d7AwAAAAAASUVORK5C\"></td><td style='text-align:center;vertical-align:middle; margin: 0.5em;border:1px #90999f solid;border-collapse:collapse'><img style='max-width: 100px; max-height:100px;display:inline' src=\"data:image/png;base64,iVBORw0KGgoAAAANSUhEUgAAAHAAAABwCAAAAADji6uXAAAABGdBTUEAALGPC/xhBQAAAAJiS0dEAP+Hj8y/AAAAB3RJTUUH4gIQDREfa4ipYAAAAYpJREFUaN7t2D8rRWEAx/E7kEFRyqDIYLslXoBIeQMMpAyyGC0WNllsFotFsngNEhkoFpPBnywMDEpZhCu+v7qnTifTvc9Tz9Hvs5x7z3M733Pq3HOecyoVMzMzi+YIx3CwnMFNvGMbDpYvuAHF3jANB8sXPEENh4gec7AhozhAF4pjs3jBDYbgYJrBa3xjBMWxK/xgEkFiDkYJXkJ/7Ank1w9DF2ztjE4eB9MMruMLOjm6ka1vxz60I2dohYPpBfvwDE2QxpAf04RXsQcEOTIHgwcHcQdtVA8q+bFlfEBji3AwrWAL5qELsm6sWp5jFW3owQU+sYOmj8zB4ME51OoU0wQ3+67wI/T5CU3HHAwenIFutrpYa4Pj0ERJL+3yO6Glfqf4ABxMJ6iXq/dYQH59FafIB2UPDcccjBJcgiZOxfV6qfAKRfTyrlrXAQfTCv6lE1vQyXKL4AEHowdXkN1we+FguYL90MVcN9s1RD86B4PTH10nzC6ixxyMQg+hCk7BwXIGzczM/rFfdhhZTNymX2MAAAAASUVORK5C\"></td></tr></tbody></table>"
      ],
      "text/plain": [
       "10-element Array{Array{ColorTypes.Gray{FixedPointNumbers.Normed{UInt8,8}},2},1}:\n",
       " ColorTypes.Gray{FixedPointNumbers.Normed{UInt8,8}}[Gray{N0f8}(0.0) Gray{N0f8}(0.0) … Gray{N0f8}(0.0) Gray{N0f8}(0.0); Gray{N0f8}(0.0) Gray{N0f8}(0.0) … Gray{N0f8}(0.0) Gray{N0f8}(0.0); … ; Gray{N0f8}(0.0) Gray{N0f8}(0.0) … Gray{N0f8}(0.0) Gray{N0f8}(0.0); Gray{N0f8}(0.0) Gray{N0f8}(0.0) … Gray{N0f8}(0.0) Gray{N0f8}(0.0)]\n",
       " ColorTypes.Gray{FixedPointNumbers.Normed{UInt8,8}}[Gray{N0f8}(0.0) Gray{N0f8}(0.0) … Gray{N0f8}(0.0) Gray{N0f8}(0.0); Gray{N0f8}(0.0) Gray{N0f8}(0.0) … Gray{N0f8}(0.0) Gray{N0f8}(0.0); … ; Gray{N0f8}(0.0) Gray{N0f8}(0.0) … Gray{N0f8}(0.0) Gray{N0f8}(0.0); Gray{N0f8}(0.0) Gray{N0f8}(0.0) … Gray{N0f8}(0.0) Gray{N0f8}(0.0)]\n",
       " ColorTypes.Gray{FixedPointNumbers.Normed{UInt8,8}}[Gray{N0f8}(0.0) Gray{N0f8}(0.0) … Gray{N0f8}(0.0) Gray{N0f8}(0.0); Gray{N0f8}(0.0) Gray{N0f8}(0.0) … Gray{N0f8}(0.0) Gray{N0f8}(0.0); … ; Gray{N0f8}(0.0) Gray{N0f8}(0.0) … Gray{N0f8}(0.0) Gray{N0f8}(0.0); Gray{N0f8}(0.0) Gray{N0f8}(0.0) … Gray{N0f8}(0.0) Gray{N0f8}(0.0)]\n",
       " ColorTypes.Gray{FixedPointNumbers.Normed{UInt8,8}}[Gray{N0f8}(0.0) Gray{N0f8}(0.0) … Gray{N0f8}(0.0) Gray{N0f8}(0.0); Gray{N0f8}(0.0) Gray{N0f8}(0.0) … Gray{N0f8}(0.0) Gray{N0f8}(0.0); … ; Gray{N0f8}(0.0) Gray{N0f8}(0.0) … Gray{N0f8}(0.0) Gray{N0f8}(0.0); Gray{N0f8}(0.0) Gray{N0f8}(0.0) … Gray{N0f8}(0.0) Gray{N0f8}(0.0)]\n",
       " ColorTypes.Gray{FixedPointNumbers.Normed{UInt8,8}}[Gray{N0f8}(0.0) Gray{N0f8}(0.0) … Gray{N0f8}(0.0) Gray{N0f8}(0.0); Gray{N0f8}(0.0) Gray{N0f8}(0.0) … Gray{N0f8}(0.0) Gray{N0f8}(0.0); … ; Gray{N0f8}(0.0) Gray{N0f8}(0.0) … Gray{N0f8}(0.0) Gray{N0f8}(0.0); Gray{N0f8}(0.0) Gray{N0f8}(0.0) … Gray{N0f8}(0.0) Gray{N0f8}(0.0)]\n",
       " ColorTypes.Gray{FixedPointNumbers.Normed{UInt8,8}}[Gray{N0f8}(0.0) Gray{N0f8}(0.0) … Gray{N0f8}(0.0) Gray{N0f8}(0.0); Gray{N0f8}(0.0) Gray{N0f8}(0.0) … Gray{N0f8}(0.0) Gray{N0f8}(0.0); … ; Gray{N0f8}(0.0) Gray{N0f8}(0.0) … Gray{N0f8}(0.0) Gray{N0f8}(0.0); Gray{N0f8}(0.0) Gray{N0f8}(0.0) … Gray{N0f8}(0.0) Gray{N0f8}(0.0)]\n",
       " ColorTypes.Gray{FixedPointNumbers.Normed{UInt8,8}}[Gray{N0f8}(0.0) Gray{N0f8}(0.0) … Gray{N0f8}(0.0) Gray{N0f8}(0.0); Gray{N0f8}(0.0) Gray{N0f8}(0.0) … Gray{N0f8}(0.0) Gray{N0f8}(0.0); … ; Gray{N0f8}(0.0) Gray{N0f8}(0.0) … Gray{N0f8}(0.0) Gray{N0f8}(0.0); Gray{N0f8}(0.0) Gray{N0f8}(0.0) … Gray{N0f8}(0.0) Gray{N0f8}(0.0)]\n",
       " ColorTypes.Gray{FixedPointNumbers.Normed{UInt8,8}}[Gray{N0f8}(0.0) Gray{N0f8}(0.0) … Gray{N0f8}(0.0) Gray{N0f8}(0.0); Gray{N0f8}(0.0) Gray{N0f8}(0.0) … Gray{N0f8}(0.0) Gray{N0f8}(0.0); … ; Gray{N0f8}(0.0) Gray{N0f8}(0.0) … Gray{N0f8}(0.0) Gray{N0f8}(0.0); Gray{N0f8}(0.0) Gray{N0f8}(0.0) … Gray{N0f8}(0.0) Gray{N0f8}(0.0)]\n",
       " ColorTypes.Gray{FixedPointNumbers.Normed{UInt8,8}}[Gray{N0f8}(0.0) Gray{N0f8}(0.0) … Gray{N0f8}(0.0) Gray{N0f8}(0.0); Gray{N0f8}(0.0) Gray{N0f8}(0.0) … Gray{N0f8}(0.0) Gray{N0f8}(0.0); … ; Gray{N0f8}(0.0) Gray{N0f8}(0.0) … Gray{N0f8}(0.0) Gray{N0f8}(0.0); Gray{N0f8}(0.0) Gray{N0f8}(0.0) … Gray{N0f8}(0.0) Gray{N0f8}(0.0)]\n",
       " ColorTypes.Gray{FixedPointNumbers.Normed{UInt8,8}}[Gray{N0f8}(0.0) Gray{N0f8}(0.0) … Gray{N0f8}(0.0) Gray{N0f8}(0.0); Gray{N0f8}(0.0) Gray{N0f8}(0.0) … Gray{N0f8}(0.0) Gray{N0f8}(0.0); … ; Gray{N0f8}(0.0) Gray{N0f8}(0.0) … Gray{N0f8}(0.0) Gray{N0f8}(0.0); Gray{N0f8}(0.0) Gray{N0f8}(0.0) … Gray{N0f8}(0.0) Gray{N0f8}(0.0)]"
      ]
     },
     "execution_count": 4,
     "metadata": {},
     "output_type": "execute_result"
    }
   ],
   "source": [
    "imgs = MNIST.images()\n",
    "\n",
    "labels = gpu(collect(onehotbatch(MNIST.labels(), 0:9)))\n",
    "\n",
    "imgs[1:10]"
   ]
  },
  {
   "cell_type": "code",
   "execution_count": 12,
   "metadata": {},
   "outputs": [],
   "source": [
    "# Partition into batches of size 1,000\n",
    "train = [(gpu(hcat(float.(vec.(imgs[i]))...)), labels[:,i])\n",
    "         for i in partition(1:60_000, 1000)]\n",
    "\n",
    "# Prepare test set (first 1,000 images)\n",
    "tX = gpu(hcat(vec.(float.(MNIST.images(:test)[1:1000]))...))\n",
    "tY = gpu(onehotbatch(MNIST.labels(:test)[1:1000], 0:9));"
   ]
  },
  {
   "cell_type": "code",
   "execution_count": 6,
   "metadata": {},
   "outputs": [
    {
     "data": {
      "text/plain": [
       "loss (generic function with 1 method)"
      ]
     },
     "execution_count": 6,
     "metadata": {},
     "output_type": "execute_result"
    }
   ],
   "source": [
    "m = Chain(\n",
    "  Dense(28^2, 32, relu),\n",
    "  Dense(32, 10),\n",
    "  softmax)\n",
    "\n",
    "m = gpu(m)\n",
    "\n",
    "loss(x, y) = crossentropy(m(x), y)"
   ]
  },
  {
   "cell_type": "code",
   "execution_count": 7,
   "metadata": {},
   "outputs": [
    {
     "data": {
      "image/png": "[encoded data removed]",
      "text/plain": [
       "10×100 Array{Gray{Bool},2}:\n",
       " Gray{Bool}(false)  Gray{Bool}(true)   …  Gray{Bool}(false)\n",
       " Gray{Bool}(false)  Gray{Bool}(false)     Gray{Bool}(true) \n",
       " Gray{Bool}(false)  Gray{Bool}(false)     Gray{Bool}(false)\n",
       " Gray{Bool}(false)  Gray{Bool}(false)     Gray{Bool}(false)\n",
       " Gray{Bool}(false)  Gray{Bool}(false)     Gray{Bool}(false)\n",
       " Gray{Bool}(true)   Gray{Bool}(false)  …  Gray{Bool}(false)\n",
       " Gray{Bool}(false)  Gray{Bool}(false)     Gray{Bool}(false)\n",
       " Gray{Bool}(false)  Gray{Bool}(false)     Gray{Bool}(false)\n",
       " Gray{Bool}(false)  Gray{Bool}(false)     Gray{Bool}(false)\n",
       " Gray{Bool}(false)  Gray{Bool}(false)     Gray{Bool}(false)"
      ]
     },
     "execution_count": 7,
     "metadata": {},
     "output_type": "execute_result"
    }
   ],
   "source": [
    "Gray.(collect(labels[:,1:100]))"
   ]
  },
  {
   "cell_type": "code",
   "execution_count": 8,
   "metadata": {},
   "outputs": [
    {
     "data": {
      "image/png": "[encoded data removed]",
      "text/plain": [
       "10×100 Array{Gray{Float64},2}:\n",
       " Gray{Float64}(0.0829003)  …  Gray{Float64}(0.0617766)\n",
       " Gray{Float64}(0.143653)      Gray{Float64}(0.182108) \n",
       " Gray{Float64}(0.103254)      Gray{Float64}(0.0828574)\n",
       " Gray{Float64}(0.0808146)     Gray{Float64}(0.081329) \n",
       " Gray{Float64}(0.0543527)     Gray{Float64}(0.0838323)\n",
       " Gray{Float64}(0.139467)   …  Gray{Float64}(0.11196)  \n",
       " Gray{Float64}(0.129184)      Gray{Float64}(0.0912061)\n",
       " Gray{Float64}(0.0670042)     Gray{Float64}(0.0779945)\n",
       " Gray{Float64}(0.132434)      Gray{Float64}(0.138447) \n",
       " Gray{Float64}(0.0669366)     Gray{Float64}(0.0884889)"
      ]
     },
     "execution_count": 8,
     "metadata": {},
     "output_type": "execute_result"
    }
   ],
   "source": [
    "Gray.(collect(m(train[1][1]).data)[:,1:100])"
   ]
  },
  {
   "cell_type": "code",
   "execution_count": 9,
   "metadata": {},
   "outputs": [
    {
     "data": {
      "text/plain": [
       "(::#5) (generic function with 1 method)"
      ]
     },
     "execution_count": 9,
     "metadata": {},
     "output_type": "execute_result"
    }
   ],
   "source": [
    "evalcb = () -> display(Gray.(collect(m(train[1][1]).data)[:,1:100]))"
   ]
  },
  {
   "cell_type": "code",
   "execution_count": 10,
   "metadata": {},
   "outputs": [
    {
     "data": {
      "image/png": "[encoded data removed]",
      "text/plain": [
       "10×100 Array{Gray{Float64},2}:\n",
       " Gray{Float64}(0.0134726)   …  Gray{Float64}(0.00116099)\n",
       " Gray{Float64}(0.00625386)     Gray{Float64}(0.741271)  \n",
       " Gray{Float64}(0.0109485)      Gray{Float64}(0.0418784) \n",
       " Gray{Float64}(0.705587)       Gray{Float64}(0.0355043) \n",
       " Gray{Float64}(0.0011505)      Gray{Float64}(0.00786665)\n",
       " Gray{Float64}(0.209883)    …  Gray{Float64}(0.0110239) \n",
       " Gray{Float64}(0.0150438)      Gray{Float64}(0.00673426)\n",
       " Gray{Float64}(0.00319185)     Gray{Float64}(0.0729098) \n",
       " Gray{Float64}(0.0273786)      Gray{Float64}(0.0530148) \n",
       " Gray{Float64}(0.00709023)     Gray{Float64}(0.0286357) "
      ]
     },
     "metadata": {},
     "output_type": "display_data"
    },
    {
     "data": {
      "image/png": "[encoded data removed]",
      "text/plain": [
       "10×100 Array{Gray{Float64},2}:\n",
       " Gray{Float64}(0.00874065)   …  Gray{Float64}(0.000189323)\n",
       " Gray{Float64}(0.000777566)     Gray{Float64}(0.803488)   \n",
       " Gray{Float64}(0.00568634)      Gray{Float64}(0.0299803)  \n",
       " Gray{Float64}(0.780361)        Gray{Float64}(0.0197188)  \n",
       " Gray{Float64}(0.000104984)     Gray{Float64}(0.00432256) \n",
       " Gray{Float64}(0.182623)     …  Gray{Float64}(0.0019926)  \n",
       " Gray{Float64}(0.00324773)      Gray{Float64}(0.00148498) \n",
       " Gray{Float64}(0.00374295)      Gray{Float64}(0.0933688)  \n",
       " Gray{Float64}(0.0122299)       Gray{Float64}(0.025375)   \n",
       " Gray{Float64}(0.00248549)      Gray{Float64}(0.0200796)  "
      ]
     },
     "metadata": {},
     "output_type": "display_data"
    },
    {
     "data": {
      "image/png": "[encoded data removed]",
      "text/plain": [
       "10×100 Array{Gray{Float64},2}:\n",
       " Gray{Float64}(0.00672285)   …  Gray{Float64}(6.57684e-5) \n",
       " Gray{Float64}(0.000255609)     Gray{Float64}(0.819217)   \n",
       " Gray{Float64}(0.00465553)      Gray{Float64}(0.0236567)  \n",
       " Gray{Float64}(0.713878)        Gray{Float64}(0.0158691)  \n",
       " Gray{Float64}(4.51884e-5)      Gray{Float64}(0.0033346)  \n",
       " Gray{Float64}(0.254578)     …  Gray{Float64}(0.000790005)\n",
       " Gray{Float64}(0.00131031)      Gray{Float64}(0.000613241)\n",
       " Gray{Float64}(0.00512962)      Gray{Float64}(0.104282)   \n",
       " Gray{Float64}(0.0107015)       Gray{Float64}(0.0146196)  \n",
       " Gray{Float64}(0.00272329)      Gray{Float64}(0.0175522)  "
      ]
     },
     "metadata": {},
     "output_type": "display_data"
    },
    {
     "data": {
      "image/png": "[encoded data removed]",
      "text/plain": [
       "10×100 Array{Gray{Float64},2}:\n",
       " Gray{Float64}(0.00359201)   …  Gray{Float64}(3.10614e-5) \n",
       " Gray{Float64}(0.000132948)     Gray{Float64}(0.838195)   \n",
       " Gray{Float64}(0.00323139)      Gray{Float64}(0.0178985)  \n",
       " Gray{Float64}(0.610059)        Gray{Float64}(0.0128319)  \n",
       " Gray{Float64}(2.31209e-5)      Gray{Float64}(0.00268229) \n",
       " Gray{Float64}(0.367636)     …  Gray{Float64}(0.000461255)\n",
       " Gray{Float64}(0.000463839)     Gray{Float64}(0.000292863)\n",
       " Gray{Float64}(0.00399248)      Gray{Float64}(0.103481)   \n",
       " Gray{Float64}(0.00839008)      Gray{Float64}(0.00936317) \n",
       " Gray{Float64}(0.00247916)      Gray{Float64}(0.0147637)  "
      ]
     },
     "metadata": {},
     "output_type": "display_data"
    },
    {
     "data": {
      "image/png": "[encoded data removed]",
      "text/plain": [
       "10×100 Array{Gray{Float64},2}:\n",
       " Gray{Float64}(0.00142262)   …  Gray{Float64}(1.95596e-5) \n",
       " Gray{Float64}(9.06722e-5)      Gray{Float64}(0.852575)   \n",
       " Gray{Float64}(0.00211475)      Gray{Float64}(0.0146189)  \n",
       " Gray{Float64}(0.532733)        Gray{Float64}(0.0108344)  \n",
       " Gray{Float64}(9.27834e-6)      Gray{Float64}(0.00219234) \n",
       " Gray{Float64}(0.454726)     …  Gray{Float64}(0.000330569)\n",
       " Gray{Float64}(0.000169506)     Gray{Float64}(0.000162933)\n",
       " Gray{Float64}(0.0023633)       Gray{Float64}(0.10071)    \n",
       " Gray{Float64}(0.00476627)      Gray{Float64}(0.00679265) \n",
       " Gray{Float64}(0.00160396)      Gray{Float64}(0.0117635)  "
      ]
     },
     "metadata": {},
     "output_type": "display_data"
    }
   ],
   "source": [
    "for i = 1:5\n",
    "    Flux.train!(loss, train, ADAM(params(m)))\n",
    "    evalcb()\n",
    "end"
   ]
  },
  {
   "cell_type": "markdown",
   "metadata": {},
   "source": [
    "Test set accuracy."
   ]
  },
  {
   "cell_type": "code",
   "execution_count": 13,
   "metadata": {},
   "outputs": [
    {
     "data": {
      "text/plain": [
       "0.916"
      ]
     },
     "execution_count": 13,
     "metadata": {},
     "output_type": "execute_result"
    }
   ],
   "source": [
    "mean(argmax(m(tX)) .== argmax(tY))"
   ]
  },
  {
   "cell_type": "code",
   "execution_count": null,
   "metadata": {},
   "outputs": [],
   "source": []
  }
 ],
 "metadata": {
  "kernelspec": {
   "display_name": "Julia 0.6.3-pre",
   "language": "julia",
   "name": "julia-0.6"
  },
  "language_info": {
   "file_extension": ".jl",
   "mimetype": "application/julia",
   "name": "julia",
   "version": "0.6.3"
  }
 },
 "nbformat": 4,
 "nbformat_minor": 2
}
