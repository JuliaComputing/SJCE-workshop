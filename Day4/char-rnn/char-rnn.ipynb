{
 "cells": [
  {
   "cell_type": "markdown",
   "metadata": {},
   "source": [
    "# Character-level language modelling\n",
    "Based on [The Unreasonable Effectiveness of Recurrent Neural Networks](https://karpathy.github.io/2015/05/21/rnn-effectiveness/)."
   ]
  },
  {
   "cell_type": "code",
   "execution_count": 2,
   "metadata": {
    "scrolled": false
   },
   "outputs": [],
   "source": [
    "using Flux\n",
    "using Flux: onehot, argmax, chunk, batchseq, throttle, crossentropy\n",
    "using StatsBase: wsample\n",
    "using Base.Iterators: partition"
   ]
  },
  {
   "cell_type": "code",
   "execution_count": 3,
   "metadata": {},
   "outputs": [
    {
     "data": {
      "text/plain": [
       "gpu (generic function with 1 method)"
      ]
     },
     "execution_count": 3,
     "metadata": {},
     "output_type": "execute_result"
    }
   ],
   "source": [
    "gpu(x) = x\n",
    "# using CuArrays\n",
    "# gpu(x) = cu(x)"
   ]
  },
  {
   "cell_type": "markdown",
   "metadata": {},
   "source": [
    "We'll load text data from `input.txt` and split it into characters, then turn it into the numeric form needed by the model.\n",
    "\n",
    "The model will take a sequence of characters, like \"the do\", and try to produce the next character (e.g. 't' or 'g' would be likely here but not 'd'). The target output sequence $Y$ is therefore just the input sequence $X$ offset by one, e.g.\n",
    "\n",
    "* $X$: `the dog`\n",
    "* $Y$: `he dog_`"
   ]
  },
  {
   "cell_type": "code",
   "execution_count": 4,
   "metadata": {},
   "outputs": [],
   "source": [
    "text = collect(readstring(\"input.txt\"))\n",
    "alphabet = [unique(text)..., '_']\n",
    "text = map(ch -> onehot(ch, alphabet), text)\n",
    "stop = onehot('_', alphabet)\n",
    "\n",
    "N = length(alphabet)\n",
    "seqlen = 50\n",
    "nbatch = 50\n",
    "\n",
    "Xs = collect(partition(batchseq(chunk(text, nbatch), stop), seqlen))\n",
    "Ys = collect(partition(batchseq(chunk(text[2:end], nbatch), stop), seqlen));"
   ]
  },
  {
   "cell_type": "markdown",
   "metadata": {},
   "source": [
    "Our model will be a multi-layer LSTM, which takes a single character as input and produces a single character as output."
   ]
  },
  {
   "cell_type": "code",
   "execution_count": 5,
   "metadata": {},
   "outputs": [
    {
     "data": {
      "text/plain": [
       "loss (generic function with 1 method)"
      ]
     },
     "execution_count": 5,
     "metadata": {},
     "output_type": "execute_result"
    }
   ],
   "source": [
    "m = Chain(\n",
    "  LSTM(N, 128),\n",
    "  LSTM(128, 128),\n",
    "  Dense(128, N),\n",
    "  softmax)\n",
    "\n",
    "m = gpu(m)\n",
    "\n",
    "predict(x) = m(gpu(collect(x)))\n",
    "\n",
    "function loss(xs, ys)\n",
    "  l = sum(crossentropy.(predict.(xs), gpu.(ys)))\n",
    "  Flux.truncate!(m)\n",
    "  return l\n",
    "end"
   ]
  },
  {
   "cell_type": "markdown",
   "metadata": {},
   "source": [
    "The model accepts a one-hot-encoded character and returns a probability distribution over possible subsequent characters:"
   ]
  },
  {
   "cell_type": "code",
   "execution_count": 6,
   "metadata": {},
   "outputs": [
    {
     "data": {
      "text/plain": [
       "Tracked 68-element CuArray{Float32,1}:\n",
       " 0.0146758\n",
       " 0.0147896\n",
       " 0.0145877\n",
       " 0.0147861\n",
       " 0.0145921\n",
       " 0.0147305\n",
       " 0.0147246\n",
       " 0.0146279\n",
       " 0.0147461\n",
       " 0.0146239\n",
       " 0.014603 \n",
       " 0.0148693\n",
       " 0.0147986\n",
       " ⋮        \n",
       " 0.0148373\n",
       " 0.0147108\n",
       " 0.0146613\n",
       " 0.0146699\n",
       " 0.0146876\n",
       " 0.0148931\n",
       " 0.0147482\n",
       " 0.0146224\n",
       " 0.0146833\n",
       " 0.0145692\n",
       " 0.0147434\n",
       " 0.0146336"
      ]
     },
     "execution_count": 6,
     "metadata": {},
     "output_type": "execute_result"
    }
   ],
   "source": [
    "probabilities = predict(onehot('a', alphabet))"
   ]
  },
  {
   "cell_type": "markdown",
   "metadata": {},
   "source": [
    "We can sample from this distribution to see what the model thinks comes after 'a'."
   ]
  },
  {
   "cell_type": "code",
   "execution_count": 7,
   "metadata": {},
   "outputs": [
    {
     "data": {
      "text/plain": [
       "'o': ASCII/Unicode U+006f (category Ll: Letter, lowercase)"
      ]
     },
     "execution_count": 7,
     "metadata": {},
     "output_type": "execute_result"
    }
   ],
   "source": [
    "wsample(alphabet, probabilities.data)"
   ]
  },
  {
   "cell_type": "markdown",
   "metadata": {},
   "source": [
    "If we feed the model's output back into itself, we can allow it to \"dream\" a sequence of characters."
   ]
  },
  {
   "cell_type": "code",
   "execution_count": 8,
   "metadata": {},
   "outputs": [
    {
     "name": "stdout",
     "output_type": "stream",
     "text": [
      "mX?.nIj.oJGJ;xA;th_AJEDerfJ BcqLvfLr]OVfxrP:&DTcCcYcZb,s.ANDlESB3oTme]T_UMV?RdjgFOL]cVBdCtw:MwuFXZm]\n"
     ]
    }
   ],
   "source": [
    "function sample(m, alphabet, len; temp = 1)\n",
    "  Flux.reset!(m)\n",
    "  buf = IOBuffer()\n",
    "  c = rand('a':'z')\n",
    "  for i = 1:len\n",
    "    write(buf, c)\n",
    "    c = wsample(alphabet, m(gpu(collect(onehot(c, alphabet)))).data)\n",
    "  end\n",
    "  return String(take!(buf))\n",
    "end\n",
    "\n",
    "sample(m, alphabet, 100) |> println"
   ]
  },
  {
   "cell_type": "markdown",
   "metadata": {},
   "source": [
    "Right now it's more-or-less random because the model hasn't seen any data. Let's fix that.\n",
    "\n",
    "We just need to call `Flux.train!` with an optimiser and the data we prepared. We set up a call back so that every 30 seconds, we get to see a sample of the model's output, which you should see learning a basic words and grammar fairly quickly."
   ]
  },
  {
   "cell_type": "code",
   "execution_count": 9,
   "metadata": {
    "scrolled": true
   },
   "outputs": [
    {
     "name": "stdout",
     "output_type": "stream",
     "text": [
      "\u001b[34mLoss is 210.36623f0 (tracked)\n",
      "\u001b[39mwZ3ALBRkDb,icvZxuGM,pXj,qJKkkXmonFyL$XR;GIKb],iuDPPNxhuBEbqqk3kR]itgOzVs,\n",
      "G33FcElp\n",
      "Im\n",
      "bhgMtGYYHSGVMmMeDjjXQTY&RhBzhvidIigxj?$ch,dq!Z!_igDD IuwxGAOreKAx[eg;Hip!k:Qqs!bfJ.VIaVk[rUKb!CdRh[jEMyQrDUgw:W.NoSHE]zYF$C3&SGH]\n",
      "VYBQA_Wiy'fTqHSa!OYgr_CWKB!R-zOI$sP;H,yAJ]a?Chc[gcse]d_T&a,xGiHH]\n",
      "OcFny'__o&juwcNx!IjFz?eP:Ai-B]KVrhIDzy'I,Jvv.!dwO&xAbO_s\n",
      "_.,K\n",
      "UhPx!aWEJ[KmpFlXI,QFzt_DLQbVIalbYG!&[kWjN,NwEg NC,j.vqmtJhtwPO?&PBkXltRGsFgPM;pmQ&DnpioGu?wC$X3Vvtu'qFqfkfb$TCMXxfWd-RwB:!]h_gLw;CCRg,.W?tGnchN-opotypujL-UK\n",
      "\u001b[34mLoss is 133.7283f0 (tracked)\n",
      "\u001b[39md [g'!,\n",
      "\n",
      "TI:B:Sd inios.\n",
      "Ts\n",
      "d\n",
      "rrntner Benys ohut may t borl.h\n",
      "H:\n",
      "LothBle eartitk pf, rbaoh nn gtraaclar;r hesse ol ly ltty\n",
      "Kom fanne nl Nef elnlen retat whots chlowomos cotiit taas pfesghedw\n",
      "nd anntg taunt boote so dtet sy,acit Poid mosthed!\n",
      "IAOBPboA meatr engirs ados con sen with rn clerglaay soisarahe thun wharls latadutii, iw afleernghon\n",
      "wof\n",
      ".enm gig apercnlins wenf are ouod togos yhd.r\n",
      "\n",
      "hho s,ton,.\n",
      "iupfe lhe the t.es\n",
      "Tlr di:t eete woe gln!e,\n",
      "\n",
      "ra, thy thit, ao; humy\n",
      "Se igely moad,utrrator racs\n",
      "\u001b[34mLoss is 120.77137f0 (tracked)\n",
      "\u001b[39mb;Sy 'gOot if ines of thet shohar?\n",
      "\n",
      "ALESUONPTELTI A:\n",
      "Botekd.\n",
      "\n",
      "ITRIUUOd\n",
      "Rhu: chtes an;\n",
      "Thte emp'ss to.\n",
      "T'ster th aoiit se, the seul; wo roil, I ghaid Ipiv.\n",
      "\n",
      "CESETEO:\n",
      "Tho the rord, sort dour\n",
      "oro a fow o or erage\n",
      "And aube doc: of afaghit we lide gybasle irveseas, hend tire le wing thajt oxo nold.\n",
      "\n",
      "\n",
      "IEUsNO:\n",
      "Uid waar Theut ind iw cheish ah sart as whor. HonNrarghis yore pe hop hinsg that'st an co and hind at le then fats Jathe ane thin nlasd t knreth heat porty apkus sat, an sotise heatiy daspor th t\n",
      "\u001b[34mLoss is 115.99369f0 (tracked)\n",
      "\u001b[39miPSbwee mast is ore chasterfofes: Darwand ald of of renotrr, ine lath ho aray, pup,O\n",
      "here nod Fadis btord ret praof theuts houk!,\n",
      "And Io mourtlisk hege tiin,\n",
      "Afas, Giched Io hok ane lnad sy e rele nin honansy s torned of, my selt he's\n",
      "Hismerrecl miotpuse whww nof tore gay honou mise'' ord he tho nokh's lraukt;\n",
      "you fared'd; esurysunges asd meed or 'lont fare-tond,\n",
      "-E mercpowids, I filstise; in at brtee, ol thevof hovt thea ow:\n",
      "Preto wh at y heanh nbyeletthl Rowang, not heand of creed yoall.\n",
      "\n",
      "JYUG\n",
      "\u001b[34mLoss is 111.10223f0 (tracked)\n",
      "\u001b[39mznDZhe weld tour tor sfeneannesturnser Pive be ow thap I wat;\n",
      "So the lor nouwfZdelyWerd mines art and a tha hirs.\n",
      "Whin spored, she soend sol?\n",
      "NyA lome he? sha he mourid-an shath, I heind and of werrems-Fas! I gall dis mante ag whet parlasgad?\n",
      "I ltas, atrest man erlill as insI arin theur hilge,\n",
      "I nat eny fom't, on kald now on ese sicane hir the netens ive mein gorndoufinl; prithe dorsiy\n",
      "my tho? Banow heater mar' trice bimn, carutio. Hot as thous; doughy iver,y\n",
      "Thy ust now, sy the to daey ithe--ot\n",
      "\u001b[34mLoss is 108.632614f0 (tracked)\n",
      "\u001b[39mwZQJ;FuMon sto baud our cors,\n",
      "Hoth withe. At her brey ssterbressire: Gpot\n",
      "Thas'; I qoand of ay wraness.\n",
      "Prepase thot we ho bedtst\n",
      "Ro roll,\n",
      "Forth.\n",
      "\n",
      "CLERCO: I shas wyor shtarint ance hallaprer inle; up Conbriant no-thlentenfer,\n",
      "A'd pertor he coust nom.\n",
      "\n",
      "TECLATD:\n",
      "Se thoqke weel de leniss be:\n",
      "This anvan,\n",
      "How and dwaspurn'd of shim\n",
      "in utnithing.\n",
      "\n",
      "VINANY HEMTANA:\n",
      "You sinos, be and You, cran restaon from\n",
      "Balley emdeng or thus.\n",
      "\n",
      "OCEUSIBY SIMO GECIUS:\n",
      "Nis mot hish low hith lich mardan: re io corr?\n",
      "Co and\n",
      "\u001b[34mLoss is 105.966415f0 (tracked)\n",
      "\u001b[39mn-OlO.\n",
      "H\n",
      "HELRIY:-\n",
      "Lord 'gy your sinca to mines yie to this sseare, ygut\n",
      "snose selt?\n",
      "\n",
      "AONEUSs:\n",
      "Bustows same thy Hindry domens-o'pap, she; in fourth thee cryeal ow congon;\n",
      "And you thou stoblut; and tuent me pianty so.\n",
      "\n",
      "PUSCEAFLUS:\n",
      "Meclely thas wilss,\n",
      "I on kisn ly an lorgere, and wess\n",
      "in ilok Lave shats love;\n",
      "Beines fall: pracnetn ting hir mearao that andae\n",
      "Joot dilke whas lidct arlighte-foen esenser wibe dea and of wall\n",
      "And weing\n",
      "ITvy lacore, hom and be nour eruantith, thet saath in meach you, we \n",
      "\u001b[34mLoss is 104.18933f0 (tracked)\n",
      "\u001b[39mxk'jSy,\n",
      "Wetrich to bics frek.\n",
      "\n",
      "KEND:\n",
      "Thee ill?\n",
      "\n",
      "HASO\n",
      "TPOMNIO:\n",
      "Cofners af A ongoch to the singter this will the wine,\n",
      "Thu save of my gopcess: goir tnat ens whegeus;--flaca grait; you prof peas, unkpust\n",
      "Une to hamth'y my nots it the rike the bristy.\n",
      "\n",
      "HEND:\n",
      "I vere dacksurs: but a govhely bot stows\n",
      "this condael: shat ark, guy her wind\n",
      "cokd I remfers-end urom I sie inse,\n",
      "Our drades poaghide as sichildd-Funtrees you asen.\n",
      "I'd weir ham, ig bath thase ly proul had.\n",
      "\n",
      "MORTERN:\n",
      "And hase fint'd hither in tu\n"
     ]
    },
    {
     "ename": "LoadError",
     "evalue": "\u001b[91mInterruptException:\u001b[39m",
     "output_type": "error",
     "traceback": [
      "\u001b[91mInterruptException:\u001b[39m",
      "",
      "Stacktrace:",
      " [1] \u001b[1mfill!\u001b[22m\u001b[22m\u001b[1m(\u001b[22m\u001b[22m::CuArray{Float32,2}, ::Int64\u001b[1m)\u001b[22m\u001b[22m at \u001b[1m/home/mike/.julia/v0.6/CuArrays/src/utils.jl:29\u001b[22m\u001b[22m",
      " [2] \u001b[1mcuones\u001b[22m\u001b[22m\u001b[1m(\u001b[22m\u001b[22m::Type{T} where T, ::Int64, ::Vararg{Int64,N} where N\u001b[1m)\u001b[22m\u001b[22m at \u001b[1m/home/mike/.julia/v0.6/CuArrays/src/array.jl:110\u001b[22m\u001b[22m",
      " [3] \u001b[1mcuones\u001b[22m\u001b[22m\u001b[1m(\u001b[22m\u001b[22m::Int64, ::Int64, ::Vararg{Int64,N} where N\u001b[1m)\u001b[22m\u001b[22m at \u001b[1m/home/mike/.julia/v0.6/CuArrays/src/array.jl:112\u001b[22m\u001b[22m",
      " [4] \u001b[1mhBatch\u001b[22m\u001b[22m\u001b[1m(\u001b[22m\u001b[22m::CuArray{Float32,2}, ::CuArray{Float32,2}\u001b[1m)\u001b[22m\u001b[22m at \u001b[1m/home/mike/.julia/v0.6/Flux/src/cuda/cudnn.jl:153\u001b[22m\u001b[22m",
      " [5] \u001b[1mback_\u001b[22m\u001b[22m\u001b[1m(\u001b[22m\u001b[22m::Flux.CUDA.RNNCall{Flux.LSTMCell{TrackedArray{…,CuArray{Float32,2}},TrackedArray{…,CuArray{Float32,1}}}}, ::Tuple{CuArray{Float32,2},CuArray{Float32,2},CuArray{Float32,2}}, ::Tuple{CuArray{Float32,2},CuArray{Float32,2},CuArray{Float32,2}}, ::CuArray{Float32,2}, ::TrackedArray{…,CuArray{Float32,2}}, ::TrackedArray{…,CuArray{Float32,2}}\u001b[1m)\u001b[22m\u001b[22m at \u001b[1m/home/mike/.julia/v0.6/Flux/src/cuda/cudnn.jl:358\u001b[22m\u001b[22m",
      " [6] \u001b[1mback_\u001b[22m\u001b[22m\u001b[1m(\u001b[22m\u001b[22m::Flux.Tracker.Call{Flux.CUDA.RNNCall{Flux.LSTMCell{TrackedArray{…,CuArray{Float32,2}},TrackedArray{…,CuArray{Float32,1}}}},Tuple{CuArray{Float32,2},TrackedArray{…,CuArray{Float32,2}},TrackedArray{…,CuArray{Float32,2}}}}, ::Tuple{CuArray{Float32,2},CuArray{Float32,2},CuArray{Float32,2}}, ::Tuple{CuArray{Float32,2},CuArray{Float32,2},CuArray{Float32,2}}\u001b[1m)\u001b[22m\u001b[22m at \u001b[1m/home/mike/.julia/v0.6/Flux/src/tracker/back.jl:25\u001b[22m\u001b[22m",
      " [7] \u001b[1mback\u001b[22m\u001b[22m\u001b[1m(\u001b[22m\u001b[22m::Flux.Tracker.Tracked{Tuple{CuArray{Float32,2},CuArray{Float32,2},CuArray{Float32,2}}}, ::Tuple{CuArray{Float32,2},Int64,Int64}\u001b[1m)\u001b[22m\u001b[22m at \u001b[1m/home/mike/.julia/v0.6/Flux/src/tracker/back.jl:36\u001b[22m\u001b[22m",
      " [8] \u001b[1mback_\u001b[22m\u001b[22m\u001b[1m(\u001b[22m\u001b[22m::Flux.Tracker.Call{Base.#getindex,Tuple{Flux.Tracker.TrackedTuple{Tuple{CuArray{Float32,2},CuArray{Float32,2},CuArray{Float32,2}}},Int64}}, ::CuArray{Float32,2}, ::CuArray{Float32,2}\u001b[1m)\u001b[22m\u001b[22m at \u001b[1m/home/mike/.julia/v0.6/Flux/src/tracker/back.jl:25\u001b[22m\u001b[22m",
      " [9] \u001b[1mback\u001b[22m\u001b[22m\u001b[1m(\u001b[22m\u001b[22m::Flux.Tracker.Tracked{CuArray{Float32,2}}, ::CuArray{Float32,2}\u001b[1m)\u001b[22m\u001b[22m at \u001b[1m/home/mike/.julia/v0.6/Flux/src/tracker/back.jl:38\u001b[22m\u001b[22m",
      " [10] \u001b[1mmacro expansion\u001b[22m\u001b[22m at \u001b[1m/home/mike/.julia/v0.6/Flux/src/tracker/back.jl:49\u001b[22m\u001b[22m [inlined]",
      " [11] \u001b[1mback_\u001b[22m\u001b[22m\u001b[1m(\u001b[22m\u001b[22m::Flux.CUDA.RNNCall{Flux.LSTMCell{TrackedArray{…,CuArray{Float32,2}},TrackedArray{…,CuArray{Float32,1}}}}, ::Tuple{CuArray{Float32,2},CuArray{Float32,2},CuArray{Float32,2}}, ::Tuple{CuArray{Float32,2},CuArray{Float32,2},CuArray{Float32,2}}, ::TrackedArray{…,CuArray{Float32,2}}, ::TrackedArray{…,CuArray{Float32,2}}, ::TrackedArray{…,CuArray{Float32,2}}\u001b[1m)\u001b[22m\u001b[22m at \u001b[1m/home/mike/.julia/v0.6/Flux/src/cuda/cudnn.jl:360\u001b[22m\u001b[22m",
      " [12] \u001b[1mback_\u001b[22m\u001b[22m\u001b[1m(\u001b[22m\u001b[22m::Flux.Tracker.Call{Flux.CUDA.RNNCall{Flux.LSTMCell{TrackedArray{…,CuArray{Float32,2}},TrackedArray{…,CuArray{Float32,1}}}},Tuple{TrackedArray{…,CuArray{Float32,2}},TrackedArray{…,CuArray{Float32,2}},TrackedArray{…,CuArray{Float32,2}}}}, ::Tuple{CuArray{Float32,2},CuArray{Float32,2},CuArray{Float32,2}}, ::Tuple{CuArray{Float32,2},CuArray{Float32,2},CuArray{Float32,2}}\u001b[1m)\u001b[22m\u001b[22m at \u001b[1m/home/mike/.julia/v0.6/Flux/src/tracker/back.jl:25\u001b[22m\u001b[22m",
      " [13] \u001b[1mback\u001b[22m\u001b[22m\u001b[1m(\u001b[22m\u001b[22m::Flux.Tracker.Tracked{Tuple{CuArray{Float32,2},CuArray{Float32,2},CuArray{Float32,2}}}, ::Tuple{Int64,Int64,CuArray{Float32,2}}\u001b[1m)\u001b[22m\u001b[22m at \u001b[1m/home/mike/.julia/v0.6/Flux/src/tracker/back.jl:36\u001b[22m\u001b[22m",
      " [14] \u001b[1mback_\u001b[22m\u001b[22m\u001b[1m(\u001b[22m\u001b[22m::Flux.Tracker.Call{Base.#getindex,Tuple{Flux.Tracker.TrackedTuple{Tuple{CuArray{Float32,2},CuArray{Float32,2},CuArray{Float32,2}}},Int64}}, ::CuArray{Float32,2}, ::CuArray{Float32,2}\u001b[1m)\u001b[22m\u001b[22m at \u001b[1m/home/mike/.julia/v0.6/Flux/src/tracker/back.jl:25\u001b[22m\u001b[22m",
      " [15] \u001b[1mback\u001b[22m\u001b[22m\u001b[1m(\u001b[22m\u001b[22m::Flux.Tracker.Tracked{CuArray{Float32,2}}, ::CuArray{Float32,2}\u001b[1m)\u001b[22m\u001b[22m at \u001b[1m/home/mike/.julia/v0.6/Flux/src/tracker/back.jl:38\u001b[22m\u001b[22m",
      " [16] \u001b[1mmacro expansion\u001b[22m\u001b[22m at \u001b[1m/home/mike/.julia/v0.6/Flux/src/tracker/back.jl:49\u001b[22m\u001b[22m [inlined]",
      " [17] \u001b[1mback_\u001b[22m\u001b[22m\u001b[1m(\u001b[22m\u001b[22m::Flux.CUDA.RNNCall{Flux.LSTMCell{TrackedArray{…,CuArray{Float32,2}},TrackedArray{…,CuArray{Float32,1}}}}, ::Tuple{CuArray{Float32,2},CuArray{Float32,2},CuArray{Float32,2}}, ::Tuple{CuArray{Float32,2},CuArray{Float32,2},CuArray{Float32,2}}, ::TrackedArray{…,CuArray{Float32,2}}, ::TrackedArray{…,CuArray{Float32,2}}, ::TrackedArray{…,CuArray{Float32,2}}\u001b[1m)\u001b[22m\u001b[22m at \u001b[1m/home/mike/.julia/v0.6/Flux/src/cuda/cudnn.jl:362\u001b[22m\u001b[22m",
      " [18] \u001b[1mback_\u001b[22m\u001b[22m\u001b[1m(\u001b[22m\u001b[22m::Flux.Tracker.Call{Flux.CUDA.RNNCall{Flux.LSTMCell{TrackedArray{…,CuArray{Float32,2}},TrackedArray{…,CuArray{Float32,1}}}},Tuple{TrackedArray{…,CuArray{Float32,2}},TrackedArray{…,CuArray{Float32,2}},TrackedArray{…,CuArray{Float32,2}}}}, ::Tuple{CuArray{Float32,2},CuArray{Float32,2},CuArray{Float32,2}}, ::Tuple{CuArray{Float32,2},CuArray{Float32,2},CuArray{Float32,2}}\u001b[1m)\u001b[22m\u001b[22m at \u001b[1m/home/mike/.julia/v0.6/Flux/src/tracker/back.jl:25\u001b[22m\u001b[22m",
      " [19] \u001b[1mback\u001b[22m\u001b[22m\u001b[1m(\u001b[22m\u001b[22m::Flux.Tracker.Tracked{Tuple{CuArray{Float32,2},CuArray{Float32,2},CuArray{Float32,2}}}, ::Tuple{Int64,Int64,CuArray{Float32,2}}\u001b[1m)\u001b[22m\u001b[22m at \u001b[1m/home/mike/.julia/v0.6/Flux/src/tracker/back.jl:36\u001b[22m\u001b[22m",
      " [20] \u001b[1mback_\u001b[22m\u001b[22m\u001b[1m(\u001b[22m\u001b[22m::Flux.Tracker.Call{Base.#getindex,Tuple{Flux.Tracker.TrackedTuple{Tuple{CuArray{Float32,2},CuArray{Float32,2},CuArray{Float32,2}}},Int64}}, ::CuArray{Float32,2}, ::CuArray{Float32,2}\u001b[1m)\u001b[22m\u001b[22m at \u001b[1m/home/mike/.julia/v0.6/Flux/src/tracker/back.jl:25\u001b[22m\u001b[22m",
      " [21] \u001b[1mback\u001b[22m\u001b[22m\u001b[1m(\u001b[22m\u001b[22m::Flux.Tracker.Tracked{CuArray{Float32,2}}, ::CuArray{Float32,2}\u001b[1m)\u001b[22m\u001b[22m at \u001b[1m/home/mike/.julia/v0.6/Flux/src/tracker/back.jl:38\u001b[22m\u001b[22m",
      " [22] \u001b[1mmacro expansion\u001b[22m\u001b[22m at \u001b[1m/home/mike/.julia/v0.6/Flux/src/tracker/back.jl:49\u001b[22m\u001b[22m [inlined]",
      " [23] \u001b[1mback_\u001b[22m\u001b[22m\u001b[1m(\u001b[22m\u001b[22m::Flux.CUDA.RNNCall{Flux.LSTMCell{TrackedArray{…,CuArray{Float32,2}},TrackedArray{…,CuArray{Float32,1}}}}, ::Tuple{CuArray{Float32,2},CuArray{Float32,2},CuArray{Float32,2}}, ::Tuple{CuArray{Float32,2},CuArray{Float32,2},CuArray{Float32,2}}, ::TrackedArray{…,CuArray{Float32,2}}, ::TrackedArray{…,CuArray{Float32,2}}, ::TrackedArray{…,CuArray{Float32,2}}\u001b[1m)\u001b[22m\u001b[22m at \u001b[1m/home/mike/.julia/v0.6/Flux/src/cuda/cudnn.jl:362\u001b[22m\u001b[22m",
      " [24] \u001b[1mback_\u001b[22m\u001b[22m\u001b[1m(\u001b[22m\u001b[22m::Flux.Tracker.Call{Flux.CUDA.RNNCall{Flux.LSTMCell{TrackedArray{…,CuArray{Float32,2}},TrackedArray{…,CuArray{Float32,1}}}},Tuple{TrackedArray{…,CuArray{Float32,2}},TrackedArray{…,CuArray{Float32,2}},TrackedArray{…,CuArray{Float32,2}}}}, ::Tuple{CuArray{Float32,2},CuArray{Float32,2},CuArray{Float32,2}}, ::Tuple{CuArray{Float32,2},CuArray{Float32,2},CuArray{Float32,2}}\u001b[1m)\u001b[22m\u001b[22m at \u001b[1m/home/mike/.julia/v0.6/Flux/src/tracker/back.jl:25\u001b[22m\u001b[22m",
      " [25] \u001b[1mback\u001b[22m\u001b[22m\u001b[1m(\u001b[22m\u001b[22m::Flux.Tracker.Tracked{Tuple{CuArray{Float32,2},CuArray{Float32,2},CuArray{Float32,2}}}, ::Tuple{Int64,Int64,CuArray{Float32,2}}\u001b[1m)\u001b[22m\u001b[22m at \u001b[1m/home/mike/.julia/v0.6/Flux/src/tracker/back.jl:36\u001b[22m\u001b[22m",
      " [26] \u001b[1mback_\u001b[22m\u001b[22m\u001b[1m(\u001b[22m\u001b[22m::Flux.Tracker.Call{Base.#getindex,Tuple{Flux.Tracker.TrackedTuple{Tuple{CuArray{Float32,2},CuArray{Float32,2},CuArray{Float32,2}}},Int64}}, ::CuArray{Float32,2}, ::CuArray{Float32,2}\u001b[1m)\u001b[22m\u001b[22m at \u001b[1m/home/mike/.julia/v0.6/Flux/src/tracker/back.jl:25\u001b[22m\u001b[22m",
      " [27] \u001b[1mback\u001b[22m\u001b[22m\u001b[1m(\u001b[22m\u001b[22m::Flux.Tracker.Tracked{CuArray{Float32,2}}, ::CuArray{Float32,2}\u001b[1m)\u001b[22m\u001b[22m at \u001b[1m/home/mike/.julia/v0.6/Flux/src/tracker/back.jl:38\u001b[22m\u001b[22m",
      " [28] \u001b[1mmacro expansion\u001b[22m\u001b[22m at \u001b[1m/home/mike/.julia/v0.6/Flux/src/tracker/back.jl:49\u001b[22m\u001b[22m [inlined]",
      " [29] \u001b[1mback_\u001b[22m\u001b[22m\u001b[1m(\u001b[22m\u001b[22m::Flux.CUDA.RNNCall{Flux.LSTMCell{TrackedArray{…,CuArray{Float32,2}},TrackedArray{…,CuArray{Float32,1}}}}, ::Tuple{CuArray{Float32,2},CuArray{Float32,2},CuArray{Float32,2}}, ::Tuple{CuArray{Float32,2},CuArray{Float32,2},CuArray{Float32,2}}, ::TrackedArray{…,CuArray{Float32,2}}, ::TrackedArray{…,CuArray{Float32,2}}, ::TrackedArray{…,CuArray{Float32,2}}\u001b[1m)\u001b[22m\u001b[22m at \u001b[1m/home/mike/.julia/v0.6/Flux/src/cuda/cudnn.jl:362\u001b[22m\u001b[22m",
      " [30] \u001b[1mback_\u001b[22m\u001b[22m\u001b[1m(\u001b[22m\u001b[22m::Flux.Tracker.Call{Flux.CUDA.RNNCall{Flux.LSTMCell{TrackedArray{…,CuArray{Float32,2}},TrackedArray{…,CuArray{Float32,1}}}},Tuple{TrackedArray{…,CuArray{Float32,2}},TrackedArray{…,CuArray{Float32,2}},TrackedArray{…,CuArray{Float32,2}}}}, ::Tuple{CuArray{Float32,2},CuArray{Float32,2},CuArray{Float32,2}}, ::Tuple{CuArray{Float32,2},CuArray{Float32,2},CuArray{Float32,2}}\u001b[1m)\u001b[22m\u001b[22m at \u001b[1m/home/mike/.julia/v0.6/Flux/src/tracker/back.jl:25\u001b[22m\u001b[22m",
      " [31] \u001b[1mback\u001b[22m\u001b[22m\u001b[1m(\u001b[22m\u001b[22m::Flux.Tracker.Tracked{Tuple{CuArray{Float32,2},CuArray{Float32,2},CuArray{Float32,2}}}, ::Tuple{Int64,Int64,CuArray{Float32,2}}\u001b[1m)\u001b[22m\u001b[22m at \u001b[1m/home/mike/.julia/v0.6/Flux/src/tracker/back.jl:36\u001b[22m\u001b[22m",
      " [32] \u001b[1mback_\u001b[22m\u001b[22m\u001b[1m(\u001b[22m\u001b[22m::Flux.Tracker.Call{Base.#getindex,Tuple{Flux.Tracker.TrackedTuple{Tuple{CuArray{Float32,2},CuArray{Float32,2},CuArray{Float32,2}}},Int64}}, ::CuArray{Float32,2}, ::CuArray{Float32,2}\u001b[1m)\u001b[22m\u001b[22m at \u001b[1m/home/mike/.julia/v0.6/Flux/src/tracker/back.jl:25\u001b[22m\u001b[22m",
      " [33] \u001b[1mback\u001b[22m\u001b[22m\u001b[1m(\u001b[22m\u001b[22m::Flux.Tracker.Tracked{CuArray{Float32,2}}, ::CuArray{Float32,2}\u001b[1m)\u001b[22m\u001b[22m at \u001b[1m/home/mike/.julia/v0.6/Flux/src/tracker/back.jl:38\u001b[22m\u001b[22m",
      " [34] \u001b[1mmacro expansion\u001b[22m\u001b[22m at \u001b[1m/home/mike/.julia/v0.6/Flux/src/tracker/back.jl:49\u001b[22m\u001b[22m [inlined]",
      " [35] \u001b[1mback_\u001b[22m\u001b[22m\u001b[1m(\u001b[22m\u001b[22m::Flux.CUDA.RNNCall{Flux.LSTMCell{TrackedArray{…,CuArray{Float32,2}},TrackedArray{…,CuArray{Float32,1}}}}, ::Tuple{CuArray{Float32,2},CuArray{Float32,2},CuArray{Float32,2}}, ::Tuple{CuArray{Float32,2},CuArray{Float32,2},CuArray{Float32,2}}, ::TrackedArray{…,CuArray{Float32,2}}, ::TrackedArray{…,CuArray{Float32,2}}, ::TrackedArray{…,CuArray{Float32,2}}\u001b[1m)\u001b[22m\u001b[22m at \u001b[1m/home/mike/.julia/v0.6/Flux/src/cuda/cudnn.jl:362\u001b[22m\u001b[22m",
      " [36] \u001b[1mback_\u001b[22m\u001b[22m\u001b[1m(\u001b[22m\u001b[22m::Flux.Tracker.Call{Flux.CUDA.RNNCall{Flux.LSTMCell{TrackedArray{…,CuArray{Float32,2}},TrackedArray{…,CuArray{Float32,1}}}},Tuple{TrackedArray{…,CuArray{Float32,2}},TrackedArray{…,CuArray{Float32,2}},TrackedArray{…,CuArray{Float32,2}}}}, ::Tuple{CuArray{Float32,2},CuArray{Float32,2},CuArray{Float32,2}}, ::Tuple{CuArray{Float32,2},CuArray{Float32,2},CuArray{Float32,2}}\u001b[1m)\u001b[22m\u001b[22m at \u001b[1m/home/mike/.julia/v0.6/Flux/src/tracker/back.jl:25\u001b[22m\u001b[22m",
      " [37] \u001b[1mback\u001b[22m\u001b[22m\u001b[1m(\u001b[22m\u001b[22m::Flux.Tracker.Tracked{Tuple{CuArray{Float32,2},CuArray{Float32,2},CuArray{Float32,2}}}, ::Tuple{Int64,Int64,CuArray{Float32,2}}\u001b[1m)\u001b[22m\u001b[22m at \u001b[1m/home/mike/.julia/v0.6/Flux/src/tracker/back.jl:36\u001b[22m\u001b[22m",
      " [38] \u001b[1mback_\u001b[22m\u001b[22m\u001b[1m(\u001b[22m\u001b[22m::Flux.Tracker.Call{Base.#getindex,Tuple{Flux.Tracker.TrackedTuple{Tuple{CuArray{Float32,2},CuArray{Float32,2},CuArray{Float32,2}}},Int64}}, ::CuArray{Float32,2}, ::CuArray{Float32,2}\u001b[1m)\u001b[22m\u001b[22m at \u001b[1m/home/mike/.julia/v0.6/Flux/src/tracker/back.jl:25\u001b[22m\u001b[22m",
      " [39] \u001b[1mback\u001b[22m\u001b[22m\u001b[1m(\u001b[22m\u001b[22m::Flux.Tracker.Tracked{CuArray{Float32,2}}, ::CuArray{Float32,2}\u001b[1m)\u001b[22m\u001b[22m at \u001b[1m/home/mike/.julia/v0.6/Flux/src/tracker/back.jl:38\u001b[22m\u001b[22m",
      " [40] \u001b[1mmacro expansion\u001b[22m\u001b[22m at \u001b[1m/home/mike/.julia/v0.6/Flux/src/tracker/back.jl:49\u001b[22m\u001b[22m [inlined]",
      " [41] \u001b[1mback_\u001b[22m\u001b[22m\u001b[1m(\u001b[22m\u001b[22m::Flux.CUDA.RNNCall{Flux.LSTMCell{TrackedArray{…,CuArray{Float32,2}},TrackedArray{…,CuArray{Float32,1}}}}, ::Tuple{CuArray{Float32,2},CuArray{Float32,2},CuArray{Float32,2}}, ::Tuple{CuArray{Float32,2},CuArray{Float32,2},CuArray{Float32,2}}, ::TrackedArray{…,CuArray{Float32,2}}, ::TrackedArray{…,CuArray{Float32,2}}, ::TrackedArray{…,CuArray{Float32,2}}\u001b[1m)\u001b[22m\u001b[22m at \u001b[1m/home/mike/.julia/v0.6/Flux/src/cuda/cudnn.jl:362\u001b[22m\u001b[22m",
      " [42] \u001b[1mback_\u001b[22m\u001b[22m\u001b[1m(\u001b[22m\u001b[22m::Flux.Tracker.Call{Flux.CUDA.RNNCall{Flux.LSTMCell{TrackedArray{…,CuArray{Float32,2}},TrackedArray{…,CuArray{Float32,1}}}},Tuple{TrackedArray{…,CuArray{Float32,2}},TrackedArray{…,CuArray{Float32,2}},TrackedArray{…,CuArray{Float32,2}}}}, ::Tuple{CuArray{Float32,2},CuArray{Float32,2},CuArray{Float32,2}}, ::Tuple{CuArray{Float32,2},CuArray{Float32,2},CuArray{Float32,2}}\u001b[1m)\u001b[22m\u001b[22m at \u001b[1m/home/mike/.julia/v0.6/Flux/src/tracker/back.jl:25\u001b[22m\u001b[22m",
      " [43] \u001b[1mback\u001b[22m\u001b[22m\u001b[1m(\u001b[22m\u001b[22m::Flux.Tracker.Tracked{Tuple{CuArray{Float32,2},CuArray{Float32,2},CuArray{Float32,2}}}, ::Tuple{Int64,Int64,CuArray{Float32,2}}\u001b[1m)\u001b[22m\u001b[22m at \u001b[1m/home/mike/.julia/v0.6/Flux/src/tracker/back.jl:36\u001b[22m\u001b[22m",
      " [44] \u001b[1mback_\u001b[22m\u001b[22m\u001b[1m(\u001b[22m\u001b[22m::Flux.Tracker.Call{Base.#getindex,Tuple{Flux.Tracker.TrackedTuple{Tuple{CuArray{Float32,2},CuArray{Float32,2},CuArray{Float32,2}}},Int64}}, ::CuArray{Float32,2}, ::CuArray{Float32,2}\u001b[1m)\u001b[22m\u001b[22m at \u001b[1m/home/mike/.julia/v0.6/Flux/src/tracker/back.jl:25\u001b[22m\u001b[22m",
      " [45] \u001b[1mback\u001b[22m\u001b[22m\u001b[1m(\u001b[22m\u001b[22m::Flux.Tracker.Tracked{CuArray{Float32,2}}, ::CuArray{Float32,2}\u001b[1m)\u001b[22m\u001b[22m at \u001b[1m/home/mike/.julia/v0.6/Flux/src/tracker/back.jl:38\u001b[22m\u001b[22m",
      " [46] \u001b[1mmacro expansion\u001b[22m\u001b[22m at \u001b[1m/home/mike/.julia/v0.6/Flux/src/tracker/back.jl:49\u001b[22m\u001b[22m [inlined]",
      " [47] \u001b[1mback_\u001b[22m\u001b[22m\u001b[1m(\u001b[22m\u001b[22m::Flux.CUDA.RNNCall{Flux.LSTMCell{TrackedArray{…,CuArray{Float32,2}},TrackedArray{…,CuArray{Float32,1}}}}, ::Tuple{CuArray{Float32,2},CuArray{Float32,2},CuArray{Float32,2}}, ::Tuple{CuArray{Float32,2},CuArray{Float32,2},CuArray{Float32,2}}, ::TrackedArray{…,CuArray{Float32,2}}, ::TrackedArray{…,CuArray{Float32,2}}, ::TrackedArray{…,CuArray{Float32,2}}\u001b[1m)\u001b[22m\u001b[22m at \u001b[1m/home/mike/.julia/v0.6/Flux/src/cuda/cudnn.jl:362\u001b[22m\u001b[22m",
      " [48] \u001b[1mback_\u001b[22m\u001b[22m\u001b[1m(\u001b[22m\u001b[22m::Flux.Tracker.Call{Flux.CUDA.RNNCall{Flux.LSTMCell{TrackedArray{…,CuArray{Float32,2}},TrackedArray{…,CuArray{Float32,1}}}},Tuple{TrackedArray{…,CuArray{Float32,2}},TrackedArray{…,CuArray{Float32,2}},TrackedArray{…,CuArray{Float32,2}}}}, ::Tuple{CuArray{Float32,2},CuArray{Float32,2},CuArray{Float32,2}}, ::Tuple{CuArray{Float32,2},CuArray{Float32,2},CuArray{Float32,2}}\u001b[1m)\u001b[22m\u001b[22m at \u001b[1m/home/mike/.julia/v0.6/Flux/src/tracker/back.jl:25\u001b[22m\u001b[22m",
      " [49] \u001b[1mback\u001b[22m\u001b[22m\u001b[1m(\u001b[22m\u001b[22m::Flux.Tracker.Tracked{Tuple{CuArray{Float32,2},CuArray{Float32,2},CuArray{Float32,2}}}, ::Tuple{Int64,Int64,CuArray{Float32,2}}\u001b[1m)\u001b[22m\u001b[22m at \u001b[1m/home/mike/.julia/v0.6/Flux/src/tracker/back.jl:36\u001b[22m\u001b[22m",
      " [50] \u001b[1mback_\u001b[22m\u001b[22m\u001b[1m(\u001b[22m\u001b[22m::Flux.Tracker.Call{Base.#getindex,Tuple{Flux.Tracker.TrackedTuple{Tuple{CuArray{Float32,2},CuArray{Float32,2},CuArray{Float32,2}}},Int64}}, ::CuArray{Float32,2}, ::CuArray{Float32,2}\u001b[1m)\u001b[22m\u001b[22m at \u001b[1m/home/mike/.julia/v0.6/Flux/src/tracker/back.jl:25\u001b[22m\u001b[22m",
      " [51] \u001b[1mback\u001b[22m\u001b[22m\u001b[1m(\u001b[22m\u001b[22m::Flux.Tracker.Tracked{CuArray{Float32,2}}, ::CuArray{Float32,2}\u001b[1m)\u001b[22m\u001b[22m at \u001b[1m/home/mike/.julia/v0.6/Flux/src/tracker/back.jl:38\u001b[22m\u001b[22m",
      " [52] \u001b[1mmacro expansion\u001b[22m\u001b[22m at \u001b[1m/home/mike/.julia/v0.6/Flux/src/tracker/back.jl:49\u001b[22m\u001b[22m [inlined]",
      " [53] \u001b[1mback_\u001b[22m\u001b[22m\u001b[1m(\u001b[22m\u001b[22m::Flux.CUDA.RNNCall{Flux.LSTMCell{TrackedArray{…,CuArray{Float32,2}},TrackedArray{…,CuArray{Float32,1}}}}, ::Tuple{CuArray{Float32,2},CuArray{Float32,2},CuArray{Float32,2}}, ::Tuple{CuArray{Float32,2},CuArray{Float32,2},CuArray{Float32,2}}, ::TrackedArray{…,CuArray{Float32,2}}, ::TrackedArray{…,CuArray{Float32,2}}, ::TrackedArray{…,CuArray{Float32,2}}\u001b[1m)\u001b[22m\u001b[22m at \u001b[1m/home/mike/.julia/v0.6/Flux/src/cuda/cudnn.jl:362\u001b[22m\u001b[22m",
      " [54] \u001b[1mback_\u001b[22m\u001b[22m\u001b[1m(\u001b[22m\u001b[22m::Flux.Tracker.Call{Flux.CUDA.RNNCall{Flux.LSTMCell{TrackedArray{…,CuArray{Float32,2}},TrackedArray{…,CuArray{Float32,1}}}},Tuple{TrackedArray{…,CuArray{Float32,2}},TrackedArray{…,CuArray{Float32,2}},TrackedArray{…,CuArray{Float32,2}}}}, ::Tuple{CuArray{Float32,2},CuArray{Float32,2},CuArray{Float32,2}}, ::Tuple{CuArray{Float32,2},CuArray{Float32,2},CuArray{Float32,2}}\u001b[1m)\u001b[22m\u001b[22m at \u001b[1m/home/mike/.julia/v0.6/Flux/src/tracker/back.jl:25\u001b[22m\u001b[22m",
      " [55] \u001b[1mback\u001b[22m\u001b[22m\u001b[1m(\u001b[22m\u001b[22m::Flux.Tracker.Tracked{Tuple{CuArray{Float32,2},CuArray{Float32,2},CuArray{Float32,2}}}, ::Tuple{Int64,Int64,CuArray{Float32,2}}\u001b[1m)\u001b[22m\u001b[22m at \u001b[1m/home/mike/.julia/v0.6/Flux/src/tracker/back.jl:36\u001b[22m\u001b[22m",
      " [56] \u001b[1mback_\u001b[22m\u001b[22m\u001b[1m(\u001b[22m\u001b[22m::Flux.Tracker.Call{Base.#getindex,Tuple{Flux.Tracker.TrackedTuple{Tuple{CuArray{Float32,2},CuArray{Float32,2},CuArray{Float32,2}}},Int64}}, ::CuArray{Float32,2}, ::CuArray{Float32,2}\u001b[1m)\u001b[22m\u001b[22m at \u001b[1m/home/mike/.julia/v0.6/Flux/src/tracker/back.jl:25\u001b[22m\u001b[22m",
      " [57] \u001b[1mback\u001b[22m\u001b[22m\u001b[1m(\u001b[22m\u001b[22m::Flux.Tracker.Tracked{CuArray{Float32,2}}, ::CuArray{Float32,2}\u001b[1m)\u001b[22m\u001b[22m at \u001b[1m/home/mike/.julia/v0.6/Flux/src/tracker/back.jl:38\u001b[22m\u001b[22m",
      " [58] \u001b[1mmacro expansion\u001b[22m\u001b[22m at \u001b[1m/home/mike/.julia/v0.6/Flux/src/tracker/back.jl:49\u001b[22m\u001b[22m [inlined]",
      " [59] \u001b[1mback_\u001b[22m\u001b[22m\u001b[1m(\u001b[22m\u001b[22m::Flux.CUDA.RNNCall{Flux.LSTMCell{TrackedArray{…,CuArray{Float32,2}},TrackedArray{…,CuArray{Float32,1}}}}, ::Tuple{CuArray{Float32,2},CuArray{Float32,2},CuArray{Float32,2}}, ::Tuple{CuArray{Float32,2},CuArray{Float32,2},CuArray{Float32,2}}, ::TrackedArray{…,CuArray{Float32,2}}, ::TrackedArray{…,CuArray{Float32,2}}, ::TrackedArray{…,CuArray{Float32,2}}\u001b[1m)\u001b[22m\u001b[22m at \u001b[1m/home/mike/.julia/v0.6/Flux/src/cuda/cudnn.jl:362\u001b[22m\u001b[22m",
      " [60] \u001b[1mback_\u001b[22m\u001b[22m\u001b[1m(\u001b[22m\u001b[22m::Flux.Tracker.Call{Flux.CUDA.RNNCall{Flux.LSTMCell{TrackedArray{…,CuArray{Float32,2}},TrackedArray{…,CuArray{Float32,1}}}},Tuple{TrackedArray{…,CuArray{Float32,2}},TrackedArray{…,CuArray{Float32,2}},TrackedArray{…,CuArray{Float32,2}}}}, ::Tuple{CuArray{Float32,2},CuArray{Float32,2},CuArray{Float32,2}}, ::Tuple{CuArray{Float32,2},CuArray{Float32,2},CuArray{Float32,2}}\u001b[1m)\u001b[22m\u001b[22m at \u001b[1m/home/mike/.julia/v0.6/Flux/src/tracker/back.jl:25\u001b[22m\u001b[22m",
      " [61] \u001b[1mback\u001b[22m\u001b[22m\u001b[1m(\u001b[22m\u001b[22m::Flux.Tracker.Tracked{Tuple{CuArray{Float32,2},CuArray{Float32,2},CuArray{Float32,2}}}, ::Tuple{Int64,Int64,CuArray{Float32,2}}\u001b[1m)\u001b[22m\u001b[22m at \u001b[1m/home/mike/.julia/v0.6/Flux/src/tracker/back.jl:36\u001b[22m\u001b[22m",
      " [62] \u001b[1mback_\u001b[22m\u001b[22m\u001b[1m(\u001b[22m\u001b[22m::Flux.Tracker.Call{Base.#getindex,Tuple{Flux.Tracker.TrackedTuple{Tuple{CuArray{Float32,2},CuArray{Float32,2},CuArray{Float32,2}}},Int64}}, ::CuArray{Float32,2}, ::CuArray{Float32,2}\u001b[1m)\u001b[22m\u001b[22m at \u001b[1m/home/mike/.julia/v0.6/Flux/src/tracker/back.jl:25\u001b[22m\u001b[22m",
      " [63] \u001b[1mback\u001b[22m\u001b[22m\u001b[1m(\u001b[22m\u001b[22m::Flux.Tracker.Tracked{CuArray{Float32,2}}, ::CuArray{Float32,2}\u001b[1m)\u001b[22m\u001b[22m at \u001b[1m/home/mike/.julia/v0.6/Flux/src/tracker/back.jl:38\u001b[22m\u001b[22m",
      " [64] \u001b[1mmacro expansion\u001b[22m\u001b[22m at \u001b[1m/home/mike/.julia/v0.6/Flux/src/tracker/back.jl:49\u001b[22m\u001b[22m [inlined]",
      " [65] \u001b[1mback_\u001b[22m\u001b[22m\u001b[1m(\u001b[22m\u001b[22m::Flux.CUDA.RNNCall{Flux.LSTMCell{TrackedArray{…,CuArray{Float32,2}},TrackedArray{…,CuArray{Float32,1}}}}, ::Tuple{CuArray{Float32,2},CuArray{Float32,2},CuArray{Float32,2}}, ::Tuple{CuArray{Float32,2},CuArray{Float32,2},CuArray{Float32,2}}, ::TrackedArray{…,CuArray{Float32,2}}, ::TrackedArray{…,CuArray{Float32,2}}, ::TrackedArray{…,CuArray{Float32,2}}\u001b[1m)\u001b[22m\u001b[22m at \u001b[1m/home/mike/.julia/v0.6/Flux/src/cuda/cudnn.jl:362\u001b[22m\u001b[22m",
      " [66] \u001b[1mback_\u001b[22m\u001b[22m\u001b[1m(\u001b[22m\u001b[22m::Flux.Tracker.Call{Flux.CUDA.RNNCall{Flux.LSTMCell{TrackedArray{…,CuArray{Float32,2}},TrackedArray{…,CuArray{Float32,1}}}},Tuple{TrackedArray{…,CuArray{Float32,2}},TrackedArray{…,CuArray{Float32,2}},TrackedArray{…,CuArray{Float32,2}}}}, ::Tuple{CuArray{Float32,2},CuArray{Float32,2},CuArray{Float32,2}}, ::Tuple{CuArray{Float32,2},CuArray{Float32,2},CuArray{Float32,2}}\u001b[1m)\u001b[22m\u001b[22m at \u001b[1m/home/mike/.julia/v0.6/Flux/src/tracker/back.jl:25\u001b[22m\u001b[22m",
      " [67] \u001b[1mback\u001b[22m\u001b[22m\u001b[1m(\u001b[22m\u001b[22m::Flux.Tracker.Tracked{Tuple{CuArray{Float32,2},CuArray{Float32,2},CuArray{Float32,2}}}, ::Tuple{Int64,Int64,CuArray{Float32,2}}\u001b[1m)\u001b[22m\u001b[22m at \u001b[1m/home/mike/.julia/v0.6/Flux/src/tracker/back.jl:36\u001b[22m\u001b[22m",
      " [68] \u001b[1mback_\u001b[22m\u001b[22m\u001b[1m(\u001b[22m\u001b[22m::Flux.Tracker.Call{Base.#getindex,Tuple{Flux.Tracker.TrackedTuple{Tuple{CuArray{Float32,2},CuArray{Float32,2},CuArray{Float32,2}}},Int64}}, ::CuArray{Float32,2}, ::CuArray{Float32,2}\u001b[1m)\u001b[22m\u001b[22m at \u001b[1m/home/mike/.julia/v0.6/Flux/src/tracker/back.jl:25\u001b[22m\u001b[22m",
      " [69] \u001b[1mback\u001b[22m\u001b[22m\u001b[1m(\u001b[22m\u001b[22m::Flux.Tracker.Tracked{CuArray{Float32,2}}, ::CuArray{Float32,2}\u001b[1m)\u001b[22m\u001b[22m at \u001b[1m/home/mike/.julia/v0.6/Flux/src/tracker/back.jl:38\u001b[22m\u001b[22m",
      " [70] \u001b[1mmacro expansion\u001b[22m\u001b[22m at \u001b[1m/home/mike/.julia/v0.6/Flux/src/tracker/back.jl:49\u001b[22m\u001b[22m [inlined]",
      " [71] \u001b[1mback_\u001b[22m\u001b[22m\u001b[1m(\u001b[22m\u001b[22m::Flux.CUDA.RNNCall{Flux.LSTMCell{TrackedArray{…,CuArray{Float32,2}},TrackedArray{…,CuArray{Float32,1}}}}, ::Tuple{CuArray{Float32,2},CuArray{Float32,2},CuArray{Float32,2}}, ::Tuple{CuArray{Float32,2},CuArray{Float32,2},CuArray{Float32,2}}, ::TrackedArray{…,CuArray{Float32,2}}, ::TrackedArray{…,CuArray{Float32,2}}, ::TrackedArray{…,CuArray{Float32,2}}\u001b[1m)\u001b[22m\u001b[22m at \u001b[1m/home/mike/.julia/v0.6/Flux/src/cuda/cudnn.jl:362\u001b[22m\u001b[22m",
      " [72] \u001b[1mback_\u001b[22m\u001b[22m\u001b[1m(\u001b[22m\u001b[22m::Flux.Tracker.Call{Flux.CUDA.RNNCall{Flux.LSTMCell{TrackedArray{…,CuArray{Float32,2}},TrackedArray{…,CuArray{Float32,1}}}},Tuple{TrackedArray{…,CuArray{Float32,2}},TrackedArray{…,CuArray{Float32,2}},TrackedArray{…,CuArray{Float32,2}}}}, ::Tuple{CuArray{Float32,2},CuArray{Float32,2},CuArray{Float32,2}}, ::Tuple{CuArray{Float32,2},CuArray{Float32,2},CuArray{Float32,2}}\u001b[1m)\u001b[22m\u001b[22m at \u001b[1m/home/mike/.julia/v0.6/Flux/src/tracker/back.jl:25\u001b[22m\u001b[22m",
      " [73] \u001b[1mback\u001b[22m\u001b[22m\u001b[1m(\u001b[22m\u001b[22m::Flux.Tracker.Tracked{Tuple{CuArray{Float32,2},CuArray{Float32,2},CuArray{Float32,2}}}, ::Tuple{Int64,Int64,CuArray{Float32,2}}\u001b[1m)\u001b[22m\u001b[22m at \u001b[1m/home/mike/.julia/v0.6/Flux/src/tracker/back.jl:36\u001b[22m\u001b[22m",
      " [74] \u001b[1mback_\u001b[22m\u001b[22m\u001b[1m(\u001b[22m\u001b[22m::Flux.Tracker.Call{Base.#getindex,Tuple{Flux.Tracker.TrackedTuple{Tuple{CuArray{Float32,2},CuArray{Float32,2},CuArray{Float32,2}}},Int64}}, ::CuArray{Float32,2}, ::CuArray{Float32,2}\u001b[1m)\u001b[22m\u001b[22m at \u001b[1m/home/mike/.julia/v0.6/Flux/src/tracker/back.jl:25\u001b[22m\u001b[22m",
      " [75] \u001b[1mback\u001b[22m\u001b[22m\u001b[1m(\u001b[22m\u001b[22m::Flux.Tracker.Tracked{CuArray{Float32,2}}, ::CuArray{Float32,2}\u001b[1m)\u001b[22m\u001b[22m at \u001b[1m/home/mike/.julia/v0.6/Flux/src/tracker/back.jl:38\u001b[22m\u001b[22m",
      " [76] \u001b[1mmacro expansion\u001b[22m\u001b[22m at \u001b[1m/home/mike/.julia/v0.6/Flux/src/tracker/back.jl:49\u001b[22m\u001b[22m [inlined]",
      " [77] \u001b[1mback_\u001b[22m\u001b[22m\u001b[1m(\u001b[22m\u001b[22m::Flux.CUDA.RNNCall{Flux.LSTMCell{TrackedArray{…,CuArray{Float32,2}},TrackedArray{…,CuArray{Float32,1}}}}, ::Tuple{CuArray{Float32,2},CuArray{Float32,2},CuArray{Float32,2}}, ::Tuple{CuArray{Float32,2},CuArray{Float32,2},CuArray{Float32,2}}, ::TrackedArray{…,CuArray{Float32,2}}, ::TrackedArray{…,CuArray{Float32,2}}, ::TrackedArray{…,CuArray{Float32,2}}\u001b[1m)\u001b[22m\u001b[22m at \u001b[1m/home/mike/.julia/v0.6/Flux/src/cuda/cudnn.jl:362\u001b[22m\u001b[22m",
      " [78] \u001b[1mback_\u001b[22m\u001b[22m\u001b[1m(\u001b[22m\u001b[22m::Flux.Tracker.Call{Flux.CUDA.RNNCall{Flux.LSTMCell{TrackedArray{…,CuArray{Float32,2}},TrackedArray{…,CuArray{Float32,1}}}},Tuple{TrackedArray{…,CuArray{Float32,2}},TrackedArray{…,CuArray{Float32,2}},TrackedArray{…,CuArray{Float32,2}}}}, ::Tuple{CuArray{Float32,2},CuArray{Float32,2},CuArray{Float32,2}}, ::Tuple{CuArray{Float32,2},CuArray{Float32,2},CuArray{Float32,2}}\u001b[1m)\u001b[22m\u001b[22m at \u001b[1m/home/mike/.julia/v0.6/Flux/src/tracker/back.jl:25\u001b[22m\u001b[22m",
      " [79] \u001b[1mback\u001b[22m\u001b[22m\u001b[1m(\u001b[22m\u001b[22m::Flux.Tracker.Tracked{Tuple{CuArray{Float32,2},CuArray{Float32,2},CuArray{Float32,2}}}, ::Tuple{Int64,Int64,CuArray{Float32,2}}\u001b[1m)\u001b[22m\u001b[22m at \u001b[1m/home/mike/.julia/v0.6/Flux/src/tracker/back.jl:36\u001b[22m\u001b[22m",
      " [80] \u001b[1mback_\u001b[22m\u001b[22m\u001b[1m(\u001b[22m\u001b[22m::Flux.Tracker.Call{Base.#getindex,Tuple{Flux.Tracker.TrackedTuple{Tuple{CuArray{Float32,2},CuArray{Float32,2},CuArray{Float32,2}}},Int64}}, ::CuArray{Float32,2}, ::CuArray{Float32,2}\u001b[1m)\u001b[22m\u001b[22m at \u001b[1m/home/mike/.julia/v0.6/Flux/src/tracker/back.jl:25\u001b[22m\u001b[22m",
      " [81] \u001b[1mback\u001b[22m\u001b[22m\u001b[1m(\u001b[22m\u001b[22m::Flux.Tracker.Tracked{CuArray{Float32,2}}, ::CuArray{Float32,2}\u001b[1m)\u001b[22m\u001b[22m at \u001b[1m/home/mike/.julia/v0.6/Flux/src/tracker/back.jl:38\u001b[22m\u001b[22m",
      " [82] \u001b[1mmacro expansion\u001b[22m\u001b[22m at \u001b[1m/home/mike/.julia/v0.6/Flux/src/tracker/back.jl:49\u001b[22m\u001b[22m [inlined]",
      " [83] \u001b[1mback_\u001b[22m\u001b[22m\u001b[1m(\u001b[22m\u001b[22m::Flux.CUDA.RNNCall{Flux.LSTMCell{TrackedArray{…,CuArray{Float32,2}},TrackedArray{…,CuArray{Float32,1}}}}, ::Tuple{CuArray{Float32,2},CuArray{Float32,2},CuArray{Float32,2}}, ::Tuple{CuArray{Float32,2},CuArray{Float32,2},CuArray{Float32,2}}, ::TrackedArray{…,CuArray{Float32,2}}, ::TrackedArray{…,CuArray{Float32,2}}, ::TrackedArray{…,CuArray{Float32,2}}\u001b[1m)\u001b[22m\u001b[22m at \u001b[1m/home/mike/.julia/v0.6/Flux/src/cuda/cudnn.jl:362\u001b[22m\u001b[22m",
      " [84] \u001b[1mback_\u001b[22m\u001b[22m\u001b[1m(\u001b[22m\u001b[22m::Flux.Tracker.Call{Flux.CUDA.RNNCall{Flux.LSTMCell{TrackedArray{…,CuArray{Float32,2}},TrackedArray{…,CuArray{Float32,1}}}},Tuple{TrackedArray{…,CuArray{Float32,2}},TrackedArray{…,CuArray{Float32,2}},TrackedArray{…,CuArray{Float32,2}}}}, ::Tuple{CuArray{Float32,2},CuArray{Float32,2},CuArray{Float32,2}}, ::Tuple{CuArray{Float32,2},CuArray{Float32,2},CuArray{Float32,2}}\u001b[1m)\u001b[22m\u001b[22m at \u001b[1m/home/mike/.julia/v0.6/Flux/src/tracker/back.jl:25\u001b[22m\u001b[22m",
      " [85] \u001b[1mback\u001b[22m\u001b[22m\u001b[1m(\u001b[22m\u001b[22m::Flux.Tracker.Tracked{Tuple{CuArray{Float32,2},CuArray{Float32,2},CuArray{Float32,2}}}, ::Tuple{Int64,Int64,CuArray{Float32,2}}\u001b[1m)\u001b[22m\u001b[22m at \u001b[1m/home/mike/.julia/v0.6/Flux/src/tracker/back.jl:36\u001b[22m\u001b[22m",
      " [86] \u001b[1mback_\u001b[22m\u001b[22m\u001b[1m(\u001b[22m\u001b[22m::Flux.Tracker.Call{Base.#getindex,Tuple{Flux.Tracker.TrackedTuple{Tuple{CuArray{Float32,2},CuArray{Float32,2},CuArray{Float32,2}}},Int64}}, ::CuArray{Float32,2}, ::CuArray{Float32,2}\u001b[1m)\u001b[22m\u001b[22m at \u001b[1m/home/mike/.julia/v0.6/Flux/src/tracker/back.jl:25\u001b[22m\u001b[22m",
      " [87] \u001b[1mback\u001b[22m\u001b[22m\u001b[1m(\u001b[22m\u001b[22m::Flux.Tracker.Tracked{CuArray{Float32,2}}, ::CuArray{Float32,2}\u001b[1m)\u001b[22m\u001b[22m at \u001b[1m/home/mike/.julia/v0.6/Flux/src/tracker/back.jl:38\u001b[22m\u001b[22m",
      " [88] \u001b[1mmacro expansion\u001b[22m\u001b[22m at \u001b[1m/home/mike/.julia/v0.6/Flux/src/tracker/back.jl:49\u001b[22m\u001b[22m [inlined]",
      " [89] \u001b[1mback_\u001b[22m\u001b[22m\u001b[1m(\u001b[22m\u001b[22m::Flux.CUDA.RNNCall{Flux.LSTMCell{TrackedArray{…,CuArray{Float32,2}},TrackedArray{…,CuArray{Float32,1}}}}, ::Tuple{CuArray{Float32,2},CuArray{Float32,2},CuArray{Float32,2}}, ::Tuple{CuArray{Float32,2},CuArray{Float32,2},CuArray{Float32,2}}, ::TrackedArray{…,CuArray{Float32,2}}, ::TrackedArray{…,CuArray{Float32,2}}, ::TrackedArray{…,CuArray{Float32,2}}\u001b[1m)\u001b[22m\u001b[22m at \u001b[1m/home/mike/.julia/v0.6/Flux/src/cuda/cudnn.jl:362\u001b[22m\u001b[22m",
      " [90] \u001b[1mback_\u001b[22m\u001b[22m\u001b[1m(\u001b[22m\u001b[22m::Flux.Tracker.Call{Flux.CUDA.RNNCall{Flux.LSTMCell{TrackedArray{…,CuArray{Float32,2}},TrackedArray{…,CuArray{Float32,1}}}},Tuple{TrackedArray{…,CuArray{Float32,2}},TrackedArray{…,CuArray{Float32,2}},TrackedArray{…,CuArray{Float32,2}}}}, ::Tuple{CuArray{Float32,2},CuArray{Float32,2},CuArray{Float32,2}}, ::Tuple{CuArray{Float32,2},CuArray{Float32,2},CuArray{Float32,2}}\u001b[1m)\u001b[22m\u001b[22m at \u001b[1m/home/mike/.julia/v0.6/Flux/src/tracker/back.jl:25\u001b[22m\u001b[22m",
      " [91] \u001b[1mback\u001b[22m\u001b[22m\u001b[1m(\u001b[22m\u001b[22m::Flux.Tracker.Tracked{Tuple{CuArray{Float32,2},CuArray{Float32,2},CuArray{Float32,2}}}, ::Tuple{Int64,Int64,CuArray{Float32,2}}\u001b[1m)\u001b[22m\u001b[22m at \u001b[1m/home/mike/.julia/v0.6/Flux/src/tracker/back.jl:36\u001b[22m\u001b[22m",
      " [92] \u001b[1mback_\u001b[22m\u001b[22m\u001b[1m(\u001b[22m\u001b[22m::Flux.Tracker.Call{Base.#getindex,Tuple{Flux.Tracker.TrackedTuple{Tuple{CuArray{Float32,2},CuArray{Float32,2},CuArray{Float32,2}}},Int64}}, ::CuArray{Float32,2}, ::CuArray{Float32,2}\u001b[1m)\u001b[22m\u001b[22m at \u001b[1m/home/mike/.julia/v0.6/Flux/src/tracker/back.jl:25\u001b[22m\u001b[22m",
      " [93] \u001b[1mback\u001b[22m\u001b[22m\u001b[1m(\u001b[22m\u001b[22m::Flux.Tracker.Tracked{CuArray{Float32,2}}, ::CuArray{Float32,2}\u001b[1m)\u001b[22m\u001b[22m at \u001b[1m/home/mike/.julia/v0.6/Flux/src/tracker/back.jl:38\u001b[22m\u001b[22m",
      " [94] \u001b[1mmacro expansion\u001b[22m\u001b[22m at \u001b[1m/home/mike/.julia/v0.6/Flux/src/tracker/back.jl:49\u001b[22m\u001b[22m [inlined]",
      " [95] \u001b[1mback_\u001b[22m\u001b[22m\u001b[1m(\u001b[22m\u001b[22m::Flux.CUDA.RNNCall{Flux.LSTMCell{TrackedArray{…,CuArray{Float32,2}},TrackedArray{…,CuArray{Float32,1}}}}, ::Tuple{CuArray{Float32,2},CuArray{Float32,2},CuArray{Float32,2}}, ::Tuple{CuArray{Float32,2},CuArray{Float32,2},CuArray{Float32,2}}, ::TrackedArray{…,CuArray{Float32,2}}, ::TrackedArray{…,CuArray{Float32,2}}, ::TrackedArray{…,CuArray{Float32,2}}\u001b[1m)\u001b[22m\u001b[22m at \u001b[1m/home/mike/.julia/v0.6/Flux/src/cuda/cudnn.jl:362\u001b[22m\u001b[22m",
      " [96] \u001b[1mback_\u001b[22m\u001b[22m\u001b[1m(\u001b[22m\u001b[22m::Flux.Tracker.Call{Flux.CUDA.RNNCall{Flux.LSTMCell{TrackedArray{…,CuArray{Float32,2}},TrackedArray{…,CuArray{Float32,1}}}},Tuple{TrackedArray{…,CuArray{Float32,2}},TrackedArray{…,CuArray{Float32,2}},TrackedArray{…,CuArray{Float32,2}}}}, ::Tuple{CuArray{Float32,2},CuArray{Float32,2},CuArray{Float32,2}}, ::Tuple{CuArray{Float32,2},CuArray{Float32,2},CuArray{Float32,2}}\u001b[1m)\u001b[22m\u001b[22m at \u001b[1m/home/mike/.julia/v0.6/Flux/src/tracker/back.jl:25\u001b[22m\u001b[22m",
      " [97] \u001b[1mback\u001b[22m\u001b[22m\u001b[1m(\u001b[22m\u001b[22m::Flux.Tracker.Tracked{Tuple{CuArray{Float32,2},CuArray{Float32,2},CuArray{Float32,2}}}, ::Tuple{Int64,Int64,CuArray{Float32,2}}\u001b[1m)\u001b[22m\u001b[22m at \u001b[1m/home/mike/.julia/v0.6/Flux/src/tracker/back.jl:36\u001b[22m\u001b[22m",
      " [98] \u001b[1mback_\u001b[22m\u001b[22m\u001b[1m(\u001b[22m\u001b[22m::Flux.Tracker.Call{Base.#getindex,Tuple{Flux.Tracker.TrackedTuple{Tuple{CuArray{Float32,2},CuArray{Float32,2},CuArray{Float32,2}}},Int64}}, ::CuArray{Float32,2}, ::CuArray{Float32,2}\u001b[1m)\u001b[22m\u001b[22m at \u001b[1m/home/mike/.julia/v0.6/Flux/src/tracker/back.jl:25\u001b[22m\u001b[22m",
      " [99] \u001b[1mback\u001b[22m\u001b[22m\u001b[1m(\u001b[22m\u001b[22m::Flux.Tracker.Tracked{CuArray{Float32,2}}, ::CuArray{Float32,2}\u001b[1m)\u001b[22m\u001b[22m at \u001b[1m/home/mike/.julia/v0.6/Flux/src/tracker/back.jl:38\u001b[22m\u001b[22m",
      " [100] \u001b[1mmacro expansion\u001b[22m\u001b[22m at \u001b[1m/home/mike/.julia/v0.6/Flux/src/tracker/back.jl:49\u001b[22m\u001b[22m [inlined]",
      " [101] \u001b[1mback_\u001b[22m\u001b[22m\u001b[1m(\u001b[22m\u001b[22m::Flux.CUDA.RNNCall{Flux.LSTMCell{TrackedArray{…,CuArray{Float32,2}},TrackedArray{…,CuArray{Float32,1}}}}, ::Tuple{CuArray{Float32,2},CuArray{Float32,2},CuArray{Float32,2}}, ::Tuple{CuArray{Float32,2},CuArray{Float32,2},CuArray{Float32,2}}, ::TrackedArray{…,CuArray{Float32,2}}, ::TrackedArray{…,CuArray{Float32,2}}, ::TrackedArray{…,CuArray{Float32,2}}\u001b[1m)\u001b[22m\u001b[22m at \u001b[1m/home/mike/.julia/v0.6/Flux/src/cuda/cudnn.jl:362\u001b[22m\u001b[22m",
      " [102] \u001b[1mback_\u001b[22m\u001b[22m\u001b[1m(\u001b[22m\u001b[22m::Flux.Tracker.Call{Flux.CUDA.RNNCall{Flux.LSTMCell{TrackedArray{…,CuArray{Float32,2}},TrackedArray{…,CuArray{Float32,1}}}},Tuple{TrackedArray{…,CuArray{Float32,2}},TrackedArray{…,CuArray{Float32,2}},TrackedArray{…,CuArray{Float32,2}}}}, ::Tuple{CuArray{Float32,2},CuArray{Float32,2},CuArray{Float32,2}}, ::Tuple{CuArray{Float32,2},CuArray{Float32,2},CuArray{Float32,2}}\u001b[1m)\u001b[22m\u001b[22m at \u001b[1m/home/mike/.julia/v0.6/Flux/src/tracker/back.jl:25\u001b[22m\u001b[22m",
      " [103] \u001b[1mback\u001b[22m\u001b[22m\u001b[1m(\u001b[22m\u001b[22m::Flux.Tracker.Tracked{Tuple{CuArray{Float32,2},CuArray{Float32,2},CuArray{Float32,2}}}, ::Tuple{Int64,Int64,CuArray{Float32,2}}\u001b[1m)\u001b[22m\u001b[22m at \u001b[1m/home/mike/.julia/v0.6/Flux/src/tracker/back.jl:36\u001b[22m\u001b[22m",
      " [104] \u001b[1mback_\u001b[22m\u001b[22m\u001b[1m(\u001b[22m\u001b[22m::Flux.Tracker.Call{Base.#getindex,Tuple{Flux.Tracker.TrackedTuple{Tuple{CuArray{Float32,2},CuArray{Float32,2},CuArray{Float32,2}}},Int64}}, ::CuArray{Float32,2}, ::CuArray{Float32,2}\u001b[1m)\u001b[22m\u001b[22m at \u001b[1m/home/mike/.julia/v0.6/Flux/src/tracker/back.jl:25\u001b[22m\u001b[22m",
      " [105] \u001b[1mback\u001b[22m\u001b[22m\u001b[1m(\u001b[22m\u001b[22m::Flux.Tracker.Tracked{CuArray{Float32,2}}, ::CuArray{Float32,2}\u001b[1m)\u001b[22m\u001b[22m at \u001b[1m/home/mike/.julia/v0.6/Flux/src/tracker/back.jl:38\u001b[22m\u001b[22m",
      " [106] \u001b[1mmacro expansion\u001b[22m\u001b[22m at \u001b[1m/home/mike/.julia/v0.6/Flux/src/tracker/back.jl:49\u001b[22m\u001b[22m [inlined]",
      " [107] \u001b[1mback_\u001b[22m\u001b[22m\u001b[1m(\u001b[22m\u001b[22m::Flux.CUDA.RNNCall{Flux.LSTMCell{TrackedArray{…,CuArray{Float32,2}},TrackedArray{…,CuArray{Float32,1}}}}, ::Tuple{CuArray{Float32,2},CuArray{Float32,2},CuArray{Float32,2}}, ::Tuple{CuArray{Float32,2},Int64,Int64}, ::TrackedArray{…,CuArray{Float32,2}}, ::TrackedArray{…,CuArray{Float32,2}}, ::TrackedArray{…,CuArray{Float32,2}}\u001b[1m)\u001b[22m\u001b[22m at \u001b[1m/home/mike/.julia/v0.6/Flux/src/cuda/cudnn.jl:362\u001b[22m\u001b[22m",
      " [108] \u001b[1mback_\u001b[22m\u001b[22m\u001b[1m(\u001b[22m\u001b[22m::Flux.Tracker.Call{Flux.CUDA.RNNCall{Flux.LSTMCell{TrackedArray{…,CuArray{Float32,2}},TrackedArray{…,CuArray{Float32,1}}}},Tuple{TrackedArray{…,CuArray{Float32,2}},TrackedArray{…,CuArray{Float32,2}},TrackedArray{…,CuArray{Float32,2}}}}, ::Tuple{CuArray{Float32,2},CuArray{Float32,2},CuArray{Float32,2}}, ::Tuple{CuArray{Float32,2},Int64,Int64}\u001b[1m)\u001b[22m\u001b[22m at \u001b[1m/home/mike/.julia/v0.6/Flux/src/tracker/back.jl:25\u001b[22m\u001b[22m",
      " [109] \u001b[1mback\u001b[22m\u001b[22m\u001b[1m(\u001b[22m\u001b[22m::Flux.Tracker.Tracked{Tuple{CuArray{Float32,2},CuArray{Float32,2},CuArray{Float32,2}}}, ::Tuple{CuArray{Float32,2},Int64,Int64}\u001b[1m)\u001b[22m\u001b[22m at \u001b[1m/home/mike/.julia/v0.6/Flux/src/tracker/back.jl:38\u001b[22m\u001b[22m",
      " [110] \u001b[1mback_\u001b[22m\u001b[22m\u001b[1m(\u001b[22m\u001b[22m::Flux.Tracker.Call{Base.#getindex,Tuple{Flux.Tracker.TrackedTuple{Tuple{CuArray{Float32,2},CuArray{Float32,2},CuArray{Float32,2}}},Int64}}, ::CuArray{Float32,2}, ::CuArray{Float32,2}\u001b[1m)\u001b[22m\u001b[22m at \u001b[1m/home/mike/.julia/v0.6/Flux/src/tracker/back.jl:25\u001b[22m\u001b[22m",
      " [111] \u001b[1mback\u001b[22m\u001b[22m\u001b[1m(\u001b[22m\u001b[22m::Flux.Tracker.Tracked{CuArray{Float32,2}}, ::CuArray{Float32,2}\u001b[1m)\u001b[22m\u001b[22m at \u001b[1m/home/mike/.julia/v0.6/Flux/src/tracker/back.jl:38\u001b[22m\u001b[22m",
      " [112] \u001b[1mmacro expansion\u001b[22m\u001b[22m at \u001b[1m/home/mike/.julia/v0.6/Flux/src/tracker/back.jl:49\u001b[22m\u001b[22m [inlined]",
      " [113] \u001b[1mback\u001b[22m\u001b[22m\u001b[1m(\u001b[22m\u001b[22m::Base.#*, ::CuArray{Float32,2}, ::TrackedArray{…,CuArray{Float32,2}}, ::TrackedArray{…,CuArray{Float32,2}}\u001b[1m)\u001b[22m\u001b[22m at \u001b[1m/home/mike/.julia/v0.6/Flux/src/tracker/array.jl:176\u001b[22m\u001b[22m",
      " [114] \u001b[1mback_\u001b[22m\u001b[22m\u001b[1m(\u001b[22m\u001b[22m::Flux.Tracker.Call{Base.#*,Tuple{TrackedArray{…,CuArray{Float32,2}},TrackedArray{…,CuArray{Float32,2}}}}, ::CuArray{Float32,2}, ::CuArray{Float32,2}\u001b[1m)\u001b[22m\u001b[22m at \u001b[1m/home/mike/.julia/v0.6/Flux/src/tracker/back.jl:25\u001b[22m\u001b[22m",
      " [115] \u001b[1mback\u001b[22m\u001b[22m\u001b[1m(\u001b[22m\u001b[22m::Flux.Tracker.Tracked{CuArray{Float32,2}}, ::CuArray{Float32,2}\u001b[1m)\u001b[22m\u001b[22m at \u001b[1m/home/mike/.julia/v0.6/Flux/src/tracker/back.jl:38\u001b[22m\u001b[22m",
      " [116] \u001b[1mmacro expansion\u001b[22m\u001b[22m at \u001b[1m/home/mike/.julia/v0.6/Flux/src/tracker/back.jl:49\u001b[22m\u001b[22m [inlined]",
      " [117] \u001b[1m(::Flux.Tracker.##35#37)\u001b[22m\u001b[22m\u001b[1m(\u001b[22m\u001b[22m::TrackedArray{…,CuArray{Float32,2}}, ::CuArray{Float32,2}\u001b[1m)\u001b[22m\u001b[22m at \u001b[1m/home/mike/.julia/v0.6/Flux/src/tracker/array.jl:273\u001b[22m\u001b[22m",
      " [118] \u001b[1mforeach\u001b[22m\u001b[22m\u001b[1m(\u001b[22m\u001b[22m::Function, ::Tuple{TrackedArray{…,CuArray{Float32,2}},TrackedArray{…,CuArray{Float32,1}}}, ::Tuple{CuArray{Float32,2},CuArray{Float32,2}}, ::Vararg{Tuple{CuArray{Float32,2},CuArray{Float32,2}},N} where N\u001b[1m)\u001b[22m\u001b[22m at \u001b[1m./abstractarray.jl:1734\u001b[22m\u001b[22m",
      " [119] \u001b[1mback_\u001b[22m\u001b[22m\u001b[1m(\u001b[22m\u001b[22m::Flux.Tracker.Call{Flux.Tracker.Broadcasted{Flux.##70#71{Base.#identity},CuArray{ForwardDiff.Dual{Void,Float32,2},2}},Tuple{TrackedArray{…,CuArray{Float32,2}},TrackedArray{…,CuArray{Float32,1}}}}, ::CuArray{Float32,2}, ::CuArray{Float32,2}\u001b[1m)\u001b[22m\u001b[22m at \u001b[1m/home/mike/.julia/v0.6/Flux/src/tracker/back.jl:25\u001b[22m\u001b[22m",
      " [120] \u001b[1mback\u001b[22m\u001b[22m\u001b[1m(\u001b[22m\u001b[22m::Flux.Tracker.Tracked{CuArray{Float32,2}}, ::CuArray{Float32,2}\u001b[1m)\u001b[22m\u001b[22m at \u001b[1m/home/mike/.julia/v0.6/Flux/src/tracker/back.jl:38\u001b[22m\u001b[22m",
      " [121] \u001b[1mmacro expansion\u001b[22m\u001b[22m at \u001b[1m/home/mike/.julia/v0.6/Flux/src/tracker/back.jl:49\u001b[22m\u001b[22m [inlined]",
      " [122] \u001b[1mback\u001b[22m\u001b[22m\u001b[1m(\u001b[22m\u001b[22m::NNlib.#softmax, ::CuArray{Float32,2}, ::TrackedArray{…,CuArray{Float32,2}}\u001b[1m)\u001b[22m\u001b[22m at \u001b[1m/home/mike/.julia/v0.6/Flux/src/tracker/array.jl:206\u001b[22m\u001b[22m",
      " [123] \u001b[1mback_\u001b[22m\u001b[22m\u001b[1m(\u001b[22m\u001b[22m::Function, ::CuArray{Float32,2}, ::CuArray{Float32,2}, ::TrackedArray{…,CuArray{Float32,2}}\u001b[1m)\u001b[22m\u001b[22m at \u001b[1m/home/mike/.julia/v0.6/Flux/src/tracker/back.jl:24\u001b[22m\u001b[22m",
      " [124] \u001b[1mback_\u001b[22m\u001b[22m\u001b[1m(\u001b[22m\u001b[22m::Flux.Tracker.Call{NNlib.#softmax,Tuple{TrackedArray{…,CuArray{Float32,2}}}}, ::CuArray{Float32,2}, ::CuArray{Float32,2}\u001b[1m)\u001b[22m\u001b[22m at \u001b[1m/home/mike/.julia/v0.6/Flux/src/tracker/back.jl:25\u001b[22m\u001b[22m",
      " [125] \u001b[1mback\u001b[22m\u001b[22m\u001b[1m(\u001b[22m\u001b[22m::Flux.Tracker.Tracked{CuArray{Float32,2}}, ::CuArray{Float32,2}\u001b[1m)\u001b[22m\u001b[22m at \u001b[1m/home/mike/.julia/v0.6/Flux/src/tracker/back.jl:38\u001b[22m\u001b[22m",
      " [126] \u001b[1mmacro expansion\u001b[22m\u001b[22m at \u001b[1m/home/mike/.julia/v0.6/Flux/src/tracker/back.jl:49\u001b[22m\u001b[22m [inlined]",
      " [127] \u001b[1m(::Flux.Tracker.##35#37)\u001b[22m\u001b[22m\u001b[1m(\u001b[22m\u001b[22m::TrackedArray{…,CuArray{Float32,2}}, ::CuArray{Float32,2}\u001b[1m)\u001b[22m\u001b[22m at \u001b[1m/home/mike/.julia/v0.6/Flux/src/tracker/array.jl:273\u001b[22m\u001b[22m",
      " [128] \u001b[1mforeach\u001b[22m\u001b[22m\u001b[1m(\u001b[22m\u001b[22m::Function, ::Tuple{Flux.OneHotMatrix{CuArray{Flux.OneHotVector,1}},TrackedArray{…,CuArray{Float32,2}},Int64}, ::Tuple{CuArray{Float32,2},CuArray{Float32,2},CuArray{Float32,2}}, ::Vararg{Tuple{CuArray{Float32,2},CuArray{Float32,2},CuArray{Float32,2}},N} where N\u001b[1m)\u001b[22m\u001b[22m at \u001b[1m./abstractarray.jl:1734\u001b[22m\u001b[22m",
      " [129] \u001b[1mback_\u001b[22m\u001b[22m\u001b[1m(\u001b[22m\u001b[22m::Flux.Tracker.Call{Flux.Tracker.Broadcasted{Flux.##56#57,CuArray{ForwardDiff.Dual{Void,Float32,3},2}},Tuple{Flux.OneHotMatrix{CuArray{Flux.OneHotVector,1}},TrackedArray{…,CuArray{Float32,2}},Int64}}, ::CuArray{Float32,2}, ::CuArray{Float32,2}\u001b[1m)\u001b[22m\u001b[22m at \u001b[1m/home/mike/.julia/v0.6/Flux/src/tracker/back.jl:25\u001b[22m\u001b[22m",
      " [130] \u001b[1mback\u001b[22m\u001b[22m\u001b[1m(\u001b[22m\u001b[22m::Flux.Tracker.Tracked{CuArray{Float32,2}}, ::CuArray{Float32,2}\u001b[1m)\u001b[22m\u001b[22m at \u001b[1m/home/mike/.julia/v0.6/Flux/src/tracker/back.jl:38\u001b[22m\u001b[22m",
      " [131] \u001b[1mback\u001b[22m\u001b[22m\u001b[1m(\u001b[22m\u001b[22m::Base.#sum, ::Float32, ::TrackedArray{…,CuArray{Float32,2}}\u001b[1m)\u001b[22m\u001b[22m at \u001b[1m/home/mike/.julia/v0.6/Flux/src/tracker/array.jl:120\u001b[22m\u001b[22m",
      " [132] \u001b[1mback_\u001b[22m\u001b[22m\u001b[1m(\u001b[22m\u001b[22m::Flux.Tracker.Call{Base.#sum,Tuple{TrackedArray{…,CuArray{Float32,2}}}}, ::Float32, ::Float32\u001b[1m)\u001b[22m\u001b[22m at \u001b[1m/home/mike/.julia/v0.6/Flux/src/tracker/back.jl:25\u001b[22m\u001b[22m",
      " [133] \u001b[1mback\u001b[22m\u001b[22m\u001b[1m(\u001b[22m\u001b[22m::Flux.Tracker.Tracked{Float32}, ::Float32\u001b[1m)\u001b[22m\u001b[22m at \u001b[1m/home/mike/.julia/v0.6/Flux/src/tracker/back.jl:36\u001b[22m\u001b[22m",
      " [134] \u001b[1mback_\u001b[22m\u001b[22m\u001b[1m(\u001b[22m\u001b[22m::Flux.Tracker.Call{Base.#-,Tuple{Flux.Tracker.TrackedReal{Float32}}}, ::Float32, ::Float32\u001b[1m)\u001b[22m\u001b[22m at \u001b[1m/home/mike/.julia/v0.6/Flux/src/tracker/back.jl:25\u001b[22m\u001b[22m",
      " [135] \u001b[1mback\u001b[22m\u001b[22m\u001b[1m(\u001b[22m\u001b[22m::Flux.Tracker.Tracked{Float32}, ::Float64\u001b[1m)\u001b[22m\u001b[22m at \u001b[1m/home/mike/.julia/v0.6/Flux/src/tracker/back.jl:36\u001b[22m\u001b[22m",
      " [136] \u001b[1mmacro expansion\u001b[22m\u001b[22m at \u001b[1m/home/mike/.julia/v0.6/Flux/src/tracker/back.jl:49\u001b[22m\u001b[22m [inlined]",
      " [137] \u001b[1mback\u001b[22m\u001b[22m\u001b[1m(\u001b[22m\u001b[22m::Base.#/, ::Float32, ::Flux.Tracker.TrackedReal{Float32}, ::Int64\u001b[1m)\u001b[22m\u001b[22m at \u001b[1m/home/mike/.julia/v0.6/Flux/src/tracker/scalar.jl:56\u001b[22m\u001b[22m",
      " [138] \u001b[1mback_\u001b[22m\u001b[22m\u001b[1m(\u001b[22m\u001b[22m::Flux.Tracker.Call{Base.#/,Tuple{Flux.Tracker.TrackedReal{Float32},Int64}}, ::Float32, ::Float32\u001b[1m)\u001b[22m\u001b[22m at \u001b[1m/home/mike/.julia/v0.6/Flux/src/tracker/back.jl:25\u001b[22m\u001b[22m",
      " [139] \u001b[1mback\u001b[22m\u001b[22m\u001b[1m(\u001b[22m\u001b[22m::Flux.Tracker.Tracked{Float32}, ::Float32\u001b[1m)\u001b[22m\u001b[22m at \u001b[1m/home/mike/.julia/v0.6/Flux/src/tracker/back.jl:36\u001b[22m\u001b[22m",
      " [140] \u001b[1mmacro expansion\u001b[22m\u001b[22m at \u001b[1m/home/mike/.julia/v0.6/Flux/src/tracker/back.jl:49\u001b[22m\u001b[22m [inlined]",
      " [141] \u001b[1mback\u001b[22m\u001b[22m\u001b[1m(\u001b[22m\u001b[22m::Base.#+, ::Float32, ::Flux.Tracker.TrackedReal{Float32}, ::Flux.Tracker.TrackedReal{Float32}\u001b[1m)\u001b[22m\u001b[22m at \u001b[1m/home/mike/.julia/v0.6/Flux/src/tracker/scalar.jl:57\u001b[22m\u001b[22m",
      " [142] \u001b[1mback_\u001b[22m\u001b[22m\u001b[1m(\u001b[22m\u001b[22m::Function, ::Float32, ::Float32, ::Flux.Tracker.TrackedReal{Float32}, ::Flux.Tracker.TrackedReal{Float32}\u001b[1m)\u001b[22m\u001b[22m at \u001b[1m/home/mike/.julia/v0.6/Flux/src/tracker/back.jl:24\u001b[22m\u001b[22m",
      " [143] \u001b[1mback_\u001b[22m\u001b[22m\u001b[1m(\u001b[22m\u001b[22m::Flux.Tracker.Call{Base.#+,Tuple{Flux.Tracker.TrackedReal{Float32},Flux.Tracker.TrackedReal{Float32}}}, ::Float32, ::Float32\u001b[1m)\u001b[22m\u001b[22m at \u001b[1m/home/mike/.julia/v0.6/Flux/src/tracker/back.jl:25\u001b[22m\u001b[22m",
      " [144] \u001b[1mback\u001b[22m\u001b[22m\u001b[1m(\u001b[22m\u001b[22m::Flux.Tracker.Tracked{Float32}, ::Int64\u001b[1m)\u001b[22m\u001b[22m at \u001b[1m/home/mike/.julia/v0.6/Flux/src/tracker/back.jl:36\u001b[22m\u001b[22m",
      " [145] \u001b[1mback!\u001b[22m\u001b[22m\u001b[1m(\u001b[22m\u001b[22m::Flux.Tracker.TrackedReal{Float32}\u001b[1m)\u001b[22m\u001b[22m at \u001b[1m/home/mike/.julia/v0.6/Flux/src/tracker/scalar.jl:11\u001b[22m\u001b[22m",
      " [146] \u001b[1m#train!#130\u001b[22m\u001b[22m\u001b[1m(\u001b[22m\u001b[22m::Flux.#throttled#14, ::Function, ::Function, ::Base.Iterators.Zip2{Array{Array{Flux.OneHotMatrix{Array{Flux.OneHotVector,1}},1},1},Array{Array{Flux.OneHotMatrix{Array{Flux.OneHotVector,1}},1},1}}, ::Flux.Optimise.##71#75\u001b[1m)\u001b[22m\u001b[22m at \u001b[1m/home/mike/.julia/v0.6/Flux/src/optimise/train.jl:32\u001b[22m\u001b[22m",
      " [147] \u001b[1m(::Flux.Optimise.#kw##train!)\u001b[22m\u001b[22m\u001b[1m(\u001b[22m\u001b[22m::Array{Any,1}, ::Flux.Optimise.#train!, ::Function, ::Base.Iterators.Zip2{Array{Array{Flux.OneHotMatrix{Array{Flux.OneHotVector,1}},1},1},Array{Array{Flux.OneHotMatrix{Array{Flux.OneHotVector,1}},1},1}}, ::Function\u001b[1m)\u001b[22m\u001b[22m at \u001b[1m./<missing>:0\u001b[22m\u001b[22m",
      " [148] \u001b[1minclude_string\u001b[22m\u001b[22m\u001b[1m(\u001b[22m\u001b[22m::String, ::String\u001b[1m)\u001b[22m\u001b[22m at \u001b[1m./loading.jl:522\u001b[22m\u001b[22m"
     ]
    }
   ],
   "source": [
    "opt = ADAM(params(m))\n",
    "evalcb = function ()\n",
    "  print_with_color(:blue, \"Loss is $(loss(Xs[5], Ys[5]))\\n\")\n",
    "  println(sample(deepcopy(m), alphabet, 500))\n",
    "end\n",
    "Flux.train!(loss, zip(Xs, Ys), opt, cb = throttle(evalcb, 10))"
   ]
  },
  {
   "cell_type": "code",
   "execution_count": null,
   "metadata": {},
   "outputs": [],
   "source": []
  }
 ],
 "metadata": {
  "kernelspec": {
   "display_name": "Julia 0.6.3-pre",
   "language": "julia",
   "name": "julia-0.6"
  },
  "language_info": {
   "file_extension": ".jl",
   "mimetype": "application/julia",
   "name": "julia",
   "version": "0.6.3"
  }
 },
 "nbformat": 4,
 "nbformat_minor": 2
}
